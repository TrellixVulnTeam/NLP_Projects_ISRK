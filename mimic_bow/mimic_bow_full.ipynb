{
 "cells": [
  {
   "cell_type": "markdown",
   "metadata": {},
   "source": [
    "Doctors have always written clinical notes about their patients - originally, the notes were on paper and were locked away in a cabinet. Fortunately for data scientists, doctors now enter their notes in an electronic medical record. These notes represent a vast wealth of knowledge and insight that can be utilized for predictive models using Natural Language Processing (NLP) to improve patient care and hospital workflow."
   ]
  },
  {
   "cell_type": "markdown",
   "metadata": {},
   "source": [
    "This notebook is intended for people interested in healthcare data science and predictive modeling and will help you learn\n",
    "- How to prepare data for a machine learning project\n",
    "- How to preprocess the unstructured notes\n",
    "- How to build a simple predictive model using a bag-of-words approach\n",
    "- How to assess the quality of your model\n",
    "- How to decide the next step for improving the model"
   ]
  },
  {
   "cell_type": "markdown",
   "metadata": {},
   "source": [
    "I recently read this great paper \"Scalable and accurate deep learning for electronic health records\" by Rajkomar et al. (paper at https://arxiv.org/abs/1801.07860). The authors built many state-of-the-art deep learning models with hospital data to predict in-hospital mortality (AUC = 0.93–0.94), 30-day unplanned readmission (AUC = 0.75–76), prolonged length of stay (AUC = 0.85–0.86) and discharge diagnoses (AUC = 0.90). AUC is a data science performance metric (more about this below) where closer to 1 is better. It is clear that predicting readmission is the hardest task since it has a lower AUC. I was curious how good of a model we can get if use the discharge free-text summaries with a simple predictive model."
   ]
  },
  {
   "cell_type": "markdown",
   "metadata": {},
   "source": [
    "# Model definition"
   ]
  },
  {
   "cell_type": "markdown",
   "metadata": {},
   "source": [
    "Predict which patients are at risk for 30-day unplanned readmission utilizing free-text hospital discharge summaries."
   ]
  },
  {
   "cell_type": "markdown",
   "metadata": {},
   "source": [
    "# Data set"
   ]
  },
  {
   "cell_type": "markdown",
   "metadata": {},
   "source": [
    "We will utilize the MIMIC-III (Medical Information Mart for Intensive Care III), an amazing free hospital database. This database contains de-identified data from over 40,000 patients who were admitted to Beth Israel Deaconess Medical Center in Boston, Massachusetts from 2001 to 2012. In order to get access to the data for this project, you will need to request access at this link (https://mimic.physionet.org/gettingstarted/access/)."
   ]
  },
  {
   "cell_type": "markdown",
   "metadata": {},
   "source": [
    "In this project, we will make use of the following MIMIC tables\n",
    "- ADMISSIONS - a table containing admission and discharge dates (has a unique identifier HADM_ID for each admission)\n",
    "- NOTEEVENTS - contains all notes for each hospitalization (links with HADM_ID)"
   ]
  },
  {
   "cell_type": "markdown",
   "metadata": {},
   "source": [
    "This notebook assumes that ADMISSIONS.csv and NOTEEVENTS.csv were downloaded and placed in the same folder as this notebook. \n",
    "\n",
    "Due to the restricted access, the github version of this code will not show any individual patient data. "
   ]
  },
  {
   "cell_type": "markdown",
   "metadata": {},
   "source": [
    "# Step 1. Prepare data"
   ]
  },
  {
   "cell_type": "markdown",
   "metadata": {},
   "source": [
    "<img src=\"step_1.jpg\">"
   ]
  },
  {
   "cell_type": "markdown",
   "metadata": {},
   "source": [
    "## Load admissions table"
   ]
  },
  {
   "cell_type": "code",
   "execution_count": 128,
   "metadata": {},
   "outputs": [],
   "source": [
    "import pandas as pd\n",
    "import numpy as np\n",
    "import matplotlib.pyplot as plt\n",
    "\n",
    "data_dir = \"Z:/Shared Data/MIMIC-III/\"\n",
    "df_adm = pd.read_csv(f'{data_dir}ADMISSIONS.csv/ADMISSIONS.csv')"
   ]
  },
  {
   "cell_type": "code",
   "execution_count": 2,
   "metadata": {},
   "outputs": [
    {
     "data": {
      "text/html": [
       "<div>\n",
       "<style scoped>\n",
       "    .dataframe tbody tr th:only-of-type {\n",
       "        vertical-align: middle;\n",
       "    }\n",
       "\n",
       "    .dataframe tbody tr th {\n",
       "        vertical-align: top;\n",
       "    }\n",
       "\n",
       "    .dataframe thead th {\n",
       "        text-align: right;\n",
       "    }\n",
       "</style>\n",
       "<table border=\"1\" class=\"dataframe\">\n",
       "  <thead>\n",
       "    <tr style=\"text-align: right;\">\n",
       "      <th></th>\n",
       "      <th>ROW_ID</th>\n",
       "      <th>SUBJECT_ID</th>\n",
       "      <th>HADM_ID</th>\n",
       "      <th>ADMITTIME</th>\n",
       "      <th>DISCHTIME</th>\n",
       "      <th>DEATHTIME</th>\n",
       "      <th>ADMISSION_TYPE</th>\n",
       "      <th>ADMISSION_LOCATION</th>\n",
       "      <th>DISCHARGE_LOCATION</th>\n",
       "      <th>INSURANCE</th>\n",
       "      <th>LANGUAGE</th>\n",
       "      <th>RELIGION</th>\n",
       "      <th>MARITAL_STATUS</th>\n",
       "      <th>ETHNICITY</th>\n",
       "      <th>EDREGTIME</th>\n",
       "      <th>EDOUTTIME</th>\n",
       "      <th>DIAGNOSIS</th>\n",
       "      <th>HOSPITAL_EXPIRE_FLAG</th>\n",
       "      <th>HAS_CHARTEVENTS_DATA</th>\n",
       "    </tr>\n",
       "  </thead>\n",
       "  <tbody>\n",
       "    <tr>\n",
       "      <th>0</th>\n",
       "      <td>21</td>\n",
       "      <td>22</td>\n",
       "      <td>165315</td>\n",
       "      <td>2196-04-09 12:26:00</td>\n",
       "      <td>2196-04-10 15:54:00</td>\n",
       "      <td>NaN</td>\n",
       "      <td>EMERGENCY</td>\n",
       "      <td>EMERGENCY ROOM ADMIT</td>\n",
       "      <td>DISC-TRAN CANCER/CHLDRN H</td>\n",
       "      <td>Private</td>\n",
       "      <td>NaN</td>\n",
       "      <td>UNOBTAINABLE</td>\n",
       "      <td>MARRIED</td>\n",
       "      <td>WHITE</td>\n",
       "      <td>2196-04-09 10:06:00</td>\n",
       "      <td>2196-04-09 13:24:00</td>\n",
       "      <td>BENZODIAZEPINE OVERDOSE</td>\n",
       "      <td>0</td>\n",
       "      <td>1</td>\n",
       "    </tr>\n",
       "    <tr>\n",
       "      <th>1</th>\n",
       "      <td>22</td>\n",
       "      <td>23</td>\n",
       "      <td>152223</td>\n",
       "      <td>2153-09-03 07:15:00</td>\n",
       "      <td>2153-09-08 19:10:00</td>\n",
       "      <td>NaN</td>\n",
       "      <td>ELECTIVE</td>\n",
       "      <td>PHYS REFERRAL/NORMAL DELI</td>\n",
       "      <td>HOME HEALTH CARE</td>\n",
       "      <td>Medicare</td>\n",
       "      <td>NaN</td>\n",
       "      <td>CATHOLIC</td>\n",
       "      <td>MARRIED</td>\n",
       "      <td>WHITE</td>\n",
       "      <td>NaN</td>\n",
       "      <td>NaN</td>\n",
       "      <td>CORONARY ARTERY DISEASE\\CORONARY ARTERY BYPASS...</td>\n",
       "      <td>0</td>\n",
       "      <td>1</td>\n",
       "    </tr>\n",
       "    <tr>\n",
       "      <th>2</th>\n",
       "      <td>23</td>\n",
       "      <td>23</td>\n",
       "      <td>124321</td>\n",
       "      <td>2157-10-18 19:34:00</td>\n",
       "      <td>2157-10-25 14:00:00</td>\n",
       "      <td>NaN</td>\n",
       "      <td>EMERGENCY</td>\n",
       "      <td>TRANSFER FROM HOSP/EXTRAM</td>\n",
       "      <td>HOME HEALTH CARE</td>\n",
       "      <td>Medicare</td>\n",
       "      <td>ENGL</td>\n",
       "      <td>CATHOLIC</td>\n",
       "      <td>MARRIED</td>\n",
       "      <td>WHITE</td>\n",
       "      <td>NaN</td>\n",
       "      <td>NaN</td>\n",
       "      <td>BRAIN MASS</td>\n",
       "      <td>0</td>\n",
       "      <td>1</td>\n",
       "    </tr>\n",
       "    <tr>\n",
       "      <th>3</th>\n",
       "      <td>24</td>\n",
       "      <td>24</td>\n",
       "      <td>161859</td>\n",
       "      <td>2139-06-06 16:14:00</td>\n",
       "      <td>2139-06-09 12:48:00</td>\n",
       "      <td>NaN</td>\n",
       "      <td>EMERGENCY</td>\n",
       "      <td>TRANSFER FROM HOSP/EXTRAM</td>\n",
       "      <td>HOME</td>\n",
       "      <td>Private</td>\n",
       "      <td>NaN</td>\n",
       "      <td>PROTESTANT QUAKER</td>\n",
       "      <td>SINGLE</td>\n",
       "      <td>WHITE</td>\n",
       "      <td>NaN</td>\n",
       "      <td>NaN</td>\n",
       "      <td>INTERIOR MYOCARDIAL INFARCTION</td>\n",
       "      <td>0</td>\n",
       "      <td>1</td>\n",
       "    </tr>\n",
       "    <tr>\n",
       "      <th>4</th>\n",
       "      <td>25</td>\n",
       "      <td>25</td>\n",
       "      <td>129635</td>\n",
       "      <td>2160-11-02 02:06:00</td>\n",
       "      <td>2160-11-05 14:55:00</td>\n",
       "      <td>NaN</td>\n",
       "      <td>EMERGENCY</td>\n",
       "      <td>EMERGENCY ROOM ADMIT</td>\n",
       "      <td>HOME</td>\n",
       "      <td>Private</td>\n",
       "      <td>NaN</td>\n",
       "      <td>UNOBTAINABLE</td>\n",
       "      <td>MARRIED</td>\n",
       "      <td>WHITE</td>\n",
       "      <td>2160-11-02 01:01:00</td>\n",
       "      <td>2160-11-02 04:27:00</td>\n",
       "      <td>ACUTE CORONARY SYNDROME</td>\n",
       "      <td>0</td>\n",
       "      <td>1</td>\n",
       "    </tr>\n",
       "  </tbody>\n",
       "</table>\n",
       "</div>"
      ],
      "text/plain": [
       "   ROW_ID  SUBJECT_ID  HADM_ID            ADMITTIME            DISCHTIME  \\\n",
       "0      21          22   165315  2196-04-09 12:26:00  2196-04-10 15:54:00   \n",
       "1      22          23   152223  2153-09-03 07:15:00  2153-09-08 19:10:00   \n",
       "2      23          23   124321  2157-10-18 19:34:00  2157-10-25 14:00:00   \n",
       "3      24          24   161859  2139-06-06 16:14:00  2139-06-09 12:48:00   \n",
       "4      25          25   129635  2160-11-02 02:06:00  2160-11-05 14:55:00   \n",
       "\n",
       "  DEATHTIME ADMISSION_TYPE         ADMISSION_LOCATION  \\\n",
       "0       NaN      EMERGENCY       EMERGENCY ROOM ADMIT   \n",
       "1       NaN       ELECTIVE  PHYS REFERRAL/NORMAL DELI   \n",
       "2       NaN      EMERGENCY  TRANSFER FROM HOSP/EXTRAM   \n",
       "3       NaN      EMERGENCY  TRANSFER FROM HOSP/EXTRAM   \n",
       "4       NaN      EMERGENCY       EMERGENCY ROOM ADMIT   \n",
       "\n",
       "          DISCHARGE_LOCATION INSURANCE LANGUAGE           RELIGION  \\\n",
       "0  DISC-TRAN CANCER/CHLDRN H   Private      NaN       UNOBTAINABLE   \n",
       "1           HOME HEALTH CARE  Medicare      NaN           CATHOLIC   \n",
       "2           HOME HEALTH CARE  Medicare     ENGL           CATHOLIC   \n",
       "3                       HOME   Private      NaN  PROTESTANT QUAKER   \n",
       "4                       HOME   Private      NaN       UNOBTAINABLE   \n",
       "\n",
       "  MARITAL_STATUS ETHNICITY            EDREGTIME            EDOUTTIME  \\\n",
       "0        MARRIED     WHITE  2196-04-09 10:06:00  2196-04-09 13:24:00   \n",
       "1        MARRIED     WHITE                  NaN                  NaN   \n",
       "2        MARRIED     WHITE                  NaN                  NaN   \n",
       "3         SINGLE     WHITE                  NaN                  NaN   \n",
       "4        MARRIED     WHITE  2160-11-02 01:01:00  2160-11-02 04:27:00   \n",
       "\n",
       "                                           DIAGNOSIS  HOSPITAL_EXPIRE_FLAG  \\\n",
       "0                            BENZODIAZEPINE OVERDOSE                     0   \n",
       "1  CORONARY ARTERY DISEASE\\CORONARY ARTERY BYPASS...                     0   \n",
       "2                                         BRAIN MASS                     0   \n",
       "3                     INTERIOR MYOCARDIAL INFARCTION                     0   \n",
       "4                            ACUTE CORONARY SYNDROME                     0   \n",
       "\n",
       "   HAS_CHARTEVENTS_DATA  \n",
       "0                     1  \n",
       "1                     1  \n",
       "2                     1  \n",
       "3                     1  \n",
       "4                     1  "
      ]
     },
     "execution_count": 2,
     "metadata": {},
     "output_type": "execute_result"
    }
   ],
   "source": [
    "df_adm.head()"
   ]
  },
  {
   "cell_type": "code",
   "execution_count": 3,
   "metadata": {},
   "outputs": [
    {
     "data": {
      "text/plain": [
       "Index(['ROW_ID', 'SUBJECT_ID', 'HADM_ID', 'ADMITTIME', 'DISCHTIME',\n",
       "       'DEATHTIME', 'ADMISSION_TYPE', 'ADMISSION_LOCATION',\n",
       "       'DISCHARGE_LOCATION', 'INSURANCE', 'LANGUAGE', 'RELIGION',\n",
       "       'MARITAL_STATUS', 'ETHNICITY', 'EDREGTIME', 'EDOUTTIME', 'DIAGNOSIS',\n",
       "       'HOSPITAL_EXPIRE_FLAG', 'HAS_CHARTEVENTS_DATA'],\n",
       "      dtype='object')"
      ]
     },
     "execution_count": 3,
     "metadata": {},
     "output_type": "execute_result"
    }
   ],
   "source": [
    "df_adm.columns"
   ]
  },
  {
   "cell_type": "code",
   "execution_count": 4,
   "metadata": {},
   "outputs": [
    {
     "data": {
      "text/plain": [
       "ADMISSION_TYPE\n",
       "ELECTIVE      7706\n",
       "EMERGENCY    42071\n",
       "NEWBORN       7863\n",
       "URGENT        1336\n",
       "dtype: int64"
      ]
     },
     "execution_count": 4,
     "metadata": {},
     "output_type": "execute_result"
    }
   ],
   "source": [
    "df_adm.groupby(['ADMISSION_TYPE']).size()"
   ]
  },
  {
   "cell_type": "markdown",
   "metadata": {},
   "source": [
    "## Convert strings to dates"
   ]
  },
  {
   "cell_type": "markdown",
   "metadata": {},
   "source": [
    "A note about dates from MIMIC website:\n",
    "    \n",
    "    All dates in the database have been shifted to protect patient confidentiality. Dates will be internally consistent for the same patient, but randomly distributed in the future."
   ]
  },
  {
   "cell_type": "markdown",
   "metadata": {},
   "source": [
    "When converting dates, it is safer to use a format. For references on formats see http://strftime.org/. Errors = 'coerce' allows NaT (not a datetime) to happen when the string doesn't match the format"
   ]
  },
  {
   "cell_type": "code",
   "execution_count": 129,
   "metadata": {},
   "outputs": [
    {
     "name": "stdout",
     "output_type": "stream",
     "text": [
      "Number of missing date admissions: 0\n",
      "Number of missing date discharges: 0\n"
     ]
    }
   ],
   "source": [
    "# convert to dates\n",
    "df_adm.ADMITTIME = pd.to_datetime(df_adm.ADMITTIME, format = '%Y-%m-%d %H:%M:%S', errors = 'coerce')\n",
    "df_adm.DISCHTIME = pd.to_datetime(df_adm.DISCHTIME, format = '%Y-%m-%d %H:%M:%S', errors = 'coerce')\n",
    "df_adm.DEATHTIME = pd.to_datetime(df_adm.DEATHTIME, format = '%Y-%m-%d %H:%M:%S', errors = 'coerce')\n",
    "\n",
    "# check to see if there are any missing dates\n",
    "print('Number of missing date admissions:', df_adm.ADMITTIME.isnull().sum())\n",
    "print('Number of missing date discharges:', df_adm.DISCHTIME.isnull().sum())"
   ]
  },
  {
   "cell_type": "markdown",
   "metadata": {},
   "source": [
    "## Get the next admission date if it exists"
   ]
  },
  {
   "cell_type": "markdown",
   "metadata": {},
   "source": [
    "In this project, we need the next admission date if it exists. We can get this with the shift() function, but we need to verify the dates are in order. "
   ]
  },
  {
   "cell_type": "code",
   "execution_count": 130,
   "metadata": {},
   "outputs": [],
   "source": [
    "# sort by subject_ID and admission date\n",
    "df_adm = df_adm.sort_values(['SUBJECT_ID','ADMITTIME'])\n",
    "df_adm = df_adm.reset_index(drop = True)"
   ]
  },
  {
   "cell_type": "code",
   "execution_count": 131,
   "metadata": {},
   "outputs": [
    {
     "data": {
      "text/html": [
       "<div>\n",
       "<style scoped>\n",
       "    .dataframe tbody tr th:only-of-type {\n",
       "        vertical-align: middle;\n",
       "    }\n",
       "\n",
       "    .dataframe tbody tr th {\n",
       "        vertical-align: top;\n",
       "    }\n",
       "\n",
       "    .dataframe thead th {\n",
       "        text-align: right;\n",
       "    }\n",
       "</style>\n",
       "<table border=\"1\" class=\"dataframe\">\n",
       "  <thead>\n",
       "    <tr style=\"text-align: right;\">\n",
       "      <th></th>\n",
       "      <th>SUBJECT_ID</th>\n",
       "      <th>ADMITTIME</th>\n",
       "      <th>ADMISSION_TYPE</th>\n",
       "    </tr>\n",
       "  </thead>\n",
       "  <tbody>\n",
       "    <tr>\n",
       "      <th>165</th>\n",
       "      <td>124</td>\n",
       "      <td>2160-06-24 21:25:00</td>\n",
       "      <td>EMERGENCY</td>\n",
       "    </tr>\n",
       "    <tr>\n",
       "      <th>166</th>\n",
       "      <td>124</td>\n",
       "      <td>2161-12-17 03:39:00</td>\n",
       "      <td>EMERGENCY</td>\n",
       "    </tr>\n",
       "    <tr>\n",
       "      <th>167</th>\n",
       "      <td>124</td>\n",
       "      <td>2165-05-21 21:02:00</td>\n",
       "      <td>ELECTIVE</td>\n",
       "    </tr>\n",
       "    <tr>\n",
       "      <th>168</th>\n",
       "      <td>124</td>\n",
       "      <td>2165-12-31 18:55:00</td>\n",
       "      <td>EMERGENCY</td>\n",
       "    </tr>\n",
       "  </tbody>\n",
       "</table>\n",
       "</div>"
      ],
      "text/plain": [
       "     SUBJECT_ID           ADMITTIME ADMISSION_TYPE\n",
       "165         124 2160-06-24 21:25:00      EMERGENCY\n",
       "166         124 2161-12-17 03:39:00      EMERGENCY\n",
       "167         124 2165-05-21 21:02:00       ELECTIVE\n",
       "168         124 2165-12-31 18:55:00      EMERGENCY"
      ]
     },
     "execution_count": 131,
     "metadata": {},
     "output_type": "execute_result"
    }
   ],
   "source": [
    "# verify that it did what we wanted\n",
    "df_adm.loc[df_adm.SUBJECT_ID == 124,['SUBJECT_ID','ADMITTIME','ADMISSION_TYPE']]"
   ]
  },
  {
   "cell_type": "code",
   "execution_count": 132,
   "metadata": {},
   "outputs": [],
   "source": [
    "# add the next admission date and type for each subject using groupby\n",
    "# you have to use groupby otherwise the dates will be from different subjects\n",
    "df_adm['NEXT_ADMITTIME'] = df_adm.groupby('SUBJECT_ID').ADMITTIME.shift(-1)\n",
    "# get the next admission type\n",
    "df_adm['NEXT_ADMISSION_TYPE'] = df_adm.groupby('SUBJECT_ID').ADMISSION_TYPE.shift(-1)"
   ]
  },
  {
   "cell_type": "code",
   "execution_count": 133,
   "metadata": {},
   "outputs": [
    {
     "data": {
      "text/html": [
       "<div>\n",
       "<style scoped>\n",
       "    .dataframe tbody tr th:only-of-type {\n",
       "        vertical-align: middle;\n",
       "    }\n",
       "\n",
       "    .dataframe tbody tr th {\n",
       "        vertical-align: top;\n",
       "    }\n",
       "\n",
       "    .dataframe thead th {\n",
       "        text-align: right;\n",
       "    }\n",
       "</style>\n",
       "<table border=\"1\" class=\"dataframe\">\n",
       "  <thead>\n",
       "    <tr style=\"text-align: right;\">\n",
       "      <th></th>\n",
       "      <th>SUBJECT_ID</th>\n",
       "      <th>ADMITTIME</th>\n",
       "      <th>ADMISSION_TYPE</th>\n",
       "      <th>NEXT_ADMITTIME</th>\n",
       "      <th>NEXT_ADMISSION_TYPE</th>\n",
       "    </tr>\n",
       "  </thead>\n",
       "  <tbody>\n",
       "    <tr>\n",
       "      <th>165</th>\n",
       "      <td>124</td>\n",
       "      <td>2160-06-24 21:25:00</td>\n",
       "      <td>EMERGENCY</td>\n",
       "      <td>2161-12-17 03:39:00</td>\n",
       "      <td>EMERGENCY</td>\n",
       "    </tr>\n",
       "    <tr>\n",
       "      <th>166</th>\n",
       "      <td>124</td>\n",
       "      <td>2161-12-17 03:39:00</td>\n",
       "      <td>EMERGENCY</td>\n",
       "      <td>2165-05-21 21:02:00</td>\n",
       "      <td>ELECTIVE</td>\n",
       "    </tr>\n",
       "    <tr>\n",
       "      <th>167</th>\n",
       "      <td>124</td>\n",
       "      <td>2165-05-21 21:02:00</td>\n",
       "      <td>ELECTIVE</td>\n",
       "      <td>2165-12-31 18:55:00</td>\n",
       "      <td>EMERGENCY</td>\n",
       "    </tr>\n",
       "    <tr>\n",
       "      <th>168</th>\n",
       "      <td>124</td>\n",
       "      <td>2165-12-31 18:55:00</td>\n",
       "      <td>EMERGENCY</td>\n",
       "      <td>NaT</td>\n",
       "      <td>NaN</td>\n",
       "    </tr>\n",
       "  </tbody>\n",
       "</table>\n",
       "</div>"
      ],
      "text/plain": [
       "     SUBJECT_ID           ADMITTIME ADMISSION_TYPE      NEXT_ADMITTIME  \\\n",
       "165         124 2160-06-24 21:25:00      EMERGENCY 2161-12-17 03:39:00   \n",
       "166         124 2161-12-17 03:39:00      EMERGENCY 2165-05-21 21:02:00   \n",
       "167         124 2165-05-21 21:02:00       ELECTIVE 2165-12-31 18:55:00   \n",
       "168         124 2165-12-31 18:55:00      EMERGENCY                 NaT   \n",
       "\n",
       "    NEXT_ADMISSION_TYPE  \n",
       "165           EMERGENCY  \n",
       "166            ELECTIVE  \n",
       "167           EMERGENCY  \n",
       "168                 NaN  "
      ]
     },
     "execution_count": 133,
     "metadata": {},
     "output_type": "execute_result"
    }
   ],
   "source": [
    "# verify that it did what we wanted\n",
    "df_adm.loc[df_adm.SUBJECT_ID == 124,['SUBJECT_ID','ADMITTIME','ADMISSION_TYPE','NEXT_ADMITTIME','NEXT_ADMISSION_TYPE']]"
   ]
  },
  {
   "cell_type": "markdown",
   "metadata": {},
   "source": [
    "But, we want to predict UNPLANNED re-admissions, so we should filter out the ELECTIVE next admissions"
   ]
  },
  {
   "cell_type": "code",
   "execution_count": 134,
   "metadata": {},
   "outputs": [],
   "source": [
    "# get rows where next admission is elective and replace with naT or nan\n",
    "rows = df_adm.NEXT_ADMISSION_TYPE == 'ELECTIVE'\n",
    "df_adm.loc[rows,'NEXT_ADMITTIME'] = pd.NaT\n",
    "df_adm.loc[rows,'NEXT_ADMISSION_TYPE'] = np.NaN"
   ]
  },
  {
   "cell_type": "code",
   "execution_count": 135,
   "metadata": {},
   "outputs": [
    {
     "data": {
      "text/html": [
       "<div>\n",
       "<style scoped>\n",
       "    .dataframe tbody tr th:only-of-type {\n",
       "        vertical-align: middle;\n",
       "    }\n",
       "\n",
       "    .dataframe tbody tr th {\n",
       "        vertical-align: top;\n",
       "    }\n",
       "\n",
       "    .dataframe thead th {\n",
       "        text-align: right;\n",
       "    }\n",
       "</style>\n",
       "<table border=\"1\" class=\"dataframe\">\n",
       "  <thead>\n",
       "    <tr style=\"text-align: right;\">\n",
       "      <th></th>\n",
       "      <th>SUBJECT_ID</th>\n",
       "      <th>ADMITTIME</th>\n",
       "      <th>ADMISSION_TYPE</th>\n",
       "      <th>NEXT_ADMITTIME</th>\n",
       "      <th>NEXT_ADMISSION_TYPE</th>\n",
       "    </tr>\n",
       "  </thead>\n",
       "  <tbody>\n",
       "    <tr>\n",
       "      <th>165</th>\n",
       "      <td>124</td>\n",
       "      <td>2160-06-24 21:25:00</td>\n",
       "      <td>EMERGENCY</td>\n",
       "      <td>2161-12-17 03:39:00</td>\n",
       "      <td>EMERGENCY</td>\n",
       "    </tr>\n",
       "    <tr>\n",
       "      <th>166</th>\n",
       "      <td>124</td>\n",
       "      <td>2161-12-17 03:39:00</td>\n",
       "      <td>EMERGENCY</td>\n",
       "      <td>NaT</td>\n",
       "      <td>NaN</td>\n",
       "    </tr>\n",
       "    <tr>\n",
       "      <th>167</th>\n",
       "      <td>124</td>\n",
       "      <td>2165-05-21 21:02:00</td>\n",
       "      <td>ELECTIVE</td>\n",
       "      <td>2165-12-31 18:55:00</td>\n",
       "      <td>EMERGENCY</td>\n",
       "    </tr>\n",
       "    <tr>\n",
       "      <th>168</th>\n",
       "      <td>124</td>\n",
       "      <td>2165-12-31 18:55:00</td>\n",
       "      <td>EMERGENCY</td>\n",
       "      <td>NaT</td>\n",
       "      <td>NaN</td>\n",
       "    </tr>\n",
       "  </tbody>\n",
       "</table>\n",
       "</div>"
      ],
      "text/plain": [
       "     SUBJECT_ID           ADMITTIME ADMISSION_TYPE      NEXT_ADMITTIME  \\\n",
       "165         124 2160-06-24 21:25:00      EMERGENCY 2161-12-17 03:39:00   \n",
       "166         124 2161-12-17 03:39:00      EMERGENCY                 NaT   \n",
       "167         124 2165-05-21 21:02:00       ELECTIVE 2165-12-31 18:55:00   \n",
       "168         124 2165-12-31 18:55:00      EMERGENCY                 NaT   \n",
       "\n",
       "    NEXT_ADMISSION_TYPE  \n",
       "165           EMERGENCY  \n",
       "166                 NaN  \n",
       "167           EMERGENCY  \n",
       "168                 NaN  "
      ]
     },
     "execution_count": 135,
     "metadata": {},
     "output_type": "execute_result"
    }
   ],
   "source": [
    "# verify that it did what we wanted\n",
    "df_adm.loc[df_adm.SUBJECT_ID == 124,['SUBJECT_ID','ADMITTIME','ADMISSION_TYPE','NEXT_ADMITTIME','NEXT_ADMISSION_TYPE']]"
   ]
  },
  {
   "cell_type": "markdown",
   "metadata": {},
   "source": [
    "Now we need to backfill in the values that we removed.\n"
   ]
  },
  {
   "cell_type": "code",
   "execution_count": 136,
   "metadata": {},
   "outputs": [],
   "source": [
    "# sort by subject_ID and admission date\n",
    "# it is safer to sort right before the fill incase something changed the order above\n",
    "df_adm = df_adm.sort_values(['SUBJECT_ID','ADMITTIME'])\n",
    "\n",
    "# back fill (this will take a little while)\n",
    "df_adm[['NEXT_ADMITTIME','NEXT_ADMISSION_TYPE']] = df_adm.groupby(['SUBJECT_ID'])[['NEXT_ADMITTIME','NEXT_ADMISSION_TYPE']].fillna(method = 'bfill')"
   ]
  },
  {
   "cell_type": "code",
   "execution_count": 137,
   "metadata": {},
   "outputs": [
    {
     "data": {
      "text/html": [
       "<div>\n",
       "<style scoped>\n",
       "    .dataframe tbody tr th:only-of-type {\n",
       "        vertical-align: middle;\n",
       "    }\n",
       "\n",
       "    .dataframe tbody tr th {\n",
       "        vertical-align: top;\n",
       "    }\n",
       "\n",
       "    .dataframe thead th {\n",
       "        text-align: right;\n",
       "    }\n",
       "</style>\n",
       "<table border=\"1\" class=\"dataframe\">\n",
       "  <thead>\n",
       "    <tr style=\"text-align: right;\">\n",
       "      <th></th>\n",
       "      <th>SUBJECT_ID</th>\n",
       "      <th>ADMITTIME</th>\n",
       "      <th>ADMISSION_TYPE</th>\n",
       "      <th>NEXT_ADMITTIME</th>\n",
       "      <th>NEXT_ADMISSION_TYPE</th>\n",
       "    </tr>\n",
       "  </thead>\n",
       "  <tbody>\n",
       "    <tr>\n",
       "      <th>165</th>\n",
       "      <td>124</td>\n",
       "      <td>2160-06-24 21:25:00</td>\n",
       "      <td>EMERGENCY</td>\n",
       "      <td>2161-12-17 03:39:00</td>\n",
       "      <td>EMERGENCY</td>\n",
       "    </tr>\n",
       "    <tr>\n",
       "      <th>166</th>\n",
       "      <td>124</td>\n",
       "      <td>2161-12-17 03:39:00</td>\n",
       "      <td>EMERGENCY</td>\n",
       "      <td>2165-12-31 18:55:00</td>\n",
       "      <td>EMERGENCY</td>\n",
       "    </tr>\n",
       "    <tr>\n",
       "      <th>167</th>\n",
       "      <td>124</td>\n",
       "      <td>2165-05-21 21:02:00</td>\n",
       "      <td>ELECTIVE</td>\n",
       "      <td>2165-12-31 18:55:00</td>\n",
       "      <td>EMERGENCY</td>\n",
       "    </tr>\n",
       "    <tr>\n",
       "      <th>168</th>\n",
       "      <td>124</td>\n",
       "      <td>2165-12-31 18:55:00</td>\n",
       "      <td>EMERGENCY</td>\n",
       "      <td>NaT</td>\n",
       "      <td>NaN</td>\n",
       "    </tr>\n",
       "  </tbody>\n",
       "</table>\n",
       "</div>"
      ],
      "text/plain": [
       "     SUBJECT_ID           ADMITTIME ADMISSION_TYPE      NEXT_ADMITTIME  \\\n",
       "165         124 2160-06-24 21:25:00      EMERGENCY 2161-12-17 03:39:00   \n",
       "166         124 2161-12-17 03:39:00      EMERGENCY 2165-12-31 18:55:00   \n",
       "167         124 2165-05-21 21:02:00       ELECTIVE 2165-12-31 18:55:00   \n",
       "168         124 2165-12-31 18:55:00      EMERGENCY                 NaT   \n",
       "\n",
       "    NEXT_ADMISSION_TYPE  \n",
       "165           EMERGENCY  \n",
       "166           EMERGENCY  \n",
       "167           EMERGENCY  \n",
       "168                 NaN  "
      ]
     },
     "execution_count": 137,
     "metadata": {},
     "output_type": "execute_result"
    }
   ],
   "source": [
    "# verify that it did what we wanted\n",
    "df_adm.loc[df_adm.SUBJECT_ID == 124,['SUBJECT_ID','ADMITTIME','ADMISSION_TYPE','NEXT_ADMITTIME','NEXT_ADMISSION_TYPE']]"
   ]
  },
  {
   "cell_type": "markdown",
   "metadata": {},
   "source": [
    "## Calculate days until next admission"
   ]
  },
  {
   "cell_type": "code",
   "execution_count": 138,
   "metadata": {},
   "outputs": [],
   "source": [
    "# calculate the number of days between discharge and next admission\n",
    "df_adm['DAYS_NEXT_ADMIT']=  (df_adm.NEXT_ADMITTIME - df_adm.DISCHTIME).dt.total_seconds()/(24*60*60)"
   ]
  },
  {
   "cell_type": "code",
   "execution_count": 139,
   "metadata": {},
   "outputs": [
    {
     "data": {
      "image/png": "[encoded data removed]",
      "text/plain": [
       "<Figure size 432x288 with 1 Axes>"
      ]
     },
     "metadata": {
      "needs_background": "light"
     },
     "output_type": "display_data"
    }
   ],
   "source": [
    "# plot a histogram of days between readmissions if they exist\n",
    "# this only works for non-null values so you have to filter\n",
    "plt.hist(df_adm.loc[~df_adm.DAYS_NEXT_ADMIT.isnull(),'DAYS_NEXT_ADMIT'], bins =range(0,365,30))\n",
    "plt.xlim([0,365])\n",
    "plt.xlabel('Days between admissions')\n",
    "plt.ylabel('Counts')\n",
    "plt.suptitle('MIMIC-III Data')\n",
    "# plt.savefig('./plots/Days_between_admissions.png')\n",
    "plt.show()\n"
   ]
  },
  {
   "cell_type": "code",
   "execution_count": 16,
   "metadata": {},
   "outputs": [
    {
     "name": "stdout",
     "output_type": "stream",
     "text": [
      "Number with a readmission: 11399\n",
      "Total Number: 58976\n"
     ]
    }
   ],
   "source": [
    "print('Number with a readmission:', (~df_adm.DAYS_NEXT_ADMIT.isnull()).sum())\n",
    "print('Total Number:', len(df_adm))"
   ]
  },
  {
   "cell_type": "markdown",
   "metadata": {},
   "source": [
    "## Load the notes"
   ]
  },
  {
   "cell_type": "code",
   "execution_count": 140,
   "metadata": {},
   "outputs": [
    {
     "name": "stderr",
     "output_type": "stream",
     "text": [
      "C:\\Users\\ntaylor\\Anaconda3\\envs\\deeplearning\\lib\\site-packages\\IPython\\core\\interactiveshell.py:3049: DtypeWarning: Columns (4,5) have mixed types. Specify dtype option on import or set low_memory=False.\n",
      "  interactivity=interactivity, compiler=compiler, result=result)\n"
     ]
    }
   ],
   "source": [
    "df_notes = pd.read_csv(f\"{data_dir}NOTEEVENTS.csv/NOTEEVENTS.csv\")"
   ]
  },
  {
   "cell_type": "code",
   "execution_count": 18,
   "metadata": {},
   "outputs": [
    {
     "name": "stdout",
     "output_type": "stream",
     "text": [
      "Number of notes: 2083180\n"
     ]
    }
   ],
   "source": [
    "print('Number of notes:',len(df_notes))"
   ]
  },
  {
   "cell_type": "markdown",
   "metadata": {},
   "source": [
    "There can be multiple notes per hospitalizations so don't worry that the number of notes is higher than the number of hospitalizations. "
   ]
  },
  {
   "cell_type": "code",
   "execution_count": 19,
   "metadata": {},
   "outputs": [
    {
     "data": {
      "text/plain": [
       "array(['Discharge summary', 'Echo', 'ECG', 'Nursing', 'Physician ',\n",
       "       'Rehab Services', 'Case Management ', 'Respiratory ', 'Nutrition',\n",
       "       'General', 'Social Work', 'Pharmacy', 'Consult', 'Radiology',\n",
       "       'Nursing/other'], dtype=object)"
      ]
     },
     "execution_count": 19,
     "metadata": {},
     "output_type": "execute_result"
    }
   ],
   "source": [
    "df_notes.CATEGORY.unique()"
   ]
  },
  {
   "cell_type": "code",
   "execution_count": 20,
   "metadata": {},
   "outputs": [
    {
     "data": {
      "text/html": [
       "<div>\n",
       "<style scoped>\n",
       "    .dataframe tbody tr th:only-of-type {\n",
       "        vertical-align: middle;\n",
       "    }\n",
       "\n",
       "    .dataframe tbody tr th {\n",
       "        vertical-align: top;\n",
       "    }\n",
       "\n",
       "    .dataframe thead th {\n",
       "        text-align: right;\n",
       "    }\n",
       "</style>\n",
       "<table border=\"1\" class=\"dataframe\">\n",
       "  <thead>\n",
       "    <tr style=\"text-align: right;\">\n",
       "      <th></th>\n",
       "      <th>ROW_ID</th>\n",
       "      <th>SUBJECT_ID</th>\n",
       "      <th>HADM_ID</th>\n",
       "      <th>CHARTDATE</th>\n",
       "      <th>CHARTTIME</th>\n",
       "      <th>STORETIME</th>\n",
       "      <th>CATEGORY</th>\n",
       "      <th>DESCRIPTION</th>\n",
       "      <th>CGID</th>\n",
       "      <th>ISERROR</th>\n",
       "      <th>TEXT</th>\n",
       "    </tr>\n",
       "  </thead>\n",
       "  <tbody>\n",
       "    <tr>\n",
       "      <th>0</th>\n",
       "      <td>174</td>\n",
       "      <td>22532</td>\n",
       "      <td>167853.0</td>\n",
       "      <td>2151-08-04</td>\n",
       "      <td>NaN</td>\n",
       "      <td>NaN</td>\n",
       "      <td>Discharge summary</td>\n",
       "      <td>Report</td>\n",
       "      <td>NaN</td>\n",
       "      <td>NaN</td>\n",
       "      <td>Admission Date:  [**2151-7-16**]       Dischar...</td>\n",
       "    </tr>\n",
       "    <tr>\n",
       "      <th>1</th>\n",
       "      <td>175</td>\n",
       "      <td>13702</td>\n",
       "      <td>107527.0</td>\n",
       "      <td>2118-06-14</td>\n",
       "      <td>NaN</td>\n",
       "      <td>NaN</td>\n",
       "      <td>Discharge summary</td>\n",
       "      <td>Report</td>\n",
       "      <td>NaN</td>\n",
       "      <td>NaN</td>\n",
       "      <td>Admission Date:  [**2118-6-2**]       Discharg...</td>\n",
       "    </tr>\n",
       "    <tr>\n",
       "      <th>2</th>\n",
       "      <td>176</td>\n",
       "      <td>13702</td>\n",
       "      <td>167118.0</td>\n",
       "      <td>2119-05-25</td>\n",
       "      <td>NaN</td>\n",
       "      <td>NaN</td>\n",
       "      <td>Discharge summary</td>\n",
       "      <td>Report</td>\n",
       "      <td>NaN</td>\n",
       "      <td>NaN</td>\n",
       "      <td>Admission Date:  [**2119-5-4**]              D...</td>\n",
       "    </tr>\n",
       "    <tr>\n",
       "      <th>3</th>\n",
       "      <td>177</td>\n",
       "      <td>13702</td>\n",
       "      <td>196489.0</td>\n",
       "      <td>2124-08-18</td>\n",
       "      <td>NaN</td>\n",
       "      <td>NaN</td>\n",
       "      <td>Discharge summary</td>\n",
       "      <td>Report</td>\n",
       "      <td>NaN</td>\n",
       "      <td>NaN</td>\n",
       "      <td>Admission Date:  [**2124-7-21**]              ...</td>\n",
       "    </tr>\n",
       "    <tr>\n",
       "      <th>4</th>\n",
       "      <td>178</td>\n",
       "      <td>26880</td>\n",
       "      <td>135453.0</td>\n",
       "      <td>2162-03-25</td>\n",
       "      <td>NaN</td>\n",
       "      <td>NaN</td>\n",
       "      <td>Discharge summary</td>\n",
       "      <td>Report</td>\n",
       "      <td>NaN</td>\n",
       "      <td>NaN</td>\n",
       "      <td>Admission Date:  [**2162-3-3**]              D...</td>\n",
       "    </tr>\n",
       "  </tbody>\n",
       "</table>\n",
       "</div>"
      ],
      "text/plain": [
       "   ROW_ID  SUBJECT_ID   HADM_ID   CHARTDATE CHARTTIME STORETIME  \\\n",
       "0     174       22532  167853.0  2151-08-04       NaN       NaN   \n",
       "1     175       13702  107527.0  2118-06-14       NaN       NaN   \n",
       "2     176       13702  167118.0  2119-05-25       NaN       NaN   \n",
       "3     177       13702  196489.0  2124-08-18       NaN       NaN   \n",
       "4     178       26880  135453.0  2162-03-25       NaN       NaN   \n",
       "\n",
       "            CATEGORY DESCRIPTION  CGID  ISERROR  \\\n",
       "0  Discharge summary      Report   NaN      NaN   \n",
       "1  Discharge summary      Report   NaN      NaN   \n",
       "2  Discharge summary      Report   NaN      NaN   \n",
       "3  Discharge summary      Report   NaN      NaN   \n",
       "4  Discharge summary      Report   NaN      NaN   \n",
       "\n",
       "                                                TEXT  \n",
       "0  Admission Date:  [**2151-7-16**]       Dischar...  \n",
       "1  Admission Date:  [**2118-6-2**]       Discharg...  \n",
       "2  Admission Date:  [**2119-5-4**]              D...  \n",
       "3  Admission Date:  [**2124-7-21**]              ...  \n",
       "4  Admission Date:  [**2162-3-3**]              D...  "
      ]
     },
     "execution_count": 20,
     "metadata": {},
     "output_type": "execute_result"
    }
   ],
   "source": [
    "df_notes.head()"
   ]
  },
  {
   "cell_type": "code",
   "execution_count": 21,
   "metadata": {},
   "outputs": [
    {
     "data": {
      "text/plain": [
       "'Admission Date:  [**2151-7-16**]       Discharge Date:  [**2151-8-4**]\\n\\n\\nService:\\nADDENDUM:\\n\\nRADIOLOGIC STUDIES:  Radiologic studies also included a chest\\nCT, which confirmed cavitary lesions in the left lung apex\\nconsistent with infectious process/tuberculosis.  This also\\nmoderate-sized left pleural effusion.\\n\\nHEAD CT:  Head CT showed no intracranial hemorrhage or mass\\neffect, but old infarction consistent with past medical\\nhistory.\\n\\nABDOMINAL CT:  Abdominal CT showed lesions of\\nT10 and sacrum most likely secondary to osteoporosis. These can\\nbe followed by repeat imaging as an outpatient.\\n\\n\\n\\n                            [**First Name8 (NamePattern2) **] [**First Name4 (NamePattern1) 1775**] [**Last Name (NamePattern1) **], M.D.  [**MD Number(1) 1776**]\\n\\nDictated By:[**Hospital 1807**]\\nMEDQUIST36\\n\\nD:  [**2151-8-5**]  12:11\\nT:  [**2151-8-5**]  12:21\\nJOB#:  [**Job Number 1808**]\\n'"
      ]
     },
     "execution_count": 21,
     "metadata": {},
     "output_type": "execute_result"
    }
   ],
   "source": [
    "# look at the first note\n",
    "df_notes.TEXT.iloc[0]"
   ]
  },
  {
   "cell_type": "code",
   "execution_count": 80,
   "metadata": {},
   "outputs": [
    {
     "data": {
      "text/plain": [
       "<matplotlib.axes._subplots.AxesSubplot at 0x1cbf85535f8>"
      ]
     },
     "execution_count": 80,
     "metadata": {},
     "output_type": "execute_result"
    },
    {
     "data": {
      "image/png": "[encoded data removed]",
      "text/plain": [
       "<Figure size 432x288 with 1 Axes>"
      ]
     },
     "metadata": {
      "needs_background": "light"
     },
     "output_type": "display_data"
    }
   ],
   "source": [
    "df_notes['CATEGORY'].value_counts().plot(kind='barh')"
   ]
  },
  {
   "cell_type": "markdown",
   "metadata": {},
   "source": [
    "We can see that the dates and PHI have been converted for confidentiality. There are '\\n' characters, numbers and punctuation. "
   ]
  },
  {
   "cell_type": "markdown",
   "metadata": {},
   "source": [
    "At this point, we have to make a choice on what notes to use. For simplicity, let's use the discharge summary, but we could use all the notes by concatenating them. "
   ]
  },
  {
   "cell_type": "code",
   "execution_count": 141,
   "metadata": {},
   "outputs": [],
   "source": [
    "# filter to discharge summary\n",
    "df_notes_dis_sum = df_notes.loc[df_notes.CATEGORY == 'Discharge summary']"
   ]
  },
  {
   "cell_type": "code",
   "execution_count": 142,
   "metadata": {},
   "outputs": [
    {
     "ename": "AssertionError",
     "evalue": "Multiple discharge summaries per admission",
     "output_type": "error",
     "traceback": [
      "\u001b[1;31m---------------------------------------------------------------------------\u001b[0m",
      "\u001b[1;31mAssertionError\u001b[0m                            Traceback (most recent call last)",
      "\u001b[1;32m<ipython-input-142-7553f51059ae>\u001b[0m in \u001b[0;36m<module>\u001b[1;34m\u001b[0m\n\u001b[1;32m----> 1\u001b[1;33m \u001b[1;32massert\u001b[0m \u001b[0mdf_notes_dis_sum\u001b[0m\u001b[1;33m.\u001b[0m\u001b[0mduplicated\u001b[0m\u001b[1;33m(\u001b[0m\u001b[1;33m[\u001b[0m\u001b[1;34m'HADM_ID'\u001b[0m\u001b[1;33m]\u001b[0m\u001b[1;33m)\u001b[0m\u001b[1;33m.\u001b[0m\u001b[0msum\u001b[0m\u001b[1;33m(\u001b[0m\u001b[1;33m)\u001b[0m \u001b[1;33m==\u001b[0m \u001b[1;36m0\u001b[0m\u001b[1;33m,\u001b[0m \u001b[1;34m'Multiple discharge summaries per admission'\u001b[0m\u001b[1;33m\u001b[0m\u001b[1;33m\u001b[0m\u001b[0m\n\u001b[0m",
      "\u001b[1;31mAssertionError\u001b[0m: Multiple discharge summaries per admission"
     ]
    }
   ],
   "source": [
    "assert df_notes_dis_sum.duplicated(['HADM_ID']).sum() == 0, 'Multiple discharge summaries per admission'"
   ]
  },
  {
   "cell_type": "code",
   "execution_count": 143,
   "metadata": {},
   "outputs": [],
   "source": [
    "df_notes_dis_sum_last = (df_notes_dis_sum.groupby(['SUBJECT_ID','HADM_ID']).nth(-1)).reset_index()\n",
    "assert df_notes_dis_sum_last.duplicated(['HADM_ID']).sum() == 0, 'Multiple discharge summaries per admission'"
   ]
  },
  {
   "cell_type": "markdown",
   "metadata": {},
   "source": [
    "## Merge data sets"
   ]
  },
  {
   "cell_type": "code",
   "execution_count": 144,
   "metadata": {},
   "outputs": [],
   "source": [
    "df_adm_notes = pd.merge(df_adm[['SUBJECT_ID','HADM_ID','ADMITTIME','DISCHTIME','DAYS_NEXT_ADMIT','NEXT_ADMITTIME','ADMISSION_TYPE','DEATHTIME']],\n",
    "                        df_notes_dis_sum_last[['SUBJECT_ID','HADM_ID','TEXT']], \n",
    "                        on = ['SUBJECT_ID','HADM_ID'],\n",
    "                        how = 'left')\n",
    "assert len(df_adm) == len(df_adm_notes), 'Number of rows increased'"
   ]
  },
  {
   "cell_type": "markdown",
   "metadata": {},
   "source": [
    "Check to see if there are alot of notes that are missing text (might be a sign of a problem)."
   ]
  },
  {
   "cell_type": "code",
   "execution_count": 145,
   "metadata": {},
   "outputs": [
    {
     "name": "stdout",
     "output_type": "stream",
     "text": [
      "Fraction of missing notes: 0.1059753119913185\n",
      "Fraction notes with newlines: 0.8940246880086815\n",
      "Fraction notes with carriage returns: 0.0\n"
     ]
    }
   ],
   "source": [
    "print('Fraction of missing notes:', df_adm_notes.TEXT.isnull().sum() / len(df_adm_notes))\n",
    "print('Fraction notes with newlines:', df_adm_notes.TEXT.str.contains('\\n').sum() / len(df_adm_notes))\n",
    "print('Fraction notes with carriage returns:', df_adm_notes.TEXT.str.contains('\\r').sum() / len(df_adm_notes))"
   ]
  },
  {
   "cell_type": "code",
   "execution_count": 27,
   "metadata": {},
   "outputs": [
    {
     "data": {
      "text/plain": [
       "ADMISSION_TYPE\n",
       "ELECTIVE     0.048663\n",
       "EMERGENCY    0.037983\n",
       "NEWBORN      0.536691\n",
       "URGENT       0.042665\n",
       "dtype: float64"
      ]
     },
     "execution_count": 27,
     "metadata": {},
     "output_type": "execute_result"
    }
   ],
   "source": [
    "df_adm_notes.groupby('ADMISSION_TYPE').apply(lambda g: g.TEXT.isnull().sum())/df_adm_notes.groupby('ADMISSION_TYPE').size()"
   ]
  },
  {
   "cell_type": "markdown",
   "metadata": {},
   "source": [
    "Remove NEWBORN"
   ]
  },
  {
   "cell_type": "code",
   "execution_count": 28,
   "metadata": {},
   "outputs": [],
   "source": [
    "df_adm_notes_clean = df_adm_notes.loc[df_adm_notes.ADMISSION_TYPE != 'NEWBORN'].copy()"
   ]
  },
  {
   "cell_type": "code",
   "execution_count": 29,
   "metadata": {},
   "outputs": [
    {
     "name": "stdout",
     "output_type": "stream",
     "text": [
      "Fraction of missing notes: 0.03971592354195606\n",
      "Fraction notes with newlines: 0.9602840764580439\n",
      "Fraction notes with carriage returns: 0.0\n"
     ]
    }
   ],
   "source": [
    "print('Fraction of missing notes:', df_adm_notes_clean.TEXT.isnull().sum() / len(df_adm_notes_clean))\n",
    "print('Fraction notes with newlines:', df_adm_notes_clean.TEXT.str.contains('\\n').sum() / len(df_adm_notes_clean))\n",
    "print('Fraction notes with carriage returns:', df_adm_notes_clean.TEXT.str.contains('\\r').sum() / len(df_adm_notes_clean))"
   ]
  },
  {
   "cell_type": "markdown",
   "metadata": {},
   "source": [
    "Additional analysis might be required to see if there are any specific cases why a discharge would not appear. For now, we will push forward. "
   ]
  },
  {
   "cell_type": "markdown",
   "metadata": {},
   "source": [
    "## Prepare a label"
   ]
  },
  {
   "cell_type": "markdown",
   "metadata": {},
   "source": [
    "I like to create a specific column in the dataframe as OUTPUT_LABEL that has exactly what we are trying to predict. Here we want if the patient was re-admitted within 30 days"
   ]
  },
  {
   "cell_type": "code",
   "execution_count": 146,
   "metadata": {},
   "outputs": [],
   "source": [
    "df_adm_notes_clean['OUTPUT_LABEL'] = (df_adm_notes_clean.DAYS_NEXT_ADMIT < 30).astype('int')"
   ]
  },
  {
   "cell_type": "code",
   "execution_count": 147,
   "metadata": {},
   "outputs": [
    {
     "name": "stdout",
     "output_type": "stream",
     "text": [
      "Number of positive samples: 3004\n",
      "Number of negative samples: 48109\n",
      "Total samples: 51113\n"
     ]
    }
   ],
   "source": [
    "print('Number of positive samples:', (df_adm_notes_clean.OUTPUT_LABEL == 1).sum())\n",
    "print('Number of negative samples:',  (df_adm_notes_clean.OUTPUT_LABEL == 0).sum())\n",
    "print('Total samples:', len(df_adm_notes_clean))"
   ]
  },
  {
   "cell_type": "markdown",
   "metadata": {},
   "source": [
    "# Create training and test dataframes"
   ]
  },
  {
   "cell_type": "markdown",
   "metadata": {},
   "source": [
    "When we build a predictive model, we want the model to work well on data that the model has never seen. To test for this, we take our data and split it into three datasets: training, validation and test. \n",
    "\n",
    "- training set: used to train the model\n",
    "- validation set: data the model didn't see, but are used to optimize or tune the model\n",
    "- test set: data the model and tuning process never saw (true test of generalizability)\n",
    "\n",
    "The validation and test set should be as close to the production data as possible. We don't want to make decisions on validation data that is not from same type of data as the test set. For example, don't use high resolution images for validation set if you think production will be amateur photos from your phone. \n"
   ]
  },
  {
   "cell_type": "code",
   "execution_count": 150,
   "metadata": {},
   "outputs": [
    {
     "name": "stdout",
     "output_type": "stream",
     "text": [
      "Test prevalence(n = 7667): 0.06051910786487544\n",
      "Valid prevalence(n = 7667): 0.05738880918220947\n",
      "Train all prevalence(n = 35779): 0.05869364711143408\n",
      "all samples (n = 51113)\n"
     ]
    }
   ],
   "source": [
    "# shuffle the samples\n",
    "df_adm_notes_clean = df_adm_notes_clean.sample(n = len(df_adm_notes_clean), random_state = 42)\n",
    "df_adm_notes_clean = df_adm_notes_clean.reset_index(drop = True)\n",
    "\n",
    "# Save 30% of the data as validation and test data \n",
    "df_valid_test=df_adm_notes_clean.sample(frac=0.30,random_state=42)\n",
    "\n",
    "df_test = df_valid_test.sample(frac = 0.5, random_state = 42)\n",
    "df_valid = df_valid_test.drop(df_test.index)\n",
    "\n",
    "# use the rest of the data as training data\n",
    "df_train_all=df_adm_notes_clean.drop(df_valid_test.index)\n",
    "\n",
    "print('Test prevalence(n = %d):'%len(df_test),df_test.OUTPUT_LABEL.sum()/ len(df_test))\n",
    "print('Valid prevalence(n = %d):'%len(df_valid),df_valid.OUTPUT_LABEL.sum()/ len(df_valid))\n",
    "print('Train all prevalence(n = %d):'%len(df_train_all), df_train_all.OUTPUT_LABEL.sum()/ len(df_train_all))\n",
    "print('all samples (n = %d)'%len(df_adm_notes_clean))\n",
    "assert len(df_adm_notes_clean) == (len(df_test)+len(df_valid)+len(df_train_all)),'math didnt work'"
   ]
  },
  {
   "cell_type": "markdown",
   "metadata": {},
   "source": [
    "Since the prevalence is so low, we want to prevent the model from always predicting negative. To do this, we have a few options\n",
    "- balance the data by sub-sampling the negatives\n",
    "- balance the data by over-sampling the positives\n",
    "- create synthetic data (e.g. SMOTE)\n",
    "\n",
    "In this example, we will sub-sample the negatives"
   ]
  },
  {
   "cell_type": "code",
   "execution_count": 151,
   "metadata": {},
   "outputs": [
    {
     "name": "stdout",
     "output_type": "stream",
     "text": [
      "Train prevalence (n = 4200): 0.5\n"
     ]
    }
   ],
   "source": [
    "# split the training data into positive and negative\n",
    "rows_pos = df_train_all.OUTPUT_LABEL == 1\n",
    "df_train_pos = df_train_all.loc[rows_pos]\n",
    "df_train_neg = df_train_all.loc[~rows_pos]\n",
    "\n",
    "# merge the balanced data\n",
    "df_train = pd.concat([df_train_pos, df_train_neg.sample(n = len(df_train_pos), random_state = 42)],axis = 0)\n",
    "\n",
    "# shuffle the order of training samples \n",
    "df_train = df_train.sample(n = len(df_train), random_state = 42).reset_index(drop = True)\n",
    "\n",
    "print('Train prevalence (n = %d):'%len(df_train), df_train.OUTPUT_LABEL.sum()/ len(df_train))"
   ]
  },
  {
   "cell_type": "markdown",
   "metadata": {},
   "source": [
    "# Step 2: Preprocess text data"
   ]
  },
  {
   "cell_type": "markdown",
   "metadata": {},
   "source": [
    "Now that we have created data sets that have a label and the notes, we need to preprocess our text data to convert it to something useful (i.e. numbers) for the machine learning model. We are going to use the Bag-of-Words (BOW) approach."
   ]
  },
  {
   "cell_type": "markdown",
   "metadata": {
    "collapsed": true
   },
   "source": [
    "BOW basically breaks up the note into the individual words and counts how many times each word occurs. Your numerical data then becomes counts for some set of words as shown below. BOW is the simplest way to do NLP classification. In most blog posts I have read, fancier techniques have a hard time beating BOW for NLP classification tasks."
   ]
  },
  {
   "cell_type": "markdown",
   "metadata": {},
   "source": [
    "In this process, there are few choices that need to be made\n",
    "- how to pre-process the words\n",
    "- how to count the words\n",
    "- which words to use\n",
    "\n",
    "There is no optimal choice for all NLP projects, so I recommend trying out a few options when building your own models.\n",
    "\n",
    "You can do the pre-processing in two ways:\n",
    "- modify the original dataframe TEXT column\n",
    "- pre-process as part of your pipeline so you don't edit the original data (allows you try out a few options easily)"
   ]
  },
  {
   "cell_type": "markdown",
   "metadata": {},
   "source": [
    "### Preprocess all the notes"
   ]
  },
  {
   "cell_type": "markdown",
   "metadata": {},
   "source": [
    "Modify the original dataframe by dealing with the missing text, newlines and carriage returns"
   ]
  },
  {
   "cell_type": "code",
   "execution_count": 159,
   "metadata": {},
   "outputs": [],
   "source": [
    "def preprocess_text(df):\n",
    "    # This function preprocesses the text by filling not a number and replacing new lines ('\\n') and carriage returns ('\\r')\n",
    "    df.TEXT = df.TEXT.fillna(' ')\n",
    "    df.TEXT =df.TEXT.str.replace('\\n',' ')\n",
    "    df.TEXT =df.TEXT.str.replace('\\r',' ')\n",
    "    return df"
   ]
  },
  {
   "cell_type": "code",
   "execution_count": 153,
   "metadata": {},
   "outputs": [],
   "source": [
    "# preprocess the text to deal with known issues\n",
    "df_train = preprocess_text(df_train)\n",
    "df_valid = preprocess_text(df_valid)\n",
    "df_test = preprocess_text(df_test)"
   ]
  },
  {
   "cell_type": "code",
   "execution_count": 154,
   "metadata": {},
   "outputs": [
    {
     "name": "stdout",
     "output_type": "stream",
     "text": [
      "(4200, 10)\n",
      "(7667, 10)\n",
      "(7667, 10)\n"
     ]
    }
   ],
   "source": [
    "print(df_train.shape)\n",
    "print(df_valid.shape)\n",
    "print(df_test.shape)"
   ]
  },
  {
   "cell_type": "code",
   "execution_count": 157,
   "metadata": {},
   "outputs": [
    {
     "data": {
      "text/plain": [
       "0"
      ]
     },
     "execution_count": 157,
     "metadata": {},
     "output_type": "execute_result"
    }
   ],
   "source": [
    "sum(df_train.TEXT.isna())"
   ]
  },
  {
   "cell_type": "code",
   "execution_count": 158,
   "metadata": {},
   "outputs": [
    {
     "data": {
      "text/plain": [
       "Index(['SUBJECT_ID', 'HADM_ID', 'ADMITTIME', 'DISCHTIME', 'DAYS_NEXT_ADMIT',\n",
       "       'NEXT_ADMITTIME', 'ADMISSION_TYPE', 'DEATHTIME', 'TEXT',\n",
       "       'OUTPUT_LABEL'],\n",
       "      dtype='object')"
      ]
     },
     "execution_count": 158,
     "metadata": {},
     "output_type": "execute_result"
    }
   ],
   "source": [
    "df_train.columns"
   ]
  },
  {
   "cell_type": "markdown",
   "metadata": {},
   "source": [
    "### Build a tokenizer"
   ]
  },
  {
   "cell_type": "markdown",
   "metadata": {},
   "source": [
    "Now we need to create a function that splits the note into individual words. This function is called a tokenizer. We can use the nltk.word_tokenize function to this for us. "
   ]
  },
  {
   "cell_type": "code",
   "execution_count": 160,
   "metadata": {},
   "outputs": [
    {
     "data": {
      "text/plain": [
       "['This',\n",
       " 'should',\n",
       " 'be',\n",
       " 'tokenized',\n",
       " '.',\n",
       " '02/02/2018',\n",
       " 'sentence',\n",
       " 'has',\n",
       " 'stars',\n",
       " '*',\n",
       " '*']"
      ]
     },
     "execution_count": 160,
     "metadata": {},
     "output_type": "execute_result"
    }
   ],
   "source": [
    "import nltk\n",
    "from nltk import word_tokenize\n",
    "import string\n",
    "import re\n",
    "word_tokenize('This should be tokenized. 02/02/2018 sentence has stars**')"
   ]
  },
  {
   "cell_type": "markdown",
   "metadata": {},
   "source": [
    "Note that some punctuation is separated but not all punctuation. "
   ]
  },
  {
   "cell_type": "markdown",
   "metadata": {},
   "source": [
    "We can define our own custom tokenizer. Our tokenizer will \n",
    "- replace punctuation with spaces\n",
    "- remove numbers with spaces\n",
    "- lowercase all words\n",
    "\n",
    "I like to do these steps as part of the tokenizer, so I can go back and look at the original note. The new line and carriage return is more difficult to deal with so I did it in the preprocessing step above. "
   ]
  },
  {
   "cell_type": "code",
   "execution_count": 161,
   "metadata": {},
   "outputs": [
    {
     "name": "stdout",
     "output_type": "stream",
     "text": [
      "!\"#$%&'()*+,-./:;<=>?@[\\]^_`{|}~\n"
     ]
    }
   ],
   "source": [
    "import string\n",
    "print(string.punctuation)"
   ]
  },
  {
   "cell_type": "code",
   "execution_count": 162,
   "metadata": {},
   "outputs": [],
   "source": [
    "def tokenizer_better(text):\n",
    "    # tokenize the text by replacing punctuation and numbers with spaces and lowercase all words\n",
    "    \n",
    "    punc_list = string.punctuation+'0123456789'\n",
    "    t = str.maketrans(dict.fromkeys(punc_list, \" \"))\n",
    "    text = text.lower().translate(t)\n",
    "    tokens = word_tokenize(text)\n",
    "    return tokens"
   ]
  },
  {
   "cell_type": "code",
   "execution_count": 164,
   "metadata": {},
   "outputs": [
    {
     "data": {
      "text/plain": [
       "['this', 'should', 'be', 'tokenized', 'sentence', 'has', 'stars']"
      ]
     },
     "execution_count": 164,
     "metadata": {},
     "output_type": "execute_result"
    }
   ],
   "source": [
    "tokenizer_better('This should be tokenized. 02/02/2018 sentence has stars**')"
   ]
  },
  {
   "cell_type": "markdown",
   "metadata": {},
   "source": [
    "### Build a simple vectorizer"
   ]
  },
  {
   "cell_type": "markdown",
   "metadata": {},
   "source": [
    "Now that we have a way to convert free-text into tokens, we need a way to create features from these tokens. "
   ]
  },
  {
   "cell_type": "code",
   "execution_count": 40,
   "metadata": {},
   "outputs": [],
   "source": [
    "sample_text = ['Data science is about the data', 'The science is amazing', 'Predictive modeling is part of data science']"
   ]
  },
  {
   "cell_type": "code",
   "execution_count": 165,
   "metadata": {},
   "outputs": [
    {
     "name": "stderr",
     "output_type": "stream",
     "text": [
      "C:\\Users\\ntaylor\\Anaconda3\\envs\\deeplearning\\lib\\site-packages\\sklearn\\feature_extraction\\text.py:484: UserWarning: The parameter 'token_pattern' will not be used since 'tokenizer' is not None'\n",
      "  warnings.warn(\"The parameter 'token_pattern' will not be used\"\n"
     ]
    }
   ],
   "source": [
    "from sklearn.feature_extraction.text import CountVectorizer\n",
    "vect = CountVectorizer(tokenizer = tokenizer_better)\n",
    "vect.fit(sample_text)\n",
    "\n",
    "# matrix is stored as a sparse matrix (since you have a lot of zeros)\n",
    "X = vect.transform(sample_text)"
   ]
  },
  {
   "cell_type": "code",
   "execution_count": 42,
   "metadata": {},
   "outputs": [
    {
     "data": {
      "text/plain": [
       "<3x10 sparse matrix of type '<class 'numpy.int64'>'\n",
       "\twith 16 stored elements in Compressed Sparse Row format>"
      ]
     },
     "execution_count": 42,
     "metadata": {},
     "output_type": "execute_result"
    }
   ],
   "source": [
    "X"
   ]
  },
  {
   "cell_type": "code",
   "execution_count": 43,
   "metadata": {},
   "outputs": [
    {
     "data": {
      "text/plain": [
       "array([[1, 0, 2, 1, 0, 0, 0, 0, 1, 1],\n",
       "       [0, 1, 0, 1, 0, 0, 0, 0, 1, 1],\n",
       "       [0, 0, 1, 1, 1, 1, 1, 1, 1, 0]], dtype=int64)"
      ]
     },
     "execution_count": 43,
     "metadata": {},
     "output_type": "execute_result"
    }
   ],
   "source": [
    "# we can visualize this small example if we convert it to an array\n",
    "X.toarray()"
   ]
  },
  {
   "cell_type": "code",
   "execution_count": 44,
   "metadata": {},
   "outputs": [
    {
     "data": {
      "text/plain": [
       "['about',\n",
       " 'amazing',\n",
       " 'data',\n",
       " 'is',\n",
       " 'modeling',\n",
       " 'of',\n",
       " 'part',\n",
       " 'predictive',\n",
       " 'science',\n",
       " 'the']"
      ]
     },
     "execution_count": 44,
     "metadata": {},
     "output_type": "execute_result"
    }
   ],
   "source": [
    "# get the column names\n",
    "vect.get_feature_names()"
   ]
  },
  {
   "cell_type": "markdown",
   "metadata": {},
   "source": [
    "## build a vectorizer on the clinical notes"
   ]
  },
  {
   "cell_type": "code",
   "execution_count": 38,
   "metadata": {},
   "outputs": [
    {
     "data": {
      "text/plain": [
       "CountVectorizer(analyzer='word', binary=False, decode_error='strict',\n",
       "        dtype=<class 'numpy.int64'>, encoding='utf-8', input='content',\n",
       "        lowercase=True, max_df=1.0, max_features=3000, min_df=1,\n",
       "        ngram_range=(1, 1), preprocessor=None, stop_words=None,\n",
       "        strip_accents=None, token_pattern='(?u)\\\\b\\\\w\\\\w+\\\\b',\n",
       "        tokenizer=<function tokenizer_better at 0x00000000844D4F28>,\n",
       "        vocabulary=None)"
      ]
     },
     "execution_count": 38,
     "metadata": {},
     "output_type": "execute_result"
    }
   ],
   "source": [
    "# from sklearn.feature_extraction.text import CountVectorizer\n",
    "# vect = CountVectorizer(max_features = 3000, tokenizer = tokenizer_better)\n",
    "\n",
    "# # this could take a while\n",
    "# vect.fit(df_train.TEXT.values)\n",
    "\n",
    "\n",
    "\n"
   ]
  },
  {
   "cell_type": "code",
   "execution_count": 166,
   "metadata": {},
   "outputs": [],
   "source": [
    "my_stop_words = ['the','and','to','of','was','with','a','on','in','for','name',\n",
    "                 'is','patient','s','he','at','as','or','one','she','his','her','am',\n",
    "                 'were','you','pt','pm','by','be','had','your','this','date',\n",
    "                'from','there','an','that','p','are','have','has','h','but','o',\n",
    "                'namepattern','which','every','also']"
   ]
  },
  {
   "cell_type": "code",
   "execution_count": null,
   "metadata": {},
   "outputs": [],
   "source": [
    "from sklearn.feature_extraction.text import CountVectorizer\n",
    "vect = CountVectorizer(max_features = 3000, \n",
    "                       tokenizer = tokenizer_better, \n",
    "                       stop_words = my_stop_words)\n",
    "# this could take a while\n",
    "vect.fit(df_train.TEXT.values)"
   ]
  },
  {
   "cell_type": "markdown",
   "metadata": {},
   "source": [
    "# Zipf's law"
   ]
  },
  {
   "cell_type": "code",
   "execution_count": 69,
   "metadata": {},
   "outputs": [
    {
     "data": {
      "image/png": "[encoded data removed]",
      "text/plain": [
       "<Figure size 720x432 with 1 Axes>"
      ]
     },
     "metadata": {
      "needs_background": "light"
     },
     "output_type": "display_data"
    },
    {
     "data": {
      "image/png": "[encoded data removed]",
      "text/plain": [
       "<Figure size 720x432 with 1 Axes>"
      ]
     },
     "metadata": {
      "needs_background": "light"
     },
     "output_type": "display_data"
    }
   ],
   "source": [
    "neg_doc_matrix = vect.transform(df_train[df_train.OUTPUT_LABEL == 0].TEXT)\n",
    "pos_doc_matrix = vect.transform(df_train[df_train.OUTPUT_LABEL == 1].TEXT)\n",
    "neg_tf = np.sum(neg_doc_matrix,axis=0)\n",
    "pos_tf = np.sum(pos_doc_matrix,axis=0)\n",
    "neg = np.squeeze(np.asarray(neg_tf))\n",
    "pos = np.squeeze(np.asarray(pos_tf))\n",
    "\n",
    "term_freq_df = pd.DataFrame([neg,pos],columns=vect.get_feature_names()).transpose()\n",
    "term_freq_df.columns = ['negative', 'positive']\n",
    "term_freq_df['total'] = term_freq_df['negative'] + term_freq_df['positive']\n",
    "term_freq_df.sort_values(by='total', ascending=False).iloc[:10]\n",
    "\n",
    "#Create a series from the sparse matrix\n",
    "d = pd.Series(term_freq_df.total, \n",
    "              index = term_freq_df.index).sort_values(ascending=False)\n",
    "ax = d[:50].plot(kind='bar', figsize=(10,6), width=.8, fontsize=14, rot=90,color = 'b')\n",
    "ax.title.set_size(18)\n",
    "plt.ylabel('count')\n",
    "plt.show()\n",
    "ax = d[50:100].plot(kind='bar', figsize=(10,6), width=.8, fontsize=14, rot=90,color = 'b')\n",
    "ax.title.set_size(18)\n",
    "plt.ylabel('count')\n",
    "plt.suptitle('Counts of words - Positive vs Negative result')\n",
    "plt.savefig('./plots/Counts_of_words.png')\n",
    "plt.show()\n"
   ]
  },
  {
   "cell_type": "code",
   "execution_count": 45,
   "metadata": {},
   "outputs": [],
   "source": []
  },
  {
   "cell_type": "code",
   "execution_count": 46,
   "metadata": {},
   "outputs": [
    {
     "data": {
      "text/plain": [
       "CountVectorizer(max_features=3000,\n",
       "                stop_words=['the', 'and', 'to', 'of', 'was', 'with', 'a', 'on',\n",
       "                            'in', 'for', 'name', 'is', 'patient', 's', 'he',\n",
       "                            'at', 'as', 'or', 'one', 'she', 'his', 'her', 'am',\n",
       "                            'were', 'you', 'pt', 'pm', 'by', 'be', 'had', ...],\n",
       "                tokenizer=<function tokenizer_better at 0x000001CBF6342BF8>)"
      ]
     },
     "execution_count": 46,
     "metadata": {},
     "output_type": "execute_result"
    }
   ],
   "source": []
  },
  {
   "cell_type": "markdown",
   "metadata": {},
   "source": [
    "Transform notes into the vector format"
   ]
  },
  {
   "cell_type": "code",
   "execution_count": 48,
   "metadata": {},
   "outputs": [],
   "source": [
    "X_train_tf = vect.transform(df_train.TEXT.values)\n",
    "X_valid_tf = vect.transform(df_valid.TEXT.values)"
   ]
  },
  {
   "cell_type": "markdown",
   "metadata": {},
   "source": [
    "Get labels\n"
   ]
  },
  {
   "cell_type": "code",
   "execution_count": 49,
   "metadata": {},
   "outputs": [],
   "source": [
    "y_train = df_train.OUTPUT_LABEL\n",
    "y_valid = df_valid.OUTPUT_LABEL"
   ]
  },
  {
   "cell_type": "markdown",
   "metadata": {},
   "source": [
    "# Step 3: Build a simple predictive model"
   ]
  },
  {
   "cell_type": "markdown",
   "metadata": {},
   "source": [
    "Use logistic regression from scikit-learn"
   ]
  },
  {
   "cell_type": "code",
   "execution_count": 50,
   "metadata": {},
   "outputs": [
    {
     "data": {
      "text/plain": [
       "LogisticRegression(C=0.0001, random_state=42)"
      ]
     },
     "execution_count": 50,
     "metadata": {},
     "output_type": "execute_result"
    }
   ],
   "source": [
    "# logistic regression\n",
    "from sklearn.linear_model import LogisticRegression\n",
    "clf=LogisticRegression(C = 0.0001, penalty = 'l2', random_state = 42)\n",
    "clf.fit(X_train_tf, y_train)"
   ]
  },
  {
   "cell_type": "markdown",
   "metadata": {},
   "source": [
    "Calculate probability of re-admission"
   ]
  },
  {
   "cell_type": "code",
   "execution_count": 51,
   "metadata": {},
   "outputs": [],
   "source": [
    "model = clf\n",
    "y_train_preds = model.predict_proba(X_train_tf)[:,1]\n",
    "y_valid_preds = model.predict_proba(X_valid_tf)[:,1]"
   ]
  },
  {
   "cell_type": "code",
   "execution_count": 52,
   "metadata": {},
   "outputs": [
    {
     "name": "stdout",
     "output_type": "stream",
     "text": [
      "[1 1 0 1 1 1 0 0 1 1]\n",
      "[0.42013987 0.4360379  0.28809073 0.6238073  0.24422986 0.45490439\n",
      " 0.33683096 0.91645687 0.69387608 0.50733574]\n"
     ]
    }
   ],
   "source": [
    "print(y_train[:10].values)\n",
    "print(y_train_preds[:10])"
   ]
  },
  {
   "cell_type": "markdown",
   "metadata": {},
   "source": [
    "# Step 4. Calculate Performance Metrics"
   ]
  },
  {
   "cell_type": "markdown",
   "metadata": {},
   "source": [
    "<img src=\"perf_metrics.png\">"
   ]
  },
  {
   "cell_type": "code",
   "execution_count": 53,
   "metadata": {},
   "outputs": [],
   "source": [
    "def calc_accuracy(y_actual, y_pred, thresh):\n",
    "    # this function calculates the accuracy with probability threshold at thresh\n",
    "    return (sum((y_pred > thresh) & (y_actual == 1))+sum((y_pred < thresh) & (y_actual == 0))) /len(y_actual)\n",
    "\n",
    "def calc_recall(y_actual, y_pred, thresh):\n",
    "    # calculates the recall\n",
    "    return sum((y_pred > thresh) & (y_actual == 1)) /sum(y_actual)\n",
    "\n",
    "def calc_precision(y_actual, y_pred, thresh):\n",
    "    # calculates the precision\n",
    "    return sum((y_pred > thresh) & (y_actual == 1)) /sum(y_pred > thresh)\n",
    "\n",
    "def calc_specificity(y_actual, y_pred, thresh):\n",
    "    # calculates specificity\n",
    "    return sum((y_pred < thresh) & (y_actual == 0)) /sum(y_actual ==0)\n",
    "\n",
    "def calc_prevalence(y_actual):\n",
    "    # calculates prevalence\n",
    "    return sum((y_actual == 1)) /len(y_actual)\n"
   ]
  },
  {
   "cell_type": "code",
   "execution_count": 54,
   "metadata": {},
   "outputs": [
    {
     "name": "stdout",
     "output_type": "stream",
     "text": [
      "Train AUC:0.754\n",
      "Valid AUC:0.706\n",
      "Train accuracy:0.685\n",
      "Valid accuracy:0.714\n",
      "Train recall:0.624\n",
      "Valid recall:0.595\n",
      "Train precision:0.712\n",
      "Valid precision:0.114\n",
      "Train specificity:0.747\n",
      "Valid specificity:0.721\n",
      "Train prevalence:0.500\n",
      "Valid prevalence:0.057\n"
     ]
    },
    {
     "data": {
      "image/png": "[encoded data removed]",
      "text/plain": [
       "<Figure size 432x288 with 1 Axes>"
      ]
     },
     "metadata": {
      "needs_background": "light"
     },
     "output_type": "display_data"
    }
   ],
   "source": [
    "from sklearn.metrics import roc_curve\n",
    "from sklearn.metrics import roc_auc_score\n",
    "\n",
    "fpr_train, tpr_train, thresholds_train = roc_curve(y_train, y_train_preds)\n",
    "fpr_valid, tpr_valid, thresholds_valid = roc_curve(y_valid, y_valid_preds)\n",
    "\n",
    "\n",
    "thresh = 0.5\n",
    "\n",
    "auc_train = roc_auc_score(y_train, y_train_preds)\n",
    "auc_valid = roc_auc_score(y_valid, y_valid_preds)\n",
    "\n",
    "print('Train AUC:%.3f'%auc_train)\n",
    "print('Valid AUC:%.3f'%auc_valid)\n",
    "\n",
    "print('Train accuracy:%.3f'%calc_accuracy(y_train, y_train_preds, thresh))\n",
    "print('Valid accuracy:%.3f'%calc_accuracy(y_valid, y_valid_preds, thresh))\n",
    "\n",
    "\n",
    "print('Train recall:%.3f'%calc_recall(y_train, y_train_preds, thresh))\n",
    "print('Valid recall:%.3f'%calc_recall(y_valid, y_valid_preds, thresh))\n",
    "\n",
    "print('Train precision:%.3f'%calc_precision(y_train, y_train_preds, thresh))\n",
    "print('Valid precision:%.3f'%calc_precision(y_valid, y_valid_preds, thresh))\n",
    "\n",
    "print('Train specificity:%.3f'%calc_specificity(y_train, y_train_preds, thresh))\n",
    "print('Valid specificity:%.3f'%calc_specificity(y_valid, y_valid_preds, thresh))\n",
    "\n",
    "print('Train prevalence:%.3f'%calc_prevalence(y_train))\n",
    "print('Valid prevalence:%.3f'%calc_prevalence(y_valid))\n",
    "\n",
    "\n",
    "plt.plot(fpr_train, tpr_train,'r-', label = 'Train AUC: %.2f'%auc_train)\n",
    "plt.plot(fpr_valid, tpr_valid,'b-',label = 'Valid AUC: %.2f'%auc_valid)\n",
    "plt.plot([0,1],[0,1],'-k')\n",
    "plt.xlabel('False Positive Rate')\n",
    "plt.ylabel('True Positive Rate')\n",
    "plt.legend()\n",
    "plt.show()"
   ]
  },
  {
   "cell_type": "markdown",
   "metadata": {},
   "source": [
    "# Step 5. Try to improve the model"
   ]
  },
  {
   "cell_type": "markdown",
   "metadata": {},
   "source": [
    "At this point, you might be tempted to calculate the performance on your test set and see how you did. But wait! We made many choices  (a few below) which we could change and see if there is an effect:\n",
    "- which and how much data to use - should we spend time getting more data?\n",
    "- how to tokenize - should we use something called stemming too? \n",
    "- how to vectorizer - should we change the number of words?\n",
    "- how to regularized the logistic regression - should we change C or penalty?\n",
    "- which model to use?"
   ]
  },
  {
   "cell_type": "markdown",
   "metadata": {},
   "source": [
    "When we want to improve the model, we want to do it in a data-driven manner (if we can). \n",
    "\n",
    "You can spend a lot of time on 'hunches', that don't end up panning out. \n",
    "\n",
    "There are a few techniques that will help us get big insight.  "
   ]
  },
  {
   "cell_type": "markdown",
   "metadata": {},
   "source": [
    "I read a lot of articles about data science and luckily most people post their code."
   ]
  },
  {
   "cell_type": "markdown",
   "metadata": {},
   "source": [
    "### Tip A: Use other people's code for nice visualizations. Source: https://blog.insightdatascience.com/how-to-solve-90-of-nlp-problems-a-step-by-step-guide-fda605278e4e"
   ]
  },
  {
   "cell_type": "markdown",
   "metadata": {},
   "source": [
    "Visualize the top words for positive and negative classes to see if there are any patterns which could give insight into additional features to add or remove"
   ]
  },
  {
   "cell_type": "code",
   "execution_count": 68,
   "metadata": {},
   "outputs": [
    {
     "data": {
      "image/png": "[encoded data removed]",
      "text/plain": [
       "<Figure size 720x1080 with 2 Axes>"
      ]
     },
     "metadata": {
      "needs_background": "light"
     },
     "output_type": "display_data"
    }
   ],
   "source": [
    "def get_most_important_features(vectorizer, model, n=5):\n",
    "    index_to_word = {v:k for k,v in vectorizer.vocabulary_.items()}\n",
    "    \n",
    "    # loop for each class\n",
    "    classes ={}\n",
    "    for class_index in range(model.coef_.shape[0]):\n",
    "        word_importances = [(el, index_to_word[i]) for i,el in enumerate(model.coef_[class_index])]\n",
    "        sorted_coeff = sorted(word_importances, key = lambda x : x[0], reverse=True)\n",
    "        tops = sorted(sorted_coeff[:n], key = lambda x : x[0])\n",
    "        bottom = sorted_coeff[-n:]\n",
    "        classes[class_index] = {\n",
    "            'tops':tops,\n",
    "            'bottom':bottom\n",
    "        }\n",
    "    return classes\n",
    "\n",
    "def plot_important_words(top_scores, top_words, bottom_scores, bottom_words, name):\n",
    "    y_pos = np.arange(len(top_words))\n",
    "    top_pairs = [(a,b) for a,b in zip(top_words, top_scores)]\n",
    "    top_pairs = sorted(top_pairs, key=lambda x: x[1])\n",
    "    \n",
    "    bottom_pairs = [(a,b) for a,b in zip(bottom_words, bottom_scores)]\n",
    "    bottom_pairs = sorted(bottom_pairs, key=lambda x: x[1], reverse=True)\n",
    "    \n",
    "    top_words = [a[0] for a in top_pairs]\n",
    "    top_scores = [a[1] for a in top_pairs]\n",
    "    \n",
    "    bottom_words = [a[0] for a in bottom_pairs]\n",
    "    bottom_scores = [a[1] for a in bottom_pairs]\n",
    "    \n",
    "    fig = plt.figure(figsize=(10, 15))  \n",
    "\n",
    "    plt.subplot(121)\n",
    "    plt.barh(y_pos,bottom_scores, align='center', alpha=0.5)\n",
    "    plt.title('Negative', fontsize=20)\n",
    "    plt.yticks(y_pos, bottom_words, fontsize=14)\n",
    "    plt.suptitle('Key words', fontsize=16)\n",
    "    plt.xlabel('Importance', fontsize=20)\n",
    "    \n",
    "    plt.subplot(122)\n",
    "    plt.barh(y_pos,top_scores, align='center', alpha=0.5)\n",
    "    plt.title('Positive', fontsize=20)\n",
    "    plt.yticks(y_pos, top_words, fontsize=14)\n",
    "    plt.suptitle(name, fontsize=16)\n",
    "    plt.xlabel('Importance', fontsize=20)\n",
    "    \n",
    "    plt.subplots_adjust(wspace=0.8)\n",
    "    plt.savefig('./plots/Most_important_words_pos_neg.png')\n",
    "    plt.show()\n",
    "    \n",
    "\n",
    "    \n",
    "importance = get_most_important_features(vect, clf, 50)\n",
    "    \n",
    "top_scores = [a[0] for a in importance[0]['tops']]\n",
    "top_words = [a[1] for a in importance[0]['tops']]\n",
    "bottom_scores = [a[0] for a in importance[0]['bottom']]\n",
    "bottom_words = [a[1] for a in importance[0]['bottom']]\n",
    "\n",
    "plot_important_words(top_scores, top_words, bottom_scores, bottom_words, \"Most important words\")"
   ]
  },
  {
   "cell_type": "code",
   "execution_count": 56,
   "metadata": {},
   "outputs": [],
   "source": [
    "my_new_stop_words = ['the','and','to','of','was','with','a','on','in','for','name',\n",
    "                 'is','patient','s','he','at','as','or','one','she','his','her','am',\n",
    "                 'were','you','pt','pm','by','be','had','your','this','date',\n",
    "                'from','there','an','that','p','are','have','has','h','but','o',\n",
    "                'namepattern','which','every','also','should','if','it','been','who','during', 'x']"
   ]
  },
  {
   "cell_type": "code",
   "execution_count": 57,
   "metadata": {},
   "outputs": [
    {
     "name": "stderr",
     "output_type": "stream",
     "text": [
      "C:\\Users\\ntaylor\\Anaconda3\\envs\\deeplearning\\lib\\site-packages\\sklearn\\feature_extraction\\text.py:484: UserWarning: The parameter 'token_pattern' will not be used since 'tokenizer' is not None'\n",
      "  warnings.warn(\"The parameter 'token_pattern' will not be used\"\n"
     ]
    },
    {
     "name": "stdout",
     "output_type": "stream",
     "text": [
      "(4184, 3000)\n",
      "(7667, 3000)\n",
      "(4184,)\n",
      "(7667,)\n"
     ]
    }
   ],
   "source": [
    "vect = CountVectorizer(lowercase = True, max_features = 3000, tokenizer = tokenizer_better,stop_words =my_new_stop_words)\n",
    "#\n",
    "# This could take a while\n",
    "vect.fit(df_train.TEXT.values)\n",
    "\n",
    "X_train_tf = vect.transform(df_train.TEXT.values)\n",
    "X_valid_tf = vect.transform(df_valid.TEXT.values)\n",
    "y_train = df_train.OUTPUT_LABEL\n",
    "y_valid = df_valid.OUTPUT_LABEL\n",
    "\n",
    "print(X_train_tf.shape)\n",
    "print(X_valid_tf.shape)\n",
    "print(y_train.shape)\n",
    "print(y_valid.shape)"
   ]
  },
  {
   "cell_type": "markdown",
   "metadata": {},
   "source": [
    "### Tip B: pick a single metric for evaluation"
   ]
  },
  {
   "cell_type": "markdown",
   "metadata": {},
   "source": [
    "all decisions will have a trade-off on the metrics described above. Let's choose AUC for this project as it balances FPR and TPR. "
   ]
  },
  {
   "cell_type": "markdown",
   "metadata": {},
   "source": [
    "### Tip C: plot a learning curve\n",
    "\n",
    "Source: http://scikit-learn.org/stable/auto_examples/model_selection/plot_learning_curve.html"
   ]
  },
  {
   "cell_type": "code",
   "execution_count": 58,
   "metadata": {},
   "outputs": [],
   "source": [
    "import numpy as np\n",
    "from sklearn.model_selection import learning_curve\n",
    "from sklearn.model_selection import ShuffleSplit\n",
    "\n",
    "\n",
    "def plot_learning_curve(estimator, title, X, y, ylim=None, cv=None,\n",
    "                        n_jobs=1, train_sizes=np.linspace(.1, 1.0, 5)):\n",
    "    \"\"\"\n",
    "    Generate a simple plot of the test and training learning curve.\n",
    "\n",
    "    Parameters\n",
    "    ----------\n",
    "    estimator : object type that implements the \"fit\" and \"predict\" methods\n",
    "        An object of that type which is cloned for each validation.\n",
    "\n",
    "    title : string\n",
    "        Title for the chart.\n",
    "\n",
    "    X : array-like, shape (n_samples, n_features)\n",
    "        Training vector, where n_samples is the number of samples and\n",
    "        n_features is the number of features.\n",
    "\n",
    "    y : array-like, shape (n_samples) or (n_samples, n_features), optional\n",
    "        Target relative to X for classification or regression;\n",
    "        None for unsupervised learning.\n",
    "\n",
    "    ylim : tuple, shape (ymin, ymax), optional\n",
    "        Defines minimum and maximum yvalues plotted.\n",
    "\n",
    "    cv : int, cross-validation generator or an iterable, optional\n",
    "        Determines the cross-validation splitting strategy.\n",
    "        Possible inputs for cv are:\n",
    "          - None, to use the default 3-fold cross-validation,\n",
    "          - integer, to specify the number of folds.\n",
    "          - An object to be used as a cross-validation generator.\n",
    "          - An iterable yielding train/test splits.\n",
    "\n",
    "        For integer/None inputs, if ``y`` is binary or multiclass,\n",
    "        :class:`StratifiedKFold` used. If the estimator is not a classifier\n",
    "        or if ``y`` is neither binary nor multiclass, :class:`KFold` is used.\n",
    "\n",
    "        Refer :ref:`User Guide <cross_validation>` for the various\n",
    "        cross-validators that can be used here.\n",
    "\n",
    "    n_jobs : integer, optional\n",
    "        Number of jobs to run in parallel (default 1).\n",
    "    \"\"\"\n",
    "    plt.figure()\n",
    "    plt.title(title)\n",
    "    if ylim is not None:\n",
    "        plt.ylim(*ylim)\n",
    "    plt.xlabel(\"Training examples\")\n",
    "    plt.ylabel(\"AUC\")\n",
    "    train_sizes, train_scores, test_scores = learning_curve(\n",
    "        estimator, X, y, cv=cv, n_jobs=n_jobs, train_sizes=train_sizes, scoring = 'roc_auc')\n",
    "    train_scores_mean = np.mean(train_scores, axis=1)\n",
    "    train_scores_std = np.std(train_scores, axis=1)\n",
    "    test_scores_mean = np.mean(test_scores, axis=1)\n",
    "    test_scores_std = np.std(test_scores, axis=1)\n",
    "    plt.grid()\n",
    "\n",
    "    plt.fill_between(train_sizes, train_scores_mean - train_scores_std,\n",
    "                     train_scores_mean + train_scores_std, alpha=0.1,\n",
    "                     color=\"r\")\n",
    "    plt.fill_between(train_sizes, test_scores_mean - test_scores_std,\n",
    "                     test_scores_mean + test_scores_std, alpha=0.1, color=\"b\")\n",
    "    plt.plot(train_sizes, train_scores_mean, 'o-', color=\"r\",\n",
    "             label=\"Training score\")\n",
    "    plt.plot(train_sizes, test_scores_mean, 'o-', color=\"b\",\n",
    "             label=\"Cross-validation score\")\n",
    "\n",
    "    plt.legend(loc=\"best\")\n",
    "    return plt"
   ]
  },
  {
   "cell_type": "code",
   "execution_count": 59,
   "metadata": {},
   "outputs": [
    {
     "data": {
      "image/png": "[encoded data removed]",
      "text/plain": [
       "<Figure size 432x288 with 1 Axes>"
      ]
     },
     "metadata": {
      "needs_background": "light"
     },
     "output_type": "display_data"
    }
   ],
   "source": [
    "title = \"Learning Curves (Logistic Regression)\"\n",
    "# Cross validation with 5 iterations to get smoother mean test and train\n",
    "# score curves, each time with 20% data randomly selected as a validation set.\n",
    "cv = ShuffleSplit(n_splits=5, test_size=0.2, random_state=42)\n",
    "estimator = LogisticRegression( C = 0.0001, penalty = 'l2')\n",
    "plot_learning_curve(estimator, title, X_train_tf, y_train, ylim=(0.2, 1.01), cv=cv, n_jobs=4)\n",
    "\n",
    "plt.show()"
   ]
  },
  {
   "cell_type": "markdown",
   "metadata": {},
   "source": [
    "### Tip D: get an understanding of how the hyperparameters affect your results\n",
    "\n",
    "You can run a grid-search if you want to select the best option out of all your parameters, but for this workshop we will just visually look at them. "
   ]
  },
  {
   "cell_type": "code",
   "execution_count": 60,
   "metadata": {},
   "outputs": [
    {
     "name": "stdout",
     "output_type": "stream",
     "text": [
      "\n",
      " C: 1e-05\n",
      "Train AUC:0.681\n",
      "Valid AUC:0.671\n",
      "\n",
      " C: 3e-05\n",
      "Train AUC:0.712\n",
      "Valid AUC:0.687\n",
      "\n",
      " C: 0.0001\n",
      "Train AUC:0.753\n",
      "Valid AUC:0.707\n",
      "\n",
      " C: 0.0003\n",
      "Train AUC:0.796\n",
      "Valid AUC:0.720\n",
      "\n",
      " C: 0.001\n"
     ]
    },
    {
     "name": "stderr",
     "output_type": "stream",
     "text": [
      "C:\\Users\\ntaylor\\Anaconda3\\envs\\deeplearning\\lib\\site-packages\\sklearn\\linear_model\\_logistic.py:764: ConvergenceWarning: lbfgs failed to converge (status=1):\n",
      "STOP: TOTAL NO. of ITERATIONS REACHED LIMIT.\n",
      "\n",
      "Increase the number of iterations (max_iter) or scale the data as shown in:\n",
      "    https://scikit-learn.org/stable/modules/preprocessing.html\n",
      "Please also refer to the documentation for alternative solver options:\n",
      "    https://scikit-learn.org/stable/modules/linear_model.html#logistic-regression\n",
      "  extra_warning_msg=_LOGISTIC_SOLVER_CONVERGENCE_MSG)\n"
     ]
    },
    {
     "name": "stdout",
     "output_type": "stream",
     "text": [
      "Train AUC:0.852\n",
      "Valid AUC:0.721\n",
      "\n",
      " C: 0.003\n",
      "Train AUC:0.904\n",
      "Valid AUC:0.707\n"
     ]
    },
    {
     "name": "stderr",
     "output_type": "stream",
     "text": [
      "C:\\Users\\ntaylor\\Anaconda3\\envs\\deeplearning\\lib\\site-packages\\sklearn\\linear_model\\_logistic.py:764: ConvergenceWarning: lbfgs failed to converge (status=1):\n",
      "STOP: TOTAL NO. of ITERATIONS REACHED LIMIT.\n",
      "\n",
      "Increase the number of iterations (max_iter) or scale the data as shown in:\n",
      "    https://scikit-learn.org/stable/modules/preprocessing.html\n",
      "Please also refer to the documentation for alternative solver options:\n",
      "    https://scikit-learn.org/stable/modules/linear_model.html#logistic-regression\n",
      "  extra_warning_msg=_LOGISTIC_SOLVER_CONVERGENCE_MSG)\n"
     ]
    }
   ],
   "source": [
    "from sklearn.linear_model import LogisticRegression\n",
    "\n",
    "Cs = [0.00001, 0.00003, 0.0001, 0.0003, 0.001, 0.003]\n",
    "train_aucs = np.zeros(len(Cs))\n",
    "valid_aucs = np.zeros(len(Cs))\n",
    "\n",
    "for ii in range(len(Cs)):\n",
    "    C = Cs[ii]\n",
    "    print('\\n C:', C)\n",
    "    \n",
    "    # logistic regression\n",
    "    \n",
    "    clf=LogisticRegression(C = C, penalty = 'l2', random_state = 42)\n",
    "    clf.fit(X_train_tf, y_train)\n",
    "\n",
    "    model = clf\n",
    "    y_train_preds = model.predict_proba(X_train_tf)[:,1]\n",
    "    y_valid_preds = model.predict_proba(X_valid_tf)[:,1]\n",
    "\n",
    "    auc_train = roc_auc_score(y_train, y_train_preds)\n",
    "    auc_valid = roc_auc_score(y_valid, y_valid_preds)\n",
    "    print('Train AUC:%.3f'%auc_train)\n",
    "    print('Valid AUC:%.3f'%auc_valid)\n",
    "    train_aucs[ii] = auc_train\n",
    "    valid_aucs[ii] = auc_valid"
   ]
  },
  {
   "cell_type": "code",
   "execution_count": 61,
   "metadata": {},
   "outputs": [
    {
     "data": {
      "image/png": "[encoded data removed]",
      "text/plain": [
       "<Figure size 432x288 with 1 Axes>"
      ]
     },
     "metadata": {
      "needs_background": "light"
     },
     "output_type": "display_data"
    }
   ],
   "source": [
    "plt.plot(Cs, train_aucs,'bo-', label ='Train')\n",
    "plt.plot(Cs, valid_aucs, 'ro-', label='Valid')\n",
    "plt.legend()\n",
    "plt.xlabel('Logistic Regression - C')\n",
    "plt.ylabel('AUC')\n",
    "plt.show()"
   ]
  },
  {
   "cell_type": "code",
   "execution_count": 62,
   "metadata": {},
   "outputs": [
    {
     "name": "stdout",
     "output_type": "stream",
     "text": [
      "\n",
      "number of features: 100\n"
     ]
    },
    {
     "name": "stderr",
     "output_type": "stream",
     "text": [
      "C:\\Users\\ntaylor\\Anaconda3\\envs\\deeplearning\\lib\\site-packages\\sklearn\\feature_extraction\\text.py:484: UserWarning: The parameter 'token_pattern' will not be used since 'tokenizer' is not None'\n",
      "  warnings.warn(\"The parameter 'token_pattern' will not be used\"\n"
     ]
    },
    {
     "name": "stdout",
     "output_type": "stream",
     "text": [
      "Train AUC: 0.686\n",
      "Valid AUC:0.667\n",
      "\n",
      "number of features: 300\n"
     ]
    },
    {
     "name": "stderr",
     "output_type": "stream",
     "text": [
      "C:\\Users\\ntaylor\\Anaconda3\\envs\\deeplearning\\lib\\site-packages\\sklearn\\feature_extraction\\text.py:484: UserWarning: The parameter 'token_pattern' will not be used since 'tokenizer' is not None'\n",
      "  warnings.warn(\"The parameter 'token_pattern' will not be used\"\n"
     ]
    },
    {
     "name": "stdout",
     "output_type": "stream",
     "text": [
      "Train AUC: 0.712\n",
      "Valid AUC:0.684\n",
      "\n",
      "number of features: 1000\n"
     ]
    },
    {
     "name": "stderr",
     "output_type": "stream",
     "text": [
      "C:\\Users\\ntaylor\\Anaconda3\\envs\\deeplearning\\lib\\site-packages\\sklearn\\feature_extraction\\text.py:484: UserWarning: The parameter 'token_pattern' will not be used since 'tokenizer' is not None'\n",
      "  warnings.warn(\"The parameter 'token_pattern' will not be used\"\n"
     ]
    },
    {
     "name": "stdout",
     "output_type": "stream",
     "text": [
      "Train AUC: 0.736\n",
      "Valid AUC:0.700\n",
      "\n",
      "number of features: 3000\n"
     ]
    },
    {
     "name": "stderr",
     "output_type": "stream",
     "text": [
      "C:\\Users\\ntaylor\\Anaconda3\\envs\\deeplearning\\lib\\site-packages\\sklearn\\feature_extraction\\text.py:484: UserWarning: The parameter 'token_pattern' will not be used since 'tokenizer' is not None'\n",
      "  warnings.warn(\"The parameter 'token_pattern' will not be used\"\n"
     ]
    },
    {
     "name": "stdout",
     "output_type": "stream",
     "text": [
      "Train AUC: 0.753\n",
      "Valid AUC:0.707\n",
      "\n",
      "number of features: 10000\n"
     ]
    },
    {
     "name": "stderr",
     "output_type": "stream",
     "text": [
      "C:\\Users\\ntaylor\\Anaconda3\\envs\\deeplearning\\lib\\site-packages\\sklearn\\feature_extraction\\text.py:484: UserWarning: The parameter 'token_pattern' will not be used since 'tokenizer' is not None'\n",
      "  warnings.warn(\"The parameter 'token_pattern' will not be used\"\n"
     ]
    },
    {
     "name": "stdout",
     "output_type": "stream",
     "text": [
      "Train AUC: 0.758\n",
      "Valid AUC:0.708\n",
      "\n",
      "number of features: 30000\n"
     ]
    },
    {
     "name": "stderr",
     "output_type": "stream",
     "text": [
      "C:\\Users\\ntaylor\\Anaconda3\\envs\\deeplearning\\lib\\site-packages\\sklearn\\feature_extraction\\text.py:484: UserWarning: The parameter 'token_pattern' will not be used since 'tokenizer' is not None'\n",
      "  warnings.warn(\"The parameter 'token_pattern' will not be used\"\n"
     ]
    },
    {
     "name": "stdout",
     "output_type": "stream",
     "text": [
      "Train AUC: 0.759\n",
      "Valid AUC:0.708\n"
     ]
    }
   ],
   "source": [
    "num_features = [100,300,1000,3000,10000,30000]\n",
    "train_aucs = np.zeros(len(num_features))\n",
    "valid_aucs = np.zeros(len(num_features))\n",
    "\n",
    "for ii in range(len(num_features)):\n",
    "    num = num_features[ii]\n",
    "    print('\\nnumber of features:', num)\n",
    "    vect = CountVectorizer(lowercase = True, max_features = num, \n",
    "                           tokenizer = tokenizer_better,stop_words =my_new_stop_words)\n",
    "\n",
    "    # This could take a while\n",
    "    vect.fit(df_train.TEXT.values)\n",
    "\n",
    "    X_train_tf = vect.transform(df_train.TEXT.values)\n",
    "    X_valid_tf = vect.transform(df_valid.TEXT.values)\n",
    "    y_train = df_train.OUTPUT_LABEL\n",
    "    y_valid = df_valid.OUTPUT_LABEL\n",
    "    \n",
    "    clf=LogisticRegression(C = 0.0001, penalty = 'l2', random_state = 42)\n",
    "    clf.fit(X_train_tf, y_train)\n",
    "\n",
    "    model = clf\n",
    "    y_train_preds = model.predict_proba(X_train_tf)[:,1]\n",
    "    y_valid_preds = model.predict_proba(X_valid_tf)[:,1]\n",
    "\n",
    "    auc_train = roc_auc_score(y_train, y_train_preds)\n",
    "    auc_valid = roc_auc_score(y_valid, y_valid_preds)\n",
    "    print('Train AUC: %.3f'%auc_train)\n",
    "    print('Valid AUC:%.3f'%auc_valid)\n",
    "    train_aucs[ii] = auc_train\n",
    "    valid_aucs[ii] = auc_valid"
   ]
  },
  {
   "cell_type": "code",
   "execution_count": 63,
   "metadata": {},
   "outputs": [
    {
     "data": {
      "image/png": "[encoded data removed]",
      "text/plain": [
       "<Figure size 432x288 with 1 Axes>"
      ]
     },
     "metadata": {
      "needs_background": "light"
     },
     "output_type": "display_data"
    }
   ],
   "source": [
    "plt.plot(num_features, train_aucs,'bo-', label ='Train')\n",
    "plt.plot(num_features, valid_aucs, 'ro-', label='Valid')\n",
    "plt.legend()\n",
    "plt.xlabel('Number of features')\n",
    "plt.ylabel('AUC')\n",
    "plt.show()"
   ]
  },
  {
   "cell_type": "markdown",
   "metadata": {},
   "source": [
    "# Final model without death"
   ]
  },
  {
   "cell_type": "code",
   "execution_count": 58,
   "metadata": {},
   "outputs": [
    {
     "name": "stdout",
     "output_type": "stream",
     "text": [
      "Test prevalence(n = 6798): 0.0659017358046\n",
      "Valid prevalence(n = 6798): 0.0691379817593\n",
      "Train all prevalence(n = 31725): 0.0644602048857\n",
      "all samples (n = 51113)\n",
      "Train prevalence (n = 4090): 0.5\n"
     ]
    }
   ],
   "source": [
    "# shuffle the samples\n",
    "\n",
    "rows_not_death = df_adm_notes_clean.DEATHTIME.isnull()\n",
    "\n",
    "df_adm_notes_not_death = df_adm_notes_clean.loc[rows_not_death].copy()\n",
    "df_adm_notes_not_death = df_adm_notes_not_death.sample(n = len(df_adm_notes_not_death), random_state = 42)\n",
    "df_adm_notes_not_death = df_adm_notes_not_death.reset_index(drop = True)\n",
    "\n",
    "# Save 30% of the data as validation and test data \n",
    "df_valid_test=df_adm_notes_not_death.sample(frac=0.30,random_state=42)\n",
    "\n",
    "df_test = df_valid_test.sample(frac = 0.5, random_state = 42)\n",
    "df_valid = df_valid_test.drop(df_test.index)\n",
    "\n",
    "# use the rest of the data as training data\n",
    "df_train_all=df_adm_notes_not_death.drop(df_valid_test.index)\n",
    "\n",
    "print('Test prevalence(n = %d):'%len(df_test),df_test.OUTPUT_LABEL.sum()/ len(df_test))\n",
    "print('Valid prevalence(n = %d):'%len(df_valid),df_valid.OUTPUT_LABEL.sum()/ len(df_valid))\n",
    "print('Train all prevalence(n = %d):'%len(df_train_all), df_train_all.OUTPUT_LABEL.sum()/ len(df_train_all))\n",
    "print('all samples (n = %d)'%len(df_adm_notes_clean))\n",
    "assert len(df_adm_notes_not_death) == (len(df_test)+len(df_valid)+len(df_train_all)),'math didnt work'\n",
    "\n",
    "# split the training data into positive and negative\n",
    "rows_pos = df_train_all.OUTPUT_LABEL == 1\n",
    "df_train_pos = df_train_all.loc[rows_pos]\n",
    "df_train_neg = df_train_all.loc[~rows_pos]\n",
    "\n",
    "# merge the balanced data\n",
    "df_train = pd.concat([df_train_pos, df_train_neg.sample(n = len(df_train_pos), random_state = 42)],axis = 0)\n",
    "\n",
    "# shuffle the order of training samples \n",
    "df_train = df_train.sample(n = len(df_train), random_state = 42).reset_index(drop = True)\n",
    "\n",
    "print('Train prevalence (n = %d):'%len(df_train), df_train.OUTPUT_LABEL.sum()/ len(df_train))\n",
    "\n",
    "# preprocess the text to deal with known issues\n",
    "df_train = preprocess_text(df_train)\n",
    "df_valid = preprocess_text(df_valid)\n",
    "df_test = preprocess_text(df_test)\n"
   ]
  },
  {
   "cell_type": "code",
   "execution_count": 59,
   "metadata": {},
   "outputs": [],
   "source": [
    "my_new_stop_words = ['the','and','to','of','was','with','a','on','in','for','name',\n",
    "                 'is','patient','s','he','at','as','or','one','she','his','her','am',\n",
    "                 'were','you','pt','pm','by','be','had','your','this','date',\n",
    "                'from','there','an','that','p','are','have','has','h','but','o',\n",
    "                'namepattern','which','every','also','should','if','it','been','who','during', 'x']\n",
    "\n",
    "from sklearn.feature_extraction.text import CountVectorizer\n",
    "\n",
    "vect = CountVectorizer(lowercase = True, max_features = 3000, \n",
    "                       tokenizer = tokenizer_better,\n",
    "                      stop_words = my_new_stop_words)\n",
    "\n",
    "# This could take a while\n",
    "vect.fit(df_train.TEXT.values)\n",
    "\n",
    "X_train_tf = vect.transform(df_train.TEXT.values)\n",
    "X_valid_tf = vect.transform(df_valid.TEXT.values)\n",
    "X_test_tf = vect.transform(df_test.TEXT.values)\n",
    "\n",
    "y_train = df_train.OUTPUT_LABEL\n",
    "y_valid = df_valid.OUTPUT_LABEL\n",
    "y_test = df_test.OUTPUT_LABEL\n",
    "\n",
    "from sklearn.linear_model import LogisticRegression\n",
    "from sklearn.metrics import roc_curve\n",
    "from sklearn.metrics import roc_auc_score\n",
    "\n",
    "clf=LogisticRegression(C = 0.0001, penalty = 'l2', random_state = 42)\n",
    "clf.fit(X_train_tf, y_train)\n",
    "\n",
    "model = clf\n",
    "y_train_preds = model.predict_proba(X_train_tf)[:,1]\n",
    "y_valid_preds = model.predict_proba(X_valid_tf)[:,1]\n",
    "y_test_preds = model.predict_proba(X_test_tf)[:,1]"
   ]
  },
  {
   "cell_type": "code",
   "execution_count": 60,
   "metadata": {
    "scrolled": true
   },
   "outputs": [
    {
     "name": "stdout",
     "output_type": "stream",
     "text": [
      "Train prevalence(n = 4090): 0.500\n",
      "Valid prevalence(n = 6798): 0.069\n",
      "Test prevalence(n = 6798): 0.066\n",
      "Train AUC:0.745\n",
      "Valid AUC:0.709\n",
      "Test AUC:0.704\n",
      "Train accuracy:0.683\n",
      "Valid accuracy:0.672\n",
      "Test accuracy:0.681\n",
      "Train recall:0.644\n",
      "Valid recall:0.651\n",
      "Test recall:0.607\n",
      "Train precision:0.698\n",
      "Valid precision:0.129\n",
      "Test precision:0.120\n",
      "Train specificity:0.722\n",
      "Valid specificity:0.674\n",
      "Test specificity:0.686\n"
     ]
    },
    {
     "data": {
      "image/png": "[encoded data removed]",
      "text/plain": [
       "<matplotlib.figure.Figure at 0x8528a4a8>"
      ]
     },
     "metadata": {},
     "output_type": "display_data"
    }
   ],
   "source": [
    "fpr_train, tpr_train, thresholds_train = roc_curve(y_train, y_train_preds)\n",
    "fpr_valid, tpr_valid, thresholds_valid = roc_curve(y_valid, y_valid_preds)\n",
    "fpr_test, tpr_test, thresholds_test = roc_curve(y_test, y_test_preds)\n",
    "\n",
    "thresh = 0.5\n",
    "\n",
    "auc_train = roc_auc_score(y_train, y_train_preds)\n",
    "auc_valid = roc_auc_score(y_valid, y_valid_preds)\n",
    "auc_test = roc_auc_score(y_test, y_test_preds)\n",
    "\n",
    "print('Train prevalence(n = %d): %.3f'%(len(y_train),sum(y_train)/ len(y_train)))\n",
    "print('Valid prevalence(n = %d): %.3f'%(len(y_valid),sum(y_valid)/ len(y_valid)))\n",
    "print('Test prevalence(n = %d): %.3f'%(len(y_test),sum(y_test)/ len(y_test)))\n",
    "\n",
    "print('Train AUC:%.3f'%auc_train)\n",
    "print('Valid AUC:%.3f'%auc_valid)\n",
    "print('Test AUC:%.3f'%auc_test)\n",
    "\n",
    "print('Train accuracy:%.3f'%calc_accuracy(y_train, y_train_preds, thresh))\n",
    "print('Valid accuracy:%.3f'%calc_accuracy(y_valid, y_valid_preds, thresh))\n",
    "print('Test accuracy:%.3f'%calc_accuracy(y_test, y_test_preds, thresh))\n",
    "\n",
    "\n",
    "print('Train recall:%.3f'%calc_recall(y_train, y_train_preds, thresh))\n",
    "print('Valid recall:%.3f'%calc_recall(y_valid, y_valid_preds, thresh))\n",
    "print('Test recall:%.3f'%calc_recall(y_test, y_test_preds, thresh))\n",
    "\n",
    "print('Train precision:%.3f'%calc_precision(y_train, y_train_preds, thresh))\n",
    "print('Valid precision:%.3f'%calc_precision(y_valid, y_valid_preds, thresh))\n",
    "print('Test precision:%.3f'%calc_precision(y_test, y_test_preds, thresh))\n",
    "\n",
    "print('Train specificity:%.3f'%calc_specificity(y_train, y_train_preds, thresh))\n",
    "print('Valid specificity:%.3f'%calc_specificity(y_valid, y_valid_preds, thresh))\n",
    "print('Test specificity:%.3f'%calc_specificity(y_test, y_test_preds, thresh))\n",
    "\n",
    "plt.plot(fpr_train, tpr_train,'r-', label = 'Train AUC: %.2f'%auc_train)\n",
    "plt.plot(fpr_valid, tpr_valid,'b-',label = 'Valid AUC: %.2f'%auc_valid)\n",
    "plt.plot(fpr_test, tpr_test,'g-',label = 'Test AUC: %.2f'%auc_test)\n",
    "\n",
    "plt.plot([0,1],[0,1],'-k')\n",
    "plt.xlabel('False Positive Rate')\n",
    "plt.ylabel('True Positive Rate')\n",
    "plt.legend()\n",
    "plt.show()"
   ]
  },
  {
   "cell_type": "markdown",
   "metadata": {},
   "source": [
    "# some adaptations based on https://medium.com/@nwamaka_41565/predicting-hospital-readmission-using-nlp-5f0fe6f1a705 "
   ]
  },
  {
   "cell_type": "code",
   "execution_count": 167,
   "metadata": {},
   "outputs": [
    {
     "data": {
      "text/plain": [
       "Index(['SUBJECT_ID', 'HADM_ID', 'ADMITTIME', 'DISCHTIME', 'DAYS_NEXT_ADMIT',\n",
       "       'NEXT_ADMITTIME', 'ADMISSION_TYPE', 'DEATHTIME', 'TEXT',\n",
       "       'OUTPUT_LABEL'],\n",
       "      dtype='object')"
      ]
     },
     "execution_count": 167,
     "metadata": {},
     "output_type": "execute_result"
    }
   ],
   "source": [
    "df_train.columns\n"
   ]
  },
  {
   "cell_type": "code",
   "execution_count": 168,
   "metadata": {},
   "outputs": [],
   "source": [
    "# Convert CHARTDATE from string to a datetime format\n",
    "df_notes.CHARTDATE = pd.to_datetime(df_notes.CHARTDATE, format = '%Y-%m-%d', errors = 'coerce')\n",
    "# Convert CHARTTIME to datetime format\n",
    "df_notes.CHARTTIME = pd.to_datetime(df_notes.CHARTTIME, format = '%Y-%m-%d %H:%M:%S', errors = 'coerce')"
   ]
  },
  {
   "cell_type": "code",
   "execution_count": 169,
   "metadata": {},
   "outputs": [],
   "source": [
    "# Sort by subject_ID, CHARTDATE then CHARTTIME\n",
    "df_notes = df_notes.sort_values(['SUBJECT_ID','CHARTDATE', 'CHARTTIME'])\n",
    "df_notes = df_notes.reset_index(drop = True)"
   ]
  },
  {
   "cell_type": "code",
   "execution_count": 170,
   "metadata": {},
   "outputs": [],
   "source": [
    "# Copy over two columns to new dataframe\n",
    "df_subj_concat_notes = df_notes[['SUBJECT_ID', 'TEXT']].copy()"
   ]
  },
  {
   "cell_type": "code",
   "execution_count": 171,
   "metadata": {},
   "outputs": [],
   "source": [
    "df_subj_concat_notes = df_subj_concat_notes.groupby('SUBJECT_ID')['TEXT'].agg(' '.join).reset_index()\n",
    "# Rename the column in new dataframe to TEXT_CONCAT\n",
    "df_subj_concat_notes.rename(columns={\"TEXT\":\"TEXT_CONCAT\"}, inplace=True)"
   ]
  },
  {
   "cell_type": "code",
   "execution_count": 172,
   "metadata": {},
   "outputs": [],
   "source": [
    "assert df_subj_concat_notes.duplicated(['SUBJECT_ID']).sum() == 0, 'Dulpicate SUBJECT_IDs exist'"
   ]
  },
  {
   "cell_type": "code",
   "execution_count": 173,
   "metadata": {},
   "outputs": [],
   "source": [
    "df_adm_notes = pd.merge(df_adm[['SUBJECT_ID','HADM_ID','ADMITTIME','DISCHTIME','DAYS_NEXT_ADMIT','NEXT_ADMITTIME','ADMISSION_TYPE','DEATHTIME']],\n",
    "                        df_subj_concat_notes, \n",
    "                        on = ['SUBJECT_ID'],\n",
    "                        how = 'left')\n",
    "assert len(df_adm) == len(df_adm_notes), 'Number of rows increased'"
   ]
  },
  {
   "cell_type": "code",
   "execution_count": 174,
   "metadata": {},
   "outputs": [],
   "source": [
    "# Create new column of 1's or 0's based on DAYS_TIL_NEXT_ADMIT\n",
    "df_adm_notes['OUTPUT_LABEL'] = (df_adm_notes.DAYS_NEXT_ADMIT < 30).astype('int')"
   ]
  },
  {
   "cell_type": "code",
   "execution_count": 175,
   "metadata": {},
   "outputs": [
    {
     "name": "stdout",
     "output_type": "stream",
     "text": [
      "Number of positive samples: 3227\n",
      "Number of negative samples: 55749\n",
      "Total samples: 58976\n"
     ]
    }
   ],
   "source": [
    "print('Number of positive samples:', (df_adm_notes.OUTPUT_LABEL == 1).sum())\n",
    "print('Number of negative samples:', (df_adm_notes.OUTPUT_LABEL == 0).sum())\n",
    "print('Total samples:', len(df_adm_notes))"
   ]
  },
  {
   "cell_type": "code",
   "execution_count": 176,
   "metadata": {},
   "outputs": [],
   "source": [
    "# Take only the 3 essential columns\n",
    "df_adm_notes_squashed = df_adm_notes[['SUBJECT_ID', 'TEXT_CONCAT', 'OUTPUT_LABEL']]"
   ]
  },
  {
   "cell_type": "code",
   "execution_count": 177,
   "metadata": {},
   "outputs": [],
   "source": [
    "# group by subject id and get sum of output lables = 1 i.e. the number of times readmitted\n",
    "df_subj_labels_squashed = df_adm_notes_squashed.groupby('SUBJECT_ID')[['OUTPUT_LABEL']].sum().reset_index()"
   ]
  },
  {
   "cell_type": "code",
   "execution_count": 178,
   "metadata": {},
   "outputs": [],
   "source": [
    "# rename column\n",
    "df_subj_labels_squashed.rename(columns={\"OUTPUT_LABEL\":\"OUTPUT_LABELS_SUMMED\"}, inplace=True)"
   ]
  },
  {
   "cell_type": "code",
   "execution_count": 179,
   "metadata": {},
   "outputs": [],
   "source": [
    "# convert to a 0 or 1, so essentially those re-admitted multiple times are given the same label as those re-addmited once\n",
    "df_subj_labels_squashed['OUTPUT_LABEL'] = (df_subj_labels_squashed['OUTPUT_LABELS_SUMMED'] >= 1).astype(int)"
   ]
  },
  {
   "cell_type": "code",
   "execution_count": 180,
   "metadata": {},
   "outputs": [],
   "source": [
    "# drop the original summed label column\n",
    "df_subj_labels_squashed.drop(columns=['OUTPUT_LABELS_SUMMED'], inplace=True)"
   ]
  },
  {
   "cell_type": "code",
   "execution_count": 181,
   "metadata": {},
   "outputs": [
    {
     "name": "stderr",
     "output_type": "stream",
     "text": [
      "C:\\Users\\ntaylor\\Anaconda3\\envs\\deeplearning\\lib\\site-packages\\pandas\\core\\frame.py:3940: SettingWithCopyWarning: \n",
      "A value is trying to be set on a copy of a slice from a DataFrame\n",
      "\n",
      "See the caveats in the documentation: http://pandas.pydata.org/pandas-docs/stable/indexing.html#indexing-view-versus-copy\n",
      "  errors=errors)\n"
     ]
    }
   ],
   "source": [
    "# drop the original output label from the notes as we will use the newly formed output labels\n",
    "df_adm_notes_squashed.drop(columns=['OUTPUT_LABEL'], inplace=True)"
   ]
  },
  {
   "cell_type": "code",
   "execution_count": 182,
   "metadata": {},
   "outputs": [
    {
     "name": "stderr",
     "output_type": "stream",
     "text": [
      "C:\\Users\\ntaylor\\Anaconda3\\envs\\deeplearning\\lib\\site-packages\\ipykernel_launcher.py:1: SettingWithCopyWarning: \n",
      "A value is trying to be set on a copy of a slice from a DataFrame\n",
      "\n",
      "See the caveats in the documentation: http://pandas.pydata.org/pandas-docs/stable/indexing.html#indexing-view-versus-copy\n",
      "  \"\"\"Entry point for launching an IPython kernel.\n"
     ]
    }
   ],
   "source": [
    "df_adm_notes_squashed.drop_duplicates(subset='SUBJECT_ID', keep='first', inplace=True)"
   ]
  },
  {
   "cell_type": "code",
   "execution_count": 183,
   "metadata": {},
   "outputs": [
    {
     "name": "stdout",
     "output_type": "stream",
     "text": [
      "Length of df_adm_notes_squashed: 46520\n",
      "Length of df_subj_labels_squashed: 46520\n"
     ]
    }
   ],
   "source": [
    "print('Length of df_adm_notes_squashed:', len(df_adm_notes_squashed))\n",
    "print('Length of df_subj_labels_squashed:', len(df_subj_labels_squashed))"
   ]
  },
  {
   "cell_type": "code",
   "execution_count": 184,
   "metadata": {},
   "outputs": [],
   "source": [
    "df_adm_notes_merged = pd.merge(df_subj_labels_squashed[['SUBJECT_ID','OUTPUT_LABEL']],\n",
    "                        df_adm_notes_squashed, \n",
    "                        on = ['SUBJECT_ID'],\n",
    "                        how = 'left')\n",
    "assert len(df_subj_labels_squashed) == len(df_adm_notes_merged), 'Number of rows increased'"
   ]
  },
  {
   "cell_type": "code",
   "execution_count": 185,
   "metadata": {},
   "outputs": [],
   "source": [
    "df_adm_notes_merged = df_adm_notes_merged.sample(n=len(df_adm_notes_merged), random_state=42)\n",
    "df_adm_notes_merged = df_adm_notes_merged.reset_index(drop=True)"
   ]
  },
  {
   "cell_type": "code",
   "execution_count": 186,
   "metadata": {},
   "outputs": [],
   "source": [
    "df_valid_and_test = df_adm_notes_merged.sample(frac=0.20, random_state=42)\n",
    "df_test = df_valid_and_test.sample(frac=0.5, random_state=42)\n",
    "df_valid = df_valid_and_test.drop(df_test.index)\n",
    "df_train = df_adm_notes_merged.drop(df_valid_and_test.index)\n",
    "assert len(df_adm_notes_merged) == (len(df_test)+len(df_valid)+len(df_train)),\"Split wasn't done mathetmatically correct.\""
   ]
  },
  {
   "cell_type": "code",
   "execution_count": 188,
   "metadata": {},
   "outputs": [
    {
     "name": "stdout",
     "output_type": "stream",
     "text": [
      "83\n",
      "38\n",
      "45\n",
      "291\n"
     ]
    }
   ],
   "source": [
    "# check for any nan values still here - and there are\n",
    "\n",
    "print(sum(df_valid_and_test.TEXT_CONCAT.isna()))\n",
    "print(sum(df_valid.TEXT_CONCAT.isna()))\n",
    "print(sum(df_test.TEXT_CONCAT.isna()))\n",
    "print(sum(df_train.TEXT_CONCAT.isna()))"
   ]
  },
  {
   "cell_type": "code",
   "execution_count": 189,
   "metadata": {},
   "outputs": [
    {
     "data": {
      "text/plain": [
       "Index(['SUBJECT_ID', 'OUTPUT_LABEL', 'TEXT_CONCAT'], dtype='object')"
      ]
     },
     "execution_count": 189,
     "metadata": {},
     "output_type": "execute_result"
    }
   ],
   "source": [
    "df_train.columns"
   ]
  },
  {
   "cell_type": "code",
   "execution_count": 190,
   "metadata": {},
   "outputs": [],
   "source": [
    "def preprocess_concat_text(df):\n",
    "    # This function preprocesses the text by filling not a number and replacing new lines ('\\n') and carriage returns ('\\r')\n",
    "    df.TEXT_CONCAT = df.TEXT_CONCAT.fillna(' ')\n",
    "    df.TEXT_CONCAT =df.TEXT_CONCAT.str.replace('\\n',' ')\n",
    "    df.TEXT_CONCAT =df.TEXT_CONCAT.str.replace('\\r',' ')\n",
    "    return df\n",
    "\n",
    "# preprocess the text to deal with known issues\n",
    "df_train = preprocess_concat_text(df_train)\n",
    "df_valid = preprocess_concat_text(df_valid)\n",
    "df_test = preprocess_concat_text(df_test)\n"
   ]
  },
  {
   "cell_type": "code",
   "execution_count": 191,
   "metadata": {},
   "outputs": [
    {
     "name": "stdout",
     "output_type": "stream",
     "text": [
      "83\n",
      "0\n",
      "0\n",
      "0\n"
     ]
    }
   ],
   "source": [
    "print(sum(df_valid_and_test.TEXT_CONCAT.isna()))\n",
    "print(sum(df_valid.TEXT_CONCAT.isna()))\n",
    "print(sum(df_test.TEXT_CONCAT.isna()))\n",
    "print(sum(df_train.TEXT_CONCAT.isna()))"
   ]
  },
  {
   "cell_type": "code",
   "execution_count": 192,
   "metadata": {},
   "outputs": [
    {
     "name": "stdout",
     "output_type": "stream",
     "text": [
      "Training set prevalence (n = 37216): 5.34%\n",
      "Validation set prevalence (n = 4652): 5.78%\n",
      "Test set prevalence (n = 4652): 5.63%\n",
      "All samples (n = 46520)\n"
     ]
    }
   ],
   "source": [
    "print(\"Training set prevalence (n = {:d}):\".format(len(df_train)), \"{:.2f}%\".format((df_train.OUTPUT_LABEL.sum()/len(df_train))*100))\n",
    "print(\"Validation set prevalence (n = {:d}):\".format(len(df_valid)), \"{:.2f}%\".format((df_valid.OUTPUT_LABEL.sum()/len(df_valid))*100))\n",
    "print(\"Test set prevalence (n = {:d}):\".format(len(df_test)), \"{:.2f}%\".format((df_test.OUTPUT_LABEL.sum()/len(df_test))*100))\n",
    "print(\"All samples (n = {:d})\".format(len(df_adm_notes_merged)))"
   ]
  },
  {
   "cell_type": "code",
   "execution_count": 104,
   "metadata": {},
   "outputs": [],
   "source": [
    "def convert_tag(treebank_tag):\n",
    "    '''Convert Treebank tags to WordNet tags'''\n",
    "    if treebank_tag.startswith('J'):\n",
    "        return 'a'\n",
    "    elif treebank_tag.startswith('V'):\n",
    "        return 'v'\n",
    "    elif treebank_tag.startswith('N'):\n",
    "        return 'n'\n",
    "    elif treebank_tag.startswith('R'):\n",
    "        return 'r'\n",
    "    else:\n",
    "        return 'n' # if no match, default to noun"
   ]
  },
  {
   "cell_type": "code",
   "execution_count": 106,
   "metadata": {},
   "outputs": [],
   "source": [
    "def lemmatizer(tokens):\n",
    "    '''\n",
    "    Performs lemmatization.\n",
    "    Params:\n",
    "        tokens (list of strings): cleaned tokens with stopwords removed\n",
    "    Returns:\n",
    "        lemma_words (list of strings): lemmatized words\n",
    "    '''  \n",
    "    # POS-tag your data before lemmatizing\n",
    "    tagged_words = pos_tag(tokens) # outputs list of tuples [('recent', 'JJ'),...]\n",
    "    \n",
    "    \n",
    "def preprocess_and_tokenize(text):\n",
    "    '''\n",
    "    Clean the data.\n",
    "    Params:\n",
    "        text (string): full original, uncleaned text\n",
    "    Returns:\n",
    "        lemmatized_tokens (list of strings): cleaned words\n",
    "    '''\n",
    "    # Make text lowercase\n",
    "    text = text.lower()\n",
    "    \n",
    "    # Remove punctuation\n",
    "    text = re.sub('[%s]' % re.escape(string.punctuation), '', text)\n",
    "    \n",
    "    # Remove numbers and words that contain numbers\n",
    "    text = re.sub('\\w*\\d\\w*', '', text)\n",
    "    \n",
    "    # Remove newline chars and carriage returns\n",
    "    text = re.sub('\\n', '', text)\n",
    "    text = re.sub('\\r', '', text)\n",
    "    \n",
    "    # Tokenize\n",
    "    word_tokens = word_tokenize(text) \n",
    "    \n",
    "    # Remove stop words\n",
    "    tokens = [word for word in word_tokens if word not in stopwords.words('english')]\n",
    "# Call lemmatizer function above to perform lemmatization\n",
    "    lemmatized_tokens = lemmatizer(tokens)\n",
    "    \n",
    "    return lemmatized_tokens"
   ]
  },
  {
   "cell_type": "code",
   "execution_count": 196,
   "metadata": {},
   "outputs": [],
   "source": [
    "# vect = CountVectorizer(max_features=3000, tokenizer=preprocess_and_tokenize)\n",
    "\n",
    "my_new_stop_words = ['the','and','to','of','was','with','a','on','in','for','name',\n",
    "                 'is','patient','s','he','at','as','or','one','she','his','her','am',\n",
    "                 'were','you','pt','pm','by','be','had','your','this','date',\n",
    "                'from','there','an','that','p','are','have','has','h','but','o',\n",
    "                'namepattern','which','every','also','should','if','it','been','who','during', 'x']\n",
    "\n",
    "from sklearn.feature_extraction.text import CountVectorizer\n",
    "\n",
    "vect = CountVectorizer(lowercase = True, max_features = 3000, \n",
    "                       tokenizer = tokenizer_better,\n",
    "                      stop_words = my_new_stop_words)\n",
    "\n"
   ]
  },
  {
   "cell_type": "code",
   "execution_count": 119,
   "metadata": {},
   "outputs": [],
   "source": [
    "from nltk import pos_tag\n",
    "from nltk.stem import WordNetLemmatizer # lemmatizes word based on its parts of speech\n",
    "from nltk.corpus import stopwords"
   ]
  },
  {
   "cell_type": "code",
   "execution_count": 124,
   "metadata": {},
   "outputs": [
    {
     "data": {
      "text/plain": [
       "291"
      ]
     },
     "execution_count": 124,
     "metadata": {},
     "output_type": "execute_result"
    }
   ],
   "source": [
    "sum(df_train.TEXT_CONCAT.isna())"
   ]
  },
  {
   "cell_type": "code",
   "execution_count": 127,
   "metadata": {},
   "outputs": [
    {
     "data": {
      "text/plain": [
       "45"
      ]
     },
     "execution_count": 127,
     "metadata": {},
     "output_type": "execute_result"
    }
   ],
   "source": [
    "sum(df_test.TEXT_CONCAT.isna())"
   ]
  },
  {
   "cell_type": "code",
   "execution_count": 197,
   "metadata": {},
   "outputs": [
    {
     "data": {
      "text/plain": [
       "CountVectorizer(max_features=3000,\n",
       "                stop_words=['the', 'and', 'to', 'of', 'was', 'with', 'a', 'on',\n",
       "                            'in', 'for', 'name', 'is', 'patient', 's', 'he',\n",
       "                            'at', 'as', 'or', 'one', 'she', 'his', 'her', 'am',\n",
       "                            'were', 'you', 'pt', 'pm', 'by', 'be', 'had', ...],\n",
       "                tokenizer=<function tokenizer_better at 0x000001CB817C7950>)"
      ]
     },
     "execution_count": 197,
     "metadata": {},
     "output_type": "execute_result"
    }
   ],
   "source": [
    "# create the vectorizer\n",
    "vect.fit(df_train.TEXT_CONCAT.values)"
   ]
  },
  {
   "cell_type": "code",
   "execution_count": null,
   "metadata": {},
   "outputs": [],
   "source": [
    "\n"
   ]
  },
  {
   "cell_type": "code",
   "execution_count": 1,
   "metadata": {},
   "outputs": [],
   "source": [
    "# nltk.download('stopwords')\n",
    "# nltk.download('averaged_perceptron_tagger')"
   ]
  },
  {
   "cell_type": "code",
   "execution_count": 6,
   "metadata": {},
   "outputs": [
    {
     "data": {
      "image/png": "[encoded data removed]",
      "text/plain": [
       "<Figure size 432x288 with 1 Axes>"
      ]
     },
     "metadata": {
      "needs_background": "light"
     },
     "output_type": "display_data"
    }
   ],
   "source": [
    "import matplotlib.pyplot as plt\n",
    "test = [0.54, 0.5, 0.3, 0.5, 0.6]\n",
    "plt.plot(test)\n",
    "plt.show()"
   ]
  },
  {
   "cell_type": "code",
   "execution_count": null,
   "metadata": {},
   "outputs": [],
   "source": []
  }
 ],
 "metadata": {
  "kernelspec": {
   "display_name": "Python 3",
   "language": "python",
   "name": "python3"
  },
  "language_info": {
   "codemirror_mode": {
    "name": "ipython",
    "version": 3
   },
   "file_extension": ".py",
   "mimetype": "text/x-python",
   "name": "python",
   "nbconvert_exporter": "python",
   "pygments_lexer": "ipython3",
   "version": "3.7.10"
  }
 },
 "nbformat": 4,
 "nbformat_minor": 2
}
