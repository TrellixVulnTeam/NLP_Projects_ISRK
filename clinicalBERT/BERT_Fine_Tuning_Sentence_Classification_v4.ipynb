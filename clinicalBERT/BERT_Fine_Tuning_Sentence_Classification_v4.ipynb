{
 "cells": [
  {
   "cell_type": "markdown",
   "metadata": {
    "id": "EKOTlwcmxmej"
   },
   "source": [
    "# BERT Fine-Tuning Tutorial with PyTorch\n",
    "\n",
    "By Chris McCormick and Nick Ryan"
   ]
  },
  {
   "cell_type": "markdown",
   "metadata": {
    "id": "MPgpITmdwvX0"
   },
   "source": [
    "*Revised on March 20, 2020 - Switched to `tokenizer.encode_plus` and added validation loss. See [Revision History](https://colab.research.google.com/drive/1pTuQhug6Dhl9XalKB0zUGf4FIdYFlpcX#scrollTo=IKzLS9ohzGVu) at the end for details.*\n",
    "\n",
    "\n"
   ]
  },
  {
   "cell_type": "markdown",
   "metadata": {
    "id": "BJR6t_gCQe_x"
   },
   "source": [
    "In this tutorial I'll show you how to use BERT with the huggingface PyTorch library to quickly and efficiently fine-tune a model to get near state of the art performance in sentence classification. More broadly, I describe the practical application of transfer learning in NLP to create high performance models with minimal effort on a range of NLP tasks.\n",
    "\n",
    "This post is presented in two forms--as a blog post [here](http://mccormickml.com/2019/07/22/BERT-fine-tuning/) and as a Colab Notebook [here](https://colab.research.google.com/drive/1pTuQhug6Dhl9XalKB0zUGf4FIdYFlpcX). \n",
    "\n",
    "The content is identical in both, but: \n",
    "* The blog post includes a comments section for discussion. \n",
    "* The Colab Notebook will allow you to run the code and inspect it as you read through.\n",
    "\n",
    "I've also published a video walkthrough of this post on my YouTube channel! [Part 1](https://youtu.be/x66kkDnbzi4) and [Part 2](https://youtu.be/Hnvb9b7a_Ps).\n",
    "\n"
   ]
  },
  {
   "cell_type": "markdown",
   "metadata": {
    "id": "jrC9__lXxTJz"
   },
   "source": [
    "# Contents"
   ]
  },
  {
   "cell_type": "markdown",
   "metadata": {
    "id": "p9MCBOq4xUpr"
   },
   "source": [
    "See \"Table of contents\" in the sidebar to the left."
   ]
  },
  {
   "cell_type": "markdown",
   "metadata": {
    "id": "ADkUGTqixRWo"
   },
   "source": [
    "# Introduction"
   ]
  },
  {
   "cell_type": "markdown",
   "metadata": {
    "id": "L9vxxTBsuL24"
   },
   "source": [
    "\n",
    "## History\n",
    "\n",
    "2018 was a breakthrough year in NLP. Transfer learning, particularly models like Allen AI's ELMO, OpenAI's Open-GPT, and Google's BERT allowed researchers to smash multiple benchmarks with minimal task-specific fine-tuning and provided the rest of the NLP community with pretrained models that could easily (with less data and less compute time) be fine-tuned and implemented to produce state of the art results. Unfortunately, for many starting out in NLP and even for some experienced practicioners, the theory and practical application of these powerful models is still not well understood.\n"
   ]
  },
  {
   "cell_type": "markdown",
   "metadata": {
    "id": "qCgvR9INuP5q"
   },
   "source": [
    "\n",
    "## What is BERT?\n",
    "\n",
    "BERT (Bidirectional Encoder Representations from Transformers), released in late 2018, is the model we will use in this tutorial to provide readers with a better understanding of and practical guidance for using transfer learning models in NLP. BERT is a method of pretraining language representations that was used to create models that NLP practicioners can then download and use for free. You can either use these models to extract high quality language features from your text data, or you can fine-tune these models on a specific task (classification, entity recognition, question answering, etc.) with your own data to produce state of the art predictions.\n",
    "\n",
    "This post will explain how you can modify and fine-tune BERT to create a powerful NLP model that quickly gives you state of the art results. \n"
   ]
  },
  {
   "cell_type": "markdown",
   "metadata": {
    "id": "DaVGdtOkuXUZ"
   },
   "source": [
    "\n",
    "## Advantages of Fine-Tuning\n"
   ]
  },
  {
   "cell_type": "markdown",
   "metadata": {
    "id": "5llwu8GBuqMb"
   },
   "source": [
    "\n",
    "In this tutorial, we will use BERT to train a text classifier. Specifically, we will take the pre-trained BERT model, add an untrained layer of neurons on the end, and train the new model for our classification task. Why do this rather than train a train a specific deep learning model (a CNN, BiLSTM, etc.) that is well suited for the specific NLP task you need? \n",
    "\n",
    "1. **Quicker Development**\n",
    "\n",
    "    * First, the pre-trained BERT model weights already encode a lot of information about our language. As a result, it takes much less time to train our fine-tuned model - it is as if we have already trained the bottom layers of our network extensively and only need to gently tune them while using their output as features for our classification task. In fact, the authors recommend only 2-4 epochs of training for fine-tuning BERT on a specific NLP task (compared to the hundreds of GPU hours needed to train the original BERT model or a LSTM from scratch!). \n",
    "\n",
    "2. **Less Data**\n",
    "\n",
    "    * In addition and perhaps just as important, because of the pre-trained weights this method allows us to fine-tune our task on a much smaller dataset than would be required in a model that is built from scratch. A major drawback of NLP models built from scratch is that we often need a prohibitively large dataset in order to train our network to reasonable accuracy, meaning a lot of time and energy had to be put into dataset creation. By fine-tuning BERT, we are now able to get away with training a model to good performance on a much smaller amount of training data.\n",
    "\n",
    "3. **Better Results**\n",
    "\n",
    "    * Finally, this simple fine-tuning procedure (typically adding one fully-connected layer on top of BERT and training for a few epochs) was shown to achieve state of the art results with minimal task-specific adjustments for a wide variety of tasks: classification, language inference, semantic similarity, question answering, etc. Rather than implementing custom and sometimes-obscure architetures shown to work well on a specific task, simply fine-tuning BERT is shown to be a better (or at least equal) alternative.\n"
   ]
  },
  {
   "cell_type": "markdown",
   "metadata": {
    "id": "ZEynC5F4u7Nb"
   },
   "source": [
    "\n",
    "### A Shift in NLP\n",
    "\n",
    "This shift to transfer learning parallels the same shift that took place in computer vision a few years ago. Creating a good deep learning network for computer vision tasks can take millions of parameters and be very expensive to train. Researchers discovered that deep networks learn hierarchical feature representations (simple features like edges at the lowest layers with gradually more complex features at higher layers). Rather than training a new network from scratch each time, the lower layers of a trained network with generalized image features could be copied and transfered for use in another network with a different task. It soon became common practice to download a pre-trained deep network and quickly retrain it for the new task or add additional layers on top - vastly preferable to the expensive process of training a network from scratch. For many, the introduction of deep pre-trained language models in 2018 (ELMO, BERT, ULMFIT, Open-GPT, etc.) signals the same shift to transfer learning in NLP that computer vision saw.\n",
    "\n",
    "Let's get started!"
   ]
  },
  {
   "cell_type": "markdown",
   "metadata": {
    "id": "2-Th8bRio6A4"
   },
   "source": [
    "\n",
    "[![BERT eBook Display Ad](https://drive.google.com/uc?export=view&id=1d6L584QYqpREpRIwAZ55Wsq8AUs5qSk1)](https://bit.ly/30JzuBH)\n"
   ]
  },
  {
   "cell_type": "markdown",
   "metadata": {
    "id": "RX_ZDhicpHkV"
   },
   "source": [
    "# 1. Setup"
   ]
  },
  {
   "cell_type": "markdown",
   "metadata": {
    "id": "nSU7yERLP_66"
   },
   "source": [
    "## 1.1. Using Colab GPU for Training\n"
   ]
  },
  {
   "cell_type": "markdown",
   "metadata": {
    "id": "GI0iOY8zvZzL"
   },
   "source": [
    "\n",
    "Google Colab offers free GPUs and TPUs! Since we'll be training a large neural network it's best to take advantage of this (in this case we'll attach a GPU), otherwise training will take a very long time.\n",
    "\n",
    "A GPU can be added by going to the menu and selecting:\n",
    "\n",
    "`Edit 🡒 Notebook Settings 🡒 Hardware accelerator 🡒 (GPU)`\n",
    "\n",
    "Then run the following cell to confirm that the GPU is detected."
   ]
  },
  {
   "cell_type": "code",
   "execution_count": 3,
   "metadata": {
    "colab": {
     "base_uri": "https://localhost:8080/"
    },
    "id": "DEfSbAA4QHas",
    "outputId": "4ef6084c-1b3b-4f8e-b8dd-92422875a242"
   },
   "outputs": [],
   "source": [
    "# import tensorflow as tf\n",
    "\n",
    "# # Get the GPU device name.\n",
    "# device_name = tf.test.gpu_device_name()\n",
    "\n",
    "# # The device name should look like the following:\n",
    "# if device_name == '/device:GPU:0':\n",
    "#     print('Found GPU at: {}'.format(device_name))\n",
    "# else:\n",
    "#     raise SystemError('GPU device not found')"
   ]
  },
  {
   "cell_type": "markdown",
   "metadata": {
    "id": "cqG7FzRVFEIv"
   },
   "source": [
    "In order for torch to use the GPU, we need to identify and specify the GPU as the device. Later, in our training loop, we will load data onto the device. "
   ]
  },
  {
   "cell_type": "code",
   "execution_count": 13,
   "metadata": {
    "colab": {
     "base_uri": "https://localhost:8080/"
    },
    "id": "oYsV4H8fCpZ-",
    "outputId": "2e60467d-6a6b-4898-e2f4-f42884cc6092"
   },
   "outputs": [
    {
     "name": "stdout",
     "output_type": "stream",
     "text": [
      "There are 1 GPU(s) available.\n",
      "We will use the GPU: NVIDIA GeForce GTX 1050 Ti with Max-Q Design\n"
     ]
    }
   ],
   "source": [
    "import torch\n",
    "import matplotlib.pyplot as plt\n",
    "import os\n",
    "\n",
    "# If there's a GPU available...\n",
    "if torch.cuda.is_available():    \n",
    "\n",
    "    # Tell PyTorch to use the GPU.    \n",
    "    device = torch.device(\"cuda\")\n",
    "\n",
    "    print('There are %d GPU(s) available.' % torch.cuda.device_count())\n",
    "\n",
    "    print('We will use the GPU:', torch.cuda.get_device_name(0))\n",
    "\n",
    "# If not...\n",
    "else:\n",
    "    print('No GPU available, using the CPU instead.')\n",
    "    device = torch.device(\"cpu\")"
   ]
  },
  {
   "cell_type": "code",
   "execution_count": null,
   "metadata": {},
   "outputs": [],
   "source": []
  },
  {
   "cell_type": "markdown",
   "metadata": {
    "id": "2ElsnSNUridI"
   },
   "source": [
    "## 1.2. Installing the Hugging Face Library\n"
   ]
  },
  {
   "cell_type": "markdown",
   "metadata": {
    "id": "G_N2UDLevYWn"
   },
   "source": [
    "\n",
    "Next, let's install the [transformers](https://github.com/huggingface/transformers) package from Hugging Face which will give us a pytorch interface for working with BERT. (This library contains interfaces for other pretrained language models like OpenAI's GPT and GPT-2.) We've selected the pytorch interface because it strikes a nice balance between the high-level APIs (which are easy to use but don't provide insight into how things work) and tensorflow code (which contains lots of details but often sidetracks us into lessons about tensorflow, when the purpose here is BERT!).\n",
    "\n",
    "At the moment, the Hugging Face library seems to be the most widely accepted and powerful pytorch interface for working with BERT. In addition to supporting a variety of different pre-trained transformer models, the library also includes pre-built modifications of these models suited to your specific task. For example, in this tutorial we will use `BertForSequenceClassification`.\n",
    "\n",
    "The library also includes task-specific classes for token classification, question answering, next sentence prediciton, etc. Using these pre-built classes simplifies the process of modifying BERT for your purposes.\n"
   ]
  },
  {
   "cell_type": "code",
   "execution_count": 4,
   "metadata": {
    "colab": {
     "base_uri": "https://localhost:8080/"
    },
    "id": "0NmMdkZO8R6q",
    "outputId": "5a35e119-1349-4c99-8ec5-37da3fe09833"
   },
   "outputs": [],
   "source": [
    "# !pip install transformers"
   ]
  },
  {
   "cell_type": "markdown",
   "metadata": {
    "id": "lxddqmruamSj"
   },
   "source": [
    "The code in this notebook is actually a simplified version of the [run_glue.py](https://github.com/huggingface/transformers/blob/master/examples/run_glue.py) example script from huggingface.\n",
    "\n",
    "`run_glue.py` is a helpful utility which allows you to pick which GLUE benchmark task you want to run on, and which pre-trained model you want to use (you can see the list of possible models [here](https://github.com/huggingface/transformers/blob/e6cff60b4cbc1158fbd6e4a1c3afda8dc224f566/examples/run_glue.py#L69)). It also supports using either the CPU, a single GPU, or multiple GPUs. It even supports using 16-bit precision if you want further speed up.\n",
    "\n",
    "Unfortunately, all of this configurability comes at the cost of *readability*. In this Notebook, we've simplified the code greatly and added plenty of comments to make it clear what's going on. "
   ]
  },
  {
   "cell_type": "markdown",
   "metadata": {
    "id": "guw6ZNtaswKc"
   },
   "source": [
    "# 2. Loading Train and Val datasets\n"
   ]
  },
  {
   "cell_type": "markdown",
   "metadata": {
    "id": "_9ZKxKc04Btk"
   },
   "source": [
    "\n"
   ]
  },
  {
   "cell_type": "markdown",
   "metadata": {
    "id": "oQUy9Tat2EF_"
   },
   "source": [
    "## 2.2. Parse"
   ]
  },
  {
   "cell_type": "markdown",
   "metadata": {
    "id": "xeyVCXT31EZQ"
   },
   "source": [
    "We can see from the file names that both `tokenized` and `raw` versions of the data are available. \n",
    "\n",
    "We can't use the pre-tokenized version because, in order to apply the pre-trained BERT, we *must* use the tokenizer provided by the model. This is because (1) the model has a specific, fixed vocabulary and (2) the BERT tokenizer has a particular way of handling out-of-vocabulary words."
   ]
  },
  {
   "cell_type": "markdown",
   "metadata": {
    "id": "MYWzeGSY2xh3"
   },
   "source": [
    "We'll use pandas to parse the \"in-domain\" training set and look at a few of its properties and data points."
   ]
  },
  {
   "cell_type": "code",
   "execution_count": 2,
   "metadata": {
    "colab": {
     "base_uri": "https://localhost:8080/",
     "height": 429
    },
    "id": "_UkeC7SG2krJ",
    "outputId": "570f1a76-f163-41e1-b8f5-073bd969f737"
   },
   "outputs": [],
   "source": [
    "import pandas as pd\n",
    "\n",
    "# # # Load the dataset into a pandas dataframe.\n",
    "# # df = pd.read_csv(\"./cola_public/raw/in_domain_train.tsv\", delimiter='\\t', header=None, names=['sentence_source', 'label', 'label_notes', 'sentence'])\n",
    "# df = pd.read_csv(\"./data/3days/train.csv\")\n",
    "\n",
    "# val_df = pd.read_csv(\"./data/3days/val.csv\")\n",
    "# # Report the number of sentences.\n",
    "# print('Number of training sentences: {:,}\\n'.format(df.shape[0]))\n",
    "# print(f'Number of validation sentenced: {val_df.shape[0]}')\n",
    "\n",
    "# # Display 10 random rows from the data.\n",
    "# df.sample(10)\n",
    "\n"
   ]
  },
  {
   "cell_type": "code",
   "execution_count": 20,
   "metadata": {},
   "outputs": [
    {
     "data": {
      "text/plain": [
       "Unnamed: 0      int64\n",
       "ID            float64\n",
       "TEXT           object\n",
       "Label         float64\n",
       "dtype: object"
      ]
     },
     "execution_count": 20,
     "metadata": {},
     "output_type": "execute_result"
    }
   ],
   "source": [
    "# df.dtypes"
   ]
  },
  {
   "cell_type": "code",
   "execution_count": null,
   "metadata": {},
   "outputs": [],
   "source": [
    "# val.sample(10)"
   ]
  },
  {
   "cell_type": "markdown",
   "metadata": {
    "id": "kfWzpPi92UAH"
   },
   "source": [
    "The two properties we actually care about are the the `sentence` and its `label`, which is referred to as the \"acceptibility judgment\" (0=unacceptable, 1=acceptable)."
   ]
  },
  {
   "cell_type": "markdown",
   "metadata": {
    "id": "H_LpQfzCn9_o"
   },
   "source": [
    "Here are five sentences which are labeled as not grammatically acceptible. Note how much more difficult this task is than something like sentiment analysis!"
   ]
  },
  {
   "cell_type": "code",
   "execution_count": 8,
   "metadata": {
    "colab": {
     "base_uri": "https://localhost:8080/",
     "height": 195
    },
    "id": "blqIvQaQncdJ",
    "outputId": "ea5e6a0b-23b0-42d6-9b05-0e136f6ee5b9"
   },
   "outputs": [
    {
     "data": {
      "text/html": [
       "<div>\n",
       "<style scoped>\n",
       "    .dataframe tbody tr th:only-of-type {\n",
       "        vertical-align: middle;\n",
       "    }\n",
       "\n",
       "    .dataframe tbody tr th {\n",
       "        vertical-align: top;\n",
       "    }\n",
       "\n",
       "    .dataframe thead th {\n",
       "        text-align: right;\n",
       "    }\n",
       "</style>\n",
       "<table border=\"1\" class=\"dataframe\">\n",
       "  <thead>\n",
       "    <tr style=\"text-align: right;\">\n",
       "      <th></th>\n",
       "      <th>TEXT</th>\n",
       "      <th>Label</th>\n",
       "    </tr>\n",
       "  </thead>\n",
       "  <tbody>\n",
       "    <tr>\n",
       "      <th>30661</th>\n",
       "      <td>sinus arrhythmia left axis deviation - anterio...</td>\n",
       "      <td>0.0</td>\n",
       "    </tr>\n",
       "    <tr>\n",
       "      <th>46267</th>\n",
       "      <td>1-9 1615 hct recieving lr @ 75 ml/hr presently...</td>\n",
       "      <td>0.0</td>\n",
       "    </tr>\n",
       "    <tr>\n",
       "      <th>25525</th>\n",
       "      <td>sinus rhythm. normal tracing. no previous trac...</td>\n",
       "      <td>0.0</td>\n",
       "    </tr>\n",
       "    <tr>\n",
       "      <th>21188</th>\n",
       "      <td>1,000 ml 600 ml blood products: total out: 0 m...</td>\n",
       "      <td>0.0</td>\n",
       "    </tr>\n",
       "    <tr>\n",
       "      <th>37456</th>\n",
       "      <td>tsicu npn 7p-7a s/o- pt sedated over night on ...</td>\n",
       "      <td>0.0</td>\n",
       "    </tr>\n",
       "  </tbody>\n",
       "</table>\n",
       "</div>"
      ],
      "text/plain": [
       "                                                    TEXT  Label\n",
       "30661  sinus arrhythmia left axis deviation - anterio...    0.0\n",
       "46267  1-9 1615 hct recieving lr @ 75 ml/hr presently...    0.0\n",
       "25525  sinus rhythm. normal tracing. no previous trac...    0.0\n",
       "21188  1,000 ml 600 ml blood products: total out: 0 m...    0.0\n",
       "37456  tsicu npn 7p-7a s/o- pt sedated over night on ...    0.0"
      ]
     },
     "execution_count": 8,
     "metadata": {},
     "output_type": "execute_result"
    }
   ],
   "source": [
    "# df.loc[df.Label == 0].sample(5)[['TEXT', 'Label']]"
   ]
  },
  {
   "cell_type": "markdown",
   "metadata": {
    "id": "4SMZ5T5Imhlx"
   },
   "source": [
    "\n",
    "\n",
    "Let's extract the sentences and labels of our training set as numpy ndarrays."
   ]
  },
  {
   "cell_type": "code",
   "execution_count": 3,
   "metadata": {
    "id": "GuE5BqICAne2"
   },
   "outputs": [],
   "source": [
    "# # Get the lists of sentences and their labels.\n",
    "# sentences = df.TEXT.values\n",
    "# labels = df.Label.values"
   ]
  },
  {
   "cell_type": "code",
   "execution_count": null,
   "metadata": {},
   "outputs": [],
   "source": []
  },
  {
   "cell_type": "markdown",
   "metadata": {
    "id": "ex5O1eV-Pfct"
   },
   "source": [
    "# 3. Tokenization & Input Formatting\n",
    "\n",
    "In this section, we'll transform our dataset into the format that BERT can be trained on."
   ]
  },
  {
   "cell_type": "markdown",
   "metadata": {
    "id": "-8kEDRvShcU5"
   },
   "source": [
    "## 3.1. BERT Tokenizer"
   ]
  },
  {
   "cell_type": "markdown",
   "metadata": {
    "id": "bWOPOyWghJp2"
   },
   "source": [
    "\n",
    "To feed our text to BERT, it must be split into tokens, and then these tokens must be mapped to their index in the tokenizer vocabulary.\n",
    "\n",
    "The tokenization must be performed by the tokenizer included with BERT--the below cell will download this for us. We'll be using the \"uncased\" version here.\n"
   ]
  },
  {
   "cell_type": "code",
   "execution_count": 3,
   "metadata": {
    "colab": {
     "base_uri": "https://localhost:8080/",
     "height": 84,
     "referenced_widgets": [
      "82ddfcea0e4c4e5a86cf6eca8585be8d",
      "8a256ba4a19e4ec98fe3c3c99fba4daa",
      "8c76faadf2f4415393c6f0a805f0d72b",
      "e0bb735fda99434a90380e7fc664212d",
      "cdb78e75309f4bc09366533331e72431",
      "1058e0b5baa248faa60c1ad146d10bf7",
      "375cc635389c4ddb9bf2aa443df58bae",
      "472198d5b6a748b3a81f9364fd1fa711"
     ]
    },
    "id": "Z474sSC6oe7A",
    "outputId": "4e6d97b6-2d4c-42ca-c201-d2b4a88895b9"
   },
   "outputs": [
    {
     "name": "stdout",
     "output_type": "stream",
     "text": [
      "Loading BERT tokenizer...\n"
     ]
    }
   ],
   "source": [
    "from transformers import BertTokenizer\n",
    "\n",
    "# Load the BERT tokenizer.\n",
    "print('Loading BERT tokenizer...')\n",
    "# tokenizer = BertTokenizer.from_pretrained('bert-base-uncased', do_lower_case=True)\n",
    "tokenizer = BertTokenizer.from_pretrained(\"emilyalsentzer/Bio_ClinicalBERT\")"
   ]
  },
  {
   "cell_type": "code",
   "execution_count": 10,
   "metadata": {},
   "outputs": [],
   "source": [
    "# tokenizer = BertTokenizer.from_pretrained(\"./model/pretraining/\")"
   ]
  },
  {
   "cell_type": "markdown",
   "metadata": {
    "id": "dFzmtleW6KmJ"
   },
   "source": [
    "Let's apply the tokenizer to one sentence just to see the output.\n"
   ]
  },
  {
   "cell_type": "code",
   "execution_count": 11,
   "metadata": {
    "colab": {
     "base_uri": "https://localhost:8080/"
    },
    "id": "dLIbudgfh6F0",
    "outputId": "9ca681ff-195f-4960-a0ba-55ded440278e"
   },
   "outputs": [
    {
     "name": "stdout",
     "output_type": "stream",
     "text": [
      " Original:  have a significant family history of cancer. occupation: drugs: tobacco: alcohol: other: (per omr): the patient is a previous mechanical engineer. he smoked occasionally but quit 35 years ago. he denies any alcohol use. lives alone and is independent. no close relatives in the area. siblings in . review of systems: flowsheet data as of 10:26 pm vital signs hemodynamic monitoring fluid balance 24 hours since am tmax: 6 c (8 tcurrent: 6 c (8 hr: 106 (106 - 121) bpm bp: 129/59(72) {129/58(72) - 130/59(78)} mmhg rr: 19 (19 - 28) insp/min spo2: 95% heart rhythm: st (sinus tachycardia) total in: 382 ml po: tf: ivf: 7 ml blood products: 375 ml total out: 0 ml 210 ml urine: 210 ml ng: stool: drains: balance: 0 ml 172 ml respiratory o2 delivery device: nasal cannula spo2: 95% physical examination vitals: t: 8 bp:130/70 p:113 r: 18 o2: 97on 4l nc general: alert, oriented, no acute distress heent: sclera anicteric, mmm, oropharynx clear neck: supple, jvp 3cm above clavicle, no lad lungs: wheezes anteriorly with rales at bilateral bases cv: tachycardic, irregularly irregular, no murmurs, rubs, gallops abdomen: soft, non-tender, non-distended, bowel sounds present, no rebound tenderness or guarding, no organomegaly gu: no foley ext: warm, well perfused, edema bilaterally to shins. left foot erythematous, warm, slight ttp labs / radiology fluid analysis / other labs: notable for: hct 6 bnp 6751 ck 39 trop 04 mb not done bun/creatinine 39/1 lactate 0 imaging: ct abd/pelvis (wet read - ? error given comment on only lungs . . .) no small bowel obstruction. tree-in- opacities in right middle and bilateral lower lobes, infectious/inflammatory in nature, could represent aspiration. bibasilar atelectasis, but out of proportion to small bilateral pleural effusions, may represent infectious consolidations also. anemia. . echo (): the left atrium is normal in size. the estimated right atrial pressure is 0-5 mmhg. left ventricular wall thicknesses and\n",
      "Tokenized:  ['have', 'a', 'significant', 'family', 'history', 'of', 'cancer', '.', 'occupation', ':', 'drugs', ':', 'tobacco', ':', 'alcohol', ':', 'other', ':', '(', 'per', 'o', '##m', '##r', ')', ':', 'the', 'patient', 'is', 'a', 'previous', 'mechanical', 'engineer', '.', 'he', 'smoked', 'occasionally', 'but', 'quit', '35', 'years', 'ago', '.', 'he', 'denies', 'any', 'alcohol', 'use', '.', 'lives', 'alone', 'and', 'is', 'independent', '.', 'no', 'close', 'relatives', 'in', 'the', 'area', '.', 'siblings', 'in', '.', 'review', 'of', 'systems', ':', 'flows', '##hee', '##t', 'data', 'as', 'of', '10', ':', '26', 'pm', 'vital', 'signs', 'hem', '##ody', '##nam', '##ic', 'monitoring', 'fluid', 'balance', '24', 'hours', 'since', 'am', 't', '##max', ':', '6', 'c', '(', '8', 't', '##current', ':', '6', 'c', '(', '8', 'h', '##r', ':', '106', '(', '106', '-', '121', ')', 'b', '##pm', 'b', '##p', ':', '129', '/', '59', '(', '72', ')', '{', '129', '/', '58', '(', '72', ')', '-', '130', '/', '59', '(', '78', ')', '}', 'mm', '##h', '##g', 'r', '##r', ':', '19', '(', '19', '-', '28', ')', 'ins', '##p', '/', 'min', 's', '##po', '##2', ':', '95', '%', 'heart', 'rhythm', ':', 's', '##t', '(', 'sin', '##us', 'ta', '##chy', '##card', '##ia', ')', 'total', 'in', ':', '38', '##2', 'm', '##l', 'p', '##o', ':', 't', '##f', ':', 'i', '##v', '##f', ':', '7', 'm', '##l', 'blood', 'products', ':', '375', 'm', '##l', 'total', 'out', ':', '0', 'm', '##l', '210', 'm', '##l', 'urine', ':', '210', 'm', '##l', 'ng', ':', 'stool', ':', 'drains', ':', 'balance', ':', '0', 'm', '##l', '172', 'm', '##l', 'respiratory', 'o', '##2', 'delivery', 'device', ':', 'nasal', 'can', '##nu', '##la', 's', '##po', '##2', ':', '95', '%', 'physical', 'examination', 'vital', '##s', ':', 't', ':', '8', 'b', '##p', ':', '130', '/', '70', 'p', ':', '113', 'r', ':', '18', 'o', '##2', ':', '97', '##on', '4', '##l', 'n', '##c', 'general', ':', 'alert', ',', 'oriented', ',', 'no', 'acute', 'distress', 'he', '##ent', ':', 's', '##cle', '##ra', 'an', '##ict', '##eric', ',', 'mm', '##m', ',', 'or', '##op', '##har', '##ynx', 'clear', 'neck', ':', 'su', '##pp', '##le', ',', 'j', '##v', '##p', '3', '##c', '##m', 'above', 'c', '##lav', '##icle', ',', 'no', 'lad', 'lungs', ':', 'w', '##hee', '##zes', 'anterior', '##ly', 'with', 'r', '##ales', 'at', 'bilateral', 'bases', 'c', '##v', ':', 'ta', '##chy', '##card', '##ic', ',', 'irregular', '##ly', 'irregular', ',', 'no', 'murmurs', ',', 'rub', '##s', ',', 'gal', '##lops', 'abdomen', ':', 'soft', ',', 'non', '-', 'tender', ',', 'non', '-', 'di', '##sten', '##ded', ',', 'bow', '##el', 'sounds', 'present', ',', 'no', 're', '##bound', 'tender', '##ness', 'or', 'guarding', ',', 'no', 'organ', '##ome', '##gal', '##y', 'g', '##u', ':', 'no', 'f', '##ole', '##y', 'ex', '##t', ':', 'warm', ',', 'well', 'per', '##fused', ',', 'ed', '##ema', 'bilateral', '##ly', 'to', 's', '##hin', '##s', '.', 'left', 'foot', 'er', '##yt', '##hem', '##ato', '##us', ',', 'warm', ',', 'slight', 't', '##t', '##p', 'labs', '/', 'radio', '##logy', 'fluid', 'analysis', '/', 'other', 'labs', ':', 'notable', 'for', ':', 'h', '##ct', '6', 'b', '##n', '##p', '67', '##51', 'c', '##k', '39', 't', '##rop', '04', 'm', '##b', 'not', 'done', 'b', '##un', '/', 'c', '##rea', '##tin', '##ine', '39', '/', '1', 'la', '##ct', '##ate', '0', 'imaging', ':', 'c', '##t', 'a', '##b', '##d', '/', 'p', '##el', '##vis', '(', 'wet', 'read', '-', '?', 'error', 'given', 'comment', 'on', 'only', 'lungs', '.', '.', '.', ')', 'no', 'small', 'bow', '##el', 'o', '##bs', '##truction', '.', 'tree', '-', 'in', '-', 'op', '##ac', '##ities', 'in', 'right', 'middle', 'and', 'bilateral', 'lower', 'lobes', ',', 'infectious', '/', 'inflammatory', 'in', 'nature', ',', 'could', 'represent', 'as', '##piration', '.', 'bi', '##bas', '##ila', '##r', 'ate', '##lect', '##asis', ',', 'but', 'out', 'of', 'proportion', 'to', 'small', 'bilateral', 'p', '##le', '##ural', 'e', '##ff', '##usions', ',', 'may', 'represent', 'infectious', 'consolidation', '##s', 'also', '.', 'an', '##emia', '.', '.', 'echo', '(', ')', ':', 'the', 'left', 'at', '##rium', 'is', 'normal', 'in', 'size', '.', 'the', 'estimated', 'right', 'at', '##rial', 'pressure', 'is', '0', '-', '5', 'mm', '##h', '##g', '.', 'left', 'vent', '##ric', '##ular', 'wall', 'thickness', '##es', 'and']\n",
      "Token IDs:  [1138, 170, 2418, 1266, 1607, 1104, 4182, 119, 5846, 131, 5557, 131, 10468, 131, 6272, 131, 1168, 131, 113, 1679, 184, 1306, 1197, 114, 131, 1103, 5351, 1110, 170, 2166, 6676, 3806, 119, 1119, 23235, 5411, 1133, 8204, 2588, 1201, 2403, 119, 1119, 26360, 1251, 6272, 1329, 119, 2491, 2041, 1105, 1110, 2457, 119, 1185, 1601, 8908, 1107, 1103, 1298, 119, 9302, 1107, 119, 3189, 1104, 2344, 131, 5611, 19989, 1204, 2233, 1112, 1104, 1275, 131, 1744, 9852, 9301, 5300, 23123, 22320, 12881, 1596, 9437, 8240, 5233, 1572, 2005, 1290, 1821, 189, 22871, 131, 127, 172, 113, 129, 189, 21754, 131, 127, 172, 113, 129, 177, 1197, 131, 9920, 113, 9920, 118, 12794, 114, 171, 9952, 171, 1643, 131, 14949, 120, 4589, 113, 5117, 114, 196, 14949, 120, 4650, 113, 5117, 114, 118, 7029, 120, 4589, 113, 5603, 114, 198, 2608, 1324, 1403, 187, 1197, 131, 1627, 113, 1627, 118, 1743, 114, 22233, 1643, 120, 11241, 188, 5674, 1477, 131, 4573, 110, 1762, 6795, 131, 188, 1204, 113, 11850, 1361, 27629, 8992, 10542, 1465, 114, 1703, 1107, 131, 3383, 1477, 182, 1233, 185, 1186, 131, 189, 2087, 131, 178, 1964, 2087, 131, 128, 182, 1233, 1892, 2982, 131, 19397, 182, 1233, 1703, 1149, 131, 121, 182, 1233, 13075, 182, 1233, 19968, 131, 13075, 182, 1233, 21174, 131, 15631, 131, 20681, 131, 5233, 131, 121, 182, 1233, 19639, 182, 1233, 19192, 184, 1477, 6779, 4442, 131, 21447, 1169, 14787, 1742, 188, 5674, 1477, 131, 4573, 110, 2952, 8179, 9301, 1116, 131, 189, 131, 129, 171, 1643, 131, 7029, 120, 3102, 185, 131, 12206, 187, 131, 1407, 184, 1477, 131, 5311, 1320, 125, 1233, 183, 1665, 1704, 131, 10427, 117, 7779, 117, 1185, 12104, 13632, 1119, 3452, 131, 188, 10536, 1611, 1126, 17882, 26237, 117, 2608, 1306, 117, 1137, 4184, 7111, 22093, 2330, 2455, 131, 28117, 8661, 1513, 117, 179, 1964, 1643, 124, 1665, 1306, 1807, 172, 9516, 26726, 117, 1185, 19122, 8682, 131, 192, 19989, 11846, 16557, 1193, 1114, 187, 19856, 1120, 20557, 7616, 172, 1964, 131, 27629, 8992, 10542, 1596, 117, 12692, 1193, 12692, 117, 1185, 26792, 117, 16259, 1116, 117, 20003, 22101, 14701, 131, 2991, 117, 1664, 118, 8886, 117, 1664, 118, 4267, 15874, 4902, 117, 7125, 1883, 3807, 1675, 117, 1185, 1231, 8346, 8886, 1757, 1137, 18648, 117, 1185, 5677, 6758, 6997, 1183, 176, 1358, 131, 1185, 175, 9016, 1183, 4252, 1204, 131, 3258, 117, 1218, 1679, 21089, 117, 5048, 14494, 20557, 1193, 1106, 188, 8265, 1116, 119, 1286, 2555, 14044, 25669, 15391, 10024, 1361, 117, 3258, 117, 6812, 189, 1204, 1643, 21973, 120, 2070, 6360, 8240, 3622, 120, 1168, 21973, 131, 3385, 1111, 131, 177, 5822, 127, 171, 1179, 1643, 5486, 24050, 172, 1377, 3614, 189, 12736, 5129, 182, 1830, 1136, 1694, 171, 3488, 120, 172, 11811, 6105, 2042, 3614, 120, 122, 2495, 5822, 2193, 121, 14377, 131, 172, 1204, 170, 1830, 1181, 120, 185, 1883, 9356, 113, 4375, 2373, 118, 136, 7353, 1549, 7368, 1113, 1178, 8682, 119, 119, 119, 114, 1185, 1353, 7125, 1883, 184, 4832, 17993, 119, 2780, 118, 1107, 118, 11769, 7409, 4233, 1107, 1268, 2243, 1105, 20557, 2211, 27645, 117, 20342, 120, 22653, 1107, 2731, 117, 1180, 4248, 1112, 22631, 119, 16516, 16531, 8009, 1197, 8756, 18465, 14229, 117, 1133, 1149, 1104, 10807, 1106, 1353, 20557, 185, 1513, 12602, 174, 3101, 27262, 117, 1336, 4248, 20342, 20994, 1116, 1145, 119, 1126, 20504, 119, 119, 16278, 113, 114, 131, 1103, 1286, 1120, 11077, 1110, 2999, 1107, 2060, 119, 1103, 3555, 1268, 1120, 13119, 2997, 1110, 121, 118, 126, 2608, 1324, 1403, 119, 1286, 21828, 4907, 5552, 2095, 15830, 1279, 1105]\n"
     ]
    }
   ],
   "source": [
    "# # Print the original sentence.\n",
    "# print(' Original: ', sentences[0])\n",
    "\n",
    "# # Print the sentence split into tokens.\n",
    "# print('Tokenized: ', tokenizer.tokenize(sentences[0]))\n",
    "\n",
    "# # Print the sentence mapped to token ids.\n",
    "# print('Token IDs: ', tokenizer.convert_tokens_to_ids(tokenizer.tokenize(sentences[0])))"
   ]
  },
  {
   "cell_type": "markdown",
   "metadata": {
    "id": "WeNIc4auFUdF"
   },
   "source": [
    "When we actually convert all of our sentences, we'll use the `tokenize.encode` function to handle both steps, rather than calling `tokenize` and `convert_tokens_to_ids` separately. \n",
    "\n",
    "Before we can do that, though, we need to talk about some of BERT's formatting requirements."
   ]
  },
  {
   "cell_type": "markdown",
   "metadata": {
    "id": "viKGCCh8izww"
   },
   "source": [
    "## 3.2. Required Formatting"
   ]
  },
  {
   "cell_type": "markdown",
   "metadata": {
    "id": "yDcqNlvVhL5W"
   },
   "source": [
    "The above code left out a few required formatting steps that we'll look at here.\n",
    "\n",
    "*Side Note: The input format to BERT seems \"over-specified\" to me... We are required to give it a number of pieces of information which seem redundant, or like they could easily be inferred from the data without us explicity providing it. But it is what it is, and I suspect it will make more sense once I have a deeper understanding of the BERT internals.*\n",
    "\n",
    "We are required to:\n",
    "1. Add special tokens to the start and end of each sentence.\n",
    "2. Pad & truncate all sentences to a single constant length.\n",
    "3. Explicitly differentiate real tokens from padding tokens with the \"attention mask\".\n",
    "\n"
   ]
  },
  {
   "cell_type": "markdown",
   "metadata": {
    "id": "V6mceWWOjZnw"
   },
   "source": [
    "### Special Tokens\n"
   ]
  },
  {
   "cell_type": "markdown",
   "metadata": {
    "id": "Ykk0P9JiKtVe"
   },
   "source": [
    "\n",
    "**`[SEP]`**\n",
    "\n",
    "At the end of every sentence, we need to append the special `[SEP]` token. \n",
    "\n",
    "This token is an artifact of two-sentence tasks, where BERT is given two separate sentences and asked to determine something (e.g., can the answer to the question in sentence A be found in sentence B?). \n",
    "\n",
    "I am not certain yet why the token is still required when we have only single-sentence input, but it is!\n"
   ]
  },
  {
   "cell_type": "markdown",
   "metadata": {
    "id": "86C9objaKu8f"
   },
   "source": [
    "**`[CLS]`**\n",
    "\n",
    "For classification tasks, we must prepend the special `[CLS]` token to the beginning of every sentence.\n",
    "\n",
    "This token has special significance. BERT consists of 12 Transformer layers. Each transformer takes in a list of token embeddings, and produces the same number of embeddings on the output (but with the feature values changed, of course!).\n",
    "\n",
    "![Illustration of CLS token purpose](https://drive.google.com/uc?export=view&id=1ck4mvGkznVJfW3hv6GUqcdGepVTOx7HE)\n",
    "\n",
    "On the output of the final (12th) transformer, *only the first embedding (corresponding to the [CLS] token) is used by the classifier*.\n",
    "\n",
    ">  \"The first token of every sequence is always a special classification token (`[CLS]`). The final hidden state\n",
    "corresponding to this token is used as the aggregate sequence representation for classification\n",
    "tasks.\" (from the [BERT paper](https://arxiv.org/pdf/1810.04805.pdf))\n",
    "\n",
    "You might think to try some pooling strategy over the final embeddings, but this isn't necessary. Because BERT is trained to only use this [CLS] token for classification, we know that the model has been motivated to encode everything it needs for the classification step into that single 768-value embedding vector. It's already done the pooling for us!\n",
    "\n"
   ]
  },
  {
   "cell_type": "markdown",
   "metadata": {
    "id": "u51v0kFxeteu"
   },
   "source": [
    "### Sentence Length & Attention Mask\n",
    "\n"
   ]
  },
  {
   "cell_type": "markdown",
   "metadata": {
    "id": "qPNuwqZVK3T6"
   },
   "source": [
    "The sentences in our dataset obviously have varying lengths, so how does BERT handle this?\n",
    "\n",
    "BERT has two constraints:\n",
    "1. All sentences must be padded or truncated to a single, fixed length.\n",
    "2. The maximum sentence length is 512 tokens.\n",
    "\n",
    "Padding is done with a special `[PAD]` token, which is at index 0 in the BERT vocabulary. The below illustration demonstrates padding out to a \"MAX_LEN\" of 8 tokens.\n",
    "\n",
    "<img src=\"https://drive.google.com/uc?export=view&id=1cb5xeqLu_5vPOgs3eRnail2Y00Fl2pCo\" width=\"600\">\n",
    "\n",
    "The \"Attention Mask\" is simply an array of 1s and 0s indicating which tokens are padding and which aren't (seems kind of redundant, doesn't it?!). This mask tells the \"Self-Attention\" mechanism in BERT not to incorporate these PAD tokens into its interpretation of the sentence.\n",
    "\n",
    "The maximum length does impact training and evaluation speed, however. \n",
    "For example, with a Tesla K80:\n",
    "\n",
    "`MAX_LEN = 128  -->  Training epochs take ~5:28 each`\n",
    "\n",
    "`MAX_LEN = 64   -->  Training epochs take ~2:57 each`\n",
    "\n",
    "\n",
    "\n",
    "\n",
    "\n"
   ]
  },
  {
   "cell_type": "markdown",
   "metadata": {
    "id": "l6w8elb-58GJ"
   },
   "source": [
    "## 3.3. Tokenize Dataset"
   ]
  },
  {
   "cell_type": "markdown",
   "metadata": {
    "id": "U28qy4P-NwQ9"
   },
   "source": [
    "\n"
   ]
  },
  {
   "cell_type": "markdown",
   "metadata": {},
   "source": [
    "Now we're ready to perform the real tokenization.\n",
    "\n",
    "The `tokenizer.encode_plus` function combines multiple steps for us:\n",
    "\n",
    "1. Split the sentence into tokens.\n",
    "2. Add the special `[CLS]` and `[SEP]` tokens.\n",
    "3. Map the tokens to their IDs.\n",
    "4. Pad or truncate all sentences to the same length.\n",
    "5. Create the attention masks which explicitly differentiate real tokens from `[PAD]` tokens.\n",
    "\n",
    "The first four features are in `tokenizer.encode`, but I'm using `tokenizer.encode_plus` to get the fifth item (attention masks). Documentation is [here](https://huggingface.co/transformers/main_classes/tokenizer.html?highlight=encode_plus#transformers.PreTrainedTokenizer.encode_plus)."
   ]
  },
  {
   "cell_type": "code",
   "execution_count": 4,
   "metadata": {
    "colab": {
     "base_uri": "https://localhost:8080/"
    },
    "id": "cKsH2sU0OCQA",
    "outputId": "e363e816-c750-422f-b623-dce428f77502"
   },
   "outputs": [],
   "source": [
    "from torch.utils.data import TensorDataset, random_split\n",
    "from tqdm import trange, tqdm\n",
    "def preprocess_tokenize_embed_data(df_filename):\n",
    "    \n",
    "    '''\n",
    "    Function to use encode_plus to process text data and lables\n",
    "            # `encode_plus` will:\n",
    "        #   (1) Tokenize the sentence.\n",
    "        #   (2) Prepend the `[CLS]` token to the start.\n",
    "        #   (3) Append the `[SEP]` token to the end.\n",
    "        #   (4) Map tokens to their IDs.\n",
    "        #   (5) Pad or truncate the sentence to `max_length`\n",
    "        #   (6) Create attention masks for [PAD] tokens.\n",
    "        \n",
    "    input = data file name containing text data/sentences under TEXT column and corresponding labels for classification task\n",
    "    \n",
    "    output = input_ids (encoded sentence id), attention_mask (mask ids for BERT), labels - all converted to tensors\n",
    "    '''\n",
    "    \n",
    "    df = pd.read_csv(df_filename)\n",
    "    \n",
    "    print('Number of sentences: {:,}\\n'.format(df.shape[0]))    \n",
    "\n",
    "    sentences = df.TEXT.values\n",
    "    labels = df.Label.values\n",
    "\n",
    "    # Tokenize all of the sentences and map the tokens to thier word IDs.\n",
    "    input_ids = []\n",
    "    attention_masks = []\n",
    "\n",
    "    # For every sentence...\n",
    "    for sent in tqdm(sentences):\n",
    "        # `encode_plus` will:\n",
    "        #   (1) Tokenize the sentence.\n",
    "        #   (2) Prepend the `[CLS]` token to the start.\n",
    "        #   (3) Append the `[SEP]` token to the end.\n",
    "        #   (4) Map tokens to their IDs.\n",
    "        #   (5) Pad or truncate the sentence to `max_length`\n",
    "        #   (6) Create attention masks for [PAD] tokens.\n",
    "        encoded_dict = tokenizer.encode_plus(\n",
    "                            sent,                      # Sentence to encode.\n",
    "                            add_special_tokens = True, # Add '[CLS]' and '[SEP]'\n",
    "                            max_length = 512,           # Pad & truncate all sentences.\n",
    "                            pad_to_max_length = True,\n",
    "                            return_attention_mask = True,   # Construct attn. masks.\n",
    "                            return_tensors = 'pt',     # Return pytorch tensors.\n",
    "                       )\n",
    "\n",
    "        # Add the encoded sentence to the list.    \n",
    "        input_ids.append(encoded_dict['input_ids'])\n",
    "\n",
    "        # And its attention mask (simply differentiates padding from non-padding).\n",
    "        attention_masks.append(encoded_dict['attention_mask'])\n",
    "\n",
    "        # Convert the lists into tensors.\n",
    "    input_ids = torch.cat(input_ids, dim=0)\n",
    "    attention_masks = torch.cat(attention_masks, dim=0)\n",
    "    # labels = torch.tensor(labels)\n",
    "    labels = torch.tensor(labels, dtype = torch.long)\n",
    "    # Print sentence 0, now as a list of IDs.\n",
    "    print('Original: ', sentences[0])\n",
    "    print('Token IDs:', input_ids[0])\n",
    "    \n",
    "    # will teturn a TensorDataset using these input_ids, attention_masks and labels\n",
    "    print(\"returning TensorDataset! \")\n",
    "    return TensorDataset(input_ids, attention_masks, labels)\n",
    "\n",
    "\n",
    "    \n",
    "    "
   ]
  },
  {
   "cell_type": "markdown",
   "metadata": {
    "id": "1M296yz577fV"
   },
   "source": [
    "## 3.4. Training & Validation Split\n"
   ]
  },
  {
   "cell_type": "code",
   "execution_count": null,
   "metadata": {},
   "outputs": [],
   "source": [
    "# going to get the train and validation datasets now - will be ready to train on\n",
    "# this will take a bit of time to do so as the tokenization and encoding is quite a lengthy procedure"
   ]
  },
  {
   "cell_type": "code",
   "execution_count": 5,
   "metadata": {
    "id": "tIWAoWL2RK1p"
   },
   "outputs": [
    {
     "name": "stderr",
     "output_type": "stream",
     "text": [
      "  0%|          | 0/47793 [00:00<?, ?it/s]Truncation was not explicitly activated but `max_length` is provided a specific value, please use `truncation=True` to explicitly truncate examples to max length. Defaulting to 'longest_first' truncation strategy. If you encode pairs of sequences (GLUE-style) with the tokenizer you can select this strategy more precisely by providing a specific strategy to `truncation`.\n",
      "/cdthome/xiz325/.local/lib/python3.7/site-packages/transformers/tokenization_utils_base.py:2079: FutureWarning: The `pad_to_max_length` argument is deprecated and will be removed in a future version, use `padding=True` or `padding='longest'` to pad to the longest sequence in the batch, or use `padding='max_length'` to pad to a max length. In this case, you can give a specific length with `max_length` (e.g. `max_length=45`) or leave max_length to None to pad to the maximal input size of the model (e.g. 512 for Bert).\n",
      "  FutureWarning,\n",
      "  0%|          | 17/47793 [00:00<04:53, 163.00it/s]"
     ]
    },
    {
     "name": "stdout",
     "output_type": "stream",
     "text": [
      "Number of sentences: 47,793\n",
      "\n"
     ]
    },
    {
     "name": "stderr",
     "output_type": "stream",
     "text": [
      "100%|██████████| 47793/47793 [04:42<00:00, 169.34it/s]\n",
      "  0%|          | 17/5774 [00:00<00:34, 168.51it/s]"
     ]
    },
    {
     "name": "stdout",
     "output_type": "stream",
     "text": [
      "Original:  have a significant family history of cancer. occupation: drugs: tobacco: alcohol: other: (per omr): the patient is a previous mechanical engineer. he smoked occasionally but quit 35 years ago. he denies any alcohol use. lives alone and is independent. no close relatives in the area. siblings in . review of systems: flowsheet data as of 10:26 pm vital signs hemodynamic monitoring fluid balance 24 hours since am tmax: 6 c (8 tcurrent: 6 c (8 hr: 106 (106 - 121) bpm bp: 129/59(72) {129/58(72) - 130/59(78)} mmhg rr: 19 (19 - 28) insp/min spo2: 95% heart rhythm: st (sinus tachycardia) total in: 382 ml po: tf: ivf: 7 ml blood products: 375 ml total out: 0 ml 210 ml urine: 210 ml ng: stool: drains: balance: 0 ml 172 ml respiratory o2 delivery device: nasal cannula spo2: 95% physical examination vitals: t: 8 bp:130/70 p:113 r: 18 o2: 97on 4l nc general: alert, oriented, no acute distress heent: sclera anicteric, mmm, oropharynx clear neck: supple, jvp 3cm above clavicle, no lad lungs: wheezes anteriorly with rales at bilateral bases cv: tachycardic, irregularly irregular, no murmurs, rubs, gallops abdomen: soft, non-tender, non-distended, bowel sounds present, no rebound tenderness or guarding, no organomegaly gu: no foley ext: warm, well perfused, edema bilaterally to shins. left foot erythematous, warm, slight ttp labs / radiology fluid analysis / other labs: notable for: hct 6 bnp 6751 ck 39 trop 04 mb not done bun/creatinine 39/1 lactate 0 imaging: ct abd/pelvis (wet read - ? error given comment on only lungs . . .) no small bowel obstruction. tree-in- opacities in right middle and bilateral lower lobes, infectious/inflammatory in nature, could represent aspiration. bibasilar atelectasis, but out of proportion to small bilateral pleural effusions, may represent infectious consolidations also. anemia. . echo (): the left atrium is normal in size. the estimated right atrial pressure is 0-5 mmhg. left ventricular wall thicknesses and\n",
      "Token IDs: tensor([  101,  1138,   170,  2418,  1266,  1607,  1104,  4182,   119,  5846,\n",
      "          131,  5557,   131, 10468,   131,  6272,   131,  1168,   131,   113,\n",
      "         1679,   184,  1306,  1197,   114,   131,  1103,  5351,  1110,   170,\n",
      "         2166,  6676,  3806,   119,  1119, 23235,  5411,  1133,  8204,  2588,\n",
      "         1201,  2403,   119,  1119, 26360,  1251,  6272,  1329,   119,  2491,\n",
      "         2041,  1105,  1110,  2457,   119,  1185,  1601,  8908,  1107,  1103,\n",
      "         1298,   119,  9302,  1107,   119,  3189,  1104,  2344,   131,  5611,\n",
      "        19989,  1204,  2233,  1112,  1104,  1275,   131,  1744,  9852,  9301,\n",
      "         5300, 23123, 22320, 12881,  1596,  9437,  8240,  5233,  1572,  2005,\n",
      "         1290,  1821,   189, 22871,   131,   127,   172,   113,   129,   189,\n",
      "        21754,   131,   127,   172,   113,   129,   177,  1197,   131,  9920,\n",
      "          113,  9920,   118, 12794,   114,   171,  9952,   171,  1643,   131,\n",
      "        14949,   120,  4589,   113,  5117,   114,   196, 14949,   120,  4650,\n",
      "          113,  5117,   114,   118,  7029,   120,  4589,   113,  5603,   114,\n",
      "          198,  2608,  1324,  1403,   187,  1197,   131,  1627,   113,  1627,\n",
      "          118,  1743,   114, 22233,  1643,   120, 11241,   188,  5674,  1477,\n",
      "          131,  4573,   110,  1762,  6795,   131,   188,  1204,   113, 11850,\n",
      "         1361, 27629,  8992, 10542,  1465,   114,  1703,  1107,   131,  3383,\n",
      "         1477,   182,  1233,   185,  1186,   131,   189,  2087,   131,   178,\n",
      "         1964,  2087,   131,   128,   182,  1233,  1892,  2982,   131, 19397,\n",
      "          182,  1233,  1703,  1149,   131,   121,   182,  1233, 13075,   182,\n",
      "         1233, 19968,   131, 13075,   182,  1233, 21174,   131, 15631,   131,\n",
      "        20681,   131,  5233,   131,   121,   182,  1233, 19639,   182,  1233,\n",
      "        19192,   184,  1477,  6779,  4442,   131, 21447,  1169, 14787,  1742,\n",
      "          188,  5674,  1477,   131,  4573,   110,  2952,  8179,  9301,  1116,\n",
      "          131,   189,   131,   129,   171,  1643,   131,  7029,   120,  3102,\n",
      "          185,   131, 12206,   187,   131,  1407,   184,  1477,   131,  5311,\n",
      "         1320,   125,  1233,   183,  1665,  1704,   131, 10427,   117,  7779,\n",
      "          117,  1185, 12104, 13632,  1119,  3452,   131,   188, 10536,  1611,\n",
      "         1126, 17882, 26237,   117,  2608,  1306,   117,  1137,  4184,  7111,\n",
      "        22093,  2330,  2455,   131, 28117,  8661,  1513,   117,   179,  1964,\n",
      "         1643,   124,  1665,  1306,  1807,   172,  9516, 26726,   117,  1185,\n",
      "        19122,  8682,   131,   192, 19989, 11846, 16557,  1193,  1114,   187,\n",
      "        19856,  1120, 20557,  7616,   172,  1964,   131, 27629,  8992, 10542,\n",
      "         1596,   117, 12692,  1193, 12692,   117,  1185, 26792,   117, 16259,\n",
      "         1116,   117, 20003, 22101, 14701,   131,  2991,   117,  1664,   118,\n",
      "         8886,   117,  1664,   118,  4267, 15874,  4902,   117,  7125,  1883,\n",
      "         3807,  1675,   117,  1185,  1231,  8346,  8886,  1757,  1137, 18648,\n",
      "          117,  1185,  5677,  6758,  6997,  1183,   176,  1358,   131,  1185,\n",
      "          175,  9016,  1183,  4252,  1204,   131,  3258,   117,  1218,  1679,\n",
      "        21089,   117,  5048, 14494, 20557,  1193,  1106,   188,  8265,  1116,\n",
      "          119,  1286,  2555, 14044, 25669, 15391, 10024,  1361,   117,  3258,\n",
      "          117,  6812,   189,  1204,  1643, 21973,   120,  2070,  6360,  8240,\n",
      "         3622,   120,  1168, 21973,   131,  3385,  1111,   131,   177,  5822,\n",
      "          127,   171,  1179,  1643,  5486, 24050,   172,  1377,  3614,   189,\n",
      "        12736,  5129,   182,  1830,  1136,  1694,   171,  3488,   120,   172,\n",
      "        11811,  6105,  2042,  3614,   120,   122,  2495,  5822,  2193,   121,\n",
      "        14377,   131,   172,  1204,   170,  1830,  1181,   120,   185,  1883,\n",
      "         9356,   113,  4375,  2373,   118,   136,  7353,  1549,  7368,  1113,\n",
      "         1178,  8682,   119,   119,   119,   114,  1185,  1353,  7125,  1883,\n",
      "          184,  4832, 17993,   119,  2780,   118,  1107,   118, 11769,  7409,\n",
      "         4233,   102])\n",
      "returning TensorDataset! \n",
      "Number of sentences: 5,774\n",
      "\n"
     ]
    },
    {
     "name": "stderr",
     "output_type": "stream",
     "text": [
      "100%|██████████| 5774/5774 [00:33<00:00, 170.23it/s]"
     ]
    },
    {
     "name": "stdout",
     "output_type": "stream",
     "text": [
      "Original:  10:11 pm chest (pre-op pa & lat) clip # reason: coronary artery disease admitting diagnosis: coronary artery disease medical condition: 77 year old woman with reason for this examination: pre-op final report indication: 77 year old pre-op for cabg. technique: pa and lateral radiographs. comparison: findings: the heart is enlarged. there are bilateral pleural effusions, right greater than left with associated minor atelectatic changes at the lung bases. the pulmonary vasculature appears somewhat prominent with an upper zone redistribution. there is no pneumothorax. the patient has had a prior cabg with unchanged appearance of median sternotomy wires. surgical clips are also seen overlying both right and left hemithoraces. the osseous structures are unremarkable. impression: cardiomegaly with mild congestive heart failure and bilateral pleural effusions. patient/test information: indication: aortic valve disease. coronary artery disease. height: (in) 65 weight (lb): 198 bsa (m2): 97 m2 bp (mm hg): 140/74 hr (bpm): 50 status: inpatient date/time: at 10:53 test: tte (complete) doppler: full doppler and color doppler contrast: none technical quality: adequate interpretation: findings: left atrium: mild la enlargement. right atrium/interatrial septum: mildly dilated ra. left ventricle: mild symmetric lvh. mildly dilated lv cavity. mild regional lv systolic dysfunction. no resting lvot gradient. no lv mass/thrombus. lv wall motion: regional lv wall motion abnormalities include: septal apex - hypo; apex - dyskinetic; right ventricle: normal rv chamber size and free wall motion. aorta: normal aortic root diameter. moderately dilated ascending aorta. aortic valve: severely thickened/deformed aortic valve leaflets. moderate as. mitral valve: mildly thickened mitral valve leaflets. mild mitral annular calcification. mild thickening of mitral valve chordae. mild (1+) mr. tricuspid valve: mild pa systolic hypertension. pericardium: no pericardial effusion. general comments: suboptimal image quality - poor subcostal views. based on aha endocarditis prophylaxis recommendations, the echo findings indicate a moderate risk (prophylaxis recommended). clinical decisions regarding the need for prophylaxis should be based on clinical and echocardiographic data. right pleural\n",
      "Token IDs: tensor([  101,  1275,   131,  1429,  9852,  2229,   113,  3073,   118, 11769,\n",
      "          185,  1161,   111,  2495,  1204,   114, 13500,   108,  2255,   131,\n",
      "         1884, 15789,  1616, 18593,  3653, 19931, 12645,   131,  1884, 15789,\n",
      "         1616, 18593,  3653,  2657,  3879,   131,  5581,  1214,  1385,  1590,\n",
      "         1114,  2255,  1111,  1142,  8179,   131,  3073,   118, 11769,  1509,\n",
      "         2592, 12754,   131,  5581,  1214,  1385,  3073,   118, 11769,  1111,\n",
      "        10347,  1403,   119,  5531,   131,   185,  1161,  1105, 11937,  2070,\n",
      "        21217,   119,  7577,   131,  9505,   131,  1103,  1762,  1110, 12089,\n",
      "          119,  1175,  1132, 20557,   185,  1513, 12602,   174,  3101, 27262,\n",
      "          117,  1268,  3407,  1190,  1286,  1114,  2628,  3137,  8756, 18465,\n",
      "         7698,  2607,  1120,  1103, 13093,  7616,   119,  1103, 26600,   191,\n",
      "         2225, 21608,  5332,  2691,  4742,  3289,  1114,  1126,  3105,  4834,\n",
      "         1894,  1776,  2047, 16442,  1988,   119,  1175,  1110,  1185,   185,\n",
      "         1673,  1818, 12858, 25632,   119,  1103,  5351,  1144,  1125,   170,\n",
      "         2988, 10347,  1403,  1114, 16684,  2468,  1104,  3151, 12172, 12355,\n",
      "         4527, 15923,   119, 13467, 16973,  1132,  1145,  1562, 16201,  1158,\n",
      "         1241,  1268,  1105,  1286, 23123,  7088,  6533,  7723,   119,  1103,\n",
      "          184, 11553,  2285,  4413,  1132,  8362, 16996, 23822,  1895,   119,\n",
      "         8351,   131,  3621,  2660,  3263,  6997,  1183,  1114, 10496, 14255,\n",
      "         7562,  3946,  1762,  4290,  1105, 20557,   185,  1513, 12602,   174,\n",
      "         3101, 27262,   119,  5351,   120,  2774,  1869,   131, 12754,   131,\n",
      "          170, 12148,  1596, 11727,  3653,   119,  1884, 15789,  1616, 18593,\n",
      "         3653,   119,  3976,   131,   113,  1107,   114,  2625,  2841,   113,\n",
      "         5682,   114,   131, 21801,   171,  3202,   113,   182,  1477,   114,\n",
      "          131,  5311,   182,  1477,   171,  1643,   113,  2608,   177,  1403,\n",
      "          114,   131,  8183,   120,  5692,   177,  1197,   113,   171,  9952,\n",
      "          114,   131,  1851,  2781,   131,  1107, 27420,  2236,   120,  1159,\n",
      "          131,  1120,  1275,   131,  4389,  2774,   131,   189,  1566,   113,\n",
      "         2335,   114,  1202,  8661,  2879,   131,  1554,  1202,  8661,  2879,\n",
      "         1105,  2942,  1202,  8661,  2879,  5014,   131,  3839,  4301,  3068,\n",
      "          131, 12373,  7628,   131,  9505,   131,  1286,  1120, 11077,   131,\n",
      "        10496,  2495,  4035,  5815, 20512,   119,  1268,  1120, 11077,   120,\n",
      "         9455,  2980, 13119, 14516,  6451,  1818,   131, 21461,  4267,  6951,\n",
      "          187,  1161,   119,  1286, 21828,  4907,  1513,   131, 10496, 21852,\n",
      "          181,  1964,  1324,   119, 21461,  4267,  6951,   181,  1964, 19421,\n",
      "          119, 10496,  2918,   181,  1964,   188,  6834,  2430,  8031,   173,\n",
      "         6834, 26420,   119,  1185,  8137,   181,  6005,  1204, 19848,   119,\n",
      "         1185,   181,  1964,  3367,   120, 24438, 16071,  7441,   119,   181,\n",
      "         1964,  2095,  4018,   131,  2918,   181,  1964,  2095,  4018, 22832,\n",
      "         4233,  1511,   131, 14516, 21919,  1233, 15764,   118,   177,  1183,\n",
      "         5674,   132, 15764,   118,   173,  6834,  4314,  9265,   132,  1268,\n",
      "        21828,  4907,  1513,   131,  2999,   187,  1964,  5383,  2060,  1105,\n",
      "         1714,  2095,  4018,   119,   170, 12148,  1161,   131,  2999,   170,\n",
      "        12148,  1596,  7261,  6211,   119, 19455,  4267,  6951, 26457,   170,\n",
      "        12148,  1161,   119,   170, 12148,  1596, 11727,   131,  8669,  3528,\n",
      "         4772,   120, 19353, 24211,  1174,   170, 12148,  1596, 11727,  7404,\n",
      "         9585,   119,  8828,  1112,   119, 26410,  4412, 11727,   131, 21461,\n",
      "         3528,  4772, 26410,  4412, 11727,  7404,  9585,   119, 10496, 26410,\n",
      "         4412,  1126, 14787,  5815, 11019,  1233,  6617, 11531,   119, 10496,\n",
      "         3528,  4777,  1104, 26410,  4412, 11727, 15461,  5024,   119, 10496,\n",
      "          113,   122,   116,   114,   182,  1197,   119,   189,  4907,  1361,\n",
      "        25786,   102])\n",
      "returning TensorDataset! \n"
     ]
    },
    {
     "name": "stderr",
     "output_type": "stream",
     "text": [
      "\n"
     ]
    }
   ],
   "source": [
    "train_dataset = preprocess_tokenize_embed_data(\"./data/discharge/train.csv\")\n",
    "val_dataset =  preprocess_tokenize_embed_data(\"./data/3discharge/val.csv\")\n"
   ]
  },
  {
   "cell_type": "code",
   "execution_count": 7,
   "metadata": {},
   "outputs": [
    {
     "data": {
      "text/plain": [
       "47793"
      ]
     },
     "execution_count": 7,
     "metadata": {},
     "output_type": "execute_result"
    }
   ],
   "source": [
    "len(train_dataset)"
   ]
  },
  {
   "cell_type": "markdown",
   "metadata": {
    "id": "dD9i6Z2pG-sN"
   },
   "source": [
    "We'll also create an iterator for our dataset using the torch DataLoader class. This helps save on memory during training because, unlike a for loop, with an iterator the entire dataset does not need to be loaded into memory."
   ]
  },
  {
   "cell_type": "code",
   "execution_count": 10,
   "metadata": {},
   "outputs": [],
   "source": [
    "from torch.utils.data import DataLoader, RandomSampler, SequentialSampler"
   ]
  },
  {
   "cell_type": "code",
   "execution_count": 6,
   "metadata": {
    "id": "XGUqOCtgqGhP"
   },
   "outputs": [],
   "source": [
    "\n",
    "\n",
    "# The DataLoader needs to know our batch size for training, so we specify it \n",
    "# here. For fine-tuning BERT on a specific task, the authors recommend a batch \n",
    "# size of 16 or 32.\n",
    "batch_size = 32\n",
    "\n",
    "# Create the DataLoaders for our training and validation sets.\n",
    "# We'll take training samples in random order. \n",
    "train_dataloader = DataLoader(\n",
    "            train_dataset,  # The training samples.\n",
    "            sampler = RandomSampler(train_dataset), # Select batches randomly\n",
    "            batch_size = batch_size # Trains with this batch size.\n",
    "        )\n",
    "\n",
    "# For validation the order doesn't matter, so we'll just read them sequentially.\n",
    "validation_dataloader = DataLoader(\n",
    "            val_dataset, # The validation samples.\n",
    "            sampler = SequentialSampler(val_dataset), # Pull out batches sequentially.\n",
    "            batch_size = batch_size # Evaluate with this batch size.\n",
    "        )"
   ]
  },
  {
   "cell_type": "code",
   "execution_count": 15,
   "metadata": {},
   "outputs": [
    {
     "name": "stdout",
     "output_type": "stream",
     "text": [
      "torch.int64\n",
      "torch.Size([16, 512])\n",
      "torch.int64\n",
      "torch.Size([16])\n",
      "torch.int64\n",
      "torch.Size([16, 512])\n",
      "torch.int64\n",
      "torch.Size([16])\n",
      "torch.int64\n",
      "torch.Size([16, 512])\n",
      "torch.int64\n",
      "torch.Size([16])\n",
      "torch.int64\n",
      "torch.Size([16, 512])\n",
      "torch.int64\n",
      "torch.Size([16])\n",
      "torch.int64\n",
      "torch.Size([16, 512])\n",
      "torch.int64\n",
      "torch.Size([16])\n",
      "torch.int64\n",
      "torch.Size([16, 512])\n",
      "torch.int64\n",
      "torch.Size([16])\n",
      "torch.int64\n",
      "torch.Size([16, 512])\n",
      "torch.int64\n",
      "torch.Size([16])\n",
      "torch.int64\n",
      "torch.Size([16, 512])\n",
      "torch.int64\n",
      "torch.Size([16])\n",
      "torch.int64\n",
      "torch.Size([16, 512])\n",
      "torch.int64\n",
      "torch.Size([16])\n",
      "torch.int64\n",
      "torch.Size([16, 512])\n",
      "torch.int64\n",
      "torch.Size([16])\n",
      "torch.int64\n",
      "torch.Size([16, 512])\n",
      "torch.int64\n",
      "torch.Size([16])\n"
     ]
    }
   ],
   "source": [
    "# little test to see correct shapes of train and val datasets\n",
    "\n",
    "# For each batch of training data...\n",
    "for step, batch in enumerate(train_dataloader):\n",
    "    # Unpack this training batch from our dataloader. \n",
    "    #\n",
    "    # As we unpack the batch, we'll also copy each tensor to the GPU using the \n",
    "    # `to` method.\n",
    "    #\n",
    "    # `batch` contains three pytorch tensors:\n",
    "    #   [0]: input ids \n",
    "    #   [1]: attention masks\n",
    "    #   [2]: labels \n",
    "    b_input_ids = batch[0].to(device)\n",
    "    b_input_mask = batch[1].to(device)\n",
    "    b_labels = batch[2].to(device)\n",
    "    \n",
    "    print(b_input_ids.dtype)\n",
    "    print(b_input_ids.shape)\n",
    "    print(b_labels.dtype)\n",
    "    print(b_labels.shape)\n",
    "    \n",
    "    # stop after 10 batches.\n",
    "    if step % 10 == 0 and not step == 0:\n",
    "        break\n",
    "    \n",
    "\n",
    "\n",
    "\n",
    "\n"
   ]
  },
  {
   "cell_type": "markdown",
   "metadata": {
    "id": "8bwa6Rts-02-"
   },
   "source": [
    "# 4. Train Our Classification Model"
   ]
  },
  {
   "cell_type": "markdown",
   "metadata": {
    "id": "3xYQ3iLO08SX"
   },
   "source": [
    "Now that our input data is properly formatted, it's time to fine tune the BERT model. "
   ]
  },
  {
   "cell_type": "markdown",
   "metadata": {
    "id": "D6TKgyUzPIQc"
   },
   "source": [
    "## 4.1. BertForSequenceClassification"
   ]
  },
  {
   "cell_type": "markdown",
   "metadata": {
    "id": "1sjzRT1V0zwm"
   },
   "source": [
    "For this task, we first want to modify the pre-trained BERT model to give outputs for classification, and then we want to continue training the model on our dataset until that the entire model, end-to-end, is well-suited for our task. \n",
    "\n",
    "Thankfully, the huggingface pytorch implementation includes a set of interfaces designed for a variety of NLP tasks. Though these interfaces are all built on top of a trained BERT model, each has different top layers and output types designed to accomodate their specific NLP task.  \n",
    "\n",
    "Here is the current list of classes provided for fine-tuning:\n",
    "* BertModel\n",
    "* BertForPreTraining\n",
    "* BertForMaskedLM\n",
    "* BertForNextSentencePrediction\n",
    "* **BertForSequenceClassification** - The one we'll use.\n",
    "* BertForTokenClassification\n",
    "* BertForQuestionAnswering\n",
    "\n",
    "The documentation for these can be found under [here](https://huggingface.co/transformers/v2.2.0/model_doc/bert.html)."
   ]
  },
  {
   "cell_type": "markdown",
   "metadata": {
    "id": "BXYitPoE-cjH"
   },
   "source": [
    "\n",
    "\n",
    "We'll be using [BertForSequenceClassification](https://huggingface.co/transformers/v2.2.0/model_doc/bert.html#bertforsequenceclassification). This is the normal BERT model with an added single linear layer on top for classification that we will use as a sentence classifier. As we feed input data, the entire pre-trained BERT model and the additional untrained classification layer is trained on our specific task. \n"
   ]
  },
  {
   "cell_type": "markdown",
   "metadata": {
    "id": "WnQW9E-bBCRt"
   },
   "source": [
    "OK, let's load BERT! There are a few different pre-trained BERT models available. \"bert-base-uncased\" means the version that has only lowercase letters (\"uncased\") and is the smaller version of the two (\"base\" vs \"large\").\n",
    "\n",
    "The documentation for `from_pretrained` can be found [here](https://huggingface.co/transformers/v2.2.0/main_classes/model.html#transformers.PreTrainedModel.from_pretrained), with the additional parameters defined [here](https://huggingface.co/transformers/v2.2.0/main_classes/configuration.html#transformers.PretrainedConfig)."
   ]
  },
  {
   "cell_type": "code",
   "execution_count": 5,
   "metadata": {},
   "outputs": [],
   "source": [
    "from transformers import BertForSequenceClassification, AdamW, BertConfig"
   ]
  },
  {
   "cell_type": "code",
   "execution_count": 11,
   "metadata": {
    "colab": {
     "base_uri": "https://localhost:8080/",
     "height": 1000,
     "referenced_widgets": [
      "bf9dfa1ff3e642fbb74c5146d21044c2",
      "1c2b0ede959142fc89bf07a9c88df638",
      "1296a3d754b344a482a03e5af84e805e",
      "6f132d7bb83d41b6847df0d0ec0a1b92",
      "2755b9838bae408ca8cf667ad9d501fc",
      "f8874fec8a404ae89a38fd2ecbb357cf",
      "a7bdbedc75de4f77b45f1389c2ea0abc",
      "978c24b18b594eaf8ca47730a88eefb9",
      "fe254c3bcc08402eb506f0e98f5673a7",
      "cea84f9c3db641acb98314028b305514",
      "23ca9359e6c44232a1346e6f2ab7e48c",
      "d689bc8d488a4dc09c393b4fc9747bcb",
      "6c7dec7b1e804c2195f6e60fb3c1d18e",
      "0fe5b1d0540240a8a8426352c24b2887",
      "4b1e27aff6f04fec8268d951e46b1e63",
      "440da34c72344cb08e4a1ee5de7049ee"
     ]
    },
    "id": "gFsCTp_mporB",
    "outputId": "af690f33-6cd5-4678-bdaf-209f068f70f5"
   },
   "outputs": [
    {
     "name": "stderr",
     "output_type": "stream",
     "text": [
      "Some weights of the model checkpoint at emilyalsentzer/Bio_ClinicalBERT were not used when initializing BertForSequenceClassification: ['cls.predictions.bias', 'cls.predictions.transform.dense.weight', 'cls.predictions.transform.dense.bias', 'cls.predictions.transform.LayerNorm.weight', 'cls.predictions.transform.LayerNorm.bias', 'cls.predictions.decoder.weight', 'cls.seq_relationship.weight', 'cls.seq_relationship.bias']\n",
      "- This IS expected if you are initializing BertForSequenceClassification from the checkpoint of a model trained on another task or with another architecture (e.g. initializing a BertForSequenceClassification model from a BertForPreTraining model).\n",
      "- This IS NOT expected if you are initializing BertForSequenceClassification from the checkpoint of a model that you expect to be exactly identical (initializing a BertForSequenceClassification model from a BertForSequenceClassification model).\n",
      "Some weights of BertForSequenceClassification were not initialized from the model checkpoint at emilyalsentzer/Bio_ClinicalBERT and are newly initialized: ['classifier.weight', 'classifier.bias']\n",
      "You should probably TRAIN this model on a down-stream task to be able to use it for predictions and inference.\n"
     ]
    },
    {
     "data": {
      "text/plain": [
       "BertForSequenceClassification(\n",
       "  (bert): BertModel(\n",
       "    (embeddings): BertEmbeddings(\n",
       "      (word_embeddings): Embedding(28996, 768, padding_idx=0)\n",
       "      (position_embeddings): Embedding(512, 768)\n",
       "      (token_type_embeddings): Embedding(2, 768)\n",
       "      (LayerNorm): LayerNorm((768,), eps=1e-12, elementwise_affine=True)\n",
       "      (dropout): Dropout(p=0.1, inplace=False)\n",
       "    )\n",
       "    (encoder): BertEncoder(\n",
       "      (layer): ModuleList(\n",
       "        (0): BertLayer(\n",
       "          (attention): BertAttention(\n",
       "            (self): BertSelfAttention(\n",
       "              (query): Linear(in_features=768, out_features=768, bias=True)\n",
       "              (key): Linear(in_features=768, out_features=768, bias=True)\n",
       "              (value): Linear(in_features=768, out_features=768, bias=True)\n",
       "              (dropout): Dropout(p=0.1, inplace=False)\n",
       "            )\n",
       "            (output): BertSelfOutput(\n",
       "              (dense): Linear(in_features=768, out_features=768, bias=True)\n",
       "              (LayerNorm): LayerNorm((768,), eps=1e-12, elementwise_affine=True)\n",
       "              (dropout): Dropout(p=0.1, inplace=False)\n",
       "            )\n",
       "          )\n",
       "          (intermediate): BertIntermediate(\n",
       "            (dense): Linear(in_features=768, out_features=3072, bias=True)\n",
       "          )\n",
       "          (output): BertOutput(\n",
       "            (dense): Linear(in_features=3072, out_features=768, bias=True)\n",
       "            (LayerNorm): LayerNorm((768,), eps=1e-12, elementwise_affine=True)\n",
       "            (dropout): Dropout(p=0.1, inplace=False)\n",
       "          )\n",
       "        )\n",
       "        (1): BertLayer(\n",
       "          (attention): BertAttention(\n",
       "            (self): BertSelfAttention(\n",
       "              (query): Linear(in_features=768, out_features=768, bias=True)\n",
       "              (key): Linear(in_features=768, out_features=768, bias=True)\n",
       "              (value): Linear(in_features=768, out_features=768, bias=True)\n",
       "              (dropout): Dropout(p=0.1, inplace=False)\n",
       "            )\n",
       "            (output): BertSelfOutput(\n",
       "              (dense): Linear(in_features=768, out_features=768, bias=True)\n",
       "              (LayerNorm): LayerNorm((768,), eps=1e-12, elementwise_affine=True)\n",
       "              (dropout): Dropout(p=0.1, inplace=False)\n",
       "            )\n",
       "          )\n",
       "          (intermediate): BertIntermediate(\n",
       "            (dense): Linear(in_features=768, out_features=3072, bias=True)\n",
       "          )\n",
       "          (output): BertOutput(\n",
       "            (dense): Linear(in_features=3072, out_features=768, bias=True)\n",
       "            (LayerNorm): LayerNorm((768,), eps=1e-12, elementwise_affine=True)\n",
       "            (dropout): Dropout(p=0.1, inplace=False)\n",
       "          )\n",
       "        )\n",
       "        (2): BertLayer(\n",
       "          (attention): BertAttention(\n",
       "            (self): BertSelfAttention(\n",
       "              (query): Linear(in_features=768, out_features=768, bias=True)\n",
       "              (key): Linear(in_features=768, out_features=768, bias=True)\n",
       "              (value): Linear(in_features=768, out_features=768, bias=True)\n",
       "              (dropout): Dropout(p=0.1, inplace=False)\n",
       "            )\n",
       "            (output): BertSelfOutput(\n",
       "              (dense): Linear(in_features=768, out_features=768, bias=True)\n",
       "              (LayerNorm): LayerNorm((768,), eps=1e-12, elementwise_affine=True)\n",
       "              (dropout): Dropout(p=0.1, inplace=False)\n",
       "            )\n",
       "          )\n",
       "          (intermediate): BertIntermediate(\n",
       "            (dense): Linear(in_features=768, out_features=3072, bias=True)\n",
       "          )\n",
       "          (output): BertOutput(\n",
       "            (dense): Linear(in_features=3072, out_features=768, bias=True)\n",
       "            (LayerNorm): LayerNorm((768,), eps=1e-12, elementwise_affine=True)\n",
       "            (dropout): Dropout(p=0.1, inplace=False)\n",
       "          )\n",
       "        )\n",
       "        (3): BertLayer(\n",
       "          (attention): BertAttention(\n",
       "            (self): BertSelfAttention(\n",
       "              (query): Linear(in_features=768, out_features=768, bias=True)\n",
       "              (key): Linear(in_features=768, out_features=768, bias=True)\n",
       "              (value): Linear(in_features=768, out_features=768, bias=True)\n",
       "              (dropout): Dropout(p=0.1, inplace=False)\n",
       "            )\n",
       "            (output): BertSelfOutput(\n",
       "              (dense): Linear(in_features=768, out_features=768, bias=True)\n",
       "              (LayerNorm): LayerNorm((768,), eps=1e-12, elementwise_affine=True)\n",
       "              (dropout): Dropout(p=0.1, inplace=False)\n",
       "            )\n",
       "          )\n",
       "          (intermediate): BertIntermediate(\n",
       "            (dense): Linear(in_features=768, out_features=3072, bias=True)\n",
       "          )\n",
       "          (output): BertOutput(\n",
       "            (dense): Linear(in_features=3072, out_features=768, bias=True)\n",
       "            (LayerNorm): LayerNorm((768,), eps=1e-12, elementwise_affine=True)\n",
       "            (dropout): Dropout(p=0.1, inplace=False)\n",
       "          )\n",
       "        )\n",
       "        (4): BertLayer(\n",
       "          (attention): BertAttention(\n",
       "            (self): BertSelfAttention(\n",
       "              (query): Linear(in_features=768, out_features=768, bias=True)\n",
       "              (key): Linear(in_features=768, out_features=768, bias=True)\n",
       "              (value): Linear(in_features=768, out_features=768, bias=True)\n",
       "              (dropout): Dropout(p=0.1, inplace=False)\n",
       "            )\n",
       "            (output): BertSelfOutput(\n",
       "              (dense): Linear(in_features=768, out_features=768, bias=True)\n",
       "              (LayerNorm): LayerNorm((768,), eps=1e-12, elementwise_affine=True)\n",
       "              (dropout): Dropout(p=0.1, inplace=False)\n",
       "            )\n",
       "          )\n",
       "          (intermediate): BertIntermediate(\n",
       "            (dense): Linear(in_features=768, out_features=3072, bias=True)\n",
       "          )\n",
       "          (output): BertOutput(\n",
       "            (dense): Linear(in_features=3072, out_features=768, bias=True)\n",
       "            (LayerNorm): LayerNorm((768,), eps=1e-12, elementwise_affine=True)\n",
       "            (dropout): Dropout(p=0.1, inplace=False)\n",
       "          )\n",
       "        )\n",
       "        (5): BertLayer(\n",
       "          (attention): BertAttention(\n",
       "            (self): BertSelfAttention(\n",
       "              (query): Linear(in_features=768, out_features=768, bias=True)\n",
       "              (key): Linear(in_features=768, out_features=768, bias=True)\n",
       "              (value): Linear(in_features=768, out_features=768, bias=True)\n",
       "              (dropout): Dropout(p=0.1, inplace=False)\n",
       "            )\n",
       "            (output): BertSelfOutput(\n",
       "              (dense): Linear(in_features=768, out_features=768, bias=True)\n",
       "              (LayerNorm): LayerNorm((768,), eps=1e-12, elementwise_affine=True)\n",
       "              (dropout): Dropout(p=0.1, inplace=False)\n",
       "            )\n",
       "          )\n",
       "          (intermediate): BertIntermediate(\n",
       "            (dense): Linear(in_features=768, out_features=3072, bias=True)\n",
       "          )\n",
       "          (output): BertOutput(\n",
       "            (dense): Linear(in_features=3072, out_features=768, bias=True)\n",
       "            (LayerNorm): LayerNorm((768,), eps=1e-12, elementwise_affine=True)\n",
       "            (dropout): Dropout(p=0.1, inplace=False)\n",
       "          )\n",
       "        )\n",
       "        (6): BertLayer(\n",
       "          (attention): BertAttention(\n",
       "            (self): BertSelfAttention(\n",
       "              (query): Linear(in_features=768, out_features=768, bias=True)\n",
       "              (key): Linear(in_features=768, out_features=768, bias=True)\n",
       "              (value): Linear(in_features=768, out_features=768, bias=True)\n",
       "              (dropout): Dropout(p=0.1, inplace=False)\n",
       "            )\n",
       "            (output): BertSelfOutput(\n",
       "              (dense): Linear(in_features=768, out_features=768, bias=True)\n",
       "              (LayerNorm): LayerNorm((768,), eps=1e-12, elementwise_affine=True)\n",
       "              (dropout): Dropout(p=0.1, inplace=False)\n",
       "            )\n",
       "          )\n",
       "          (intermediate): BertIntermediate(\n",
       "            (dense): Linear(in_features=768, out_features=3072, bias=True)\n",
       "          )\n",
       "          (output): BertOutput(\n",
       "            (dense): Linear(in_features=3072, out_features=768, bias=True)\n",
       "            (LayerNorm): LayerNorm((768,), eps=1e-12, elementwise_affine=True)\n",
       "            (dropout): Dropout(p=0.1, inplace=False)\n",
       "          )\n",
       "        )\n",
       "        (7): BertLayer(\n",
       "          (attention): BertAttention(\n",
       "            (self): BertSelfAttention(\n",
       "              (query): Linear(in_features=768, out_features=768, bias=True)\n",
       "              (key): Linear(in_features=768, out_features=768, bias=True)\n",
       "              (value): Linear(in_features=768, out_features=768, bias=True)\n",
       "              (dropout): Dropout(p=0.1, inplace=False)\n",
       "            )\n",
       "            (output): BertSelfOutput(\n",
       "              (dense): Linear(in_features=768, out_features=768, bias=True)\n",
       "              (LayerNorm): LayerNorm((768,), eps=1e-12, elementwise_affine=True)\n",
       "              (dropout): Dropout(p=0.1, inplace=False)\n",
       "            )\n",
       "          )\n",
       "          (intermediate): BertIntermediate(\n",
       "            (dense): Linear(in_features=768, out_features=3072, bias=True)\n",
       "          )\n",
       "          (output): BertOutput(\n",
       "            (dense): Linear(in_features=3072, out_features=768, bias=True)\n",
       "            (LayerNorm): LayerNorm((768,), eps=1e-12, elementwise_affine=True)\n",
       "            (dropout): Dropout(p=0.1, inplace=False)\n",
       "          )\n",
       "        )\n",
       "        (8): BertLayer(\n",
       "          (attention): BertAttention(\n",
       "            (self): BertSelfAttention(\n",
       "              (query): Linear(in_features=768, out_features=768, bias=True)\n",
       "              (key): Linear(in_features=768, out_features=768, bias=True)\n",
       "              (value): Linear(in_features=768, out_features=768, bias=True)\n",
       "              (dropout): Dropout(p=0.1, inplace=False)\n",
       "            )\n",
       "            (output): BertSelfOutput(\n",
       "              (dense): Linear(in_features=768, out_features=768, bias=True)\n",
       "              (LayerNorm): LayerNorm((768,), eps=1e-12, elementwise_affine=True)\n",
       "              (dropout): Dropout(p=0.1, inplace=False)\n",
       "            )\n",
       "          )\n",
       "          (intermediate): BertIntermediate(\n",
       "            (dense): Linear(in_features=768, out_features=3072, bias=True)\n",
       "          )\n",
       "          (output): BertOutput(\n",
       "            (dense): Linear(in_features=3072, out_features=768, bias=True)\n",
       "            (LayerNorm): LayerNorm((768,), eps=1e-12, elementwise_affine=True)\n",
       "            (dropout): Dropout(p=0.1, inplace=False)\n",
       "          )\n",
       "        )\n",
       "        (9): BertLayer(\n",
       "          (attention): BertAttention(\n",
       "            (self): BertSelfAttention(\n",
       "              (query): Linear(in_features=768, out_features=768, bias=True)\n",
       "              (key): Linear(in_features=768, out_features=768, bias=True)\n",
       "              (value): Linear(in_features=768, out_features=768, bias=True)\n",
       "              (dropout): Dropout(p=0.1, inplace=False)\n",
       "            )\n",
       "            (output): BertSelfOutput(\n",
       "              (dense): Linear(in_features=768, out_features=768, bias=True)\n",
       "              (LayerNorm): LayerNorm((768,), eps=1e-12, elementwise_affine=True)\n",
       "              (dropout): Dropout(p=0.1, inplace=False)\n",
       "            )\n",
       "          )\n",
       "          (intermediate): BertIntermediate(\n",
       "            (dense): Linear(in_features=768, out_features=3072, bias=True)\n",
       "          )\n",
       "          (output): BertOutput(\n",
       "            (dense): Linear(in_features=3072, out_features=768, bias=True)\n",
       "            (LayerNorm): LayerNorm((768,), eps=1e-12, elementwise_affine=True)\n",
       "            (dropout): Dropout(p=0.1, inplace=False)\n",
       "          )\n",
       "        )\n",
       "        (10): BertLayer(\n",
       "          (attention): BertAttention(\n",
       "            (self): BertSelfAttention(\n",
       "              (query): Linear(in_features=768, out_features=768, bias=True)\n",
       "              (key): Linear(in_features=768, out_features=768, bias=True)\n",
       "              (value): Linear(in_features=768, out_features=768, bias=True)\n",
       "              (dropout): Dropout(p=0.1, inplace=False)\n",
       "            )\n",
       "            (output): BertSelfOutput(\n",
       "              (dense): Linear(in_features=768, out_features=768, bias=True)\n",
       "              (LayerNorm): LayerNorm((768,), eps=1e-12, elementwise_affine=True)\n",
       "              (dropout): Dropout(p=0.1, inplace=False)\n",
       "            )\n",
       "          )\n",
       "          (intermediate): BertIntermediate(\n",
       "            (dense): Linear(in_features=768, out_features=3072, bias=True)\n",
       "          )\n",
       "          (output): BertOutput(\n",
       "            (dense): Linear(in_features=3072, out_features=768, bias=True)\n",
       "            (LayerNorm): LayerNorm((768,), eps=1e-12, elementwise_affine=True)\n",
       "            (dropout): Dropout(p=0.1, inplace=False)\n",
       "          )\n",
       "        )\n",
       "        (11): BertLayer(\n",
       "          (attention): BertAttention(\n",
       "            (self): BertSelfAttention(\n",
       "              (query): Linear(in_features=768, out_features=768, bias=True)\n",
       "              (key): Linear(in_features=768, out_features=768, bias=True)\n",
       "              (value): Linear(in_features=768, out_features=768, bias=True)\n",
       "              (dropout): Dropout(p=0.1, inplace=False)\n",
       "            )\n",
       "            (output): BertSelfOutput(\n",
       "              (dense): Linear(in_features=768, out_features=768, bias=True)\n",
       "              (LayerNorm): LayerNorm((768,), eps=1e-12, elementwise_affine=True)\n",
       "              (dropout): Dropout(p=0.1, inplace=False)\n",
       "            )\n",
       "          )\n",
       "          (intermediate): BertIntermediate(\n",
       "            (dense): Linear(in_features=768, out_features=3072, bias=True)\n",
       "          )\n",
       "          (output): BertOutput(\n",
       "            (dense): Linear(in_features=3072, out_features=768, bias=True)\n",
       "            (LayerNorm): LayerNorm((768,), eps=1e-12, elementwise_affine=True)\n",
       "            (dropout): Dropout(p=0.1, inplace=False)\n",
       "          )\n",
       "        )\n",
       "      )\n",
       "    )\n",
       "    (pooler): BertPooler(\n",
       "      (dense): Linear(in_features=768, out_features=768, bias=True)\n",
       "      (activation): Tanh()\n",
       "    )\n",
       "  )\n",
       "  (dropout): Dropout(p=0.1, inplace=False)\n",
       "  (classifier): Linear(in_features=768, out_features=2, bias=True)\n",
       ")"
      ]
     },
     "execution_count": 11,
     "metadata": {},
     "output_type": "execute_result"
    }
   ],
   "source": [
    "\n",
    "\n",
    "# Load BertForSequenceClassification, the pretrained BERT model with a single \n",
    "# linear classification layer on top. \n",
    "# model = BertForSequenceClassification.from_pretrained(\n",
    "#     \"bert-base-uncased\", # Use the 12-layer BERT model, with an uncased vocab.\n",
    "#     num_labels = 2, # The number of output labels--2 for binary classification.\n",
    "#                     # You can increase this for multi-class tasks.   \n",
    "#     output_attentions = False, # Whether the model returns attentions weights.\n",
    "#     output_hidden_states = False, # Whether the model returns all hidden-states.\n",
    "# )\n",
    "\n",
    "model = BertForSequenceClassification.from_pretrained(\n",
    "    \"emilyalsentzer/Bio_ClinicalBERT\", # Use the 12-layer BERT model, with an uncased vocab.\n",
    "    num_labels = 2, # The number of output labels--2 for binary classification.\n",
    "                    # You can increase this for multi-class tasks.   \n",
    "    output_attentions = False, # Whether the model returns attentions weights.\n",
    "    output_hidden_states = False, # Whether the model returns all hidden-states.\n",
    ")\n",
    "\n",
    "#set whether we want to freeze all layers other than the new classifier layer\n",
    "do_freezing = True\n",
    "if do_freezing:\n",
    "    for name, param in model.named_parameters():\n",
    "        if 'classifier' not in name: # classifier layer\n",
    "            param.requires_grad = False\n",
    "\n",
    "# Tell pytorch to run this model on the GPU.\n",
    "model.cuda()"
   ]
  },
  {
   "cell_type": "code",
   "execution_count": 10,
   "metadata": {},
   "outputs": [
    {
     "name": "stdout",
     "output_type": "stream",
     "text": [
      "Parameter containing:\n",
      "tensor([[ 0.0140, -0.0392, -0.0104,  ..., -0.0048, -0.0111, -0.0036],\n",
      "        [ 0.0318, -0.0003,  0.0041,  ..., -0.0078,  0.0085, -0.0164]],\n",
      "       requires_grad=True)\n",
      "Parameter containing:\n",
      "tensor([0., 0.], requires_grad=True)\n"
     ]
    }
   ],
   "source": [
    "for param in model.classifier.parameters():\n",
    "    print(param)"
   ]
  },
  {
   "cell_type": "markdown",
   "metadata": {},
   "source": [
    "# or load original clinicalBERT pretraining model\n",
    "\n"
   ]
  },
  {
   "cell_type": "code",
   "execution_count": 12,
   "metadata": {},
   "outputs": [
    {
     "data": {
      "text/plain": [
       "BertForSequenceClassification(\n",
       "  (bert): BertModel(\n",
       "    (embeddings): BertEmbeddings(\n",
       "      (word_embeddings): Embedding(30522, 768, padding_idx=0)\n",
       "      (position_embeddings): Embedding(512, 768)\n",
       "      (token_type_embeddings): Embedding(2, 768)\n",
       "      (LayerNorm): LayerNorm((768,), eps=1e-12, elementwise_affine=True)\n",
       "      (dropout): Dropout(p=0.1, inplace=False)\n",
       "    )\n",
       "    (encoder): BertEncoder(\n",
       "      (layer): ModuleList(\n",
       "        (0): BertLayer(\n",
       "          (attention): BertAttention(\n",
       "            (self): BertSelfAttention(\n",
       "              (query): Linear(in_features=768, out_features=768, bias=True)\n",
       "              (key): Linear(in_features=768, out_features=768, bias=True)\n",
       "              (value): Linear(in_features=768, out_features=768, bias=True)\n",
       "              (dropout): Dropout(p=0.1, inplace=False)\n",
       "            )\n",
       "            (output): BertSelfOutput(\n",
       "              (dense): Linear(in_features=768, out_features=768, bias=True)\n",
       "              (LayerNorm): LayerNorm((768,), eps=1e-12, elementwise_affine=True)\n",
       "              (dropout): Dropout(p=0.1, inplace=False)\n",
       "            )\n",
       "          )\n",
       "          (intermediate): BertIntermediate(\n",
       "            (dense): Linear(in_features=768, out_features=3072, bias=True)\n",
       "          )\n",
       "          (output): BertOutput(\n",
       "            (dense): Linear(in_features=3072, out_features=768, bias=True)\n",
       "            (LayerNorm): LayerNorm((768,), eps=1e-12, elementwise_affine=True)\n",
       "            (dropout): Dropout(p=0.1, inplace=False)\n",
       "          )\n",
       "        )\n",
       "        (1): BertLayer(\n",
       "          (attention): BertAttention(\n",
       "            (self): BertSelfAttention(\n",
       "              (query): Linear(in_features=768, out_features=768, bias=True)\n",
       "              (key): Linear(in_features=768, out_features=768, bias=True)\n",
       "              (value): Linear(in_features=768, out_features=768, bias=True)\n",
       "              (dropout): Dropout(p=0.1, inplace=False)\n",
       "            )\n",
       "            (output): BertSelfOutput(\n",
       "              (dense): Linear(in_features=768, out_features=768, bias=True)\n",
       "              (LayerNorm): LayerNorm((768,), eps=1e-12, elementwise_affine=True)\n",
       "              (dropout): Dropout(p=0.1, inplace=False)\n",
       "            )\n",
       "          )\n",
       "          (intermediate): BertIntermediate(\n",
       "            (dense): Linear(in_features=768, out_features=3072, bias=True)\n",
       "          )\n",
       "          (output): BertOutput(\n",
       "            (dense): Linear(in_features=3072, out_features=768, bias=True)\n",
       "            (LayerNorm): LayerNorm((768,), eps=1e-12, elementwise_affine=True)\n",
       "            (dropout): Dropout(p=0.1, inplace=False)\n",
       "          )\n",
       "        )\n",
       "        (2): BertLayer(\n",
       "          (attention): BertAttention(\n",
       "            (self): BertSelfAttention(\n",
       "              (query): Linear(in_features=768, out_features=768, bias=True)\n",
       "              (key): Linear(in_features=768, out_features=768, bias=True)\n",
       "              (value): Linear(in_features=768, out_features=768, bias=True)\n",
       "              (dropout): Dropout(p=0.1, inplace=False)\n",
       "            )\n",
       "            (output): BertSelfOutput(\n",
       "              (dense): Linear(in_features=768, out_features=768, bias=True)\n",
       "              (LayerNorm): LayerNorm((768,), eps=1e-12, elementwise_affine=True)\n",
       "              (dropout): Dropout(p=0.1, inplace=False)\n",
       "            )\n",
       "          )\n",
       "          (intermediate): BertIntermediate(\n",
       "            (dense): Linear(in_features=768, out_features=3072, bias=True)\n",
       "          )\n",
       "          (output): BertOutput(\n",
       "            (dense): Linear(in_features=3072, out_features=768, bias=True)\n",
       "            (LayerNorm): LayerNorm((768,), eps=1e-12, elementwise_affine=True)\n",
       "            (dropout): Dropout(p=0.1, inplace=False)\n",
       "          )\n",
       "        )\n",
       "        (3): BertLayer(\n",
       "          (attention): BertAttention(\n",
       "            (self): BertSelfAttention(\n",
       "              (query): Linear(in_features=768, out_features=768, bias=True)\n",
       "              (key): Linear(in_features=768, out_features=768, bias=True)\n",
       "              (value): Linear(in_features=768, out_features=768, bias=True)\n",
       "              (dropout): Dropout(p=0.1, inplace=False)\n",
       "            )\n",
       "            (output): BertSelfOutput(\n",
       "              (dense): Linear(in_features=768, out_features=768, bias=True)\n",
       "              (LayerNorm): LayerNorm((768,), eps=1e-12, elementwise_affine=True)\n",
       "              (dropout): Dropout(p=0.1, inplace=False)\n",
       "            )\n",
       "          )\n",
       "          (intermediate): BertIntermediate(\n",
       "            (dense): Linear(in_features=768, out_features=3072, bias=True)\n",
       "          )\n",
       "          (output): BertOutput(\n",
       "            (dense): Linear(in_features=3072, out_features=768, bias=True)\n",
       "            (LayerNorm): LayerNorm((768,), eps=1e-12, elementwise_affine=True)\n",
       "            (dropout): Dropout(p=0.1, inplace=False)\n",
       "          )\n",
       "        )\n",
       "        (4): BertLayer(\n",
       "          (attention): BertAttention(\n",
       "            (self): BertSelfAttention(\n",
       "              (query): Linear(in_features=768, out_features=768, bias=True)\n",
       "              (key): Linear(in_features=768, out_features=768, bias=True)\n",
       "              (value): Linear(in_features=768, out_features=768, bias=True)\n",
       "              (dropout): Dropout(p=0.1, inplace=False)\n",
       "            )\n",
       "            (output): BertSelfOutput(\n",
       "              (dense): Linear(in_features=768, out_features=768, bias=True)\n",
       "              (LayerNorm): LayerNorm((768,), eps=1e-12, elementwise_affine=True)\n",
       "              (dropout): Dropout(p=0.1, inplace=False)\n",
       "            )\n",
       "          )\n",
       "          (intermediate): BertIntermediate(\n",
       "            (dense): Linear(in_features=768, out_features=3072, bias=True)\n",
       "          )\n",
       "          (output): BertOutput(\n",
       "            (dense): Linear(in_features=3072, out_features=768, bias=True)\n",
       "            (LayerNorm): LayerNorm((768,), eps=1e-12, elementwise_affine=True)\n",
       "            (dropout): Dropout(p=0.1, inplace=False)\n",
       "          )\n",
       "        )\n",
       "        (5): BertLayer(\n",
       "          (attention): BertAttention(\n",
       "            (self): BertSelfAttention(\n",
       "              (query): Linear(in_features=768, out_features=768, bias=True)\n",
       "              (key): Linear(in_features=768, out_features=768, bias=True)\n",
       "              (value): Linear(in_features=768, out_features=768, bias=True)\n",
       "              (dropout): Dropout(p=0.1, inplace=False)\n",
       "            )\n",
       "            (output): BertSelfOutput(\n",
       "              (dense): Linear(in_features=768, out_features=768, bias=True)\n",
       "              (LayerNorm): LayerNorm((768,), eps=1e-12, elementwise_affine=True)\n",
       "              (dropout): Dropout(p=0.1, inplace=False)\n",
       "            )\n",
       "          )\n",
       "          (intermediate): BertIntermediate(\n",
       "            (dense): Linear(in_features=768, out_features=3072, bias=True)\n",
       "          )\n",
       "          (output): BertOutput(\n",
       "            (dense): Linear(in_features=3072, out_features=768, bias=True)\n",
       "            (LayerNorm): LayerNorm((768,), eps=1e-12, elementwise_affine=True)\n",
       "            (dropout): Dropout(p=0.1, inplace=False)\n",
       "          )\n",
       "        )\n",
       "        (6): BertLayer(\n",
       "          (attention): BertAttention(\n",
       "            (self): BertSelfAttention(\n",
       "              (query): Linear(in_features=768, out_features=768, bias=True)\n",
       "              (key): Linear(in_features=768, out_features=768, bias=True)\n",
       "              (value): Linear(in_features=768, out_features=768, bias=True)\n",
       "              (dropout): Dropout(p=0.1, inplace=False)\n",
       "            )\n",
       "            (output): BertSelfOutput(\n",
       "              (dense): Linear(in_features=768, out_features=768, bias=True)\n",
       "              (LayerNorm): LayerNorm((768,), eps=1e-12, elementwise_affine=True)\n",
       "              (dropout): Dropout(p=0.1, inplace=False)\n",
       "            )\n",
       "          )\n",
       "          (intermediate): BertIntermediate(\n",
       "            (dense): Linear(in_features=768, out_features=3072, bias=True)\n",
       "          )\n",
       "          (output): BertOutput(\n",
       "            (dense): Linear(in_features=3072, out_features=768, bias=True)\n",
       "            (LayerNorm): LayerNorm((768,), eps=1e-12, elementwise_affine=True)\n",
       "            (dropout): Dropout(p=0.1, inplace=False)\n",
       "          )\n",
       "        )\n",
       "        (7): BertLayer(\n",
       "          (attention): BertAttention(\n",
       "            (self): BertSelfAttention(\n",
       "              (query): Linear(in_features=768, out_features=768, bias=True)\n",
       "              (key): Linear(in_features=768, out_features=768, bias=True)\n",
       "              (value): Linear(in_features=768, out_features=768, bias=True)\n",
       "              (dropout): Dropout(p=0.1, inplace=False)\n",
       "            )\n",
       "            (output): BertSelfOutput(\n",
       "              (dense): Linear(in_features=768, out_features=768, bias=True)\n",
       "              (LayerNorm): LayerNorm((768,), eps=1e-12, elementwise_affine=True)\n",
       "              (dropout): Dropout(p=0.1, inplace=False)\n",
       "            )\n",
       "          )\n",
       "          (intermediate): BertIntermediate(\n",
       "            (dense): Linear(in_features=768, out_features=3072, bias=True)\n",
       "          )\n",
       "          (output): BertOutput(\n",
       "            (dense): Linear(in_features=3072, out_features=768, bias=True)\n",
       "            (LayerNorm): LayerNorm((768,), eps=1e-12, elementwise_affine=True)\n",
       "            (dropout): Dropout(p=0.1, inplace=False)\n",
       "          )\n",
       "        )\n",
       "        (8): BertLayer(\n",
       "          (attention): BertAttention(\n",
       "            (self): BertSelfAttention(\n",
       "              (query): Linear(in_features=768, out_features=768, bias=True)\n",
       "              (key): Linear(in_features=768, out_features=768, bias=True)\n",
       "              (value): Linear(in_features=768, out_features=768, bias=True)\n",
       "              (dropout): Dropout(p=0.1, inplace=False)\n",
       "            )\n",
       "            (output): BertSelfOutput(\n",
       "              (dense): Linear(in_features=768, out_features=768, bias=True)\n",
       "              (LayerNorm): LayerNorm((768,), eps=1e-12, elementwise_affine=True)\n",
       "              (dropout): Dropout(p=0.1, inplace=False)\n",
       "            )\n",
       "          )\n",
       "          (intermediate): BertIntermediate(\n",
       "            (dense): Linear(in_features=768, out_features=3072, bias=True)\n",
       "          )\n",
       "          (output): BertOutput(\n",
       "            (dense): Linear(in_features=3072, out_features=768, bias=True)\n",
       "            (LayerNorm): LayerNorm((768,), eps=1e-12, elementwise_affine=True)\n",
       "            (dropout): Dropout(p=0.1, inplace=False)\n",
       "          )\n",
       "        )\n",
       "        (9): BertLayer(\n",
       "          (attention): BertAttention(\n",
       "            (self): BertSelfAttention(\n",
       "              (query): Linear(in_features=768, out_features=768, bias=True)\n",
       "              (key): Linear(in_features=768, out_features=768, bias=True)\n",
       "              (value): Linear(in_features=768, out_features=768, bias=True)\n",
       "              (dropout): Dropout(p=0.1, inplace=False)\n",
       "            )\n",
       "            (output): BertSelfOutput(\n",
       "              (dense): Linear(in_features=768, out_features=768, bias=True)\n",
       "              (LayerNorm): LayerNorm((768,), eps=1e-12, elementwise_affine=True)\n",
       "              (dropout): Dropout(p=0.1, inplace=False)\n",
       "            )\n",
       "          )\n",
       "          (intermediate): BertIntermediate(\n",
       "            (dense): Linear(in_features=768, out_features=3072, bias=True)\n",
       "          )\n",
       "          (output): BertOutput(\n",
       "            (dense): Linear(in_features=3072, out_features=768, bias=True)\n",
       "            (LayerNorm): LayerNorm((768,), eps=1e-12, elementwise_affine=True)\n",
       "            (dropout): Dropout(p=0.1, inplace=False)\n",
       "          )\n",
       "        )\n",
       "        (10): BertLayer(\n",
       "          (attention): BertAttention(\n",
       "            (self): BertSelfAttention(\n",
       "              (query): Linear(in_features=768, out_features=768, bias=True)\n",
       "              (key): Linear(in_features=768, out_features=768, bias=True)\n",
       "              (value): Linear(in_features=768, out_features=768, bias=True)\n",
       "              (dropout): Dropout(p=0.1, inplace=False)\n",
       "            )\n",
       "            (output): BertSelfOutput(\n",
       "              (dense): Linear(in_features=768, out_features=768, bias=True)\n",
       "              (LayerNorm): LayerNorm((768,), eps=1e-12, elementwise_affine=True)\n",
       "              (dropout): Dropout(p=0.1, inplace=False)\n",
       "            )\n",
       "          )\n",
       "          (intermediate): BertIntermediate(\n",
       "            (dense): Linear(in_features=768, out_features=3072, bias=True)\n",
       "          )\n",
       "          (output): BertOutput(\n",
       "            (dense): Linear(in_features=3072, out_features=768, bias=True)\n",
       "            (LayerNorm): LayerNorm((768,), eps=1e-12, elementwise_affine=True)\n",
       "            (dropout): Dropout(p=0.1, inplace=False)\n",
       "          )\n",
       "        )\n",
       "        (11): BertLayer(\n",
       "          (attention): BertAttention(\n",
       "            (self): BertSelfAttention(\n",
       "              (query): Linear(in_features=768, out_features=768, bias=True)\n",
       "              (key): Linear(in_features=768, out_features=768, bias=True)\n",
       "              (value): Linear(in_features=768, out_features=768, bias=True)\n",
       "              (dropout): Dropout(p=0.1, inplace=False)\n",
       "            )\n",
       "            (output): BertSelfOutput(\n",
       "              (dense): Linear(in_features=768, out_features=768, bias=True)\n",
       "              (LayerNorm): LayerNorm((768,), eps=1e-12, elementwise_affine=True)\n",
       "              (dropout): Dropout(p=0.1, inplace=False)\n",
       "            )\n",
       "          )\n",
       "          (intermediate): BertIntermediate(\n",
       "            (dense): Linear(in_features=768, out_features=3072, bias=True)\n",
       "          )\n",
       "          (output): BertOutput(\n",
       "            (dense): Linear(in_features=3072, out_features=768, bias=True)\n",
       "            (LayerNorm): LayerNorm((768,), eps=1e-12, elementwise_affine=True)\n",
       "            (dropout): Dropout(p=0.1, inplace=False)\n",
       "          )\n",
       "        )\n",
       "      )\n",
       "    )\n",
       "    (pooler): BertPooler(\n",
       "      (dense): Linear(in_features=768, out_features=768, bias=True)\n",
       "      (activation): Tanh()\n",
       "    )\n",
       "  )\n",
       "  (dropout): Dropout(p=0.1, inplace=False)\n",
       "  (classifier): Linear(in_features=768, out_features=2, bias=True)\n",
       ")"
      ]
     },
     "execution_count": 12,
     "metadata": {},
     "output_type": "execute_result"
    }
   ],
   "source": [
    "# from transformers import BertForSequenceClassification, AdamW, BertConfig\n",
    "\n",
    "# model = BertForSequenceClassification.from_pretrained(\n",
    "#     \"./model/pretraining/\", # Use the 12-layer BERT model, with an uncased vocab.\n",
    "#     num_labels = 2, # The number of output labels--2 for binary classification.\n",
    "#                     # You can increase this for multi-class tasks.   \n",
    "#     output_attentions = False, # Whether the model returns attentions weights.\n",
    "#     output_hidden_states = False, # Whether the model returns all hidden-states.\n",
    "# )\n",
    "\n",
    "# # Tell pytorch to run this model on the GPU.\n",
    "# model.cuda()"
   ]
  },
  {
   "cell_type": "markdown",
   "metadata": {
    "id": "e0Jv6c7-HHDW"
   },
   "source": [
    "Just for curiosity's sake, we can browse all of the model's parameters by name here.\n",
    "\n",
    "In the below cell, I've printed out the names and dimensions of the weights for:\n",
    "\n",
    "1. The embedding layer.\n",
    "2. The first of the twelve transformers.\n",
    "3. The output layer.\n",
    "\n",
    "\n"
   ]
  },
  {
   "cell_type": "code",
   "execution_count": 12,
   "metadata": {
    "colab": {
     "base_uri": "https://localhost:8080/"
    },
    "id": "8PIiVlDYCtSq",
    "outputId": "7430f38d-de86-4488-bb92-6a9b0142b3af"
   },
   "outputs": [
    {
     "name": "stdout",
     "output_type": "stream",
     "text": [
      "The BERT model has 201 different named parameters.\n",
      "\n",
      "==== Embedding Layer ====\n",
      "\n",
      "bert.embeddings.word_embeddings.weight                  (28996, 768)\n",
      "bert.embeddings.position_embeddings.weight                (512, 768)\n",
      "bert.embeddings.token_type_embeddings.weight                (2, 768)\n",
      "bert.embeddings.LayerNorm.weight                              (768,)\n",
      "bert.embeddings.LayerNorm.bias                                (768,)\n",
      "\n",
      "==== First Transformer ====\n",
      "\n",
      "bert.encoder.layer.0.attention.self.query.weight          (768, 768)\n",
      "bert.encoder.layer.0.attention.self.query.bias                (768,)\n",
      "bert.encoder.layer.0.attention.self.key.weight            (768, 768)\n",
      "bert.encoder.layer.0.attention.self.key.bias                  (768,)\n",
      "bert.encoder.layer.0.attention.self.value.weight          (768, 768)\n",
      "bert.encoder.layer.0.attention.self.value.bias                (768,)\n",
      "bert.encoder.layer.0.attention.output.dense.weight        (768, 768)\n",
      "bert.encoder.layer.0.attention.output.dense.bias              (768,)\n",
      "bert.encoder.layer.0.attention.output.LayerNorm.weight        (768,)\n",
      "bert.encoder.layer.0.attention.output.LayerNorm.bias          (768,)\n",
      "bert.encoder.layer.0.intermediate.dense.weight           (3072, 768)\n",
      "bert.encoder.layer.0.intermediate.dense.bias                 (3072,)\n",
      "bert.encoder.layer.0.output.dense.weight                 (768, 3072)\n",
      "bert.encoder.layer.0.output.dense.bias                        (768,)\n",
      "bert.encoder.layer.0.output.LayerNorm.weight                  (768,)\n",
      "bert.encoder.layer.0.output.LayerNorm.bias                    (768,)\n",
      "\n",
      "==== Output Layer ====\n",
      "\n",
      "bert.pooler.dense.weight                                  (768, 768)\n",
      "bert.pooler.dense.bias                                        (768,)\n",
      "classifier.weight                                           (2, 768)\n",
      "classifier.bias                                                 (2,)\n"
     ]
    }
   ],
   "source": [
    "# Get all of the model's parameters as a list of tuples.\n",
    "params = list(model.named_parameters())\n",
    "\n",
    "print('The BERT model has {:} different named parameters.\\n'.format(len(params)))\n",
    "\n",
    "print('==== Embedding Layer ====\\n')\n",
    "\n",
    "for p in params[0:5]:\n",
    "    print(\"{:<55} {:>12}\".format(p[0], str(tuple(p[1].size()))))\n",
    "\n",
    "print('\\n==== First Transformer ====\\n')\n",
    "\n",
    "for p in params[5:21]:\n",
    "    print(\"{:<55} {:>12}\".format(p[0], str(tuple(p[1].size()))))\n",
    "\n",
    "print('\\n==== Output Layer ====\\n')\n",
    "\n",
    "for p in params[-4:]:\n",
    "    print(\"{:<55} {:>12}\".format(p[0], str(tuple(p[1].size()))))"
   ]
  },
  {
   "cell_type": "markdown",
   "metadata": {
    "id": "qRWT-D4U_Pvx"
   },
   "source": [
    "## 4.2. Optimizer & Learning Rate Scheduler"
   ]
  },
  {
   "cell_type": "markdown",
   "metadata": {
    "id": "8o-VEBobKwHk"
   },
   "source": [
    "Now that we have our model loaded we need to grab the training hyperparameters from within the stored model.\n",
    "\n",
    "For the purposes of fine-tuning, the authors recommend choosing from the following values (from Appendix A.3 of the [BERT paper](https://arxiv.org/pdf/1810.04805.pdf)):\n",
    "\n",
    ">- **Batch size:** 16, 32  \n",
    "- **Learning rate (Adam):** 5e-5, 3e-5, 2e-5  \n",
    "- **Number of epochs:** 2, 3, 4 \n",
    "\n",
    "We chose:\n",
    "* Batch size: 32 (set when creating our DataLoaders)\n",
    "* Learning rate: 2e-5\n",
    "* Epochs: 4 (we'll see that this is probably too many...)\n",
    "\n",
    "The epsilon parameter `eps = 1e-8` is \"a very small number to prevent any division by zero in the implementation\" (from [here](https://machinelearningmastery.com/adam-optimization-algorithm-for-deep-learning/)).\n",
    "\n",
    "You can find the creation of the AdamW optimizer in `run_glue.py` [here](https://github.com/huggingface/transformers/blob/5bfcd0485ece086ebcbed2d008813037968a9e58/examples/run_glue.py#L109)."
   ]
  },
  {
   "cell_type": "code",
   "execution_count": 19,
   "metadata": {},
   "outputs": [
    {
     "name": "stdout",
     "output_type": "stream",
     "text": [
      "2e-05\n"
     ]
    }
   ],
   "source": [
    "# no_decay = ['bias', 'gamma', 'beta']\n",
    "# optimizer_grouped_parameters = [\n",
    "#     {'params': [p for n, p in param_optimizer if not any(nd in n for nd in no_decay)], 'weight_decay_rate': 0.01},\n",
    "#     {'params': [p for n, p in param_optimizer if any(nd in n for nd in no_decay)], 'weight_decay_rate': 0.0}\n",
    "#     ]\n",
    "# optimizer = BertAdam(optimizer_grouped_parameters,\n",
    "#                      lr=learning_rate,\n",
    "#                      warmup=warmup_proportion,\n",
    "#                      t_total=num_train_steps)"
   ]
  },
  {
   "cell_type": "code",
   "execution_count": 14,
   "metadata": {
    "id": "GLs72DuMODJO"
   },
   "outputs": [],
   "source": [
    "# Note: AdamW is a class from the huggingface library (as opposed to pytorch) \n",
    "# I believe the 'W' stands for 'Weight Decay fix\"\n",
    "optimizer = AdamW(model.parameters(),\n",
    "                  lr = 2e-5, # args.learning_rate - default is 5e-5, our notebook had 2e-5\n",
    "                  eps = 1e-8, # args.adam_epsilon  - default is 1e-8.\n",
    "                    correct_bias = False)\n"
   ]
  },
  {
   "cell_type": "code",
   "execution_count": 15,
   "metadata": {
    "id": "-p0upAhhRiIx"
   },
   "outputs": [],
   "source": [
    "from transformers import get_linear_schedule_with_warmup\n",
    "\n",
    "# Number of training epochs. The BERT authors recommend between 2 and 4. \n",
    "# We chose to run for 4, but we'll see later that this may be over-fitting the\n",
    "# training data.\n",
    "epochs = 4\n",
    "\n",
    "# Total number of training steps is [number of batches] x [number of epochs]. \n",
    "# (Note that this is not the same as the number of training samples).\n",
    "total_steps = len(train_dataloader) * epochs\n",
    "\n",
    "# Create the learning rate scheduler.\n",
    "scheduler = get_linear_schedule_with_warmup(optimizer, \n",
    "                                            num_warmup_steps = 0, # Default value in run_glue.py\n",
    "                                            num_training_steps = total_steps)"
   ]
  },
  {
   "cell_type": "markdown",
   "metadata": {
    "id": "RqfmWwUR_Sox"
   },
   "source": [
    "## 4.3. Training Loop"
   ]
  },
  {
   "cell_type": "markdown",
   "metadata": {
    "id": "_QXZhFb4LnV5"
   },
   "source": [
    "Below is our training loop. There's a lot going on, but fundamentally for each pass in our loop we have a trianing phase and a validation phase. \n",
    "\n",
    "> *Thank you to [Stas Bekman](https://ca.linkedin.com/in/stasbekman) for contributing the insights and code for using validation loss to detect over-fitting!*\n",
    "\n",
    "**Training:**\n",
    "- Unpack our data inputs and labels\n",
    "- Load data onto the GPU for acceleration\n",
    "- Clear out the gradients calculated in the previous pass. \n",
    "    - In pytorch the gradients accumulate by default (useful for things like RNNs) unless you explicitly clear them out.\n",
    "- Forward pass (feed input data through the network)\n",
    "- Backward pass (backpropagation)\n",
    "- Tell the network to update parameters with optimizer.step()\n",
    "- Track variables for monitoring progress\n",
    "\n",
    "**Evalution:**\n",
    "- Unpack our data inputs and labels\n",
    "- Load data onto the GPU for acceleration\n",
    "- Forward pass (feed input data through the network)\n",
    "- Compute loss on our validation data and track variables for monitoring progress\n",
    "\n",
    "Pytorch hides all of the detailed calculations from us, but we've commented the code to point out which of the above steps are happening on each line. \n",
    "\n",
    "> *PyTorch also has some [beginner tutorials](https://pytorch.org/tutorials/beginner/blitz/cifar10_tutorial.html#sphx-glr-beginner-blitz-cifar10-tutorial-py) which you may also find helpful.*"
   ]
  },
  {
   "cell_type": "markdown",
   "metadata": {
    "id": "pE5B99H5H2-W"
   },
   "source": [
    "Define a helper function for calculating accuracy."
   ]
  },
  {
   "cell_type": "code",
   "execution_count": 6,
   "metadata": {
    "id": "9cQNvaZ9bnyy"
   },
   "outputs": [],
   "source": [
    "import numpy as np\n",
    "\n",
    "# Function to calculate the accuracy of our predictions vs labels\n",
    "def flat_accuracy(preds, labels):\n",
    "    pred_flat = np.argmax(preds, axis=1).flatten()\n",
    "    labels_flat = labels.flatten()\n",
    "    return np.sum(pred_flat == labels_flat) / len(labels_flat)"
   ]
  },
  {
   "cell_type": "markdown",
   "metadata": {
    "id": "KNhRtWPXH9C3"
   },
   "source": [
    "Helper function for formatting elapsed times as `hh:mm:ss`\n"
   ]
  },
  {
   "cell_type": "code",
   "execution_count": 7,
   "metadata": {
    "id": "gpt6tR83keZD"
   },
   "outputs": [],
   "source": [
    "import time\n",
    "import datetime\n",
    "\n",
    "def format_time(elapsed):\n",
    "    '''\n",
    "    Takes a time in seconds and returns a string hh:mm:ss\n",
    "    '''\n",
    "    # Round to the nearest second.\n",
    "    elapsed_rounded = int(round((elapsed)))\n",
    "    \n",
    "    # Format as hh:mm:ss\n",
    "    return str(datetime.timedelta(seconds=elapsed_rounded))\n"
   ]
  },
  {
   "cell_type": "markdown",
   "metadata": {
    "id": "cfNIhN19te3N"
   },
   "source": [
    "We're ready to kick off the training!"
   ]
  },
  {
   "cell_type": "code",
   "execution_count": null,
   "metadata": {},
   "outputs": [],
   "source": [
    "# cell below is for training the classifier with 2 labels/outputsize"
   ]
  },
  {
   "cell_type": "code",
   "execution_count": 18,
   "metadata": {
    "colab": {
     "base_uri": "https://localhost:8080/"
    },
    "id": "6J-FYdx6nFE_",
    "outputId": "b2c3e30b-eb5d-4b13-a207-05a48a87ed2a"
   },
   "outputs": [
    {
     "name": "stderr",
     "output_type": "stream",
     "text": [
      "\r",
      "Epoch:   0%|          | 0/4 [00:00<?, ?it/s]"
     ]
    },
    {
     "name": "stdout",
     "output_type": "stream",
     "text": [
      "\n",
      "======== Epoch 1 / 4 ========\n",
      "Training...\n",
      "  Batch   500  of  1,494.    Elapsed: 0:02:49.\n",
      "  Batch 1,000  of  1,494.    Elapsed: 0:05:40.\n"
     ]
    },
    {
     "name": "stderr",
     "output_type": "stream",
     "text": [
      "\n",
      "  0%|          | 0/181 [00:00<?, ?it/s]\u001b[A"
     ]
    },
    {
     "name": "stdout",
     "output_type": "stream",
     "text": [
      "\n",
      "  Average training loss: 0.70\n",
      "  Training epcoh took: 0:08:28\n",
      "\n",
      "Running Validation...\n"
     ]
    },
    {
     "name": "stderr",
     "output_type": "stream",
     "text": [
      "\n",
      "  1%|          | 1/181 [00:00<00:57,  3.11it/s]\u001b[A\n",
      "  1%|          | 2/181 [00:00<00:57,  3.11it/s]\u001b[A\n",
      "  2%|▏         | 3/181 [00:00<00:57,  3.11it/s]\u001b[A\n",
      "  2%|▏         | 4/181 [00:01<00:56,  3.11it/s]\u001b[A\n",
      "  3%|▎         | 5/181 [00:01<00:56,  3.10it/s]\u001b[A\n",
      "  3%|▎         | 6/181 [00:01<00:56,  3.10it/s]\u001b[A\n",
      "  4%|▍         | 7/181 [00:02<00:55,  3.11it/s]\u001b[A\n",
      "  4%|▍         | 8/181 [00:02<00:55,  3.11it/s]\u001b[A\n",
      "  5%|▍         | 9/181 [00:02<00:55,  3.11it/s]\u001b[A\n",
      "  6%|▌         | 10/181 [00:03<00:55,  3.10it/s]\u001b[A\n",
      "  6%|▌         | 11/181 [00:03<00:54,  3.11it/s]\u001b[A\n",
      "  7%|▋         | 12/181 [00:03<00:54,  3.11it/s]\u001b[A\n",
      "  7%|▋         | 13/181 [00:04<00:54,  3.11it/s]\u001b[A\n",
      "  8%|▊         | 14/181 [00:04<00:53,  3.11it/s]\u001b[A\n",
      "  8%|▊         | 15/181 [00:04<00:53,  3.11it/s]\u001b[A\n",
      "  9%|▉         | 16/181 [00:05<00:53,  3.10it/s]\u001b[A\n",
      "  9%|▉         | 17/181 [00:05<00:52,  3.10it/s]\u001b[A\n",
      " 10%|▉         | 18/181 [00:05<00:52,  3.11it/s]\u001b[A\n",
      " 10%|█         | 19/181 [00:06<00:52,  3.11it/s]\u001b[A\n",
      " 11%|█         | 20/181 [00:06<00:51,  3.11it/s]\u001b[A\n",
      " 12%|█▏        | 21/181 [00:06<00:51,  3.12it/s]\u001b[A\n",
      " 12%|█▏        | 22/181 [00:07<00:51,  3.11it/s]\u001b[A\n",
      " 13%|█▎        | 23/181 [00:07<00:50,  3.12it/s]\u001b[A\n",
      " 13%|█▎        | 24/181 [00:07<00:50,  3.12it/s]\u001b[A\n",
      " 14%|█▍        | 25/181 [00:08<00:50,  3.11it/s]\u001b[A\n",
      " 14%|█▍        | 26/181 [00:08<00:49,  3.11it/s]\u001b[A\n",
      " 15%|█▍        | 27/181 [00:08<00:49,  3.11it/s]\u001b[A\n",
      " 15%|█▌        | 28/181 [00:09<00:49,  3.11it/s]\u001b[A\n",
      " 16%|█▌        | 29/181 [00:09<00:48,  3.11it/s]\u001b[A\n",
      " 17%|█▋        | 30/181 [00:09<00:48,  3.10it/s]\u001b[A\n",
      " 17%|█▋        | 31/181 [00:09<00:48,  3.10it/s]\u001b[A\n",
      " 18%|█▊        | 32/181 [00:10<00:48,  3.10it/s]\u001b[A\n",
      " 18%|█▊        | 33/181 [00:10<00:47,  3.10it/s]\u001b[A\n",
      " 19%|█▉        | 34/181 [00:10<00:47,  3.11it/s]\u001b[A\n",
      " 19%|█▉        | 35/181 [00:11<00:46,  3.11it/s]\u001b[A\n",
      " 20%|█▉        | 36/181 [00:11<00:46,  3.11it/s]\u001b[A\n",
      " 20%|██        | 37/181 [00:11<00:46,  3.11it/s]\u001b[A\n",
      " 21%|██        | 38/181 [00:12<00:46,  3.11it/s]\u001b[A\n",
      " 22%|██▏       | 39/181 [00:12<00:45,  3.10it/s]\u001b[A\n",
      " 22%|██▏       | 40/181 [00:12<00:45,  3.10it/s]\u001b[A\n",
      " 23%|██▎       | 41/181 [00:13<00:45,  3.11it/s]\u001b[A\n",
      " 23%|██▎       | 42/181 [00:13<00:44,  3.11it/s]\u001b[A\n",
      " 24%|██▍       | 43/181 [00:13<00:44,  3.11it/s]\u001b[A\n",
      " 24%|██▍       | 44/181 [00:14<00:44,  3.11it/s]\u001b[A\n",
      " 25%|██▍       | 45/181 [00:14<00:43,  3.11it/s]\u001b[A\n",
      " 25%|██▌       | 46/181 [00:14<00:43,  3.11it/s]\u001b[A\n",
      " 26%|██▌       | 47/181 [00:15<00:43,  3.11it/s]\u001b[A\n",
      " 27%|██▋       | 48/181 [00:15<00:42,  3.11it/s]\u001b[A\n",
      " 27%|██▋       | 49/181 [00:15<00:42,  3.11it/s]\u001b[A\n",
      " 28%|██▊       | 50/181 [00:16<00:42,  3.11it/s]\u001b[A\n",
      " 28%|██▊       | 51/181 [00:16<00:41,  3.11it/s]\u001b[A\n",
      " 29%|██▊       | 52/181 [00:16<00:41,  3.11it/s]\u001b[A\n",
      " 29%|██▉       | 53/181 [00:17<00:41,  3.11it/s]\u001b[A\n",
      " 30%|██▉       | 54/181 [00:17<00:40,  3.11it/s]\u001b[A\n",
      " 30%|███       | 55/181 [00:17<00:40,  3.11it/s]\u001b[A\n",
      " 31%|███       | 56/181 [00:18<00:40,  3.11it/s]\u001b[A\n",
      " 31%|███▏      | 57/181 [00:18<00:39,  3.11it/s]\u001b[A\n",
      " 32%|███▏      | 58/181 [00:18<00:39,  3.11it/s]\u001b[A\n",
      " 33%|███▎      | 59/181 [00:18<00:39,  3.11it/s]\u001b[A\n",
      " 33%|███▎      | 60/181 [00:19<00:38,  3.11it/s]\u001b[A\n",
      " 34%|███▎      | 61/181 [00:19<00:38,  3.11it/s]\u001b[A\n",
      " 34%|███▍      | 62/181 [00:19<00:38,  3.11it/s]\u001b[A\n",
      " 35%|███▍      | 63/181 [00:20<00:37,  3.11it/s]\u001b[A\n",
      " 35%|███▌      | 64/181 [00:20<00:37,  3.10it/s]\u001b[A\n",
      " 36%|███▌      | 65/181 [00:20<00:37,  3.11it/s]\u001b[A\n",
      " 36%|███▋      | 66/181 [00:21<00:37,  3.11it/s]\u001b[A\n",
      " 37%|███▋      | 67/181 [00:21<00:36,  3.11it/s]\u001b[A\n",
      " 38%|███▊      | 68/181 [00:21<00:36,  3.11it/s]\u001b[A\n",
      " 38%|███▊      | 69/181 [00:22<00:36,  3.11it/s]\u001b[A\n",
      " 39%|███▊      | 70/181 [00:22<00:35,  3.11it/s]\u001b[A\n",
      " 39%|███▉      | 71/181 [00:22<00:35,  3.11it/s]\u001b[A\n",
      " 40%|███▉      | 72/181 [00:23<00:34,  3.11it/s]\u001b[A\n",
      " 40%|████      | 73/181 [00:23<00:34,  3.12it/s]\u001b[A\n",
      " 41%|████      | 74/181 [00:23<00:34,  3.12it/s]\u001b[A\n",
      " 41%|████▏     | 75/181 [00:24<00:34,  3.12it/s]\u001b[A\n",
      " 42%|████▏     | 76/181 [00:24<00:33,  3.12it/s]\u001b[A\n",
      " 43%|████▎     | 77/181 [00:24<00:33,  3.11it/s]\u001b[A\n",
      " 43%|████▎     | 78/181 [00:25<00:33,  3.11it/s]\u001b[A\n",
      " 44%|████▎     | 79/181 [00:25<00:32,  3.11it/s]\u001b[A\n",
      " 44%|████▍     | 80/181 [00:25<00:32,  3.11it/s]\u001b[A\n",
      " 45%|████▍     | 81/181 [00:26<00:32,  3.11it/s]\u001b[A\n",
      " 45%|████▌     | 82/181 [00:26<00:31,  3.11it/s]\u001b[A\n",
      " 46%|████▌     | 83/181 [00:26<00:31,  3.11it/s]\u001b[A\n",
      " 46%|████▋     | 84/181 [00:27<00:31,  3.11it/s]\u001b[A\n",
      " 47%|████▋     | 85/181 [00:27<00:30,  3.11it/s]\u001b[A\n",
      " 48%|████▊     | 86/181 [00:27<00:30,  3.11it/s]\u001b[A\n",
      " 48%|████▊     | 87/181 [00:27<00:30,  3.11it/s]\u001b[A\n",
      " 49%|████▊     | 88/181 [00:28<00:29,  3.11it/s]\u001b[A\n",
      " 49%|████▉     | 89/181 [00:28<00:29,  3.11it/s]\u001b[A\n",
      " 50%|████▉     | 90/181 [00:28<00:29,  3.11it/s]\u001b[A\n",
      " 50%|█████     | 91/181 [00:29<00:28,  3.11it/s]\u001b[A\n",
      " 51%|█████     | 92/181 [00:29<00:28,  3.11it/s]\u001b[A\n",
      " 51%|█████▏    | 93/181 [00:29<00:28,  3.11it/s]\u001b[A\n",
      " 52%|█████▏    | 94/181 [00:30<00:27,  3.11it/s]\u001b[A\n",
      " 52%|█████▏    | 95/181 [00:30<00:27,  3.11it/s]\u001b[A\n",
      " 53%|█████▎    | 96/181 [00:30<00:27,  3.11it/s]\u001b[A\n",
      " 54%|█████▎    | 97/181 [00:31<00:26,  3.11it/s]\u001b[A\n",
      " 54%|█████▍    | 98/181 [00:31<00:26,  3.11it/s]\u001b[A\n",
      " 55%|█████▍    | 99/181 [00:31<00:26,  3.11it/s]\u001b[A\n",
      " 55%|█████▌    | 100/181 [00:32<00:26,  3.11it/s]\u001b[A\n",
      " 56%|█████▌    | 101/181 [00:32<00:25,  3.11it/s]\u001b[A\n",
      " 56%|█████▋    | 102/181 [00:32<00:25,  3.11it/s]\u001b[A\n",
      " 57%|█████▋    | 103/181 [00:33<00:25,  3.11it/s]\u001b[A\n",
      " 57%|█████▋    | 104/181 [00:33<00:24,  3.11it/s]\u001b[A\n",
      " 58%|█████▊    | 105/181 [00:33<00:24,  3.11it/s]\u001b[A\n",
      " 59%|█████▊    | 106/181 [00:34<00:24,  3.10it/s]\u001b[A\n",
      " 59%|█████▉    | 107/181 [00:34<00:23,  3.10it/s]\u001b[A\n",
      " 60%|█████▉    | 108/181 [00:34<00:23,  3.11it/s]\u001b[A\n",
      " 60%|██████    | 109/181 [00:35<00:23,  3.11it/s]\u001b[A\n",
      " 61%|██████    | 110/181 [00:35<00:22,  3.11it/s]\u001b[A\n",
      " 61%|██████▏   | 111/181 [00:35<00:22,  3.10it/s]\u001b[A\n",
      " 62%|██████▏   | 112/181 [00:36<00:22,  3.10it/s]\u001b[A\n",
      " 62%|██████▏   | 113/181 [00:36<00:21,  3.10it/s]\u001b[A\n",
      " 63%|██████▎   | 114/181 [00:36<00:21,  3.11it/s]\u001b[A\n",
      " 64%|██████▎   | 115/181 [00:36<00:21,  3.11it/s]\u001b[A\n",
      " 64%|██████▍   | 116/181 [00:37<00:20,  3.11it/s]\u001b[A\n",
      " 65%|██████▍   | 117/181 [00:37<00:20,  3.11it/s]\u001b[A\n",
      " 65%|██████▌   | 118/181 [00:37<00:20,  3.10it/s]\u001b[A\n",
      " 66%|██████▌   | 119/181 [00:38<00:19,  3.10it/s]\u001b[A\n",
      " 66%|██████▋   | 120/181 [00:38<00:19,  3.10it/s]\u001b[A\n",
      " 67%|██████▋   | 121/181 [00:38<00:19,  3.10it/s]\u001b[A\n",
      " 67%|██████▋   | 122/181 [00:39<00:18,  3.11it/s]\u001b[A\n",
      " 68%|██████▊   | 123/181 [00:39<00:18,  3.11it/s]\u001b[A\n",
      " 69%|██████▊   | 124/181 [00:39<00:18,  3.11it/s]\u001b[A\n",
      " 69%|██████▉   | 125/181 [00:40<00:18,  3.11it/s]\u001b[A\n",
      " 70%|██████▉   | 126/181 [00:40<00:17,  3.11it/s]\u001b[A\n",
      " 70%|███████   | 127/181 [00:40<00:17,  3.10it/s]\u001b[A\n",
      " 71%|███████   | 128/181 [00:41<00:17,  3.10it/s]\u001b[A\n",
      " 71%|███████▏  | 129/181 [00:41<00:16,  3.10it/s]\u001b[A\n",
      " 72%|███████▏  | 130/181 [00:41<00:16,  3.10it/s]\u001b[A\n",
      " 72%|███████▏  | 131/181 [00:42<00:16,  3.10it/s]\u001b[A\n",
      " 73%|███████▎  | 132/181 [00:42<00:15,  3.11it/s]\u001b[A\n",
      " 73%|███████▎  | 133/181 [00:42<00:15,  3.11it/s]\u001b[A\n",
      " 74%|███████▍  | 134/181 [00:43<00:15,  3.10it/s]\u001b[A\n",
      " 75%|███████▍  | 135/181 [00:43<00:14,  3.11it/s]\u001b[A\n",
      " 75%|███████▌  | 136/181 [00:43<00:14,  3.11it/s]\u001b[A\n",
      " 76%|███████▌  | 137/181 [00:44<00:14,  3.11it/s]\u001b[A\n",
      " 76%|███████▌  | 138/181 [00:44<00:13,  3.11it/s]\u001b[A\n",
      " 77%|███████▋  | 139/181 [00:44<00:13,  3.11it/s]\u001b[A\n",
      " 77%|███████▋  | 140/181 [00:45<00:13,  3.11it/s]\u001b[A\n",
      " 78%|███████▊  | 141/181 [00:45<00:12,  3.11it/s]\u001b[A\n",
      " 78%|███████▊  | 142/181 [00:45<00:12,  3.10it/s]\u001b[A\n",
      " 79%|███████▉  | 143/181 [00:46<00:12,  3.10it/s]\u001b[A\n",
      " 80%|███████▉  | 144/181 [00:46<00:11,  3.10it/s]\u001b[A\n",
      " 80%|████████  | 145/181 [00:46<00:11,  3.10it/s]\u001b[A\n",
      " 81%|████████  | 146/181 [00:46<00:11,  3.10it/s]\u001b[A\n",
      " 81%|████████  | 147/181 [00:47<00:10,  3.10it/s]\u001b[A\n",
      " 82%|████████▏ | 148/181 [00:47<00:10,  3.11it/s]\u001b[A\n",
      " 82%|████████▏ | 149/181 [00:47<00:10,  3.11it/s]\u001b[A\n",
      " 83%|████████▎ | 150/181 [00:48<00:09,  3.11it/s]\u001b[A\n",
      " 83%|████████▎ | 151/181 [00:48<00:09,  3.10it/s]\u001b[A\n",
      " 84%|████████▍ | 152/181 [00:48<00:09,  3.10it/s]\u001b[A\n",
      " 85%|████████▍ | 153/181 [00:49<00:09,  3.10it/s]\u001b[A\n",
      " 85%|████████▌ | 154/181 [00:49<00:08,  3.10it/s]\u001b[A\n",
      " 86%|████████▌ | 155/181 [00:49<00:08,  3.10it/s]\u001b[A\n",
      " 86%|████████▌ | 156/181 [00:50<00:08,  3.11it/s]\u001b[A\n",
      " 87%|████████▋ | 157/181 [00:50<00:07,  3.10it/s]\u001b[A\n",
      " 87%|████████▋ | 158/181 [00:50<00:07,  3.11it/s]\u001b[A\n",
      " 88%|████████▊ | 159/181 [00:51<00:07,  3.11it/s]\u001b[A\n",
      " 88%|████████▊ | 160/181 [00:51<00:06,  3.11it/s]\u001b[A\n",
      " 89%|████████▉ | 161/181 [00:51<00:06,  3.10it/s]\u001b[A\n",
      " 90%|████████▉ | 162/181 [00:52<00:06,  3.10it/s]\u001b[A\n",
      " 90%|█████████ | 163/181 [00:52<00:05,  3.10it/s]\u001b[A\n",
      " 91%|█████████ | 164/181 [00:52<00:05,  3.10it/s]\u001b[A\n",
      " 91%|█████████ | 165/181 [00:53<00:05,  3.10it/s]\u001b[A\n",
      " 92%|█████████▏| 166/181 [00:53<00:04,  3.10it/s]\u001b[A\n",
      " 92%|█████████▏| 167/181 [00:53<00:04,  3.10it/s]\u001b[A\n",
      " 93%|█████████▎| 168/181 [00:54<00:04,  3.10it/s]\u001b[A\n",
      " 93%|█████████▎| 169/181 [00:54<00:03,  3.11it/s]\u001b[A\n",
      " 94%|█████████▍| 170/181 [00:54<00:03,  3.10it/s]\u001b[A\n",
      " 94%|█████████▍| 171/181 [00:55<00:03,  3.10it/s]\u001b[A\n",
      " 95%|█████████▌| 172/181 [00:55<00:02,  3.10it/s]\u001b[A\n",
      " 96%|█████████▌| 173/181 [00:55<00:02,  3.10it/s]\u001b[A\n",
      " 96%|█████████▌| 174/181 [00:55<00:02,  3.10it/s]\u001b[A\n",
      " 97%|█████████▋| 175/181 [00:56<00:01,  3.10it/s]\u001b[A\n",
      " 97%|█████████▋| 176/181 [00:56<00:01,  3.11it/s]\u001b[A\n",
      " 98%|█████████▊| 177/181 [00:56<00:01,  3.11it/s]\u001b[A\n",
      " 98%|█████████▊| 178/181 [00:57<00:00,  3.11it/s]\u001b[A\n",
      " 99%|█████████▉| 179/181 [00:57<00:00,  3.11it/s]\u001b[A\n",
      " 99%|█████████▉| 180/181 [00:57<00:00,  3.11it/s]\u001b[A\n",
      "100%|██████████| 181/181 [00:58<00:00,  3.12it/s]\u001b[A\n",
      "Epoch:  25%|██▌       | 1/4 [09:26<28:18, 566.04s/it]"
     ]
    },
    {
     "name": "stdout",
     "output_type": "stream",
     "text": [
      "  Accuracy: 0.54\n",
      "  Validation Loss: 0.69\n",
      "  Validation took: 0:00:58\n",
      "\n",
      "======== Epoch 2 / 4 ========\n",
      "Training...\n",
      "  Batch   500  of  1,494.    Elapsed: 0:02:51.\n",
      "  Batch 1,000  of  1,494.    Elapsed: 0:05:42.\n"
     ]
    },
    {
     "name": "stderr",
     "output_type": "stream",
     "text": [
      "\n",
      "  0%|          | 0/181 [00:00<?, ?it/s]\u001b[A"
     ]
    },
    {
     "name": "stdout",
     "output_type": "stream",
     "text": [
      "\n",
      "  Average training loss: 0.69\n",
      "  Training epcoh took: 0:08:30\n",
      "\n",
      "Running Validation...\n"
     ]
    },
    {
     "name": "stderr",
     "output_type": "stream",
     "text": [
      "\n",
      "  1%|          | 1/181 [00:00<00:57,  3.12it/s]\u001b[A\n",
      "  1%|          | 2/181 [00:00<00:57,  3.11it/s]\u001b[A\n",
      "  2%|▏         | 3/181 [00:00<00:57,  3.10it/s]\u001b[A\n",
      "  2%|▏         | 4/181 [00:01<00:56,  3.11it/s]\u001b[A\n",
      "  3%|▎         | 5/181 [00:01<00:56,  3.10it/s]\u001b[A\n",
      "  3%|▎         | 6/181 [00:01<00:56,  3.10it/s]\u001b[A\n",
      "  4%|▍         | 7/181 [00:02<00:56,  3.10it/s]\u001b[A\n",
      "  4%|▍         | 8/181 [00:02<00:55,  3.10it/s]\u001b[A\n",
      "  5%|▍         | 9/181 [00:02<00:55,  3.10it/s]\u001b[A\n",
      "  6%|▌         | 10/181 [00:03<00:55,  3.10it/s]\u001b[A\n",
      "  6%|▌         | 11/181 [00:03<00:54,  3.10it/s]\u001b[A\n",
      "  7%|▋         | 12/181 [00:03<00:54,  3.10it/s]\u001b[A\n",
      "  7%|▋         | 13/181 [00:04<00:54,  3.10it/s]\u001b[A\n",
      "  8%|▊         | 14/181 [00:04<00:53,  3.10it/s]\u001b[A\n",
      "  8%|▊         | 15/181 [00:04<00:53,  3.11it/s]\u001b[A\n",
      "  9%|▉         | 16/181 [00:05<00:53,  3.10it/s]\u001b[A\n",
      "  9%|▉         | 17/181 [00:05<00:52,  3.10it/s]\u001b[A\n",
      " 10%|▉         | 18/181 [00:05<00:52,  3.10it/s]\u001b[A\n",
      " 10%|█         | 19/181 [00:06<00:52,  3.10it/s]\u001b[A\n",
      " 11%|█         | 20/181 [00:06<00:51,  3.10it/s]\u001b[A\n",
      " 12%|█▏        | 21/181 [00:06<00:51,  3.10it/s]\u001b[A\n",
      " 12%|█▏        | 22/181 [00:07<00:51,  3.10it/s]\u001b[A\n",
      " 13%|█▎        | 23/181 [00:07<00:50,  3.10it/s]\u001b[A\n",
      " 13%|█▎        | 24/181 [00:07<00:50,  3.11it/s]\u001b[A\n",
      " 14%|█▍        | 25/181 [00:08<00:50,  3.11it/s]\u001b[A\n",
      " 14%|█▍        | 26/181 [00:08<00:49,  3.11it/s]\u001b[A\n",
      " 15%|█▍        | 27/181 [00:08<00:49,  3.11it/s]\u001b[A\n",
      " 15%|█▌        | 28/181 [00:09<00:49,  3.11it/s]\u001b[A\n",
      " 16%|█▌        | 29/181 [00:09<00:48,  3.11it/s]\u001b[A\n",
      " 17%|█▋        | 30/181 [00:09<00:48,  3.11it/s]\u001b[A\n",
      " 17%|█▋        | 31/181 [00:09<00:48,  3.11it/s]\u001b[A\n",
      " 18%|█▊        | 32/181 [00:10<00:48,  3.10it/s]\u001b[A\n",
      " 18%|█▊        | 33/181 [00:10<00:47,  3.10it/s]\u001b[A\n",
      " 19%|█▉        | 34/181 [00:10<00:47,  3.11it/s]\u001b[A\n",
      " 19%|█▉        | 35/181 [00:11<00:46,  3.11it/s]\u001b[A\n",
      " 20%|█▉        | 36/181 [00:11<00:46,  3.10it/s]\u001b[A\n",
      " 20%|██        | 37/181 [00:11<00:46,  3.10it/s]\u001b[A\n",
      " 21%|██        | 38/181 [00:12<00:46,  3.10it/s]\u001b[A\n",
      " 22%|██▏       | 39/181 [00:12<00:45,  3.10it/s]\u001b[A\n",
      " 22%|██▏       | 40/181 [00:12<00:45,  3.11it/s]\u001b[A\n",
      " 23%|██▎       | 41/181 [00:13<00:45,  3.11it/s]\u001b[A\n",
      " 23%|██▎       | 42/181 [00:13<00:44,  3.10it/s]\u001b[A\n",
      " 24%|██▍       | 43/181 [00:13<00:44,  3.10it/s]\u001b[A\n",
      " 24%|██▍       | 44/181 [00:14<00:44,  3.10it/s]\u001b[A\n",
      " 25%|██▍       | 45/181 [00:14<00:43,  3.11it/s]\u001b[A\n",
      " 25%|██▌       | 46/181 [00:14<00:43,  3.11it/s]\u001b[A\n",
      " 26%|██▌       | 47/181 [00:15<00:43,  3.11it/s]\u001b[A\n",
      " 27%|██▋       | 48/181 [00:15<00:42,  3.11it/s]\u001b[A\n",
      " 27%|██▋       | 49/181 [00:15<00:42,  3.10it/s]\u001b[A\n",
      " 28%|██▊       | 50/181 [00:16<00:42,  3.10it/s]\u001b[A\n",
      " 28%|██▊       | 51/181 [00:16<00:41,  3.10it/s]\u001b[A\n",
      " 29%|██▊       | 52/181 [00:16<00:41,  3.10it/s]\u001b[A\n",
      " 29%|██▉       | 53/181 [00:17<00:41,  3.11it/s]\u001b[A\n",
      " 30%|██▉       | 54/181 [00:17<00:40,  3.11it/s]\u001b[A\n",
      " 30%|███       | 55/181 [00:17<00:40,  3.11it/s]\u001b[A\n",
      " 31%|███       | 56/181 [00:18<00:40,  3.11it/s]\u001b[A\n",
      " 31%|███▏      | 57/181 [00:18<00:39,  3.11it/s]\u001b[A\n",
      " 32%|███▏      | 58/181 [00:18<00:39,  3.10it/s]\u001b[A\n",
      " 33%|███▎      | 59/181 [00:19<00:39,  3.11it/s]\u001b[A\n",
      " 33%|███▎      | 60/181 [00:19<00:38,  3.10it/s]\u001b[A\n",
      " 34%|███▎      | 61/181 [00:19<00:38,  3.10it/s]\u001b[A\n",
      " 34%|███▍      | 62/181 [00:19<00:38,  3.10it/s]\u001b[A\n",
      " 35%|███▍      | 63/181 [00:20<00:38,  3.10it/s]\u001b[A\n",
      " 35%|███▌      | 64/181 [00:20<00:37,  3.10it/s]\u001b[A\n",
      " 36%|███▌      | 65/181 [00:20<00:37,  3.10it/s]\u001b[A\n",
      " 36%|███▋      | 66/181 [00:21<00:37,  3.10it/s]\u001b[A\n",
      " 37%|███▋      | 67/181 [00:21<00:36,  3.10it/s]\u001b[A\n",
      " 38%|███▊      | 68/181 [00:21<00:36,  3.10it/s]\u001b[A\n",
      " 38%|███▊      | 69/181 [00:22<00:36,  3.10it/s]\u001b[A\n",
      " 39%|███▊      | 70/181 [00:22<00:35,  3.10it/s]\u001b[A\n",
      " 39%|███▉      | 71/181 [00:22<00:35,  3.10it/s]\u001b[A\n",
      " 40%|███▉      | 72/181 [00:23<00:35,  3.10it/s]\u001b[A\n",
      " 40%|████      | 73/181 [00:23<00:34,  3.10it/s]\u001b[A\n",
      " 41%|████      | 74/181 [00:23<00:34,  3.10it/s]\u001b[A\n",
      " 41%|████▏     | 75/181 [00:24<00:34,  3.10it/s]\u001b[A\n",
      " 42%|████▏     | 76/181 [00:24<00:33,  3.10it/s]\u001b[A\n",
      " 43%|████▎     | 77/181 [00:24<00:33,  3.09it/s]\u001b[A\n",
      " 43%|████▎     | 78/181 [00:25<00:33,  3.09it/s]\u001b[A\n",
      " 44%|████▎     | 79/181 [00:25<00:32,  3.10it/s]\u001b[A\n",
      " 44%|████▍     | 80/181 [00:25<00:32,  3.10it/s]\u001b[A\n",
      " 45%|████▍     | 81/181 [00:26<00:32,  3.10it/s]\u001b[A\n",
      " 45%|████▌     | 82/181 [00:26<00:31,  3.10it/s]\u001b[A\n",
      " 46%|████▌     | 83/181 [00:26<00:31,  3.10it/s]\u001b[A\n",
      " 46%|████▋     | 84/181 [00:27<00:31,  3.10it/s]\u001b[A\n",
      " 47%|████▋     | 85/181 [00:27<00:31,  3.10it/s]\u001b[A\n",
      " 48%|████▊     | 86/181 [00:27<00:30,  3.10it/s]\u001b[A\n",
      " 48%|████▊     | 87/181 [00:28<00:30,  3.10it/s]\u001b[A\n",
      " 49%|████▊     | 88/181 [00:28<00:30,  3.09it/s]\u001b[A\n",
      " 49%|████▉     | 89/181 [00:28<00:29,  3.10it/s]\u001b[A\n",
      " 50%|████▉     | 90/181 [00:29<00:29,  3.10it/s]\u001b[A\n",
      " 50%|█████     | 91/181 [00:29<00:29,  3.10it/s]\u001b[A\n",
      " 51%|█████     | 92/181 [00:29<00:28,  3.10it/s]\u001b[A\n",
      " 51%|█████▏    | 93/181 [00:29<00:28,  3.10it/s]\u001b[A\n",
      " 52%|█████▏    | 94/181 [00:30<00:28,  3.10it/s]\u001b[A\n",
      " 52%|█████▏    | 95/181 [00:30<00:27,  3.10it/s]\u001b[A\n",
      " 53%|█████▎    | 96/181 [00:30<00:27,  3.10it/s]\u001b[A\n",
      " 54%|█████▎    | 97/181 [00:31<00:27,  3.10it/s]\u001b[A\n",
      " 54%|█████▍    | 98/181 [00:31<00:26,  3.10it/s]\u001b[A\n",
      " 55%|█████▍    | 99/181 [00:31<00:26,  3.10it/s]\u001b[A\n",
      " 55%|█████▌    | 100/181 [00:32<00:26,  3.10it/s]\u001b[A\n",
      " 56%|█████▌    | 101/181 [00:32<00:25,  3.10it/s]\u001b[A\n",
      " 56%|█████▋    | 102/181 [00:32<00:25,  3.10it/s]\u001b[A\n",
      " 57%|█████▋    | 103/181 [00:33<00:25,  3.10it/s]\u001b[A\n",
      " 57%|█████▋    | 104/181 [00:33<00:24,  3.10it/s]\u001b[A\n",
      " 58%|█████▊    | 105/181 [00:33<00:24,  3.10it/s]\u001b[A\n",
      " 59%|█████▊    | 106/181 [00:34<00:24,  3.10it/s]\u001b[A\n",
      " 59%|█████▉    | 107/181 [00:34<00:23,  3.10it/s]\u001b[A\n",
      " 60%|█████▉    | 108/181 [00:34<00:23,  3.10it/s]\u001b[A\n",
      " 60%|██████    | 109/181 [00:35<00:23,  3.10it/s]\u001b[A\n",
      " 61%|██████    | 110/181 [00:35<00:22,  3.10it/s]\u001b[A\n",
      " 61%|██████▏   | 111/181 [00:35<00:22,  3.10it/s]\u001b[A\n",
      " 62%|██████▏   | 112/181 [00:36<00:22,  3.10it/s]\u001b[A\n",
      " 62%|██████▏   | 113/181 [00:36<00:21,  3.10it/s]\u001b[A\n",
      " 63%|██████▎   | 114/181 [00:36<00:21,  3.10it/s]\u001b[A\n",
      " 64%|██████▎   | 115/181 [00:37<00:21,  3.11it/s]\u001b[A\n",
      " 64%|██████▍   | 116/181 [00:37<00:20,  3.11it/s]\u001b[A\n",
      " 65%|██████▍   | 117/181 [00:37<00:20,  3.11it/s]\u001b[A\n",
      " 65%|██████▌   | 118/181 [00:38<00:20,  3.11it/s]\u001b[A\n",
      " 66%|██████▌   | 119/181 [00:38<00:19,  3.11it/s]\u001b[A\n",
      " 66%|██████▋   | 120/181 [00:38<00:19,  3.11it/s]\u001b[A\n",
      " 67%|██████▋   | 121/181 [00:39<00:19,  3.11it/s]\u001b[A\n",
      " 67%|██████▋   | 122/181 [00:39<00:19,  3.10it/s]\u001b[A\n",
      " 68%|██████▊   | 123/181 [00:39<00:18,  3.11it/s]\u001b[A\n",
      " 69%|██████▊   | 124/181 [00:39<00:18,  3.11it/s]\u001b[A\n",
      " 69%|██████▉   | 125/181 [00:40<00:18,  3.11it/s]\u001b[A\n",
      " 70%|██████▉   | 126/181 [00:40<00:17,  3.11it/s]\u001b[A\n",
      " 70%|███████   | 127/181 [00:40<00:17,  3.10it/s]\u001b[A\n",
      " 71%|███████   | 128/181 [00:41<00:17,  3.10it/s]\u001b[A\n",
      " 71%|███████▏  | 129/181 [00:41<00:16,  3.10it/s]\u001b[A\n",
      " 72%|███████▏  | 130/181 [00:41<00:16,  3.10it/s]\u001b[A\n",
      " 72%|███████▏  | 131/181 [00:42<00:16,  3.10it/s]\u001b[A\n",
      " 73%|███████▎  | 132/181 [00:42<00:15,  3.10it/s]\u001b[A\n",
      " 73%|███████▎  | 133/181 [00:42<00:15,  3.10it/s]\u001b[A\n",
      " 74%|███████▍  | 134/181 [00:43<00:15,  3.10it/s]\u001b[A\n",
      " 75%|███████▍  | 135/181 [00:43<00:14,  3.11it/s]\u001b[A\n",
      " 75%|███████▌  | 136/181 [00:43<00:14,  3.11it/s]\u001b[A\n",
      " 76%|███████▌  | 137/181 [00:44<00:14,  3.11it/s]\u001b[A\n",
      " 76%|███████▌  | 138/181 [00:44<00:13,  3.11it/s]\u001b[A\n",
      " 77%|███████▋  | 139/181 [00:44<00:13,  3.11it/s]\u001b[A\n",
      " 77%|███████▋  | 140/181 [00:45<00:13,  3.11it/s]\u001b[A\n",
      " 78%|███████▊  | 141/181 [00:45<00:12,  3.11it/s]\u001b[A\n",
      " 78%|███████▊  | 142/181 [00:45<00:12,  3.11it/s]\u001b[A\n",
      " 79%|███████▉  | 143/181 [00:46<00:12,  3.10it/s]\u001b[A\n",
      " 80%|███████▉  | 144/181 [00:46<00:11,  3.09it/s]\u001b[A\n",
      " 80%|████████  | 145/181 [00:46<00:11,  3.10it/s]\u001b[A\n",
      " 81%|████████  | 146/181 [00:47<00:11,  3.10it/s]\u001b[A\n",
      " 81%|████████  | 147/181 [00:47<00:10,  3.10it/s]\u001b[A\n",
      " 82%|████████▏ | 148/181 [00:47<00:10,  3.11it/s]\u001b[A\n",
      " 82%|████████▏ | 149/181 [00:48<00:10,  3.11it/s]\u001b[A\n",
      " 83%|████████▎ | 150/181 [00:48<00:09,  3.11it/s]\u001b[A\n",
      " 83%|████████▎ | 151/181 [00:48<00:09,  3.11it/s]\u001b[A\n",
      " 84%|████████▍ | 152/181 [00:48<00:09,  3.11it/s]\u001b[A\n",
      " 85%|████████▍ | 153/181 [00:49<00:09,  3.11it/s]\u001b[A\n",
      " 85%|████████▌ | 154/181 [00:49<00:08,  3.11it/s]\u001b[A\n",
      " 86%|████████▌ | 155/181 [00:49<00:08,  3.11it/s]\u001b[A\n",
      " 86%|████████▌ | 156/181 [00:50<00:08,  3.11it/s]\u001b[A\n",
      " 87%|████████▋ | 157/181 [00:50<00:07,  3.11it/s]\u001b[A\n",
      " 87%|████████▋ | 158/181 [00:50<00:07,  3.11it/s]\u001b[A\n",
      " 88%|████████▊ | 159/181 [00:51<00:07,  3.11it/s]\u001b[A\n",
      " 88%|████████▊ | 160/181 [00:51<00:06,  3.11it/s]\u001b[A\n",
      " 89%|████████▉ | 161/181 [00:51<00:06,  3.11it/s]\u001b[A\n",
      " 90%|████████▉ | 162/181 [00:52<00:06,  3.10it/s]\u001b[A\n",
      " 90%|█████████ | 163/181 [00:52<00:05,  3.10it/s]\u001b[A\n",
      " 91%|█████████ | 164/181 [00:52<00:05,  3.11it/s]\u001b[A\n",
      " 91%|█████████ | 165/181 [00:53<00:05,  3.10it/s]\u001b[A\n",
      " 92%|█████████▏| 166/181 [00:53<00:04,  3.09it/s]\u001b[A\n",
      " 92%|█████████▏| 167/181 [00:53<00:04,  3.09it/s]\u001b[A\n",
      " 93%|█████████▎| 168/181 [00:54<00:04,  3.10it/s]\u001b[A\n",
      " 93%|█████████▎| 169/181 [00:54<00:03,  3.10it/s]\u001b[A\n",
      " 94%|█████████▍| 170/181 [00:54<00:03,  3.11it/s]\u001b[A\n",
      " 94%|█████████▍| 171/181 [00:55<00:03,  3.10it/s]\u001b[A\n",
      " 95%|█████████▌| 172/181 [00:55<00:02,  3.10it/s]\u001b[A\n",
      " 96%|█████████▌| 173/181 [00:55<00:02,  3.11it/s]\u001b[A\n",
      " 96%|█████████▌| 174/181 [00:56<00:02,  3.11it/s]\u001b[A\n",
      " 97%|█████████▋| 175/181 [00:56<00:01,  3.10it/s]\u001b[A\n",
      " 97%|█████████▋| 176/181 [00:56<00:01,  3.10it/s]\u001b[A\n",
      " 98%|█████████▊| 177/181 [00:57<00:01,  3.10it/s]\u001b[A\n",
      " 98%|█████████▊| 178/181 [00:57<00:00,  3.10it/s]\u001b[A\n",
      " 99%|█████████▉| 179/181 [00:57<00:00,  3.10it/s]\u001b[A\n",
      " 99%|█████████▉| 180/181 [00:58<00:00,  3.10it/s]\u001b[A\n",
      "100%|██████████| 181/181 [00:58<00:00,  3.11it/s]\u001b[A\n",
      "Epoch:  50%|█████     | 2/4 [18:54<18:53, 566.77s/it]"
     ]
    },
    {
     "name": "stdout",
     "output_type": "stream",
     "text": [
      "  Accuracy: 0.54\n",
      "  Validation Loss: 0.69\n",
      "  Validation took: 0:00:58\n",
      "\n",
      "======== Epoch 3 / 4 ========\n",
      "Training...\n",
      "  Batch   500  of  1,494.    Elapsed: 0:02:51.\n",
      "  Batch 1,000  of  1,494.    Elapsed: 0:05:42.\n"
     ]
    },
    {
     "name": "stderr",
     "output_type": "stream",
     "text": [
      "\n",
      "  0%|          | 0/181 [00:00<?, ?it/s]\u001b[A"
     ]
    },
    {
     "name": "stdout",
     "output_type": "stream",
     "text": [
      "\n",
      "  Average training loss: 0.69\n",
      "  Training epcoh took: 0:08:31\n",
      "\n",
      "Running Validation...\n"
     ]
    },
    {
     "name": "stderr",
     "output_type": "stream",
     "text": [
      "\n",
      "  1%|          | 1/181 [00:00<00:57,  3.13it/s]\u001b[A\n",
      "  1%|          | 2/181 [00:00<00:57,  3.12it/s]\u001b[A\n",
      "  2%|▏         | 3/181 [00:00<00:57,  3.11it/s]\u001b[A\n",
      "  2%|▏         | 4/181 [00:01<00:56,  3.11it/s]\u001b[A\n",
      "  3%|▎         | 5/181 [00:01<00:56,  3.10it/s]\u001b[A\n",
      "  3%|▎         | 6/181 [00:01<00:56,  3.10it/s]\u001b[A\n",
      "  4%|▍         | 7/181 [00:02<00:56,  3.11it/s]\u001b[A\n",
      "  4%|▍         | 8/181 [00:02<00:55,  3.10it/s]\u001b[A\n",
      "  5%|▍         | 9/181 [00:02<00:55,  3.10it/s]\u001b[A\n",
      "  6%|▌         | 10/181 [00:03<00:55,  3.10it/s]\u001b[A\n",
      "  6%|▌         | 11/181 [00:03<00:54,  3.10it/s]\u001b[A\n",
      "  7%|▋         | 12/181 [00:03<00:54,  3.10it/s]\u001b[A\n",
      "  7%|▋         | 13/181 [00:04<00:54,  3.10it/s]\u001b[A\n",
      "  8%|▊         | 14/181 [00:04<00:53,  3.10it/s]\u001b[A\n",
      "  8%|▊         | 15/181 [00:04<00:53,  3.10it/s]\u001b[A\n",
      "  9%|▉         | 16/181 [00:05<00:53,  3.10it/s]\u001b[A\n",
      "  9%|▉         | 17/181 [00:05<00:52,  3.10it/s]\u001b[A\n",
      " 10%|▉         | 18/181 [00:05<00:52,  3.10it/s]\u001b[A\n",
      " 10%|█         | 19/181 [00:06<00:52,  3.10it/s]\u001b[A\n",
      " 11%|█         | 20/181 [00:06<00:51,  3.11it/s]\u001b[A\n",
      " 12%|█▏        | 21/181 [00:06<00:51,  3.11it/s]\u001b[A\n",
      " 12%|█▏        | 22/181 [00:07<00:51,  3.11it/s]\u001b[A\n",
      " 13%|█▎        | 23/181 [00:07<00:50,  3.11it/s]\u001b[A\n",
      " 13%|█▎        | 24/181 [00:07<00:50,  3.11it/s]\u001b[A\n",
      " 14%|█▍        | 25/181 [00:08<00:50,  3.11it/s]\u001b[A\n",
      " 14%|█▍        | 26/181 [00:08<00:49,  3.11it/s]\u001b[A\n",
      " 15%|█▍        | 27/181 [00:08<00:49,  3.10it/s]\u001b[A\n",
      " 15%|█▌        | 28/181 [00:09<00:49,  3.10it/s]\u001b[A\n",
      " 16%|█▌        | 29/181 [00:09<00:49,  3.10it/s]\u001b[A\n",
      " 17%|█▋        | 30/181 [00:09<00:48,  3.10it/s]\u001b[A\n",
      " 17%|█▋        | 31/181 [00:09<00:48,  3.10it/s]\u001b[A\n",
      " 18%|█▊        | 32/181 [00:10<00:48,  3.10it/s]\u001b[A\n",
      " 18%|█▊        | 33/181 [00:10<00:47,  3.10it/s]\u001b[A\n",
      " 19%|█▉        | 34/181 [00:10<00:47,  3.11it/s]\u001b[A\n",
      " 19%|█▉        | 35/181 [00:11<00:46,  3.11it/s]\u001b[A\n",
      " 20%|█▉        | 36/181 [00:11<00:46,  3.11it/s]\u001b[A\n",
      " 20%|██        | 37/181 [00:11<00:46,  3.11it/s]\u001b[A\n",
      " 21%|██        | 38/181 [00:12<00:46,  3.11it/s]\u001b[A\n",
      " 22%|██▏       | 39/181 [00:12<00:45,  3.10it/s]\u001b[A\n",
      " 22%|██▏       | 40/181 [00:12<00:45,  3.10it/s]\u001b[A\n",
      " 23%|██▎       | 41/181 [00:13<00:45,  3.11it/s]\u001b[A\n",
      " 23%|██▎       | 42/181 [00:13<00:44,  3.11it/s]\u001b[A\n",
      " 24%|██▍       | 43/181 [00:13<00:44,  3.11it/s]\u001b[A\n",
      " 24%|██▍       | 44/181 [00:14<00:44,  3.10it/s]\u001b[A\n",
      " 25%|██▍       | 45/181 [00:14<00:43,  3.10it/s]\u001b[A\n",
      " 25%|██▌       | 46/181 [00:14<00:43,  3.10it/s]\u001b[A\n",
      " 26%|██▌       | 47/181 [00:15<00:43,  3.11it/s]\u001b[A\n",
      " 27%|██▋       | 48/181 [00:15<00:42,  3.11it/s]\u001b[A\n",
      " 27%|██▋       | 49/181 [00:15<00:42,  3.11it/s]\u001b[A\n",
      " 28%|██▊       | 50/181 [00:16<00:42,  3.11it/s]\u001b[A\n",
      " 28%|██▊       | 51/181 [00:16<00:41,  3.11it/s]\u001b[A\n",
      " 29%|██▊       | 52/181 [00:16<00:41,  3.11it/s]\u001b[A\n",
      " 29%|██▉       | 53/181 [00:17<00:41,  3.11it/s]\u001b[A\n",
      " 30%|██▉       | 54/181 [00:17<00:40,  3.10it/s]\u001b[A\n",
      " 30%|███       | 55/181 [00:17<00:40,  3.10it/s]\u001b[A\n",
      " 31%|███       | 56/181 [00:18<00:40,  3.10it/s]\u001b[A\n",
      " 31%|███▏      | 57/181 [00:18<00:40,  3.10it/s]\u001b[A\n",
      " 32%|███▏      | 58/181 [00:18<00:39,  3.10it/s]\u001b[A\n",
      " 33%|███▎      | 59/181 [00:19<00:39,  3.10it/s]\u001b[A\n",
      " 33%|███▎      | 60/181 [00:19<00:38,  3.10it/s]\u001b[A\n",
      " 34%|███▎      | 61/181 [00:19<00:38,  3.11it/s]\u001b[A\n",
      " 34%|███▍      | 62/181 [00:19<00:38,  3.10it/s]\u001b[A\n",
      " 35%|███▍      | 63/181 [00:20<00:37,  3.11it/s]\u001b[A\n",
      " 35%|███▌      | 64/181 [00:20<00:37,  3.11it/s]\u001b[A\n",
      " 36%|███▌      | 65/181 [00:20<00:37,  3.10it/s]\u001b[A\n",
      " 36%|███▋      | 66/181 [00:21<00:37,  3.10it/s]\u001b[A\n",
      " 37%|███▋      | 67/181 [00:21<00:36,  3.10it/s]\u001b[A\n",
      " 38%|███▊      | 68/181 [00:21<00:36,  3.10it/s]\u001b[A\n",
      " 38%|███▊      | 69/181 [00:22<00:36,  3.10it/s]\u001b[A\n",
      " 39%|███▊      | 70/181 [00:22<00:35,  3.11it/s]\u001b[A\n",
      " 39%|███▉      | 71/181 [00:22<00:35,  3.11it/s]\u001b[A\n",
      " 40%|███▉      | 72/181 [00:23<00:35,  3.10it/s]\u001b[A\n",
      " 40%|████      | 73/181 [00:23<00:34,  3.10it/s]\u001b[A\n",
      " 41%|████      | 74/181 [00:23<00:34,  3.10it/s]\u001b[A\n",
      " 41%|████▏     | 75/181 [00:24<00:34,  3.10it/s]\u001b[A\n",
      " 42%|████▏     | 76/181 [00:24<00:33,  3.10it/s]\u001b[A\n",
      " 43%|████▎     | 77/181 [00:24<00:33,  3.10it/s]\u001b[A\n",
      " 43%|████▎     | 78/181 [00:25<00:33,  3.10it/s]\u001b[A\n",
      " 44%|████▎     | 79/181 [00:25<00:32,  3.10it/s]\u001b[A\n",
      " 44%|████▍     | 80/181 [00:25<00:32,  3.10it/s]\u001b[A\n",
      " 45%|████▍     | 81/181 [00:26<00:32,  3.10it/s]\u001b[A\n",
      " 45%|████▌     | 82/181 [00:26<00:31,  3.10it/s]\u001b[A\n",
      " 46%|████▌     | 83/181 [00:26<00:31,  3.10it/s]\u001b[A\n",
      " 46%|████▋     | 84/181 [00:27<00:31,  3.10it/s]\u001b[A\n",
      " 47%|████▋     | 85/181 [00:27<00:31,  3.10it/s]\u001b[A\n",
      " 48%|████▊     | 86/181 [00:27<00:30,  3.09it/s]\u001b[A\n",
      " 48%|████▊     | 87/181 [00:28<00:30,  3.10it/s]\u001b[A\n",
      " 49%|████▊     | 88/181 [00:28<00:30,  3.10it/s]\u001b[A\n",
      " 49%|████▉     | 89/181 [00:28<00:29,  3.10it/s]\u001b[A\n",
      " 50%|████▉     | 90/181 [00:29<00:29,  3.09it/s]\u001b[A\n",
      " 50%|█████     | 91/181 [00:29<00:29,  3.10it/s]\u001b[A\n",
      " 51%|█████     | 92/181 [00:29<00:28,  3.10it/s]\u001b[A\n",
      " 51%|█████▏    | 93/181 [00:29<00:28,  3.10it/s]\u001b[A\n",
      " 52%|█████▏    | 94/181 [00:30<00:28,  3.10it/s]\u001b[A\n",
      " 52%|█████▏    | 95/181 [00:30<00:27,  3.11it/s]\u001b[A\n",
      " 53%|█████▎    | 96/181 [00:30<00:27,  3.11it/s]\u001b[A\n",
      " 54%|█████▎    | 97/181 [00:31<00:27,  3.10it/s]\u001b[A\n",
      " 54%|█████▍    | 98/181 [00:31<00:26,  3.10it/s]\u001b[A\n",
      " 55%|█████▍    | 99/181 [00:31<00:26,  3.10it/s]\u001b[A\n",
      " 55%|█████▌    | 100/181 [00:32<00:26,  3.10it/s]\u001b[A\n",
      " 56%|█████▌    | 101/181 [00:32<00:25,  3.10it/s]\u001b[A\n",
      " 56%|█████▋    | 102/181 [00:32<00:25,  3.09it/s]\u001b[A\n",
      " 57%|█████▋    | 103/181 [00:33<00:25,  3.10it/s]\u001b[A\n",
      " 57%|█████▋    | 104/181 [00:33<00:24,  3.10it/s]\u001b[A\n",
      " 58%|█████▊    | 105/181 [00:33<00:24,  3.10it/s]\u001b[A\n",
      " 59%|█████▊    | 106/181 [00:34<00:24,  3.10it/s]\u001b[A\n",
      " 59%|█████▉    | 107/181 [00:34<00:23,  3.10it/s]\u001b[A\n",
      " 60%|█████▉    | 108/181 [00:34<00:23,  3.11it/s]\u001b[A\n",
      " 60%|██████    | 109/181 [00:35<00:23,  3.11it/s]\u001b[A\n",
      " 61%|██████    | 110/181 [00:35<00:22,  3.11it/s]\u001b[A\n",
      " 61%|██████▏   | 111/181 [00:35<00:22,  3.10it/s]\u001b[A\n",
      " 62%|██████▏   | 112/181 [00:36<00:22,  3.10it/s]\u001b[A\n",
      " 62%|██████▏   | 113/181 [00:36<00:21,  3.11it/s]\u001b[A\n",
      " 63%|██████▎   | 114/181 [00:36<00:21,  3.11it/s]\u001b[A\n",
      " 64%|██████▎   | 115/181 [00:37<00:21,  3.11it/s]\u001b[A\n",
      " 64%|██████▍   | 116/181 [00:37<00:20,  3.10it/s]\u001b[A\n",
      " 65%|██████▍   | 117/181 [00:37<00:20,  3.10it/s]\u001b[A\n",
      " 65%|██████▌   | 118/181 [00:38<00:20,  3.10it/s]\u001b[A\n",
      " 66%|██████▌   | 119/181 [00:38<00:19,  3.10it/s]\u001b[A\n",
      " 66%|██████▋   | 120/181 [00:38<00:19,  3.10it/s]\u001b[A\n",
      " 67%|██████▋   | 121/181 [00:38<00:19,  3.10it/s]\u001b[A\n",
      " 67%|██████▋   | 122/181 [00:39<00:19,  3.10it/s]\u001b[A\n",
      " 68%|██████▊   | 123/181 [00:39<00:18,  3.10it/s]\u001b[A\n",
      " 69%|██████▊   | 124/181 [00:39<00:18,  3.10it/s]\u001b[A\n",
      " 69%|██████▉   | 125/181 [00:40<00:18,  3.10it/s]\u001b[A\n",
      " 70%|██████▉   | 126/181 [00:40<00:17,  3.10it/s]\u001b[A\n",
      " 70%|███████   | 127/181 [00:40<00:17,  3.10it/s]\u001b[A\n",
      " 71%|███████   | 128/181 [00:41<00:17,  3.10it/s]\u001b[A\n",
      " 71%|███████▏  | 129/181 [00:41<00:16,  3.10it/s]\u001b[A\n",
      " 72%|███████▏  | 130/181 [00:41<00:16,  3.10it/s]\u001b[A\n",
      " 72%|███████▏  | 131/181 [00:42<00:16,  3.10it/s]\u001b[A\n",
      " 73%|███████▎  | 132/181 [00:42<00:15,  3.10it/s]\u001b[A\n",
      " 73%|███████▎  | 133/181 [00:42<00:15,  3.10it/s]\u001b[A\n",
      " 74%|███████▍  | 134/181 [00:43<00:15,  3.10it/s]\u001b[A\n",
      " 75%|███████▍  | 135/181 [00:43<00:14,  3.09it/s]\u001b[A\n",
      " 75%|███████▌  | 136/181 [00:43<00:14,  3.09it/s]\u001b[A\n",
      " 76%|███████▌  | 137/181 [00:44<00:14,  3.09it/s]\u001b[A\n",
      " 76%|███████▌  | 138/181 [00:44<00:13,  3.09it/s]\u001b[A\n",
      " 77%|███████▋  | 139/181 [00:44<00:13,  3.10it/s]\u001b[A\n",
      " 77%|███████▋  | 140/181 [00:45<00:13,  3.10it/s]\u001b[A\n",
      " 78%|███████▊  | 141/181 [00:45<00:12,  3.10it/s]\u001b[A\n",
      " 78%|███████▊  | 142/181 [00:45<00:12,  3.09it/s]\u001b[A\n",
      " 79%|███████▉  | 143/181 [00:46<00:12,  3.09it/s]\u001b[A\n",
      " 80%|███████▉  | 144/181 [00:46<00:11,  3.10it/s]\u001b[A\n",
      " 80%|████████  | 145/181 [00:46<00:11,  3.10it/s]\u001b[A\n",
      " 81%|████████  | 146/181 [00:47<00:11,  3.09it/s]\u001b[A\n",
      " 81%|████████  | 147/181 [00:47<00:10,  3.09it/s]\u001b[A\n",
      " 82%|████████▏ | 148/181 [00:47<00:10,  3.09it/s]\u001b[A\n",
      " 82%|████████▏ | 149/181 [00:48<00:10,  3.10it/s]\u001b[A\n",
      " 83%|████████▎ | 150/181 [00:48<00:10,  3.10it/s]\u001b[A\n",
      " 83%|████████▎ | 151/181 [00:48<00:09,  3.10it/s]\u001b[A\n",
      " 84%|████████▍ | 152/181 [00:49<00:09,  3.10it/s]\u001b[A\n",
      " 85%|████████▍ | 153/181 [00:49<00:09,  3.10it/s]\u001b[A\n",
      " 85%|████████▌ | 154/181 [00:49<00:08,  3.10it/s]\u001b[A\n",
      " 86%|████████▌ | 155/181 [00:49<00:08,  3.10it/s]\u001b[A\n",
      " 86%|████████▌ | 156/181 [00:50<00:08,  3.11it/s]\u001b[A\n",
      " 87%|████████▋ | 157/181 [00:50<00:07,  3.11it/s]\u001b[A\n",
      " 87%|████████▋ | 158/181 [00:50<00:07,  3.10it/s]\u001b[A\n",
      " 88%|████████▊ | 159/181 [00:51<00:07,  3.10it/s]\u001b[A\n",
      " 88%|████████▊ | 160/181 [00:51<00:06,  3.10it/s]\u001b[A\n",
      " 89%|████████▉ | 161/181 [00:51<00:06,  3.10it/s]\u001b[A\n",
      " 90%|████████▉ | 162/181 [00:52<00:06,  3.09it/s]\u001b[A\n",
      " 90%|█████████ | 163/181 [00:52<00:05,  3.10it/s]\u001b[A\n",
      " 91%|█████████ | 164/181 [00:52<00:05,  3.10it/s]\u001b[A\n",
      " 91%|█████████ | 165/181 [00:53<00:05,  3.10it/s]\u001b[A\n",
      " 92%|█████████▏| 166/181 [00:53<00:04,  3.10it/s]\u001b[A\n",
      " 92%|█████████▏| 167/181 [00:53<00:04,  3.11it/s]\u001b[A\n",
      " 93%|█████████▎| 168/181 [00:54<00:04,  3.11it/s]\u001b[A\n",
      " 93%|█████████▎| 169/181 [00:54<00:03,  3.11it/s]\u001b[A\n",
      " 94%|█████████▍| 170/181 [00:54<00:03,  3.10it/s]\u001b[A\n",
      " 94%|█████████▍| 171/181 [00:55<00:03,  3.10it/s]\u001b[A\n",
      " 95%|█████████▌| 172/181 [00:55<00:02,  3.10it/s]\u001b[A\n",
      " 96%|█████████▌| 173/181 [00:55<00:02,  3.10it/s]\u001b[A\n",
      " 96%|█████████▌| 174/181 [00:56<00:02,  3.10it/s]\u001b[A\n",
      " 97%|█████████▋| 175/181 [00:56<00:01,  3.10it/s]\u001b[A\n",
      " 97%|█████████▋| 176/181 [00:56<00:01,  3.10it/s]\u001b[A\n",
      " 98%|█████████▊| 177/181 [00:57<00:01,  3.10it/s]\u001b[A\n",
      " 98%|█████████▊| 178/181 [00:57<00:00,  3.11it/s]\u001b[A\n",
      " 99%|█████████▉| 179/181 [00:57<00:00,  3.11it/s]\u001b[A\n",
      " 99%|█████████▉| 180/181 [00:58<00:00,  3.11it/s]\u001b[A\n",
      "100%|██████████| 181/181 [00:58<00:00,  3.11it/s]\u001b[A\n",
      "Epoch:  75%|███████▌  | 3/4 [28:23<09:27, 567.35s/it]"
     ]
    },
    {
     "name": "stdout",
     "output_type": "stream",
     "text": [
      "  Accuracy: 0.54\n",
      "  Validation Loss: 0.69\n",
      "  Validation took: 0:00:58\n",
      "\n",
      "======== Epoch 4 / 4 ========\n",
      "Training...\n",
      "  Batch   500  of  1,494.    Elapsed: 0:02:51.\n",
      "  Batch 1,000  of  1,494.    Elapsed: 0:05:42.\n"
     ]
    },
    {
     "name": "stderr",
     "output_type": "stream",
     "text": [
      "\n",
      "  0%|          | 0/181 [00:00<?, ?it/s]\u001b[A"
     ]
    },
    {
     "name": "stdout",
     "output_type": "stream",
     "text": [
      "\n",
      "  Average training loss: 0.69\n",
      "  Training epcoh took: 0:08:30\n",
      "\n",
      "Running Validation...\n"
     ]
    },
    {
     "name": "stderr",
     "output_type": "stream",
     "text": [
      "\n",
      "  1%|          | 1/181 [00:00<00:57,  3.13it/s]\u001b[A\n",
      "  1%|          | 2/181 [00:00<00:57,  3.13it/s]\u001b[A\n",
      "  2%|▏         | 3/181 [00:00<00:57,  3.12it/s]\u001b[A\n",
      "  2%|▏         | 4/181 [00:01<00:56,  3.12it/s]\u001b[A\n",
      "  3%|▎         | 5/181 [00:01<00:56,  3.11it/s]\u001b[A\n",
      "  3%|▎         | 6/181 [00:01<00:56,  3.11it/s]\u001b[A\n",
      "  4%|▍         | 7/181 [00:02<00:56,  3.11it/s]\u001b[A\n",
      "  4%|▍         | 8/181 [00:02<00:55,  3.10it/s]\u001b[A\n",
      "  5%|▍         | 9/181 [00:02<00:55,  3.10it/s]\u001b[A\n",
      "  6%|▌         | 10/181 [00:03<00:55,  3.11it/s]\u001b[A\n",
      "  6%|▌         | 11/181 [00:03<00:54,  3.11it/s]\u001b[A\n",
      "  7%|▋         | 12/181 [00:03<00:54,  3.11it/s]\u001b[A\n",
      "  7%|▋         | 13/181 [00:04<00:54,  3.11it/s]\u001b[A\n",
      "  8%|▊         | 14/181 [00:04<00:53,  3.11it/s]\u001b[A\n",
      "  8%|▊         | 15/181 [00:04<00:53,  3.11it/s]\u001b[A\n",
      "  9%|▉         | 16/181 [00:05<00:53,  3.11it/s]\u001b[A\n",
      "  9%|▉         | 17/181 [00:05<00:52,  3.11it/s]\u001b[A\n",
      " 10%|▉         | 18/181 [00:05<00:52,  3.11it/s]\u001b[A\n",
      " 10%|█         | 19/181 [00:06<00:52,  3.11it/s]\u001b[A\n",
      " 11%|█         | 20/181 [00:06<00:51,  3.11it/s]\u001b[A\n",
      " 12%|█▏        | 21/181 [00:06<00:51,  3.11it/s]\u001b[A\n",
      " 12%|█▏        | 22/181 [00:07<00:51,  3.11it/s]\u001b[A\n",
      " 13%|█▎        | 23/181 [00:07<00:50,  3.11it/s]\u001b[A\n",
      " 13%|█▎        | 24/181 [00:07<00:50,  3.11it/s]\u001b[A\n",
      " 14%|█▍        | 25/181 [00:08<00:50,  3.11it/s]\u001b[A\n",
      " 14%|█▍        | 26/181 [00:08<00:49,  3.11it/s]\u001b[A\n",
      " 15%|█▍        | 27/181 [00:08<00:49,  3.11it/s]\u001b[A\n",
      " 15%|█▌        | 28/181 [00:09<00:49,  3.11it/s]\u001b[A\n",
      " 16%|█▌        | 29/181 [00:09<00:48,  3.11it/s]\u001b[A\n",
      " 17%|█▋        | 30/181 [00:09<00:48,  3.11it/s]\u001b[A\n",
      " 17%|█▋        | 31/181 [00:09<00:48,  3.11it/s]\u001b[A\n",
      " 18%|█▊        | 32/181 [00:10<00:47,  3.11it/s]\u001b[A\n",
      " 18%|█▊        | 33/181 [00:10<00:47,  3.11it/s]\u001b[A\n",
      " 19%|█▉        | 34/181 [00:10<00:47,  3.11it/s]\u001b[A\n",
      " 19%|█▉        | 35/181 [00:11<00:47,  3.10it/s]\u001b[A\n",
      " 20%|█▉        | 36/181 [00:11<00:46,  3.10it/s]\u001b[A\n",
      " 20%|██        | 37/181 [00:11<00:46,  3.10it/s]\u001b[A\n",
      " 21%|██        | 38/181 [00:12<00:46,  3.11it/s]\u001b[A\n",
      " 22%|██▏       | 39/181 [00:12<00:45,  3.10it/s]\u001b[A\n",
      " 22%|██▏       | 40/181 [00:12<00:45,  3.10it/s]\u001b[A\n",
      " 23%|██▎       | 41/181 [00:13<00:45,  3.10it/s]\u001b[A\n",
      " 23%|██▎       | 42/181 [00:13<00:44,  3.10it/s]\u001b[A\n",
      " 24%|██▍       | 43/181 [00:13<00:44,  3.10it/s]\u001b[A\n",
      " 24%|██▍       | 44/181 [00:14<00:44,  3.10it/s]\u001b[A\n",
      " 25%|██▍       | 45/181 [00:14<00:43,  3.10it/s]\u001b[A\n",
      " 25%|██▌       | 46/181 [00:14<00:43,  3.10it/s]\u001b[A\n",
      " 26%|██▌       | 47/181 [00:15<00:43,  3.10it/s]\u001b[A\n",
      " 27%|██▋       | 48/181 [00:15<00:42,  3.10it/s]\u001b[A\n",
      " 27%|██▋       | 49/181 [00:15<00:42,  3.10it/s]\u001b[A\n",
      " 28%|██▊       | 50/181 [00:16<00:42,  3.10it/s]\u001b[A\n",
      " 28%|██▊       | 51/181 [00:16<00:41,  3.10it/s]\u001b[A\n",
      " 29%|██▊       | 52/181 [00:16<00:41,  3.10it/s]\u001b[A\n",
      " 29%|██▉       | 53/181 [00:17<00:41,  3.10it/s]\u001b[A\n",
      " 30%|██▉       | 54/181 [00:17<00:40,  3.11it/s]\u001b[A\n",
      " 30%|███       | 55/181 [00:17<00:40,  3.10it/s]\u001b[A\n",
      " 31%|███       | 56/181 [00:18<00:40,  3.09it/s]\u001b[A\n",
      " 31%|███▏      | 57/181 [00:18<00:40,  3.09it/s]\u001b[A\n",
      " 32%|███▏      | 58/181 [00:18<00:39,  3.09it/s]\u001b[A\n",
      " 33%|███▎      | 59/181 [00:19<00:39,  3.09it/s]\u001b[A\n",
      " 33%|███▎      | 60/181 [00:19<00:39,  3.09it/s]\u001b[A\n",
      " 34%|███▎      | 61/181 [00:19<00:38,  3.09it/s]\u001b[A\n",
      " 34%|███▍      | 62/181 [00:19<00:38,  3.09it/s]\u001b[A\n",
      " 35%|███▍      | 63/181 [00:20<00:38,  3.10it/s]\u001b[A\n",
      " 35%|███▌      | 64/181 [00:20<00:37,  3.10it/s]\u001b[A\n",
      " 36%|███▌      | 65/181 [00:20<00:37,  3.10it/s]\u001b[A\n",
      " 36%|███▋      | 66/181 [00:21<00:37,  3.10it/s]\u001b[A\n",
      " 37%|███▋      | 67/181 [00:21<00:36,  3.10it/s]\u001b[A\n",
      " 38%|███▊      | 68/181 [00:21<00:36,  3.10it/s]\u001b[A\n",
      " 38%|███▊      | 69/181 [00:22<00:36,  3.10it/s]\u001b[A\n",
      " 39%|███▊      | 70/181 [00:22<00:35,  3.10it/s]\u001b[A\n",
      " 39%|███▉      | 71/181 [00:22<00:35,  3.10it/s]\u001b[A\n",
      " 40%|███▉      | 72/181 [00:23<00:35,  3.10it/s]\u001b[A\n",
      " 40%|████      | 73/181 [00:23<00:34,  3.10it/s]\u001b[A\n",
      " 41%|████      | 74/181 [00:23<00:34,  3.10it/s]\u001b[A\n",
      " 41%|████▏     | 75/181 [00:24<00:34,  3.10it/s]\u001b[A\n",
      " 42%|████▏     | 76/181 [00:24<00:33,  3.10it/s]\u001b[A\n",
      " 43%|████▎     | 77/181 [00:24<00:33,  3.10it/s]\u001b[A\n",
      " 43%|████▎     | 78/181 [00:25<00:33,  3.10it/s]\u001b[A\n",
      " 44%|████▎     | 79/181 [00:25<00:32,  3.10it/s]\u001b[A\n",
      " 44%|████▍     | 80/181 [00:25<00:32,  3.10it/s]\u001b[A\n",
      " 45%|████▍     | 81/181 [00:26<00:32,  3.10it/s]\u001b[A\n",
      " 45%|████▌     | 82/181 [00:26<00:31,  3.10it/s]\u001b[A\n",
      " 46%|████▌     | 83/181 [00:26<00:31,  3.09it/s]\u001b[A\n",
      " 46%|████▋     | 84/181 [00:27<00:31,  3.10it/s]\u001b[A\n",
      " 47%|████▋     | 85/181 [00:27<00:30,  3.11it/s]\u001b[A\n",
      " 48%|████▊     | 86/181 [00:27<00:30,  3.11it/s]\u001b[A\n",
      " 48%|████▊     | 87/181 [00:28<00:30,  3.10it/s]\u001b[A\n",
      " 49%|████▊     | 88/181 [00:28<00:29,  3.10it/s]\u001b[A\n",
      " 49%|████▉     | 89/181 [00:28<00:29,  3.10it/s]\u001b[A\n",
      " 50%|████▉     | 90/181 [00:29<00:29,  3.10it/s]\u001b[A\n",
      " 50%|█████     | 91/181 [00:29<00:29,  3.10it/s]\u001b[A\n",
      " 51%|█████     | 92/181 [00:29<00:28,  3.10it/s]\u001b[A\n",
      " 51%|█████▏    | 93/181 [00:29<00:28,  3.10it/s]\u001b[A\n",
      " 52%|█████▏    | 94/181 [00:30<00:28,  3.10it/s]\u001b[A\n",
      " 52%|█████▏    | 95/181 [00:30<00:27,  3.10it/s]\u001b[A\n",
      " 53%|█████▎    | 96/181 [00:30<00:27,  3.11it/s]\u001b[A\n",
      " 54%|█████▎    | 97/181 [00:31<00:27,  3.10it/s]\u001b[A\n",
      " 54%|█████▍    | 98/181 [00:31<00:26,  3.10it/s]\u001b[A\n",
      " 55%|█████▍    | 99/181 [00:31<00:26,  3.11it/s]\u001b[A\n",
      " 55%|█████▌    | 100/181 [00:32<00:26,  3.11it/s]\u001b[A\n",
      " 56%|█████▌    | 101/181 [00:32<00:25,  3.10it/s]\u001b[A\n",
      " 56%|█████▋    | 102/181 [00:32<00:25,  3.10it/s]\u001b[A\n",
      " 57%|█████▋    | 103/181 [00:33<00:25,  3.10it/s]\u001b[A\n",
      " 57%|█████▋    | 104/181 [00:33<00:24,  3.09it/s]\u001b[A\n",
      " 58%|█████▊    | 105/181 [00:33<00:24,  3.09it/s]\u001b[A\n",
      " 59%|█████▊    | 106/181 [00:34<00:24,  3.09it/s]\u001b[A\n",
      " 59%|█████▉    | 107/181 [00:34<00:23,  3.10it/s]\u001b[A\n",
      " 60%|█████▉    | 108/181 [00:34<00:23,  3.10it/s]\u001b[A\n",
      " 60%|██████    | 109/181 [00:35<00:23,  3.10it/s]\u001b[A\n",
      " 61%|██████    | 110/181 [00:35<00:22,  3.10it/s]\u001b[A\n",
      " 61%|██████▏   | 111/181 [00:35<00:22,  3.10it/s]\u001b[A\n",
      " 62%|██████▏   | 112/181 [00:36<00:22,  3.10it/s]\u001b[A\n",
      " 62%|██████▏   | 113/181 [00:36<00:21,  3.10it/s]\u001b[A\n",
      " 63%|██████▎   | 114/181 [00:36<00:21,  3.10it/s]\u001b[A\n",
      " 64%|██████▎   | 115/181 [00:37<00:21,  3.10it/s]\u001b[A\n",
      " 64%|██████▍   | 116/181 [00:37<00:20,  3.10it/s]\u001b[A\n",
      " 65%|██████▍   | 117/181 [00:37<00:20,  3.10it/s]\u001b[A\n",
      " 65%|██████▌   | 118/181 [00:38<00:20,  3.10it/s]\u001b[A\n",
      " 66%|██████▌   | 119/181 [00:38<00:19,  3.10it/s]\u001b[A\n",
      " 66%|██████▋   | 120/181 [00:38<00:19,  3.10it/s]\u001b[A\n",
      " 67%|██████▋   | 121/181 [00:39<00:19,  3.11it/s]\u001b[A\n",
      " 67%|██████▋   | 122/181 [00:39<00:18,  3.11it/s]\u001b[A\n",
      " 68%|██████▊   | 123/181 [00:39<00:18,  3.10it/s]\u001b[A\n",
      " 69%|██████▊   | 124/181 [00:39<00:18,  3.10it/s]\u001b[A\n",
      " 69%|██████▉   | 125/181 [00:40<00:18,  3.10it/s]\u001b[A\n",
      " 70%|██████▉   | 126/181 [00:40<00:17,  3.10it/s]\u001b[A\n",
      " 70%|███████   | 127/181 [00:40<00:17,  3.10it/s]\u001b[A\n",
      " 71%|███████   | 128/181 [00:41<00:17,  3.10it/s]\u001b[A\n",
      " 71%|███████▏  | 129/181 [00:41<00:16,  3.10it/s]\u001b[A\n",
      " 72%|███████▏  | 130/181 [00:41<00:16,  3.10it/s]\u001b[A\n",
      " 72%|███████▏  | 131/181 [00:42<00:16,  3.11it/s]\u001b[A\n",
      " 73%|███████▎  | 132/181 [00:42<00:15,  3.11it/s]\u001b[A\n",
      " 73%|███████▎  | 133/181 [00:42<00:15,  3.10it/s]\u001b[A\n",
      " 74%|███████▍  | 134/181 [00:43<00:15,  3.10it/s]\u001b[A\n",
      " 75%|███████▍  | 135/181 [00:43<00:14,  3.09it/s]\u001b[A\n",
      " 75%|███████▌  | 136/181 [00:43<00:14,  3.09it/s]\u001b[A\n",
      " 76%|███████▌  | 137/181 [00:44<00:14,  3.09it/s]\u001b[A\n",
      " 76%|███████▌  | 138/181 [00:44<00:13,  3.10it/s]\u001b[A\n",
      " 77%|███████▋  | 139/181 [00:44<00:13,  3.10it/s]\u001b[A\n",
      " 77%|███████▋  | 140/181 [00:45<00:13,  3.10it/s]\u001b[A\n",
      " 78%|███████▊  | 141/181 [00:45<00:12,  3.10it/s]\u001b[A\n",
      " 78%|███████▊  | 142/181 [00:45<00:12,  3.11it/s]\u001b[A\n",
      " 79%|███████▉  | 143/181 [00:46<00:12,  3.11it/s]\u001b[A\n",
      " 80%|███████▉  | 144/181 [00:46<00:11,  3.11it/s]\u001b[A\n",
      " 80%|████████  | 145/181 [00:46<00:11,  3.10it/s]\u001b[A\n",
      " 81%|████████  | 146/181 [00:47<00:11,  3.10it/s]\u001b[A\n",
      " 81%|████████  | 147/181 [00:47<00:10,  3.10it/s]\u001b[A\n",
      " 82%|████████▏ | 148/181 [00:47<00:10,  3.11it/s]\u001b[A\n",
      " 82%|████████▏ | 149/181 [00:48<00:10,  3.11it/s]\u001b[A\n",
      " 83%|████████▎ | 150/181 [00:48<00:09,  3.11it/s]\u001b[A\n",
      " 83%|████████▎ | 151/181 [00:48<00:09,  3.10it/s]\u001b[A\n",
      " 84%|████████▍ | 152/181 [00:49<00:09,  3.10it/s]\u001b[A\n",
      " 85%|████████▍ | 153/181 [00:49<00:09,  3.10it/s]\u001b[A\n",
      " 85%|████████▌ | 154/181 [00:49<00:08,  3.10it/s]\u001b[A\n",
      " 86%|████████▌ | 155/181 [00:49<00:08,  3.11it/s]\u001b[A\n",
      " 86%|████████▌ | 156/181 [00:50<00:08,  3.11it/s]\u001b[A\n",
      " 87%|████████▋ | 157/181 [00:50<00:07,  3.11it/s]\u001b[A\n",
      " 87%|████████▋ | 158/181 [00:50<00:07,  3.11it/s]\u001b[A\n",
      " 88%|████████▊ | 159/181 [00:51<00:07,  3.11it/s]\u001b[A\n",
      " 88%|████████▊ | 160/181 [00:51<00:06,  3.11it/s]\u001b[A\n",
      " 89%|████████▉ | 161/181 [00:51<00:06,  3.10it/s]\u001b[A\n",
      " 90%|████████▉ | 162/181 [00:52<00:06,  3.10it/s]\u001b[A\n",
      " 90%|█████████ | 163/181 [00:52<00:05,  3.10it/s]\u001b[A\n",
      " 91%|█████████ | 164/181 [00:52<00:05,  3.10it/s]\u001b[A\n",
      " 91%|█████████ | 165/181 [00:53<00:05,  3.11it/s]\u001b[A\n",
      " 92%|█████████▏| 166/181 [00:53<00:04,  3.11it/s]\u001b[A\n",
      " 92%|█████████▏| 167/181 [00:53<00:04,  3.11it/s]\u001b[A\n",
      " 93%|█████████▎| 168/181 [00:54<00:04,  3.11it/s]\u001b[A\n",
      " 93%|█████████▎| 169/181 [00:54<00:03,  3.11it/s]\u001b[A\n",
      " 94%|█████████▍| 170/181 [00:54<00:03,  3.11it/s]\u001b[A\n",
      " 94%|█████████▍| 171/181 [00:55<00:03,  3.11it/s]\u001b[A\n",
      " 95%|█████████▌| 172/181 [00:55<00:02,  3.11it/s]\u001b[A\n",
      " 96%|█████████▌| 173/181 [00:55<00:02,  3.11it/s]\u001b[A\n",
      " 96%|█████████▌| 174/181 [00:56<00:02,  3.11it/s]\u001b[A\n",
      " 97%|█████████▋| 175/181 [00:56<00:01,  3.11it/s]\u001b[A\n",
      " 97%|█████████▋| 176/181 [00:56<00:01,  3.11it/s]\u001b[A\n",
      " 98%|█████████▊| 177/181 [00:57<00:01,  3.11it/s]\u001b[A\n",
      " 98%|█████████▊| 178/181 [00:57<00:00,  3.11it/s]\u001b[A\n",
      " 99%|█████████▉| 179/181 [00:57<00:00,  3.11it/s]\u001b[A\n",
      " 99%|█████████▉| 180/181 [00:58<00:00,  3.11it/s]\u001b[A\n",
      "100%|██████████| 181/181 [00:58<00:00,  3.11it/s]\u001b[A\n",
      "Epoch: 100%|██████████| 4/4 [37:51<00:00, 567.88s/it]"
     ]
    },
    {
     "name": "stdout",
     "output_type": "stream",
     "text": [
      "  Accuracy: 0.54\n",
      "  Validation Loss: 0.69\n",
      "  Validation took: 0:00:58\n",
      "Training complete!\n",
      "Total training took 0:37:52 (h:mm:ss)\n"
     ]
    },
    {
     "name": "stderr",
     "output_type": "stream",
     "text": [
      "\n"
     ]
    }
   ],
   "source": [
    "import random\n",
    "import numpy as np\n",
    "\n",
    "# This training code is based on the `run_glue.py` script here:\n",
    "# https://github.com/huggingface/transformers/blob/5bfcd0485ece086ebcbed2d008813037968a9e58/examples/run_glue.py#L128\n",
    "\n",
    "torch.cuda.empty_cache()\n",
    "\n",
    "# Set the seed value all over the place to make this reproducible.\n",
    "seed_val = 42\n",
    "\n",
    "random.seed(seed_val)\n",
    "np.random.seed(seed_val)\n",
    "torch.manual_seed(seed_val)\n",
    "torch.cuda.manual_seed_all(seed_val)\n",
    "\n",
    "# We'll store a number of quantities such as training and validation loss, \n",
    "# validation accuracy, and timings.\n",
    "training_stats = []\n",
    "\n",
    "# Measure the total training time for the whole run.\n",
    "total_t0 = time.time()\n",
    "\n",
    "# For each epoch...\n",
    "# for epoch_i in range(0, epochs):\n",
    "for epoch_i in trange(epochs, desc=\"Epoch\"):\n",
    "    \n",
    "    # ========================================\n",
    "    #               Training\n",
    "    # ========================================\n",
    "    \n",
    "    # Perform one full pass over the training set.\n",
    "\n",
    "    print(\"\")\n",
    "    print('======== Epoch {:} / {:} ========'.format(epoch_i + 1, epochs))\n",
    "    print('Training...')\n",
    "\n",
    "    # Measure how long the training epoch takes.\n",
    "    t0 = time.time()\n",
    "\n",
    "    # Reset the total loss for this epoch.\n",
    "    total_train_loss = 0\n",
    "\n",
    "    # Put the model into training mode. Don't be mislead--the call to \n",
    "    # `train` just changes the *mode*, it doesn't *perform* the training.\n",
    "    # `dropout` and `batchnorm` layers behave differently during training\n",
    "    # vs. test (source: https://stackoverflow.com/questions/51433378/what-does-model-train-do-in-pytorch)\n",
    "    model.train()\n",
    "\n",
    "    # For each batch of training data...\n",
    "    for step, batch in enumerate(train_dataloader):\n",
    "\n",
    "        # Progress update every 40 batches.\n",
    "        if step % 500 == 0 and not step == 0:\n",
    "            # Calculate elapsed time in minutes.\n",
    "            elapsed = format_time(time.time() - t0)\n",
    "            \n",
    "            # Report progress.\n",
    "            print('  Batch {:>5,}  of  {:>5,}.    Elapsed: {:}.'.format(step, len(train_dataloader), elapsed))\n",
    "\n",
    "        # Unpack this training batch from our dataloader. \n",
    "        #\n",
    "        # As we unpack the batch, we'll also copy each tensor to the GPU using the \n",
    "        # `to` method.\n",
    "        #\n",
    "        # `batch` contains three pytorch tensors:\n",
    "        #   [0]: input ids \n",
    "        #   [1]: attention masks\n",
    "        #   [2]: labels \n",
    "        b_input_ids = batch[0].to(device)\n",
    "        b_input_mask = batch[1].to(device)\n",
    "        b_labels = batch[2].to(device)\n",
    "        \n",
    "#         print(b_input_ids.dtype)\n",
    "#         print(b_labels.dtype)\n",
    "\n",
    "        # Always clear any previously calculated gradients before performing a\n",
    "        # backward pass. PyTorch doesn't do this automatically because \n",
    "        # accumulating the gradients is \"convenient while training RNNs\". \n",
    "        # (source: https://stackoverflow.com/questions/48001598/why-do-we-need-to-call-zero-grad-in-pytorch)\n",
    "        model.zero_grad()        \n",
    "\n",
    "        # Perform a forward pass (evaluate the model on this training batch).\n",
    "        # In PyTorch, calling `model` will in turn call the model's `forward` \n",
    "        # function and pass down the arguments. The `forward` function is \n",
    "        # documented here: \n",
    "        # https://huggingface.co/transformers/model_doc/bert.html#bertforsequenceclassification\n",
    "        # The results are returned in a results object, documented here:\n",
    "        # https://huggingface.co/transformers/main_classes/output.html#transformers.modeling_outputs.SequenceClassifierOutput\n",
    "        # Specifically, we'll get the loss (because we provided labels) and the\n",
    "        # \"logits\"--the model outputs prior to activation.\n",
    "        result = model(b_input_ids, \n",
    "                       token_type_ids=None, \n",
    "                       attention_mask=b_input_mask, \n",
    "                       labels=b_labels,\n",
    "                       return_dict=True)\n",
    "\n",
    "        loss = result.loss\n",
    "        logits = result.logits\n",
    "\n",
    "#         loss, logits = model(b_input_ids, \n",
    "#                          token_type_ids=None, \n",
    "#                          attention_mask=b_input_mask, \n",
    "#                          labels=b_labels)\n",
    "        \n",
    "#         print(loss)\n",
    "#         print(logits)\n",
    "        # Accumulate the training loss over all of the batches so that we can\n",
    "        # calculate the average loss at the end. `loss` is a Tensor containing a\n",
    "        # single value; the `.item()` function just returns the Python value \n",
    "        # from the tensor.\n",
    "        total_train_loss += loss.item()\n",
    "\n",
    "        # Perform a backward pass to calculate the gradients.\n",
    "        loss.backward()\n",
    "\n",
    "        # Clip the norm of the gradients to 1.0.\n",
    "        # This is to help prevent the \"exploding gradients\" problem.\n",
    "        torch.nn.utils.clip_grad_norm_(model.parameters(), 1.0)\n",
    "\n",
    "        # Update parameters and take a step using the computed gradient.\n",
    "        # The optimizer dictates the \"update rule\"--how the parameters are\n",
    "        # modified based on their gradients, the learning rate, etc.\n",
    "        optimizer.step()\n",
    "\n",
    "        # Update the learning rate.\n",
    "        scheduler.step()\n",
    "\n",
    "    # Calculate the average loss over all of the batches.\n",
    "    avg_train_loss = total_train_loss / len(train_dataloader)            \n",
    "    \n",
    "    # Measure how long this epoch took.\n",
    "    training_time = format_time(time.time() - t0)\n",
    "\n",
    "    print(\"\")\n",
    "    print(\"  Average training loss: {0:.2f}\".format(avg_train_loss))\n",
    "    print(\"  Training epcoh took: {:}\".format(training_time))\n",
    "        \n",
    "    # ========================================\n",
    "    #               Validation\n",
    "    # ========================================\n",
    "    # After the completion of each training epoch, measure our performance on\n",
    "    # our validation set.\n",
    "\n",
    "    print(\"\")\n",
    "    print(\"Running Validation...\")\n",
    "\n",
    "    t0 = time.time()\n",
    "\n",
    "    # Put the model in evaluation mode--the dropout layers behave differently\n",
    "    # during evaluation.\n",
    "    model.eval()\n",
    "\n",
    "    # Tracking variables \n",
    "    total_eval_accuracy = 0\n",
    "    total_eval_loss = 0\n",
    "    nb_eval_steps = 0\n",
    "\n",
    "    # Evaluate data for one epoch\n",
    "    for batch in tqdm(validation_dataloader):\n",
    "        \n",
    "        # Unpack this training batch from our dataloader. \n",
    "        #\n",
    "        # As we unpack the batch, we'll also copy each tensor to the GPU using \n",
    "        # the `to` method.\n",
    "        #\n",
    "        # `batch` contains three pytorch tensors:\n",
    "        #   [0]: input ids \n",
    "        #   [1]: attention masks\n",
    "        #   [2]: labels \n",
    "        b_input_ids = batch[0].to(device)\n",
    "        b_input_mask = batch[1].to(device)\n",
    "        b_labels = batch[2].to(device)\n",
    "        \n",
    "#         print(b_input_ids.dtype)\n",
    "#         print(b_labels.dtype)\n",
    "        \n",
    "        \n",
    "        # Tell pytorch not to bother with constructing the compute graph during\n",
    "        # the forward pass, since this is only needed for backprop (training).\n",
    "        with torch.no_grad():        \n",
    "\n",
    "            # Forward pass, calculate logit predictions.\n",
    "            # token_type_ids is the same as the \"segment ids\", which \n",
    "            # differentiates sentence 1 and 2 in 2-sentence tasks.\n",
    "            result = model(b_input_ids, \n",
    "                           token_type_ids=None, \n",
    "                           attention_mask=b_input_mask,\n",
    "                           labels=b_labels,\n",
    "                           return_dict=True)\n",
    "#             loss, logits = model(b_input_ids, \n",
    "#                      token_type_ids=None, \n",
    "#                      attention_mask=b_input_mask, \n",
    "#                      labels=b_labels)\n",
    "\n",
    "        # Get the loss and \"logits\" output by the model. The \"logits\" are the \n",
    "        # output values prior to applying an activation function like the \n",
    "        # softmax.\n",
    "        loss = result.loss\n",
    "        logits = result.logits\n",
    "            \n",
    "        # Accumulate the validation loss.\n",
    "        total_eval_loss += loss.item()\n",
    "\n",
    "        # Move logits and labels to CPU\n",
    "        logits = logits.detach().cpu().numpy()\n",
    "        label_ids = b_labels.to('cpu').numpy()\n",
    "\n",
    "        # Calculate the accuracy for this batch of test sentences, and\n",
    "        # accumulate it over all batches.\n",
    "        total_eval_accuracy += flat_accuracy(logits, label_ids)\n",
    "        \n",
    "\n",
    "    # Report the final accuracy for this validation run.\n",
    "    avg_val_accuracy = total_eval_accuracy / len(validation_dataloader)\n",
    "    print(\"  Accuracy: {0:.2f}\".format(avg_val_accuracy))\n",
    "\n",
    "    # Calculate the average loss over all of the batches.\n",
    "    avg_val_loss = total_eval_loss / len(validation_dataloader)\n",
    "    \n",
    "    # Measure how long the validation run took.\n",
    "    validation_time = format_time(time.time() - t0)\n",
    "    \n",
    "    print(\"  Validation Loss: {0:.2f}\".format(avg_val_loss))\n",
    "    print(\"  Validation took: {:}\".format(validation_time))\n",
    "\n",
    "    # Record all statistics from this epoch.\n",
    "    training_stats.append(\n",
    "        {\n",
    "            'epoch': epoch_i + 1,\n",
    "            'Training Loss': avg_train_loss,\n",
    "            'Valid. Loss': avg_val_loss,\n",
    "            'Valid. Accur.': avg_val_accuracy,\n",
    "            'Training Time': training_time,\n",
    "            'Validation Time': validation_time\n",
    "        }\n",
    "    )\n",
    "\n",
    "\n",
    "print(\"Training complete!\")\n",
    "\n",
    "print(\"Total training took {:} (h:mm:ss)\".format(format_time(time.time()-total_t0)))"
   ]
  },
  {
   "cell_type": "markdown",
   "metadata": {
    "id": "VQTvJ1vRP7u4"
   },
   "source": [
    "Let's view the summary of the training process."
   ]
  },
  {
   "cell_type": "code",
   "execution_count": 19,
   "metadata": {
    "colab": {
     "base_uri": "https://localhost:8080/",
     "height": 195
    },
    "id": "6O_NbXFGMukX",
    "outputId": "a9e51eda-5eae-4800-87d5-8d016ff25bb2"
   },
   "outputs": [
    {
     "data": {
      "text/html": [
       "<div>\n",
       "<style scoped>\n",
       "    .dataframe tbody tr th:only-of-type {\n",
       "        vertical-align: middle;\n",
       "    }\n",
       "\n",
       "    .dataframe tbody tr th {\n",
       "        vertical-align: top;\n",
       "    }\n",
       "\n",
       "    .dataframe thead th {\n",
       "        text-align: right;\n",
       "    }\n",
       "</style>\n",
       "<table border=\"1\" class=\"dataframe\">\n",
       "  <thead>\n",
       "    <tr style=\"text-align: right;\">\n",
       "      <th></th>\n",
       "      <th>Training Loss</th>\n",
       "      <th>Valid. Loss</th>\n",
       "      <th>Valid. Accur.</th>\n",
       "      <th>Training Time</th>\n",
       "      <th>Validation Time</th>\n",
       "    </tr>\n",
       "    <tr>\n",
       "      <th>epoch</th>\n",
       "      <th></th>\n",
       "      <th></th>\n",
       "      <th></th>\n",
       "      <th></th>\n",
       "      <th></th>\n",
       "    </tr>\n",
       "  </thead>\n",
       "  <tbody>\n",
       "    <tr>\n",
       "      <th>1</th>\n",
       "      <td>0.70</td>\n",
       "      <td>0.69</td>\n",
       "      <td>0.54</td>\n",
       "      <td>0:08:28</td>\n",
       "      <td>0:00:58</td>\n",
       "    </tr>\n",
       "    <tr>\n",
       "      <th>2</th>\n",
       "      <td>0.69</td>\n",
       "      <td>0.69</td>\n",
       "      <td>0.54</td>\n",
       "      <td>0:08:30</td>\n",
       "      <td>0:00:58</td>\n",
       "    </tr>\n",
       "    <tr>\n",
       "      <th>3</th>\n",
       "      <td>0.69</td>\n",
       "      <td>0.69</td>\n",
       "      <td>0.54</td>\n",
       "      <td>0:08:31</td>\n",
       "      <td>0:00:58</td>\n",
       "    </tr>\n",
       "    <tr>\n",
       "      <th>4</th>\n",
       "      <td>0.69</td>\n",
       "      <td>0.69</td>\n",
       "      <td>0.54</td>\n",
       "      <td>0:08:30</td>\n",
       "      <td>0:00:58</td>\n",
       "    </tr>\n",
       "  </tbody>\n",
       "</table>\n",
       "</div>"
      ],
      "text/plain": [
       "       Training Loss  Valid. Loss  Valid. Accur. Training Time Validation Time\n",
       "epoch                                                                         \n",
       "1               0.70         0.69           0.54       0:08:28         0:00:58\n",
       "2               0.69         0.69           0.54       0:08:30         0:00:58\n",
       "3               0.69         0.69           0.54       0:08:31         0:00:58\n",
       "4               0.69         0.69           0.54       0:08:30         0:00:58"
      ]
     },
     "execution_count": 19,
     "metadata": {},
     "output_type": "execute_result"
    }
   ],
   "source": [
    "\n",
    "\n",
    "# Display floats with two decimal places.\n",
    "pd.set_option('precision', 2)\n",
    "\n",
    "# Create a DataFrame from our training statistics.\n",
    "df_stats = pd.DataFrame(data=training_stats)\n",
    "\n",
    "# Use the 'epoch' as the row index.\n",
    "df_stats = df_stats.set_index('epoch')\n",
    "\n",
    "# A hack to force the column headers to wrap.\n",
    "#df = df.style.set_table_styles([dict(selector=\"th\",props=[('max-width', '70px')])])\n",
    "\n",
    "\n",
    "output_dir = './w_freeze_results_updated_clinBERTpretrained_3day_200421/'\n",
    "\n",
    "\n",
    "# Create output directory if needed\n",
    "if not os.path.exists(output_dir):\n",
    "    os.makedirs(output_dir)\n",
    "\n",
    "df_stats.to_csv(f'{output_dir}training_stats.csv')\n",
    "\n",
    "\n",
    "\n",
    "# Display the table.\n",
    "df_stats"
   ]
  },
  {
   "cell_type": "markdown",
   "metadata": {
    "id": "1-G03mmwH3aI"
   },
   "source": [
    "Notice that, while the the training loss is going down with each epoch, the validation loss is increasing! This suggests that we are training our model too long, and it's over-fitting on the training data. \n",
    "\n",
    "(For reference, we are using 7,695 training samples and 856 validation samples).\n",
    "\n",
    "Validation Loss is a more precise measure than accuracy, because with accuracy we don't care about the exact output value, but just which side of a threshold it falls on. \n",
    "\n",
    "If we are predicting the correct answer, but with less confidence, then validation loss will catch this, while accuracy will not."
   ]
  },
  {
   "cell_type": "code",
   "execution_count": 23,
   "metadata": {
    "colab": {
     "base_uri": "https://localhost:8080/",
     "height": 427
    },
    "id": "68xreA9JAmG5",
    "outputId": "70b8500d-7efc-4c99-de1f-05e8795e6298"
   },
   "outputs": [
    {
     "data": {
      "image/png": "[encoded data removed]",
      "text/plain": [
       "<Figure size 864x432 with 1 Axes>"
      ]
     },
     "metadata": {},
     "output_type": "display_data"
    },
    {
     "data": {
      "text/plain": [
       "<Figure size 864x432 with 0 Axes>"
      ]
     },
     "metadata": {},
     "output_type": "display_data"
    }
   ],
   "source": [
    "import matplotlib.pyplot as plt\n",
    "# % matplotlib inline\n",
    "\n",
    "import seaborn as sns\n",
    "\n",
    "# Use plot styling from seaborn.\n",
    "sns.set(style='darkgrid')\n",
    "\n",
    "# Increase the plot size and font size.\n",
    "sns.set(font_scale=1.5)\n",
    "plt.rcParams[\"figure.figsize\"] = (12,6)\n",
    "\n",
    "# Plot the learning curve.\n",
    "plt.plot(df_stats['Training Loss'], 'b-o', label=\"Training\")\n",
    "plt.plot(df_stats['Valid. Loss'], 'g-o', label=\"Validation\")\n",
    "\n",
    "# Label the plot.\n",
    "plt.title(\"Training & Validation Loss\")\n",
    "plt.xlabel(\"Epoch\")\n",
    "plt.ylabel(\"Loss\")\n",
    "plt.legend()\n",
    "# plt.xticks([1, 2, 3, 4])\n",
    "\n",
    "plt.show()\n",
    "plt.savefig(f'{output_dir}train_val_loss_figure.png')"
   ]
  },
  {
   "cell_type": "markdown",
   "metadata": {
    "id": "mkyubuJSOzg3"
   },
   "source": [
    "# 5. Performance On Test Set"
   ]
  },
  {
   "cell_type": "markdown",
   "metadata": {
    "id": "DosV94BYIYxg"
   },
   "source": [
    "Now we'll load the holdout dataset and prepare inputs just as we did with the training set. Then we'll evaluate predictions using [Matthew's correlation coefficient](https://scikit-learn.org/stable/modules/generated/sklearn.metrics.matthews_corrcoef.html) because this is the metric used by the wider NLP community to evaluate performance on CoLA. With this metric, +1 is the best score, and -1 is the worst score. This way, we can see how well we perform against the state of the art models for this specific task."
   ]
  },
  {
   "cell_type": "code",
   "execution_count": 8,
   "metadata": {},
   "outputs": [],
   "source": [
    "def vote_score(df, score, output_dir):\n",
    "    df['pred_score'] = score\n",
    "    df_sort = df.sort_values(by=['ID'])\n",
    "    # score\n",
    "    temp = (df_sort.groupby(['ID'])['pred_score'].agg(max) + df_sort.groupby(['ID'])['pred_score'].agg(sum) / 2) / (\n",
    "                1 + df_sort.groupby(['ID'])['pred_score'].agg(len) / 2)\n",
    "    x = df_sort.groupby(['ID'])['Label'].agg(np.min).values\n",
    "    df_out = pd.DataFrame({'logits': temp.values, 'ID': x})\n",
    "\n",
    "    fpr, tpr, thresholds = roc_curve(x, temp.values)\n",
    "    auc_score = auc(fpr, tpr)\n",
    "\n",
    "    plt.figure(1)\n",
    "    plt.plot([0, 1], [0, 1], 'k--')\n",
    "    plt.plot(fpr, tpr, label='Val (area = {:.3f})'.format(auc_score))\n",
    "    plt.xlabel('False positive rate')\n",
    "    plt.ylabel('True positive rate')\n",
    "    plt.title('ROC curve')\n",
    "    plt.legend(loc='best')\n",
    "    \n",
    "    plt.savefig(f'{output_dir}auroc_BioClinicalbert_3day.png')\n",
    "    plt.show()\n",
    "    \n",
    "#     string = 'auroc_clinicalbert_' + args.readmission_mode + '.png'\n",
    "#     plt.savefig(os.path.join(args.output_dir, string))\n",
    "\n",
    "    return fpr, tpr, df_out\n",
    "\n",
    "\n",
    "def pr_curve_plot(y, y_score, output_dir):\n",
    "    precision, recall, _ = precision_recall_curve(y, y_score)\n",
    "    area = auc(recall, precision)\n",
    "    step_kwargs = ({'step': 'post'}\n",
    "                   if 'step' in signature(plt.fill_between).parameters\n",
    "                   else {})\n",
    "\n",
    "    plt.figure(2)\n",
    "    plt.step(recall, precision, color='b', alpha=0.2,\n",
    "             where='post')\n",
    "    plt.fill_between(recall, precision, alpha=0.2, color='b', **step_kwargs)\n",
    "    plt.xlabel('Recall')\n",
    "    plt.ylabel('Precision')\n",
    "    plt.ylim([0.0, 1.05])\n",
    "    plt.xlim([0.0, 1.0])\n",
    "    plt.title('Precision-Recall curve: AUC={0:0.2f}'.format(\n",
    "        area))\n",
    "    \n",
    "    plt.savefig(f'{output_dir}auprc_BioClinicalbert_3day.png')\n",
    "    plt.show()\n",
    "#     string = 'auprc_clinicalbert_' + args.readmission_mode + '.png'\n",
    "\n",
    "#     plt.savefig(os.path.join(args.output_dir, string))\n",
    "\n",
    "\n",
    "def vote_pr_curve(df, score, output_dir):\n",
    "    df['pred_score'] = score\n",
    "    df_sort = df.sort_values(by=['ID'])\n",
    "    # score\n",
    "    temp = (df_sort.groupby(['ID'])['pred_score'].agg(max) + df_sort.groupby(['ID'])['pred_score'].agg(sum) / 2) / (\n",
    "                1 + df_sort.groupby(['ID'])['pred_score'].agg(len) / 2)\n",
    "    y = df_sort.groupby(['ID'])['Label'].agg(np.min).values\n",
    "\n",
    "    precision, recall, thres = precision_recall_curve(y, temp)\n",
    "    pr_thres = pd.DataFrame(data=list(zip(precision, recall, thres)), columns=['prec', 'recall', 'thres'])\n",
    "    vote_df = pd.DataFrame(data=list(zip(temp, y)), columns=['score', 'label'])\n",
    "\n",
    "    pr_curve_plot(y, temp, output_dir)\n",
    "\n",
    "    temp = pr_thres[pr_thres.prec > 0.799999].reset_index()\n",
    "\n",
    "    rp80 = 0\n",
    "    if temp.size == 0:\n",
    "        print('Test Sample too small or RP80=0')\n",
    "    else:\n",
    "        rp80 = temp.iloc[0].recall\n",
    "        print('Recall at Precision of 80 is {}', rp80)\n",
    "\n",
    "    return rp80\n"
   ]
  },
  {
   "cell_type": "markdown",
   "metadata": {
    "id": "Tg42jJqqM68F"
   },
   "source": [
    "### 5.1. Data Preparation\n"
   ]
  },
  {
   "cell_type": "markdown",
   "metadata": {
    "id": "xWe0_JW21MyV"
   },
   "source": [
    "\n",
    "We'll need to apply all of the same steps that we did for the training data to prepare our test data set."
   ]
  },
  {
   "cell_type": "code",
   "execution_count": 11,
   "metadata": {
    "colab": {
     "base_uri": "https://localhost:8080/"
    },
    "id": "mAN0LZBOOPVh",
    "outputId": "7385ca3f-72d5-45f0-bbfe-5056c2f62c4f"
   },
   "outputs": [
    {
     "name": "stderr",
     "output_type": "stream",
     "text": [
      "  1%|▍                                                                              | 16/3063 [00:00<00:19, 152.71it/s]"
     ]
    },
    {
     "name": "stdout",
     "output_type": "stream",
     "text": [
      "Number of sentences: 3,063\n",
      "\n"
     ]
    },
    {
     "name": "stderr",
     "output_type": "stream",
     "text": [
      "100%|█████████████████████████████████████████████████████████████████████████████| 3063/3063 [00:21<00:00, 142.17it/s]"
     ]
    },
    {
     "name": "stdout",
     "output_type": "stream",
     "text": [
      "Original:  date of birth: sex: f service: medicine allergies: haldol attending: chief complaint: delta ms, lethargy, ?sepsis . major surgical or invasive procedure: none history of present illness: hx obtained per ed notes and sister . hpi: 35f with disease who presented today from daycare after her healthcare providers noted that she was lethargic. they were initially unable to obtain a blood pressure. the patient was noted to have a very rapid heart rate. vitals were finally obtained and were as follows: bp 70/50 (baseline sbps 80-90), hr 113, o2 sat 99% on 3l nc. . the patient was transferred to where she was noted to have a temp of 4, hr 200 and sbp 80s. ekg was noteworthy for a wide complex tachycardia. the patient received adenosine 6mg and then 12mg with no improvement. she was cardioverted into sinus rhythm. her d-dimer was elevated at 3590, lactate was 5 and trop t 39 in the setting of renal insufficiency. a ct-a was negative for a pe. the patient was transferred to the micu for further mgmt. . past medical history: disease anemia nonverbal at baseline . social history: meds: tylenol ensure . sochx: patient lives at home with sister and brother. she also goes to daycare. she is non-verbal at baseline. . family history: father who passed away of dz physical exam: t 7, hr 65-68, bp 91-97/61-63, r 14-21, o2 sat 100%2l gen: thin appearing female lying in fetal position in nad heent: mm dry, op clear heart: nl rate, s1s2, no gmr lungs: cta b/l abd: flat, soft, nt, nd, +bs, negative guardin, negative rebound tenderness ext: wwp, +dp b/l neuro: unable to assess . pertinent results: ct-a impression: no evidence of pulmonary embolism. poorly defined opacities within the lungs bilaterally, possibly representing combination of atelectasis and consolidation. air bronchograms in the right middle lobe suggests possible infection. . cxr impression: left lower lobe process suggesting\n",
      "Token IDs: tensor([  101,  2236,  1104,  3485,   131,  2673,   131,   175,  1555,   131,\n",
      "         5182,  1155,  1200, 19310,   131,  5871, 25791,  1233,  6546,   131,\n",
      "         2705, 12522,   131, 20811,   182,  1116,   117,  1519,  7111,  4873,\n",
      "          117,   136, 14516, 17990,   119,  1558, 13467,  1137, 19849,  7791,\n",
      "          131,  3839,  1607,  1104,  1675,  6946,   131,   177,  1775,  3836,\n",
      "         1679,  5048,  3697,  1105,  2104,   119,  6857,  1182,   131,  2588,\n",
      "         2087,  1114,  3653,  1150,  2756,  2052,  1121,  1285, 23340,  1170,\n",
      "         1123, 12520, 12263,  2382,  1115,  1131,  1108,  1519,  7111, 11007,\n",
      "          119,  1152,  1127,  2786,  3372,  1106,  6268,   170,  1892,  2997,\n",
      "          119,  1103,  5351,  1108,  2382,  1106,  1138,   170,  1304,  6099,\n",
      "         1762,  2603,   119,  9301,  1116,  1127,  1921,  3836,  1105,  1127,\n",
      "         1112,  3226,   131,   171,  1643,  3102,   120,  1851,   113,  2259,\n",
      "         2568,   188,  1830,  3491,  2908,   118,  3078,   114,   117,   177,\n",
      "         1197, 12206,   117,   184,  1477,  2068,  4850,   110,  1113,   124,\n",
      "         1233,   183,  1665,   119,   119,  1103,  5351,  1108,  3175,  1106,\n",
      "         1187,  1131,  1108,  2382,  1106,  1138,   170, 21359,  8223,  1104,\n",
      "          125,   117,   177,  1197,  2363,  1105,   188,  1830,  1643, 17008,\n",
      "          119,   174,  1377,  1403,  1108, 22076,  1111,   170,  2043,  2703,\n",
      "        27629,  8992, 10542,  1465,   119,  1103,  5351,  1460,  8050, 26601,\n",
      "        10606,  1162,   127,  1306,  1403,  1105,  1173,  1367,  1306,  1403,\n",
      "         1114,  1185,  8331,   119,  1131,  1108,  3621,  2660, 17534,  1154,\n",
      "        11850,  1361,  6795,   119,  1123,   173,   118, 12563,  1200,  1108,\n",
      "         8208,  1120,  2588, 21500,   117,  2495,  5822,  2193,  1108,   126,\n",
      "         1105,   189, 12736,   189,  3614,  1107,  1103,  3545,  1104,  1231,\n",
      "         7050, 22233,  9435, 23864,   119,   170,   172,  1204,   118,   170,\n",
      "         1108,  4366,  1111,   170,   185,  1162,   119,  1103,  5351,  1108,\n",
      "         3175,  1106,  1103,  1940, 10182,  1111,  1748, 17713,  1306,  1204,\n",
      "          119,   119,  1763,  2657,  1607,   131,  3653,  1126, 20504,  1664,\n",
      "         4121,  7767,  1120,  2259,  2568,   119,  1934,  1607,   131,  1143,\n",
      "         3680,   131,   189, 12415,  2728,  1233,  4989,   119,  1177,  1732,\n",
      "         1775,   131,  5351,  2491,  1120,  1313,  1114,  2104,  1105,  1711,\n",
      "          119,  1131,  1145,  2947,  1106,  1285, 23340,   119,  1131,  1110,\n",
      "         1664,   118, 14093,  1120,  2259,  2568,   119,   119,  1266,  1607,\n",
      "          131,  1401,  1150,  2085,  1283,  1104,   173,  1584,  2952, 12211,\n",
      "          131,   189,   128,   117,   177,  1197,  2625,   118,  5599,   117,\n",
      "          171,  1643,  5539,   118,  5311,   120,  5391,   118,  5519,   117,\n",
      "          187,  1489,   118,  1626,   117,   184,  1477,  2068,  1620,   110,\n",
      "          123,  1233,   176,  1424,   131,  4240,  5452,  2130,  4009,  1107,\n",
      "          175, 21470,  1700,  1107,  9468,  1181,  1119,  3452,   131,  2608,\n",
      "         3712,   117, 11769,  2330,  1762,   131,   183,  1233,  2603,   117,\n",
      "          188,  1475,  1116,  1477,   117,  1185,   176,  1306,  1197,  8682,\n",
      "          131,   172,  1777,   171,   120,   181,   170,  1830,  1181,   131,\n",
      "         3596,   117,  2991,   117,   183,  1204,   117,   183,  1181,   117,\n",
      "          116,   171,  1116,   117,  4366,  3542,  1394,   117,  4366,  1231,\n",
      "         8346,  8886,  1757,  4252,  1204,   131,   192,  2246,  1643,   117,\n",
      "          116,   173,  1643,   171,   120,   181, 24928, 11955,   131,  3372,\n",
      "         1106, 15187,   119,  1679, 24123,  2686,   131,   172,  1204,   118,\n",
      "          170,  8351,   131,  1185,  2554,  1104, 26600,  9712, 15792,  1863,\n",
      "          119,  9874,  3393, 11769,  7409,  4233,  1439,  1103,  8682, 20557,\n",
      "         1193,   117,  3566,  4311,  4612,  1104,  8756, 18465, 14229,  1105,\n",
      "        20994,   119,  1586,  9304,  1320,  8401, 12139,  1116,  1107,  1103,\n",
      "         1268,   102])\n",
      "returning TensorDataset! \n",
      "3063\n"
     ]
    },
    {
     "name": "stderr",
     "output_type": "stream",
     "text": [
      "\n"
     ]
    }
   ],
   "source": [
    "test_dataset = preprocess_tokenize_embed_data(\"./data/discharge/test.csv\")\n",
    "\n",
    "print(len(test_dataset))\n",
    "\n",
    "# Set the batch size.  \n",
    "batch_size = 32  \n",
    "\n",
    "# Create the DataLoader.\n",
    "\n",
    "test_sampler = SequentialSampler(test_dataset)\n",
    "test_dataloader = DataLoader(test_dataset, sampler=test_sampler, batch_size=batch_size)"
   ]
  },
  {
   "cell_type": "markdown",
   "metadata": {
    "id": "16lctEOyNFik"
   },
   "source": [
    "## 5.2. Evaluate on Test Set\n"
   ]
  },
  {
   "cell_type": "code",
   "execution_count": null,
   "metadata": {},
   "outputs": [],
   "source": [
    "#cells below are for 2 label classifier"
   ]
  },
  {
   "cell_type": "markdown",
   "metadata": {
    "id": "rhR99IISNMg9"
   },
   "source": [
    "\n",
    "With the test set prepared, we can apply our fine-tuned model to generate predictions on the test set."
   ]
  },
  {
   "cell_type": "code",
   "execution_count": 136,
   "metadata": {},
   "outputs": [
    {
     "name": "stdout",
     "output_type": "stream",
     "text": [
      "BertForSequenceClassification(\n",
      "  (bert): BertModel(\n",
      "    (embeddings): BertEmbeddings(\n",
      "      (word_embeddings): Embedding(28996, 768, padding_idx=0)\n",
      "      (position_embeddings): Embedding(512, 768)\n",
      "      (token_type_embeddings): Embedding(2, 768)\n",
      "      (LayerNorm): LayerNorm((768,), eps=1e-12, elementwise_affine=True)\n",
      "      (dropout): Dropout(p=0.1, inplace=False)\n",
      "    )\n",
      "    (encoder): BertEncoder(\n",
      "      (layer): ModuleList(\n",
      "        (0): BertLayer(\n",
      "          (attention): BertAttention(\n",
      "            (self): BertSelfAttention(\n",
      "              (query): Linear(in_features=768, out_features=768, bias=True)\n",
      "              (key): Linear(in_features=768, out_features=768, bias=True)\n",
      "              (value): Linear(in_features=768, out_features=768, bias=True)\n",
      "              (dropout): Dropout(p=0.1, inplace=False)\n",
      "            )\n",
      "            (output): BertSelfOutput(\n",
      "              (dense): Linear(in_features=768, out_features=768, bias=True)\n",
      "              (LayerNorm): LayerNorm((768,), eps=1e-12, elementwise_affine=True)\n",
      "              (dropout): Dropout(p=0.1, inplace=False)\n",
      "            )\n",
      "          )\n",
      "          (intermediate): BertIntermediate(\n",
      "            (dense): Linear(in_features=768, out_features=3072, bias=True)\n",
      "          )\n",
      "          (output): BertOutput(\n",
      "            (dense): Linear(in_features=3072, out_features=768, bias=True)\n",
      "            (LayerNorm): LayerNorm((768,), eps=1e-12, elementwise_affine=True)\n",
      "            (dropout): Dropout(p=0.1, inplace=False)\n",
      "          )\n",
      "        )\n",
      "        (1): BertLayer(\n",
      "          (attention): BertAttention(\n",
      "            (self): BertSelfAttention(\n",
      "              (query): Linear(in_features=768, out_features=768, bias=True)\n",
      "              (key): Linear(in_features=768, out_features=768, bias=True)\n",
      "              (value): Linear(in_features=768, out_features=768, bias=True)\n",
      "              (dropout): Dropout(p=0.1, inplace=False)\n",
      "            )\n",
      "            (output): BertSelfOutput(\n",
      "              (dense): Linear(in_features=768, out_features=768, bias=True)\n",
      "              (LayerNorm): LayerNorm((768,), eps=1e-12, elementwise_affine=True)\n",
      "              (dropout): Dropout(p=0.1, inplace=False)\n",
      "            )\n",
      "          )\n",
      "          (intermediate): BertIntermediate(\n",
      "            (dense): Linear(in_features=768, out_features=3072, bias=True)\n",
      "          )\n",
      "          (output): BertOutput(\n",
      "            (dense): Linear(in_features=3072, out_features=768, bias=True)\n",
      "            (LayerNorm): LayerNorm((768,), eps=1e-12, elementwise_affine=True)\n",
      "            (dropout): Dropout(p=0.1, inplace=False)\n",
      "          )\n",
      "        )\n",
      "        (2): BertLayer(\n",
      "          (attention): BertAttention(\n",
      "            (self): BertSelfAttention(\n",
      "              (query): Linear(in_features=768, out_features=768, bias=True)\n",
      "              (key): Linear(in_features=768, out_features=768, bias=True)\n",
      "              (value): Linear(in_features=768, out_features=768, bias=True)\n",
      "              (dropout): Dropout(p=0.1, inplace=False)\n",
      "            )\n",
      "            (output): BertSelfOutput(\n",
      "              (dense): Linear(in_features=768, out_features=768, bias=True)\n",
      "              (LayerNorm): LayerNorm((768,), eps=1e-12, elementwise_affine=True)\n",
      "              (dropout): Dropout(p=0.1, inplace=False)\n",
      "            )\n",
      "          )\n",
      "          (intermediate): BertIntermediate(\n",
      "            (dense): Linear(in_features=768, out_features=3072, bias=True)\n",
      "          )\n",
      "          (output): BertOutput(\n",
      "            (dense): Linear(in_features=3072, out_features=768, bias=True)\n",
      "            (LayerNorm): LayerNorm((768,), eps=1e-12, elementwise_affine=True)\n",
      "            (dropout): Dropout(p=0.1, inplace=False)\n",
      "          )\n",
      "        )\n",
      "        (3): BertLayer(\n",
      "          (attention): BertAttention(\n",
      "            (self): BertSelfAttention(\n",
      "              (query): Linear(in_features=768, out_features=768, bias=True)\n",
      "              (key): Linear(in_features=768, out_features=768, bias=True)\n",
      "              (value): Linear(in_features=768, out_features=768, bias=True)\n",
      "              (dropout): Dropout(p=0.1, inplace=False)\n",
      "            )\n",
      "            (output): BertSelfOutput(\n",
      "              (dense): Linear(in_features=768, out_features=768, bias=True)\n",
      "              (LayerNorm): LayerNorm((768,), eps=1e-12, elementwise_affine=True)\n",
      "              (dropout): Dropout(p=0.1, inplace=False)\n",
      "            )\n",
      "          )\n",
      "          (intermediate): BertIntermediate(\n",
      "            (dense): Linear(in_features=768, out_features=3072, bias=True)\n",
      "          )\n",
      "          (output): BertOutput(\n",
      "            (dense): Linear(in_features=3072, out_features=768, bias=True)\n",
      "            (LayerNorm): LayerNorm((768,), eps=1e-12, elementwise_affine=True)\n",
      "            (dropout): Dropout(p=0.1, inplace=False)\n",
      "          )\n",
      "        )\n",
      "        (4): BertLayer(\n",
      "          (attention): BertAttention(\n",
      "            (self): BertSelfAttention(\n",
      "              (query): Linear(in_features=768, out_features=768, bias=True)\n",
      "              (key): Linear(in_features=768, out_features=768, bias=True)\n",
      "              (value): Linear(in_features=768, out_features=768, bias=True)\n",
      "              (dropout): Dropout(p=0.1, inplace=False)\n",
      "            )\n",
      "            (output): BertSelfOutput(\n",
      "              (dense): Linear(in_features=768, out_features=768, bias=True)\n",
      "              (LayerNorm): LayerNorm((768,), eps=1e-12, elementwise_affine=True)\n",
      "              (dropout): Dropout(p=0.1, inplace=False)\n",
      "            )\n",
      "          )\n",
      "          (intermediate): BertIntermediate(\n",
      "            (dense): Linear(in_features=768, out_features=3072, bias=True)\n",
      "          )\n",
      "          (output): BertOutput(\n",
      "            (dense): Linear(in_features=3072, out_features=768, bias=True)\n",
      "            (LayerNorm): LayerNorm((768,), eps=1e-12, elementwise_affine=True)\n",
      "            (dropout): Dropout(p=0.1, inplace=False)\n",
      "          )\n",
      "        )\n",
      "        (5): BertLayer(\n",
      "          (attention): BertAttention(\n",
      "            (self): BertSelfAttention(\n",
      "              (query): Linear(in_features=768, out_features=768, bias=True)\n",
      "              (key): Linear(in_features=768, out_features=768, bias=True)\n",
      "              (value): Linear(in_features=768, out_features=768, bias=True)\n",
      "              (dropout): Dropout(p=0.1, inplace=False)\n",
      "            )\n",
      "            (output): BertSelfOutput(\n",
      "              (dense): Linear(in_features=768, out_features=768, bias=True)\n",
      "              (LayerNorm): LayerNorm((768,), eps=1e-12, elementwise_affine=True)\n",
      "              (dropout): Dropout(p=0.1, inplace=False)\n",
      "            )\n",
      "          )\n",
      "          (intermediate): BertIntermediate(\n",
      "            (dense): Linear(in_features=768, out_features=3072, bias=True)\n",
      "          )\n",
      "          (output): BertOutput(\n",
      "            (dense): Linear(in_features=3072, out_features=768, bias=True)\n",
      "            (LayerNorm): LayerNorm((768,), eps=1e-12, elementwise_affine=True)\n",
      "            (dropout): Dropout(p=0.1, inplace=False)\n",
      "          )\n",
      "        )\n",
      "        (6): BertLayer(\n",
      "          (attention): BertAttention(\n",
      "            (self): BertSelfAttention(\n",
      "              (query): Linear(in_features=768, out_features=768, bias=True)\n",
      "              (key): Linear(in_features=768, out_features=768, bias=True)\n",
      "              (value): Linear(in_features=768, out_features=768, bias=True)\n",
      "              (dropout): Dropout(p=0.1, inplace=False)\n",
      "            )\n",
      "            (output): BertSelfOutput(\n",
      "              (dense): Linear(in_features=768, out_features=768, bias=True)\n",
      "              (LayerNorm): LayerNorm((768,), eps=1e-12, elementwise_affine=True)\n",
      "              (dropout): Dropout(p=0.1, inplace=False)\n",
      "            )\n",
      "          )\n",
      "          (intermediate): BertIntermediate(\n",
      "            (dense): Linear(in_features=768, out_features=3072, bias=True)\n",
      "          )\n",
      "          (output): BertOutput(\n",
      "            (dense): Linear(in_features=3072, out_features=768, bias=True)\n",
      "            (LayerNorm): LayerNorm((768,), eps=1e-12, elementwise_affine=True)\n",
      "            (dropout): Dropout(p=0.1, inplace=False)\n",
      "          )\n",
      "        )\n",
      "        (7): BertLayer(\n",
      "          (attention): BertAttention(\n",
      "            (self): BertSelfAttention(\n",
      "              (query): Linear(in_features=768, out_features=768, bias=True)\n",
      "              (key): Linear(in_features=768, out_features=768, bias=True)\n",
      "              (value): Linear(in_features=768, out_features=768, bias=True)\n",
      "              (dropout): Dropout(p=0.1, inplace=False)\n",
      "            )\n",
      "            (output): BertSelfOutput(\n",
      "              (dense): Linear(in_features=768, out_features=768, bias=True)\n",
      "              (LayerNorm): LayerNorm((768,), eps=1e-12, elementwise_affine=True)\n",
      "              (dropout): Dropout(p=0.1, inplace=False)\n",
      "            )\n",
      "          )\n",
      "          (intermediate): BertIntermediate(\n",
      "            (dense): Linear(in_features=768, out_features=3072, bias=True)\n",
      "          )\n",
      "          (output): BertOutput(\n",
      "            (dense): Linear(in_features=3072, out_features=768, bias=True)\n",
      "            (LayerNorm): LayerNorm((768,), eps=1e-12, elementwise_affine=True)\n",
      "            (dropout): Dropout(p=0.1, inplace=False)\n",
      "          )\n",
      "        )\n",
      "        (8): BertLayer(\n",
      "          (attention): BertAttention(\n",
      "            (self): BertSelfAttention(\n",
      "              (query): Linear(in_features=768, out_features=768, bias=True)\n",
      "              (key): Linear(in_features=768, out_features=768, bias=True)\n",
      "              (value): Linear(in_features=768, out_features=768, bias=True)\n",
      "              (dropout): Dropout(p=0.1, inplace=False)\n",
      "            )\n",
      "            (output): BertSelfOutput(\n",
      "              (dense): Linear(in_features=768, out_features=768, bias=True)\n",
      "              (LayerNorm): LayerNorm((768,), eps=1e-12, elementwise_affine=True)\n",
      "              (dropout): Dropout(p=0.1, inplace=False)\n",
      "            )\n",
      "          )\n",
      "          (intermediate): BertIntermediate(\n",
      "            (dense): Linear(in_features=768, out_features=3072, bias=True)\n",
      "          )\n",
      "          (output): BertOutput(\n",
      "            (dense): Linear(in_features=3072, out_features=768, bias=True)\n",
      "            (LayerNorm): LayerNorm((768,), eps=1e-12, elementwise_affine=True)\n",
      "            (dropout): Dropout(p=0.1, inplace=False)\n",
      "          )\n",
      "        )\n",
      "        (9): BertLayer(\n",
      "          (attention): BertAttention(\n",
      "            (self): BertSelfAttention(\n",
      "              (query): Linear(in_features=768, out_features=768, bias=True)\n",
      "              (key): Linear(in_features=768, out_features=768, bias=True)\n",
      "              (value): Linear(in_features=768, out_features=768, bias=True)\n",
      "              (dropout): Dropout(p=0.1, inplace=False)\n",
      "            )\n",
      "            (output): BertSelfOutput(\n",
      "              (dense): Linear(in_features=768, out_features=768, bias=True)\n",
      "              (LayerNorm): LayerNorm((768,), eps=1e-12, elementwise_affine=True)\n",
      "              (dropout): Dropout(p=0.1, inplace=False)\n",
      "            )\n",
      "          )\n",
      "          (intermediate): BertIntermediate(\n",
      "            (dense): Linear(in_features=768, out_features=3072, bias=True)\n",
      "          )\n",
      "          (output): BertOutput(\n",
      "            (dense): Linear(in_features=3072, out_features=768, bias=True)\n",
      "            (LayerNorm): LayerNorm((768,), eps=1e-12, elementwise_affine=True)\n",
      "            (dropout): Dropout(p=0.1, inplace=False)\n",
      "          )\n",
      "        )\n",
      "        (10): BertLayer(\n",
      "          (attention): BertAttention(\n",
      "            (self): BertSelfAttention(\n",
      "              (query): Linear(in_features=768, out_features=768, bias=True)\n",
      "              (key): Linear(in_features=768, out_features=768, bias=True)\n",
      "              (value): Linear(in_features=768, out_features=768, bias=True)\n",
      "              (dropout): Dropout(p=0.1, inplace=False)\n",
      "            )\n",
      "            (output): BertSelfOutput(\n",
      "              (dense): Linear(in_features=768, out_features=768, bias=True)\n",
      "              (LayerNorm): LayerNorm((768,), eps=1e-12, elementwise_affine=True)\n",
      "              (dropout): Dropout(p=0.1, inplace=False)\n",
      "            )\n",
      "          )\n",
      "          (intermediate): BertIntermediate(\n",
      "            (dense): Linear(in_features=768, out_features=3072, bias=True)\n",
      "          )\n",
      "          (output): BertOutput(\n",
      "            (dense): Linear(in_features=3072, out_features=768, bias=True)\n",
      "            (LayerNorm): LayerNorm((768,), eps=1e-12, elementwise_affine=True)\n",
      "            (dropout): Dropout(p=0.1, inplace=False)\n",
      "          )\n",
      "        )\n",
      "        (11): BertLayer(\n",
      "          (attention): BertAttention(\n",
      "            (self): BertSelfAttention(\n",
      "              (query): Linear(in_features=768, out_features=768, bias=True)\n",
      "              (key): Linear(in_features=768, out_features=768, bias=True)\n",
      "              (value): Linear(in_features=768, out_features=768, bias=True)\n",
      "              (dropout): Dropout(p=0.1, inplace=False)\n",
      "            )\n",
      "            (output): BertSelfOutput(\n",
      "              (dense): Linear(in_features=768, out_features=768, bias=True)\n",
      "              (LayerNorm): LayerNorm((768,), eps=1e-12, elementwise_affine=True)\n",
      "              (dropout): Dropout(p=0.1, inplace=False)\n",
      "            )\n",
      "          )\n",
      "          (intermediate): BertIntermediate(\n",
      "            (dense): Linear(in_features=768, out_features=3072, bias=True)\n",
      "          )\n",
      "          (output): BertOutput(\n",
      "            (dense): Linear(in_features=3072, out_features=768, bias=True)\n",
      "            (LayerNorm): LayerNorm((768,), eps=1e-12, elementwise_affine=True)\n",
      "            (dropout): Dropout(p=0.1, inplace=False)\n",
      "          )\n",
      "        )\n",
      "      )\n",
      "    )\n",
      "    (pooler): BertPooler(\n",
      "      (dense): Linear(in_features=768, out_features=768, bias=True)\n",
      "      (activation): Tanh()\n",
      "    )\n",
      "  )\n",
      "  (dropout): Dropout(p=0.1, inplace=False)\n",
      "  (classifier): Linear(in_features=768, out_features=2, bias=True)\n",
      ")\n"
     ]
    }
   ],
   "source": [
    "\n",
    "# model = BertForSequenceClassification.from_pretrained(\n",
    "#     './model/updated_BioClinicalBERT_3day_190421/', # Use the 12-layer BERT model, with an uncased vocab.\n",
    "#     num_labels = 2, # The number of output labels--2 for binary classification.\n",
    "#                     # You can increase this for multi-class tasks.   \n",
    "#     output_attentions = False, # Whether the model returns attentions weights.\n",
    "#     output_hidden_states = False, # Whether the model returns all hidden-states.\n",
    "# )\n",
    "# model.to(device)\n",
    "# print(model)"
   ]
  },
  {
   "cell_type": "code",
   "execution_count": 15,
   "metadata": {
    "colab": {
     "base_uri": "https://localhost:8080/"
    },
    "id": "Hba10sXR7Xi6",
    "outputId": "e35f0a6e-72c5-4bd0-9c4b-dcec9ef5059d"
   },
   "outputs": [
    {
     "name": "stderr",
     "output_type": "stream",
     "text": [
      "\r",
      "  0%|                                                                                           | 0/96 [00:00<?, ?it/s]"
     ]
    },
    {
     "name": "stdout",
     "output_type": "stream",
     "text": [
      "BertForSequenceClassification(\n",
      "  (bert): BertModel(\n",
      "    (embeddings): BertEmbeddings(\n",
      "      (word_embeddings): Embedding(28996, 768, padding_idx=0)\n",
      "      (position_embeddings): Embedding(512, 768)\n",
      "      (token_type_embeddings): Embedding(2, 768)\n",
      "      (LayerNorm): LayerNorm((768,), eps=1e-12, elementwise_affine=True)\n",
      "      (dropout): Dropout(p=0.1, inplace=False)\n",
      "    )\n",
      "    (encoder): BertEncoder(\n",
      "      (layer): ModuleList(\n",
      "        (0): BertLayer(\n",
      "          (attention): BertAttention(\n",
      "            (self): BertSelfAttention(\n",
      "              (query): Linear(in_features=768, out_features=768, bias=True)\n",
      "              (key): Linear(in_features=768, out_features=768, bias=True)\n",
      "              (value): Linear(in_features=768, out_features=768, bias=True)\n",
      "              (dropout): Dropout(p=0.1, inplace=False)\n",
      "            )\n",
      "            (output): BertSelfOutput(\n",
      "              (dense): Linear(in_features=768, out_features=768, bias=True)\n",
      "              (LayerNorm): LayerNorm((768,), eps=1e-12, elementwise_affine=True)\n",
      "              (dropout): Dropout(p=0.1, inplace=False)\n",
      "            )\n",
      "          )\n",
      "          (intermediate): BertIntermediate(\n",
      "            (dense): Linear(in_features=768, out_features=3072, bias=True)\n",
      "          )\n",
      "          (output): BertOutput(\n",
      "            (dense): Linear(in_features=3072, out_features=768, bias=True)\n",
      "            (LayerNorm): LayerNorm((768,), eps=1e-12, elementwise_affine=True)\n",
      "            (dropout): Dropout(p=0.1, inplace=False)\n",
      "          )\n",
      "        )\n",
      "        (1): BertLayer(\n",
      "          (attention): BertAttention(\n",
      "            (self): BertSelfAttention(\n",
      "              (query): Linear(in_features=768, out_features=768, bias=True)\n",
      "              (key): Linear(in_features=768, out_features=768, bias=True)\n",
      "              (value): Linear(in_features=768, out_features=768, bias=True)\n",
      "              (dropout): Dropout(p=0.1, inplace=False)\n",
      "            )\n",
      "            (output): BertSelfOutput(\n",
      "              (dense): Linear(in_features=768, out_features=768, bias=True)\n",
      "              (LayerNorm): LayerNorm((768,), eps=1e-12, elementwise_affine=True)\n",
      "              (dropout): Dropout(p=0.1, inplace=False)\n",
      "            )\n",
      "          )\n",
      "          (intermediate): BertIntermediate(\n",
      "            (dense): Linear(in_features=768, out_features=3072, bias=True)\n",
      "          )\n",
      "          (output): BertOutput(\n",
      "            (dense): Linear(in_features=3072, out_features=768, bias=True)\n",
      "            (LayerNorm): LayerNorm((768,), eps=1e-12, elementwise_affine=True)\n",
      "            (dropout): Dropout(p=0.1, inplace=False)\n",
      "          )\n",
      "        )\n",
      "        (2): BertLayer(\n",
      "          (attention): BertAttention(\n",
      "            (self): BertSelfAttention(\n",
      "              (query): Linear(in_features=768, out_features=768, bias=True)\n",
      "              (key): Linear(in_features=768, out_features=768, bias=True)\n",
      "              (value): Linear(in_features=768, out_features=768, bias=True)\n",
      "              (dropout): Dropout(p=0.1, inplace=False)\n",
      "            )\n",
      "            (output): BertSelfOutput(\n",
      "              (dense): Linear(in_features=768, out_features=768, bias=True)\n",
      "              (LayerNorm): LayerNorm((768,), eps=1e-12, elementwise_affine=True)\n",
      "              (dropout): Dropout(p=0.1, inplace=False)\n",
      "            )\n",
      "          )\n",
      "          (intermediate): BertIntermediate(\n",
      "            (dense): Linear(in_features=768, out_features=3072, bias=True)\n",
      "          )\n",
      "          (output): BertOutput(\n",
      "            (dense): Linear(in_features=3072, out_features=768, bias=True)\n",
      "            (LayerNorm): LayerNorm((768,), eps=1e-12, elementwise_affine=True)\n",
      "            (dropout): Dropout(p=0.1, inplace=False)\n",
      "          )\n",
      "        )\n",
      "        (3): BertLayer(\n",
      "          (attention): BertAttention(\n",
      "            (self): BertSelfAttention(\n",
      "              (query): Linear(in_features=768, out_features=768, bias=True)\n",
      "              (key): Linear(in_features=768, out_features=768, bias=True)\n",
      "              (value): Linear(in_features=768, out_features=768, bias=True)\n",
      "              (dropout): Dropout(p=0.1, inplace=False)\n",
      "            )\n",
      "            (output): BertSelfOutput(\n",
      "              (dense): Linear(in_features=768, out_features=768, bias=True)\n",
      "              (LayerNorm): LayerNorm((768,), eps=1e-12, elementwise_affine=True)\n",
      "              (dropout): Dropout(p=0.1, inplace=False)\n",
      "            )\n",
      "          )\n",
      "          (intermediate): BertIntermediate(\n",
      "            (dense): Linear(in_features=768, out_features=3072, bias=True)\n",
      "          )\n",
      "          (output): BertOutput(\n",
      "            (dense): Linear(in_features=3072, out_features=768, bias=True)\n",
      "            (LayerNorm): LayerNorm((768,), eps=1e-12, elementwise_affine=True)\n",
      "            (dropout): Dropout(p=0.1, inplace=False)\n",
      "          )\n",
      "        )\n",
      "        (4): BertLayer(\n",
      "          (attention): BertAttention(\n",
      "            (self): BertSelfAttention(\n",
      "              (query): Linear(in_features=768, out_features=768, bias=True)\n",
      "              (key): Linear(in_features=768, out_features=768, bias=True)\n",
      "              (value): Linear(in_features=768, out_features=768, bias=True)\n",
      "              (dropout): Dropout(p=0.1, inplace=False)\n",
      "            )\n",
      "            (output): BertSelfOutput(\n",
      "              (dense): Linear(in_features=768, out_features=768, bias=True)\n",
      "              (LayerNorm): LayerNorm((768,), eps=1e-12, elementwise_affine=True)\n",
      "              (dropout): Dropout(p=0.1, inplace=False)\n",
      "            )\n",
      "          )\n",
      "          (intermediate): BertIntermediate(\n",
      "            (dense): Linear(in_features=768, out_features=3072, bias=True)\n",
      "          )\n",
      "          (output): BertOutput(\n",
      "            (dense): Linear(in_features=3072, out_features=768, bias=True)\n",
      "            (LayerNorm): LayerNorm((768,), eps=1e-12, elementwise_affine=True)\n",
      "            (dropout): Dropout(p=0.1, inplace=False)\n",
      "          )\n",
      "        )\n",
      "        (5): BertLayer(\n",
      "          (attention): BertAttention(\n",
      "            (self): BertSelfAttention(\n",
      "              (query): Linear(in_features=768, out_features=768, bias=True)\n",
      "              (key): Linear(in_features=768, out_features=768, bias=True)\n",
      "              (value): Linear(in_features=768, out_features=768, bias=True)\n",
      "              (dropout): Dropout(p=0.1, inplace=False)\n",
      "            )\n",
      "            (output): BertSelfOutput(\n",
      "              (dense): Linear(in_features=768, out_features=768, bias=True)\n",
      "              (LayerNorm): LayerNorm((768,), eps=1e-12, elementwise_affine=True)\n",
      "              (dropout): Dropout(p=0.1, inplace=False)\n",
      "            )\n",
      "          )\n",
      "          (intermediate): BertIntermediate(\n",
      "            (dense): Linear(in_features=768, out_features=3072, bias=True)\n",
      "          )\n",
      "          (output): BertOutput(\n",
      "            (dense): Linear(in_features=3072, out_features=768, bias=True)\n",
      "            (LayerNorm): LayerNorm((768,), eps=1e-12, elementwise_affine=True)\n",
      "            (dropout): Dropout(p=0.1, inplace=False)\n",
      "          )\n",
      "        )\n",
      "        (6): BertLayer(\n",
      "          (attention): BertAttention(\n",
      "            (self): BertSelfAttention(\n",
      "              (query): Linear(in_features=768, out_features=768, bias=True)\n",
      "              (key): Linear(in_features=768, out_features=768, bias=True)\n",
      "              (value): Linear(in_features=768, out_features=768, bias=True)\n",
      "              (dropout): Dropout(p=0.1, inplace=False)\n",
      "            )\n",
      "            (output): BertSelfOutput(\n",
      "              (dense): Linear(in_features=768, out_features=768, bias=True)\n",
      "              (LayerNorm): LayerNorm((768,), eps=1e-12, elementwise_affine=True)\n",
      "              (dropout): Dropout(p=0.1, inplace=False)\n",
      "            )\n",
      "          )\n",
      "          (intermediate): BertIntermediate(\n",
      "            (dense): Linear(in_features=768, out_features=3072, bias=True)\n",
      "          )\n",
      "          (output): BertOutput(\n",
      "            (dense): Linear(in_features=3072, out_features=768, bias=True)\n",
      "            (LayerNorm): LayerNorm((768,), eps=1e-12, elementwise_affine=True)\n",
      "            (dropout): Dropout(p=0.1, inplace=False)\n",
      "          )\n",
      "        )\n",
      "        (7): BertLayer(\n",
      "          (attention): BertAttention(\n",
      "            (self): BertSelfAttention(\n",
      "              (query): Linear(in_features=768, out_features=768, bias=True)\n",
      "              (key): Linear(in_features=768, out_features=768, bias=True)\n",
      "              (value): Linear(in_features=768, out_features=768, bias=True)\n",
      "              (dropout): Dropout(p=0.1, inplace=False)\n",
      "            )\n",
      "            (output): BertSelfOutput(\n",
      "              (dense): Linear(in_features=768, out_features=768, bias=True)\n",
      "              (LayerNorm): LayerNorm((768,), eps=1e-12, elementwise_affine=True)\n",
      "              (dropout): Dropout(p=0.1, inplace=False)\n",
      "            )\n",
      "          )\n",
      "          (intermediate): BertIntermediate(\n",
      "            (dense): Linear(in_features=768, out_features=3072, bias=True)\n",
      "          )\n",
      "          (output): BertOutput(\n",
      "            (dense): Linear(in_features=3072, out_features=768, bias=True)\n",
      "            (LayerNorm): LayerNorm((768,), eps=1e-12, elementwise_affine=True)\n",
      "            (dropout): Dropout(p=0.1, inplace=False)\n",
      "          )\n",
      "        )\n",
      "        (8): BertLayer(\n",
      "          (attention): BertAttention(\n",
      "            (self): BertSelfAttention(\n",
      "              (query): Linear(in_features=768, out_features=768, bias=True)\n",
      "              (key): Linear(in_features=768, out_features=768, bias=True)\n",
      "              (value): Linear(in_features=768, out_features=768, bias=True)\n",
      "              (dropout): Dropout(p=0.1, inplace=False)\n",
      "            )\n",
      "            (output): BertSelfOutput(\n",
      "              (dense): Linear(in_features=768, out_features=768, bias=True)\n",
      "              (LayerNorm): LayerNorm((768,), eps=1e-12, elementwise_affine=True)\n",
      "              (dropout): Dropout(p=0.1, inplace=False)\n",
      "            )\n",
      "          )\n",
      "          (intermediate): BertIntermediate(\n",
      "            (dense): Linear(in_features=768, out_features=3072, bias=True)\n",
      "          )\n",
      "          (output): BertOutput(\n",
      "            (dense): Linear(in_features=3072, out_features=768, bias=True)\n",
      "            (LayerNorm): LayerNorm((768,), eps=1e-12, elementwise_affine=True)\n",
      "            (dropout): Dropout(p=0.1, inplace=False)\n",
      "          )\n",
      "        )\n",
      "        (9): BertLayer(\n",
      "          (attention): BertAttention(\n",
      "            (self): BertSelfAttention(\n",
      "              (query): Linear(in_features=768, out_features=768, bias=True)\n",
      "              (key): Linear(in_features=768, out_features=768, bias=True)\n",
      "              (value): Linear(in_features=768, out_features=768, bias=True)\n",
      "              (dropout): Dropout(p=0.1, inplace=False)\n",
      "            )\n",
      "            (output): BertSelfOutput(\n",
      "              (dense): Linear(in_features=768, out_features=768, bias=True)\n",
      "              (LayerNorm): LayerNorm((768,), eps=1e-12, elementwise_affine=True)\n",
      "              (dropout): Dropout(p=0.1, inplace=False)\n",
      "            )\n",
      "          )\n",
      "          (intermediate): BertIntermediate(\n",
      "            (dense): Linear(in_features=768, out_features=3072, bias=True)\n",
      "          )\n",
      "          (output): BertOutput(\n",
      "            (dense): Linear(in_features=3072, out_features=768, bias=True)\n",
      "            (LayerNorm): LayerNorm((768,), eps=1e-12, elementwise_affine=True)\n",
      "            (dropout): Dropout(p=0.1, inplace=False)\n",
      "          )\n",
      "        )\n",
      "        (10): BertLayer(\n",
      "          (attention): BertAttention(\n",
      "            (self): BertSelfAttention(\n",
      "              (query): Linear(in_features=768, out_features=768, bias=True)\n",
      "              (key): Linear(in_features=768, out_features=768, bias=True)\n",
      "              (value): Linear(in_features=768, out_features=768, bias=True)\n",
      "              (dropout): Dropout(p=0.1, inplace=False)\n",
      "            )\n",
      "            (output): BertSelfOutput(\n",
      "              (dense): Linear(in_features=768, out_features=768, bias=True)\n",
      "              (LayerNorm): LayerNorm((768,), eps=1e-12, elementwise_affine=True)\n",
      "              (dropout): Dropout(p=0.1, inplace=False)\n",
      "            )\n",
      "          )\n",
      "          (intermediate): BertIntermediate(\n",
      "            (dense): Linear(in_features=768, out_features=3072, bias=True)\n",
      "          )\n",
      "          (output): BertOutput(\n",
      "            (dense): Linear(in_features=3072, out_features=768, bias=True)\n",
      "            (LayerNorm): LayerNorm((768,), eps=1e-12, elementwise_affine=True)\n",
      "            (dropout): Dropout(p=0.1, inplace=False)\n",
      "          )\n",
      "        )\n",
      "        (11): BertLayer(\n",
      "          (attention): BertAttention(\n",
      "            (self): BertSelfAttention(\n",
      "              (query): Linear(in_features=768, out_features=768, bias=True)\n",
      "              (key): Linear(in_features=768, out_features=768, bias=True)\n",
      "              (value): Linear(in_features=768, out_features=768, bias=True)\n",
      "              (dropout): Dropout(p=0.1, inplace=False)\n",
      "            )\n",
      "            (output): BertSelfOutput(\n",
      "              (dense): Linear(in_features=768, out_features=768, bias=True)\n",
      "              (LayerNorm): LayerNorm((768,), eps=1e-12, elementwise_affine=True)\n",
      "              (dropout): Dropout(p=0.1, inplace=False)\n",
      "            )\n",
      "          )\n",
      "          (intermediate): BertIntermediate(\n",
      "            (dense): Linear(in_features=768, out_features=3072, bias=True)\n",
      "          )\n",
      "          (output): BertOutput(\n",
      "            (dense): Linear(in_features=3072, out_features=768, bias=True)\n",
      "            (LayerNorm): LayerNorm((768,), eps=1e-12, elementwise_affine=True)\n",
      "            (dropout): Dropout(p=0.1, inplace=False)\n",
      "          )\n",
      "        )\n",
      "      )\n",
      "    )\n",
      "    (pooler): BertPooler(\n",
      "      (dense): Linear(in_features=768, out_features=768, bias=True)\n",
      "      (activation): Tanh()\n",
      "    )\n",
      "  )\n",
      "  (dropout): Dropout(p=0.1, inplace=False)\n",
      "  (classifier): Linear(in_features=768, out_features=2, bias=True)\n",
      ")\n"
     ]
    },
    {
     "name": "stderr",
     "output_type": "stream",
     "text": [
      "100%|██████████████████████████████████████████████████████████████████████████████████| 96/96 [03:50<00:00,  2.40s/it]\n"
     ]
    },
    {
     "data": {
      "image/png": "[encoded data removed]",
      "text/plain": [
       "<Figure size 432x288 with 1 Axes>"
      ]
     },
     "metadata": {
      "needs_background": "light"
     },
     "output_type": "display_data"
    },
    {
     "data": {
      "image/png": "[encoded data removed]",
      "text/plain": [
       "<Figure size 432x288 with 1 Axes>"
      ]
     },
     "metadata": {
      "needs_background": "light"
     },
     "output_type": "display_data"
    },
    {
     "name": "stdout",
     "output_type": "stream",
     "text": [
      "Recall at Precision of 80 is {} 0.12413793103448276\n",
      "  Accuracy: 0.62\n",
      "              precision    recall  f1-score   support\n",
      "\n",
      "           0       0.58      0.58      0.58      1366\n",
      "           1       0.66      0.66      0.66      1697\n",
      "\n",
      "    accuracy                           0.62      3063\n",
      "   macro avg       0.62      0.62      0.62      3063\n",
      "weighted avg       0.62      0.62      0.62      3063\n",
      "\n"
     ]
    },
    {
     "ename": "NameError",
     "evalue": "name 'sns' is not defined",
     "output_type": "error",
     "traceback": [
      "\u001b[1;31m---------------------------------------------------------------------------\u001b[0m",
      "\u001b[1;31mNameError\u001b[0m                                 Traceback (most recent call last)",
      "\u001b[1;32m<ipython-input-15-4577f78d1aab>\u001b[0m in \u001b[0;36m<module>\u001b[1;34m\u001b[0m\n\u001b[0;32m    145\u001b[0m \u001b[0mplt\u001b[0m\u001b[1;33m.\u001b[0m\u001b[0mfigure\u001b[0m\u001b[1;33m(\u001b[0m\u001b[0mfigsize\u001b[0m \u001b[1;33m=\u001b[0m \u001b[1;33m(\u001b[0m\u001b[1;36m6\u001b[0m\u001b[1;33m,\u001b[0m\u001b[1;36m6\u001b[0m\u001b[1;33m)\u001b[0m\u001b[1;33m)\u001b[0m\u001b[1;33m\u001b[0m\u001b[1;33m\u001b[0m\u001b[0m\n\u001b[0;32m    146\u001b[0m \u001b[0mplt\u001b[0m\u001b[1;33m.\u001b[0m\u001b[0msuptitle\u001b[0m\u001b[1;33m(\u001b[0m\u001b[1;34m\"Readmitted vs not readmitted\"\u001b[0m\u001b[1;33m)\u001b[0m\u001b[1;33m\u001b[0m\u001b[1;33m\u001b[0m\u001b[0m\n\u001b[1;32m--> 147\u001b[1;33m \u001b[0msns\u001b[0m\u001b[1;33m.\u001b[0m\u001b[0mheatmap\u001b[0m\u001b[1;33m(\u001b[0m\u001b[0mdf_cf\u001b[0m\u001b[1;33m,\u001b[0m \u001b[0mannot\u001b[0m \u001b[1;33m=\u001b[0m \u001b[1;32mTrue\u001b[0m\u001b[1;33m,\u001b[0m \u001b[0mcmap\u001b[0m \u001b[1;33m=\u001b[0m \u001b[1;34m'Blues'\u001b[0m\u001b[1;33m)\u001b[0m\u001b[1;33m\u001b[0m\u001b[1;33m\u001b[0m\u001b[0m\n\u001b[0m\u001b[0;32m    148\u001b[0m \u001b[1;31m# plt.savefig(f\"{output_dir}Confusion_Matrix.png\")\u001b[0m\u001b[1;33m\u001b[0m\u001b[1;33m\u001b[0m\u001b[1;33m\u001b[0m\u001b[0m\n\u001b[0;32m    149\u001b[0m \u001b[1;33m\u001b[0m\u001b[0m\n",
      "\u001b[1;31mNameError\u001b[0m: name 'sns' is not defined"
     ]
    },
    {
     "data": {
      "text/plain": [
       "<Figure size 432x432 with 0 Axes>"
      ]
     },
     "metadata": {},
     "output_type": "display_data"
    }
   ],
   "source": [
    "from funcsigs import signature\n",
    "from sklearn.metrics import roc_auc_score, precision_recall_curve, roc_curve, auc, confusion_matrix, classification_report\n",
    "from tqdm import tqdm_notebook\n",
    "# Prediction on test set\n",
    "output_dir = \"./results/results_updated_BioClinicalBERTpretrained_discharge_220421/\"\n",
    "# Create output directory if needed\n",
    "if not os.path.exists(output_dir):\n",
    "    os.makedirs(output_dir)\n",
    "    \n",
    "load_pretrained = True\n",
    "if load_pretrained:\n",
    "    #reload other model perhaps: \n",
    "    model = BertForSequenceClassification.from_pretrained(\n",
    "        './model/results_updated_BioClinicalBERTpretrained_discharge_220421/', # Use the 12-layer BERT model, with an uncased vocab.\n",
    "        num_labels = 2, # The number of output labels--2 for binary classification.\n",
    "                        # You can increase this for multi-class tasks.   \n",
    "        output_attentions = False, # Whether the model returns attentions weights.\n",
    "        output_hidden_states = False, # Whether the model returns all hidden-states.\n",
    "    )\n",
    "    model.to(device)\n",
    "    print(model)\n",
    "else:\n",
    "    print(\"hopefully you ran another model earlier and are using that!\")\n",
    "\n",
    "# Put model in evaluation mode\n",
    "model.eval()\n",
    "\n",
    "# Tracking variables \n",
    "logits_history, pred_labels , true_labels = [], [], []\n",
    "\n",
    "\n",
    "# Tracking variables \n",
    "total_eval_accuracy = 0\n",
    "total_eval_loss = 0\n",
    "nb_eval_steps = 0\n",
    "\n",
    "# Evaluate data for one epoch\n",
    "for batch in tqdm(test_dataloader):\n",
    "\n",
    "    # Unpack this training batch from our dataloader. \n",
    "    #\n",
    "    # As we unpack the batch, we'll also copy each tensor to the GPU using \n",
    "    # the `to` method.\n",
    "    #\n",
    "    # `batch` contains three pytorch tensors:\n",
    "    #   [0]: input ids \n",
    "    #   [1]: attention masks\n",
    "    #   [2]: labels \n",
    "    b_input_ids = batch[0].to(device)\n",
    "    b_input_mask = batch[1].to(device)\n",
    "    b_labels = batch[2].to(device)\n",
    "\n",
    "\n",
    "\n",
    "    # Tell pytorch not to bother with constructing the compute graph during\n",
    "    # the forward pass, since this is only needed for backprop (training).\n",
    "    with torch.no_grad():        \n",
    "\n",
    "        # Forward pass, calculate logit predictions.\n",
    "        # token_type_ids is the same as the \"segment ids\", which \n",
    "        # differentiates sentence 1 and 2 in 2-sentence tasks.\n",
    "        result = model(b_input_ids, \n",
    "                       token_type_ids=None, \n",
    "                       attention_mask=b_input_mask,\n",
    "                       labels=b_labels,\n",
    "                       return_dict=True)\n",
    "#             loss, logits = model(b_input_ids, \n",
    "#                      token_type_ids=None, \n",
    "#                      attention_mask=b_input_mask, \n",
    "#                      labels=b_labels)\n",
    "\n",
    "    # Get the loss and \"logits\" output by the model. The \"logits\" are the \n",
    "    # output values prior to applying an activation function like the \n",
    "    # softmax.\n",
    "    loss = result.loss\n",
    "    logits = result.logits\n",
    "    \n",
    "\n",
    "    # Accumulate the evaluation loss.\n",
    "    total_eval_loss += loss.item()\n",
    "\n",
    "    # Move logits and labels to CPU\n",
    "    logits = logits.detach().cpu().numpy()\n",
    "    \n",
    "    label_ids = b_labels.to('cpu').numpy()\n",
    "    \n",
    "\n",
    "    \n",
    "      # Store predictions and true labels\n",
    "        \n",
    "\n",
    "    logits_history.append(logits)\n",
    "\n",
    "    pred_labels.append(np.argmax(logits, axis=1).flatten())\n",
    "    true_labels.append(label_ids)\n",
    "\n",
    "    # Calculate the accuracy for this batch of test sentences, and\n",
    "    # accumulate it over all batches.\n",
    "    total_eval_accuracy += flat_accuracy(logits, label_ids)\n",
    "    \n",
    "#     def flat_accuracy(preds, labels):\n",
    "#     pred_flat = np.argmax(preds, axis=1).flatten()\n",
    "#     labels_flat = labels.flatten()\n",
    "#     return np.sum(pred_flat == labels_flat) / len(labels_flat)\n",
    "    \n",
    "\n",
    "# concatenate a bunch of these     \n",
    "logits_history = np.concatenate(logits_history, axis=0)\n",
    "pred_labels = np.concatenate(pred_labels, axis = 0 )\n",
    "true_labels = np.concatenate(true_labels, axis = 0)\n",
    "\n",
    "\n",
    "# put logits, predicted labels and true labels in a dataframe to use the vote_score and vote_pr_curve\n",
    "df = pd.DataFrame({'logits': logits_history[:,1], 'pred_label': pred_labels, 'label': true_labels})\n",
    "#         string = 'logits_clinicalbert_' + readmission_mode + '_chunks.csv'\n",
    "#         df.to_csv(os.path.join(output_dir, string))\n",
    "# df.to_csv(f'{output_dir}logits_preds_truths.csv')\n",
    "\n",
    "df_test = pd.read_csv(\"./data/discharge/test.csv\")\n",
    "fpr, tpr, df_out = vote_score(df_test, logits_history[:,1], output_dir = output_dir)\n",
    "\n",
    "# string = 'logits_clinicalbert_' + readmission_mode + '_readmissions.csv'\n",
    "# df_out.to_csv(f'{output_dir}logits_BioClinicalBert_discharge.csv')\n",
    "\n",
    "rp80 = vote_pr_curve(df_test, logits_history[:,1], output_dir=output_dir)\n",
    "\n",
    "# Report the final accuracy for this test run.\n",
    "avg_test_accuracy = total_eval_accuracy / len(test_dataloader)\n",
    "print(\"  Accuracy: {0:.2f}\".format(avg_test_accuracy))\n",
    "\n",
    "# Calculate the average loss over all of the batches.\n",
    "avg_test_loss = total_eval_loss / len(test_dataloader)\n",
    "\n",
    "# print(\"  Evaluation on test Loss: {0:.2f}\".format(avg_test_loss))\n",
    "\n",
    "# preds = np.argmax(preds, axis = 1)\n",
    "print(classification_report(true_labels, pred_labels))\n",
    "\n",
    "#save classification report as a dataframe to csv\n",
    "pd.DataFrame(classification_report(true_labels,pred_labels, output_dict=True)).to_csv(f\"{output_dir}_classification_report.csv\")\n",
    "\n",
    "\n",
    "cf = confusion_matrix(true_labels, pred_labels, normalize = 'true')\n",
    "df_cf = pd.DataFrame(cf, ['not r/a', 'readmitted'], ['not r/a', 'readmitted'])\n",
    "plt.figure(figsize = (6,6))\n",
    "plt.suptitle(\"Readmitted vs not readmitted\")\n",
    "sns.heatmap(df_cf, annot = True, cmap = 'Blues')\n",
    "# plt.savefig(f\"{output_dir}Confusion_Matrix.png\")\n",
    "\n",
    "# Record all statistics from this test\n",
    "\n",
    "test_result = {'eval_loss': avg_test_loss,\n",
    "          'eval_accuracy': avg_test_accuracy,          \n",
    "          'RP80': rp80}\n",
    "pd.DataFrame(test_result).to_csv(f\"{output_dir}_test_results.csv\")\n"
   ]
  },
  {
   "cell_type": "code",
   "execution_count": 119,
   "metadata": {},
   "outputs": [
    {
     "data": {
      "text/plain": [
       "SequenceClassifierOutput(loss=tensor(2.0266e-06, device='cuda:0'), logits=tensor([[ 6.2789, -6.8144]], device='cuda:0'), hidden_states=None, attentions=None)"
      ]
     },
     "execution_count": 119,
     "metadata": {},
     "output_type": "execute_result"
    }
   ],
   "source": [
    "result"
   ]
  },
  {
   "cell_type": "code",
   "execution_count": 123,
   "metadata": {},
   "outputs": [
    {
     "data": {
      "text/plain": [
       "{'0': {'precision': 0.5607940446650124,\n",
       "  'recall': 0.6235711470240441,\n",
       "  'f1-score': 0.5905188503172826,\n",
       "  'support': 2537},\n",
       " '1': {'precision': 0.6354961832061069,\n",
       "  'recall': 0.5733471074380165,\n",
       "  'f1-score': 0.6028240405503259,\n",
       "  'support': 2904},\n",
       " 'accuracy': 0.5967653004962323,\n",
       " 'macro avg': {'precision': 0.5981451139355596,\n",
       "  'recall': 0.5984591272310303,\n",
       "  'f1-score': 0.5966714454338042,\n",
       "  'support': 5441},\n",
       " 'weighted avg': {'precision': 0.6006644747924409,\n",
       "  'recall': 0.5967653004962323,\n",
       "  'f1-score': 0.5970864431194802,\n",
       "  'support': 5441}}"
      ]
     },
     "execution_count": 123,
     "metadata": {},
     "output_type": "execute_result"
    }
   ],
   "source": [
    "classification_report(true_labels,pred_labels, output_dict=True)"
   ]
  },
  {
   "cell_type": "code",
   "execution_count": null,
   "metadata": {},
   "outputs": [],
   "source": []
  },
  {
   "cell_type": "code",
   "execution_count": null,
   "metadata": {},
   "outputs": [],
   "source": []
  },
  {
   "cell_type": "code",
   "execution_count": 69,
   "metadata": {},
   "outputs": [
    {
     "name": "stdout",
     "output_type": "stream",
     "text": [
      "108\n",
      "108\n",
      "108\n"
     ]
    }
   ],
   "source": []
  },
  {
   "cell_type": "code",
   "execution_count": 74,
   "metadata": {},
   "outputs": [
    {
     "data": {
      "text/plain": [
       "[array([1, 1, 1, 1, 1, 0, 0, 1, 1, 1, 1, 1, 1, 1, 0, 1, 1, 1, 0, 0, 1, 0,\n",
       "        1, 1, 1, 1, 1, 0, 1, 1, 0, 1]),\n",
       " array([1, 1, 1, 1, 0, 0, 0, 0, 0, 0, 1, 1, 1, 1, 1, 0, 0, 0, 0, 1, 0, 0,\n",
       "        0, 1, 0, 1, 0, 0, 0, 0, 1, 1]),\n",
       " array([1, 0, 0, 0, 0, 0, 0, 0, 0, 0, 0, 0, 0, 0, 0, 0, 0, 0, 1, 0, 0, 0,\n",
       "        0, 0, 0, 0, 0, 0, 0, 0, 0, 0]),\n",
       " array([0, 0, 0, 0, 0, 1, 0, 0, 1, 0, 0, 0, 1, 1, 0, 1, 0, 0, 0, 0, 0, 0,\n",
       "        0, 0, 0, 0, 1, 0, 0, 0, 0, 0]),\n",
       " array([0, 0, 1, 1, 1, 0, 0, 0, 0, 0, 1, 0, 0, 0, 0, 0, 0, 0, 0, 0, 0, 0,\n",
       "        1, 1, 0, 0, 1, 0, 0, 0, 0, 1]),\n",
       " array([0, 0, 0, 1, 1, 0, 1, 0, 0, 1, 0, 0, 0, 0, 0, 1, 0, 0, 0, 0, 1, 1,\n",
       "        0, 0, 0, 0, 1, 0, 0, 0, 0, 0]),\n",
       " array([0, 0, 0, 0, 0, 0, 0, 0, 0, 0, 0, 0, 0, 0, 0, 0, 0, 1, 1, 1, 0, 0,\n",
       "        1, 0, 1, 0, 1, 0, 0, 0, 0, 0]),\n",
       " array([0, 0, 1, 0, 0, 0, 0, 0, 1, 0, 0, 1, 1, 1, 1, 1, 1, 1, 1, 0, 0, 0,\n",
       "        1, 1, 0, 0, 1, 1, 0, 1, 1, 0]),\n",
       " array([0, 0, 1, 1, 0, 1, 0, 1, 1, 0, 0, 1, 1, 1, 0, 0, 0, 0, 1, 1, 1, 1,\n",
       "        1, 1, 1, 0, 1, 0, 0, 0, 1, 0]),\n",
       " array([1, 1, 1, 1, 1, 0, 1, 1, 1, 0, 0, 1, 1, 1, 0, 1, 0, 1, 1, 1, 1, 1,\n",
       "        1, 1, 1, 1, 1, 1, 1, 1, 1, 1]),\n",
       " array([1, 0, 0, 0, 0, 0, 0, 0, 0, 0, 1, 1, 1, 1, 1, 1, 0, 0, 1, 1, 1, 1,\n",
       "        1, 1, 1, 1, 1, 1, 1, 1, 0, 0]),\n",
       " array([0, 1, 0, 0, 0, 0, 1, 0, 0, 0, 1, 0, 0, 1, 1, 1, 0, 1, 0, 0, 1, 1,\n",
       "        0, 0, 0, 0, 0, 0, 0, 0, 0, 0]),\n",
       " array([0, 0, 0, 0, 0, 0, 0, 1, 1, 0, 1, 0, 0, 0, 1, 1, 0, 1, 0, 0, 1, 0,\n",
       "        1, 0, 1, 0, 1, 0, 1, 0, 1, 1]),\n",
       " array([1, 1, 1, 0, 0, 1, 0, 0, 0, 0, 0, 0, 0, 1, 0, 1, 1, 1, 1, 1, 0, 0,\n",
       "        1, 1, 1, 1, 1, 1, 1, 0, 0, 0]),\n",
       " array([0, 0, 0, 1, 0, 1, 1, 1, 1, 0, 0, 1, 1, 0, 0, 1, 1, 1, 1, 1, 0, 0,\n",
       "        1, 0, 1, 1, 1, 0, 0, 0, 1, 1]),\n",
       " array([0, 1, 1, 1, 0, 0, 1, 0, 1, 0, 1, 0, 1, 0, 1, 1, 0, 0, 0, 0, 0, 1,\n",
       "        0, 1, 0, 0, 1, 1, 0, 1, 0, 0]),\n",
       " array([0, 1, 0, 0, 1, 0, 0, 1, 0, 0, 1, 1, 1, 1, 1, 1, 1, 0, 0, 1, 1, 0,\n",
       "        0, 1, 0, 0, 1, 1, 0, 1, 0, 0]),\n",
       " array([0, 0, 0, 0, 1, 0, 0, 0, 0, 0, 0, 1, 0, 0, 0, 0, 0, 0, 0, 0, 0, 1,\n",
       "        1, 1, 1, 0, 1, 1, 1, 0, 0, 0]),\n",
       " array([1, 0, 0, 0, 0, 0, 0, 0, 0, 0, 0, 1, 0, 0, 0, 0, 0, 0, 0, 0, 0, 1,\n",
       "        0, 0, 0, 0, 0, 0, 1, 0, 0, 0]),\n",
       " array([0, 0, 0, 1, 1, 0, 0, 1, 0, 0, 1, 1, 1, 1, 1, 1, 1, 1, 1, 1, 1, 0,\n",
       "        1, 1, 0, 1, 0, 1, 1, 1, 1, 1]),\n",
       " array([1, 0, 1, 1, 1, 1, 1, 1, 0, 1, 1, 0, 1, 1, 0, 1, 0, 1, 0, 0, 1, 0,\n",
       "        1, 1, 0, 0, 0, 0, 0, 0, 0, 0]),\n",
       " array([0, 0, 0, 1, 1, 1, 1, 0, 0, 0, 0, 1, 1, 1, 0, 0, 1, 1, 0, 0, 1, 0,\n",
       "        1, 0, 1, 1, 0, 1, 0, 1, 0, 0]),\n",
       " array([1, 0, 0, 0, 0, 0, 0, 0, 0, 0, 0, 0, 1, 1, 1, 1, 0, 1, 1, 0, 1, 0,\n",
       "        1, 1, 1, 1, 0, 1, 1, 1, 0, 0]),\n",
       " array([1, 1, 0, 1, 1, 0, 1, 1, 1, 1, 0, 1, 1, 1, 1, 0, 1, 1, 1, 1, 1, 0,\n",
       "        1, 1, 1, 1, 1, 1, 0, 1, 0, 1]),\n",
       " array([0, 1, 0, 1, 0, 0, 1, 1, 0, 0, 1, 1, 1, 0, 0, 0, 0, 1, 1, 0, 1, 0,\n",
       "        1, 0, 0, 0, 0, 0, 1, 0, 1, 0]),\n",
       " array([0, 0, 0, 0, 0, 0, 1, 0, 1, 1, 0, 1, 0, 0, 1, 0, 0, 1, 1, 1, 0, 0,\n",
       "        0, 0, 1, 1, 0, 0, 0, 0, 0, 0]),\n",
       " array([0, 1, 0, 0, 0, 0, 0, 1, 1, 0, 1, 1, 0, 0, 0, 0, 0, 0, 0, 0, 0, 1,\n",
       "        1, 0, 1, 0, 0, 0, 0, 0, 0, 0]),\n",
       " array([0, 1, 1, 1, 0, 1, 1, 1, 1, 1, 1, 1, 1, 1, 1, 1, 1, 1, 1, 1, 1, 1,\n",
       "        1, 1, 0, 1, 0, 1, 1, 0, 0, 0]),\n",
       " array([1, 0, 1, 1, 1, 0, 1, 0, 0, 0, 0, 0, 0, 0, 0, 1, 0, 0, 0, 0, 0, 0,\n",
       "        1, 1, 0, 1, 1, 0, 1, 0, 0, 1]),\n",
       " array([1, 1, 0, 1, 1, 1, 1, 0, 0, 1, 0, 1, 0, 1, 1, 1, 1, 1, 1, 1, 1, 1,\n",
       "        0, 0, 0, 0, 0, 0, 0, 1, 1, 0]),\n",
       " array([0, 1, 1, 0, 0, 1, 1, 1, 0, 1, 1, 0, 1, 0, 1, 1, 1, 1, 1, 0, 0, 0,\n",
       "        0, 0, 0, 1, 1, 0, 0, 0, 0, 0]),\n",
       " array([0, 1, 0, 1, 1, 0, 1, 0, 1, 0, 0, 0, 1, 0, 0, 0, 0, 0, 0, 0, 0, 0,\n",
       "        0, 0, 0, 0, 0, 1, 0, 0, 1, 0]),\n",
       " array([0, 0, 0, 0, 1, 1, 0, 1, 0, 0, 0, 0, 0, 1, 1, 0, 0, 0, 0, 0, 0, 0,\n",
       "        0, 0, 1, 0, 0, 0, 1, 0, 0, 0]),\n",
       " array([0, 0, 0, 0, 0, 0, 0, 0, 1, 1, 0, 0, 0, 0, 1, 1, 0, 1, 1, 0, 0, 0,\n",
       "        0, 0, 1, 1, 0, 0, 0, 0, 1, 1]),\n",
       " array([0, 1, 0, 1, 1, 0, 0, 1, 1, 1, 1, 1, 0, 1, 0, 1, 0, 0, 0, 0, 1, 1,\n",
       "        1, 1, 0, 0, 0, 0, 0, 0, 1, 0]),\n",
       " array([0, 0, 0, 1, 0, 1, 0, 1, 0, 1, 0, 1, 1, 0, 1, 0, 1, 0, 0, 1, 1, 1,\n",
       "        1, 0, 1, 1, 0, 0, 0, 0, 1, 0]),\n",
       " array([1, 1, 1, 0, 1, 1, 1, 0, 0, 0, 1, 0, 1, 1, 0, 0, 1, 0, 0, 0, 1, 1,\n",
       "        0, 1, 1, 1, 0, 0, 1, 1, 1, 1]),\n",
       " array([1, 1, 1, 0, 1, 0, 0, 0, 0, 0, 0, 0, 0, 1, 0, 0, 0, 0, 1, 0, 0, 1,\n",
       "        1, 1, 1, 1, 1, 1, 0, 1, 1, 1]),\n",
       " array([1, 1, 1, 1, 1, 1, 1, 1, 1, 1, 1, 1, 1, 1, 1, 1, 1, 1, 1, 1, 0, 1,\n",
       "        1, 1, 1, 1, 1, 1, 1, 1, 1, 1]),\n",
       " array([1, 1, 1, 1, 1, 1, 1, 1, 0, 0, 1, 0, 0, 0, 1, 1, 0, 0, 1, 0, 1, 0,\n",
       "        1, 0, 0, 1, 1, 1, 1, 1, 0, 0]),\n",
       " array([0, 0, 0, 0, 0, 0, 0, 0, 0, 1, 1, 0, 1, 0, 0, 0, 1, 1, 0, 0, 1, 0,\n",
       "        0, 1, 0, 0, 1, 1, 0, 1, 1, 0]),\n",
       " array([0, 0, 0, 1, 0, 1, 1, 0, 0, 1, 0, 0, 1, 1, 0, 0, 0, 0, 1, 1, 0, 1,\n",
       "        1, 0, 1, 0, 1, 1, 1, 0, 0, 0]),\n",
       " array([0, 1, 0, 0, 0, 0, 0, 0, 1, 0, 0, 1, 0, 0, 0, 0, 1, 1, 1, 1, 0, 0,\n",
       "        1, 1, 1, 0, 1, 0, 0, 0, 1, 1]),\n",
       " array([0, 0, 0, 1, 0, 1, 0, 0, 0, 0, 1, 0, 0, 0, 0, 0, 0, 0, 0, 0, 0, 0,\n",
       "        0, 0, 0, 0, 0, 0, 0, 0, 0, 1]),\n",
       " array([1, 0, 1, 1, 0, 1, 1, 1, 1, 1, 1, 1, 0, 1, 1, 0, 1, 1, 1, 1, 1, 0,\n",
       "        0, 1, 0, 0, 0, 0, 0, 0, 0, 0]),\n",
       " array([0, 0, 0, 1, 1, 1, 0, 0, 1, 1, 1, 0, 0, 0, 1, 0, 1, 1, 0, 0, 0, 0,\n",
       "        0, 0, 0, 0, 0, 0, 0, 0, 0, 1]),\n",
       " array([0, 0, 1, 1, 0, 1, 1, 0, 1, 1, 0, 0, 0, 0, 0, 0, 0, 1, 1, 1, 0, 0,\n",
       "        0, 1, 1, 0, 1, 1, 1, 0, 0, 1]),\n",
       " array([1, 1, 0, 1, 0, 0, 1, 0, 0, 0, 0, 0, 0, 0, 1, 1, 0, 0, 0, 0, 0, 1,\n",
       "        0, 0, 1, 0, 0, 1, 0, 1, 0, 0]),\n",
       " array([0, 0, 0, 0, 0, 1, 0, 0, 1, 1, 0, 0, 0, 0, 0, 1, 0, 0, 0, 0, 1, 0,\n",
       "        0, 1, 0, 1, 0, 0, 1, 0, 0, 1]),\n",
       " array([0, 1, 0, 1, 0, 0, 1, 0, 1, 1, 0, 1, 0, 1, 0, 0, 1, 0, 0, 0, 0, 0,\n",
       "        0, 1, 1, 0, 0, 0, 0, 0, 0, 0]),\n",
       " array([1, 0, 0, 1, 0, 0, 0, 0, 0, 0, 0, 0, 0, 0, 1, 0, 1, 1, 1, 1, 1, 0,\n",
       "        0, 1, 0, 0, 1, 0, 0, 0, 0, 0]),\n",
       " array([0, 0, 0, 0, 0, 1, 0, 0, 0, 0, 0, 1, 1, 0, 1, 0, 0, 1, 0, 0, 1, 1,\n",
       "        1, 1, 1, 1, 0, 0, 1, 0, 1, 1]),\n",
       " array([0, 0, 1, 1, 1, 1, 1, 1, 1, 0, 1, 1, 0, 0, 0, 1, 1, 1, 1, 1, 0, 1,\n",
       "        1, 1, 0, 1, 1, 1, 1, 0, 0, 1]),\n",
       " array([0, 1, 1, 1, 1, 1, 0, 0, 1, 0, 0, 1, 1, 0, 1, 1, 0, 1, 0, 0, 0, 0,\n",
       "        0, 0, 0, 0, 0, 0, 0, 1, 1, 1]),\n",
       " array([1, 0, 0, 1, 1, 0, 0, 1, 1, 1, 1, 0, 0, 1, 0, 0, 0, 0, 1, 1, 0, 1,\n",
       "        1, 0, 0, 0, 1, 0, 1, 1, 1, 1]),\n",
       " array([1, 1, 1, 1, 1, 1, 0, 1, 1, 1, 1, 1, 1, 1, 1, 1, 0, 1, 1, 1, 1, 1,\n",
       "        1, 1, 1, 1, 1, 1, 1, 1, 1, 1]),\n",
       " array([1, 1, 1, 1, 1, 1, 1, 1, 1, 1, 0, 1, 1, 0, 1, 1, 1, 1, 1, 1, 1, 1,\n",
       "        1, 1, 1, 1, 1, 1, 1, 0, 0, 0]),\n",
       " array([0, 0, 0, 1, 0, 0, 1, 1, 0, 1, 0, 0, 0, 1, 0, 1, 0, 1, 1, 0, 1, 0,\n",
       "        1, 0, 0, 1, 0, 1, 0, 0, 0, 0]),\n",
       " array([0, 0, 1, 1, 0, 1, 1, 1, 0, 0, 1, 0, 0, 0, 0, 1, 0, 0, 0, 0, 0, 0,\n",
       "        0, 0, 0, 0, 1, 0, 0, 0, 0, 0]),\n",
       " array([1, 0, 1, 1, 0, 1, 1, 1, 1, 1, 1, 1, 0, 1, 1, 1, 1, 1, 1, 1, 1, 1,\n",
       "        1, 1, 1, 1, 1, 0, 0, 1, 1, 1]),\n",
       " array([1, 1, 1, 1, 1, 1, 1, 1, 0, 1, 1, 1, 1, 1, 1, 1, 1, 0, 0, 0, 0, 0,\n",
       "        0, 1, 0, 1, 1, 0, 0, 0, 0, 0]),\n",
       " array([0, 0, 0, 1, 0, 1, 0, 1, 1, 0, 1, 1, 1, 0, 0, 0, 0, 0, 0, 1, 1, 1,\n",
       "        1, 0, 1, 1, 1, 1, 1, 1, 1, 1]),\n",
       " array([0, 1, 1, 0, 1, 1, 1, 1, 0, 1, 1, 1, 1, 0, 0, 1, 0, 0, 1, 1, 0, 0,\n",
       "        1, 0, 1, 0, 0, 1, 1, 1, 1, 0]),\n",
       " array([0, 0, 0, 0, 0, 0, 1, 0, 0, 0, 0, 1, 0, 0, 0, 0, 0, 0, 0, 0, 1, 0,\n",
       "        1, 0, 1, 0, 0, 0, 1, 0, 0, 0]),\n",
       " array([0, 1, 0, 1, 0, 0, 0, 0, 0, 1, 1, 0, 1, 0, 0, 0, 0, 0, 0, 1, 0, 1,\n",
       "        1, 1, 0, 0, 1, 0, 1, 1, 1, 1]),\n",
       " array([1, 0, 1, 0, 0, 1, 1, 0, 1, 1, 0, 0, 1, 0, 1, 1, 1, 1, 1, 1, 1, 1,\n",
       "        1, 0, 1, 1, 1, 1, 0, 1, 1, 1]),\n",
       " array([1, 1, 1, 0, 0, 1, 1, 1, 0, 1, 1, 0, 1, 1, 1, 0, 1, 0, 1, 1, 1, 0,\n",
       "        0, 0, 1, 0, 0, 0, 0, 0, 0, 0]),\n",
       " array([0, 0, 0, 0, 0, 1, 0, 1, 1, 0, 0, 0, 0, 0, 0, 0, 0, 0, 1, 0, 0, 0,\n",
       "        0, 1, 1, 1, 0, 1, 0, 1, 0, 1]),\n",
       " array([0, 0, 0, 0, 0, 0, 0, 0, 0, 0, 0, 0, 0, 0, 0, 1, 0, 0, 0, 0, 1, 1,\n",
       "        1, 0, 1, 0, 0, 0, 1, 1, 0, 0]),\n",
       " array([0, 1, 1, 0, 0, 0, 1, 1, 1, 1, 1, 1, 1, 1, 1, 1, 1, 1, 1, 1, 0, 0,\n",
       "        1, 1, 1, 1, 1, 0, 0, 1, 1, 1]),\n",
       " array([1, 1, 1, 1, 1, 1, 1, 1, 1, 1, 1, 0, 1, 1, 1, 0, 1, 1, 1, 1, 1, 1,\n",
       "        1, 0, 1, 1, 1, 1, 1, 1, 1, 1]),\n",
       " array([1, 1, 1, 1, 1, 1, 0, 1, 1, 1, 1, 1, 1, 1, 1, 1, 1, 0, 0, 0, 0, 1,\n",
       "        0, 1, 0, 1, 1, 1, 1, 1, 1, 1]),\n",
       " array([1, 1, 1, 1, 0, 1, 1, 1, 1, 0, 0, 1, 1, 0, 1, 1, 0, 1, 1, 1, 0, 1,\n",
       "        1, 1, 0, 1, 1, 1, 1, 1, 1, 1]),\n",
       " array([0, 0, 1, 0, 1, 0, 1, 0, 1, 1, 1, 1, 1, 1, 1, 0, 1, 1, 0, 0, 0, 0,\n",
       "        0, 1, 0, 0, 1, 1, 1, 1, 1, 1]),\n",
       " array([1, 1, 1, 1, 1, 1, 1, 1, 0, 1, 1, 1, 1, 1, 1, 1, 1, 1, 1, 1, 1, 1,\n",
       "        1, 0, 1, 1, 1, 0, 1, 1, 1, 1]),\n",
       " array([1, 1, 1, 1, 1, 1, 1, 1, 1, 1, 0, 1, 0, 0, 1, 1, 1, 1, 1, 1, 1, 1,\n",
       "        1, 1, 1, 1, 1, 0, 1, 1, 1, 1]),\n",
       " array([1, 1, 1, 0, 1, 1, 0, 1, 1, 1, 0, 1, 1, 0, 1, 0, 1, 1, 1, 1, 1, 1,\n",
       "        1, 1, 1, 1, 1, 1, 1, 0, 1, 1]),\n",
       " array([1, 1, 1, 0, 0, 0, 0, 0, 1, 1, 1, 0, 0, 0, 1, 1, 1, 0, 1, 1, 1, 1,\n",
       "        1, 1, 1, 1, 1, 1, 0, 0, 1, 1]),\n",
       " array([1, 1, 1, 1, 1, 1, 1, 1, 1, 0, 0, 0, 0, 0, 1, 1, 1, 1, 1, 1, 1, 1,\n",
       "        1, 1, 1, 1, 1, 1, 0, 0, 1, 1]),\n",
       " array([1, 1, 1, 0, 1, 1, 0, 1, 0, 1, 0, 1, 1, 1, 1, 1, 1, 1, 1, 1, 1, 1,\n",
       "        1, 1, 1, 1, 1, 1, 0, 1, 0, 1]),\n",
       " array([1, 0, 1, 0, 1, 0, 0, 0, 1, 1, 0, 1, 0, 0, 0, 1, 0, 1, 0, 1, 0, 1,\n",
       "        1, 0, 0, 1, 0, 1, 1, 1, 1, 0]),\n",
       " array([1, 0, 0, 1, 1, 1, 0, 1, 1, 1, 1, 1, 1, 1, 1, 1, 1, 1, 1, 1, 1, 1,\n",
       "        1, 1, 0, 1, 1, 1, 1, 1, 1, 0]),\n",
       " array([1, 1, 1, 1, 1, 1, 1, 1, 1, 1, 1, 1, 1, 1, 0, 1, 1, 0, 1, 1, 1, 1,\n",
       "        1, 1, 1, 0, 1, 1, 1, 0, 1, 0]),\n",
       " array([0, 1, 1, 1, 0, 0, 1, 0, 0, 0, 0, 0, 1, 1, 0, 0, 0, 0, 0, 0, 0, 0,\n",
       "        0, 0, 0, 0, 0, 0, 1, 0, 0, 0]),\n",
       " array([0, 0, 0, 0, 0, 0, 0, 0, 0, 0, 1, 0, 1, 0, 0, 0, 0, 0, 0, 0, 0, 0,\n",
       "        0, 0, 0, 1, 1, 0, 0, 0, 0, 0]),\n",
       " array([0, 1, 0, 0, 0, 0, 1, 1, 0, 0, 1, 1, 0, 1, 0, 1, 0, 0, 1, 1, 1, 0,\n",
       "        1, 1, 1, 1, 1, 1, 1, 1, 1, 1]),\n",
       " array([0, 1, 0, 1, 1, 1, 1, 1, 0, 1, 0, 1, 1, 1, 0, 1, 1, 0, 1, 1, 0, 1,\n",
       "        1, 1, 1, 1, 0, 1, 1, 1, 1, 1]),\n",
       " array([1, 0, 1, 1, 1, 1, 0, 1, 1, 1, 1, 0, 0, 1, 1, 1, 1, 1, 0, 1, 1, 0,\n",
       "        1, 1, 0, 0, 0, 1, 0, 0, 0, 0]),\n",
       " array([1, 0, 0, 0, 0, 0, 0, 0, 0, 1, 1, 0, 0, 0, 0, 0, 1, 1, 0, 0, 0, 1,\n",
       "        0, 0, 1, 1, 0, 0, 1, 1, 0, 0]),\n",
       " array([1, 1, 0, 1, 0, 1, 1, 0, 0, 1, 0, 0, 0, 0, 0, 0, 0, 0, 0, 1, 1, 1,\n",
       "        1, 0, 1, 1, 0, 0, 1, 1, 0, 1]),\n",
       " array([0, 0, 0, 1, 1, 1, 1, 1, 0, 1, 1, 1, 0, 1, 1, 1, 1, 0, 0, 0, 1, 0,\n",
       "        0, 1, 1, 1, 1, 1, 1, 1, 1, 1]),\n",
       " array([0, 1, 0, 1, 1, 0, 1, 1, 1, 1, 1, 1, 1, 1, 1, 1, 1, 1, 1, 1, 0, 1,\n",
       "        0, 1, 1, 1, 1, 1, 1, 0, 0, 0]),\n",
       " array([1, 1, 1, 1, 1, 0, 0, 0, 1, 1, 0, 1, 1, 0, 1, 1, 1, 1, 0, 1, 1, 0,\n",
       "        0, 1, 0, 0, 0, 0, 1, 1, 1, 1]),\n",
       " array([0, 1, 1, 1, 0, 1, 1, 1, 1, 1, 0, 0, 1, 1, 1, 0, 1, 1, 1, 0, 0, 1,\n",
       "        1, 0, 0, 0, 1, 1, 0, 0, 1, 1]),\n",
       " array([0, 0, 1, 1, 1, 1, 0, 1, 0, 1, 1, 1, 0, 1, 1, 0, 1, 1, 1, 0, 0, 0,\n",
       "        0, 0, 1, 0, 0, 0, 0, 1, 0, 0]),\n",
       " array([0, 1, 0, 1, 0, 1, 1, 0, 0, 1, 1, 1, 1, 1, 1, 1, 1, 1, 1, 1, 0, 0,\n",
       "        0, 0, 0, 1, 1, 0, 0, 1, 1, 1]),\n",
       " array([0, 1, 1, 0, 0, 0, 0, 0, 1, 0, 0, 0, 0, 0, 1, 0, 1, 0, 0, 0, 1, 1,\n",
       "        1, 0, 1, 0, 0, 1, 1, 0, 0, 1]),\n",
       " array([0, 0, 0, 0, 0, 1, 1, 0, 0, 1, 0, 1, 0, 0, 1, 0, 0, 0, 1, 1, 0, 0,\n",
       "        0, 0, 0, 0, 1, 0, 0, 0, 0, 0]),\n",
       " array([1, 0, 1, 0, 0, 0, 0, 0, 1, 1, 1, 1, 0, 0, 1, 0, 0, 1, 0, 0, 0, 0,\n",
       "        0, 0, 1, 0, 0, 0, 1, 0, 0, 0]),\n",
       " array([0, 0, 1, 0, 0, 1, 0, 0, 1, 0, 0, 0, 1, 0, 0, 0, 1, 0, 1, 0, 1, 0,\n",
       "        0, 0, 0, 0, 0, 1, 1, 0, 0, 0]),\n",
       " array([0, 0, 1, 1, 1, 1, 1, 1, 0, 1, 1, 0, 1, 1, 0, 0, 0, 1, 1, 0, 0, 0,\n",
       "        0, 0, 0, 1, 1, 1, 1, 1, 0, 1]),\n",
       " array([1, 1, 1, 1, 1, 1, 1, 0, 1, 1, 1, 0, 1, 1, 0, 1, 1, 1, 1, 1, 1, 0,\n",
       "        0, 0, 0, 1, 0, 0, 1, 1, 1, 1]),\n",
       " array([0, 0, 0, 0, 0, 0, 0, 1, 1, 1, 1, 0, 1, 1, 0, 1, 1, 0, 0, 0, 1, 1,\n",
       "        0, 0, 1, 0, 0, 0, 0, 1, 0, 0]),\n",
       " array([1, 0, 1, 0, 0, 0, 1, 1, 0, 0, 0, 0, 0, 0, 1, 0, 0, 0, 0, 0, 0, 0,\n",
       "        0, 0, 0, 0, 0, 1, 0, 0, 1, 0]),\n",
       " array([0, 0, 0, 0, 0, 0, 0, 0, 0, 0, 0, 0, 0, 0, 1, 1, 0, 0, 0, 0, 1, 0,\n",
       "        0, 0, 1, 0, 0, 0, 0, 0, 0, 0]),\n",
       " array([1, 0, 0, 0, 1, 0, 0, 0, 0, 0, 0, 0, 0, 1, 1, 1, 1, 1, 0, 1, 1, 0,\n",
       "        0, 0, 0, 0, 1, 1, 1, 1, 1, 1]),\n",
       " array([0, 1, 0, 1, 1, 0, 1, 0, 1, 0, 1, 0, 1, 1, 0, 1, 1, 1, 1, 0, 1, 1,\n",
       "        1, 0, 1, 0, 1, 1, 1, 1, 0, 1]),\n",
       " array([1, 1, 1, 1, 1, 1, 1, 0, 1, 1, 0, 1, 0, 1, 0, 1, 0, 0, 1, 1, 1, 1,\n",
       "        1, 0, 1, 0, 1, 1, 1, 1, 1, 0])]"
      ]
     },
     "execution_count": 74,
     "metadata": {},
     "output_type": "execute_result"
    }
   ],
   "source": [
    "len()"
   ]
  },
  {
   "cell_type": "code",
   "execution_count": 76,
   "metadata": {},
   "outputs": [
    {
     "ename": "AttributeError",
     "evalue": "'list' object has no attribute 'flatten'",
     "output_type": "error",
     "traceback": [
      "\u001b[0;31m---------------------------------------------------------------------------\u001b[0m",
      "\u001b[0;31mAttributeError\u001b[0m                            Traceback (most recent call last)",
      "\u001b[0;32m<ipython-input-76-d7cd83dd2e11>\u001b[0m in \u001b[0;36m<module>\u001b[0;34m\u001b[0m\n\u001b[0;32m----> 1\u001b[0;31m \u001b[0mpred_labels\u001b[0m\u001b[0;34m.\u001b[0m\u001b[0mflatten\u001b[0m\u001b[0;34m(\u001b[0m\u001b[0;34m)\u001b[0m\u001b[0;34m\u001b[0m\u001b[0;34m\u001b[0m\u001b[0m\n\u001b[0m",
      "\u001b[0;31mAttributeError\u001b[0m: 'list' object has no attribute 'flatten'"
     ]
    }
   ],
   "source": []
  },
  {
   "cell_type": "code",
   "execution_count": 92,
   "metadata": {},
   "outputs": [
    {
     "name": "stdout",
     "output_type": "stream",
     "text": [
      "              precision    recall  f1-score   support\n",
      "\n",
      "           0       0.57      0.61      0.59      1595\n",
      "           1       0.65      0.60      0.62      1861\n",
      "\n",
      "    accuracy                           0.61      3456\n",
      "   macro avg       0.61      0.61      0.61      3456\n",
      "weighted avg       0.61      0.61      0.61      3456\n",
      "\n"
     ]
    }
   ],
   "source": [
    "from sklearn.metrics import classification_report\n",
    "# preds = np.argmax(preds, axis = 1)\n",
    "print(classification_report(np.concatenate(true_labels,axis=0), np.concatenate(pred_labels, axis=0)))\n",
    "      "
   ]
  },
  {
   "cell_type": "code",
   "execution_count": 36,
   "metadata": {},
   "outputs": [
    {
     "data": {
      "text/plain": [
       "5472"
      ]
     },
     "execution_count": 36,
     "metadata": {},
     "output_type": "execute_result"
    }
   ],
   "source": []
  },
  {
   "cell_type": "code",
   "execution_count": 35,
   "metadata": {},
   "outputs": [
    {
     "data": {
      "text/plain": [
       "(5441, 4)"
      ]
     },
     "execution_count": 35,
     "metadata": {},
     "output_type": "execute_result"
    }
   ],
   "source": []
  },
  {
   "cell_type": "markdown",
   "metadata": {
    "id": "-5jscIM8R4Gv"
   },
   "source": [
    "Accuracy on the CoLA benchmark is measured using the \"[Matthews correlation coefficient](https://scikit-learn.org/stable/modules/generated/sklearn.metrics.matthews_corrcoef.html)\" (MCC).\n",
    "\n",
    "We use MCC here because the classes are imbalanced:\n"
   ]
  },
  {
   "cell_type": "code",
   "execution_count": null,
   "metadata": {
    "colab": {
     "base_uri": "https://localhost:8080/"
    },
    "id": "hWcy0X1hirdx",
    "outputId": "ef5e6753-c244-406a-8141-5078d71b04ee"
   },
   "outputs": [
    {
     "name": "stdout",
     "output_type": "stream",
     "text": [
      "Positive samples: 354 of 516 (68.60%)\n"
     ]
    }
   ],
   "source": [
    "print('Positive samples: %d of %d (%.2f%%)' % (df.label.sum(), len(df.label), (df.label.sum() / len(df.label) * 100.0)))"
   ]
  },
  {
   "cell_type": "code",
   "execution_count": null,
   "metadata": {},
   "outputs": [],
   "source": []
  },
  {
   "cell_type": "code",
   "execution_count": 77,
   "metadata": {
    "colab": {
     "base_uri": "https://localhost:8080/"
    },
    "id": "cRaZQ4XC7kLs",
    "outputId": "d922af70-1216-4cfb-ac37-1dde75744fd5"
   },
   "outputs": [
    {
     "name": "stdout",
     "output_type": "stream",
     "text": [
      "Calculating Matthews Corr. Coef. for each batch...\n"
     ]
    },
    {
     "name": "stderr",
     "output_type": "stream",
     "text": [
      "/cdthome/xiz325/.local/lib/python3.7/site-packages/sklearn/metrics/_classification.py:870: RuntimeWarning: invalid value encountered in double_scalars\n",
      "  mcc = cov_ytyp / np.sqrt(cov_ytyt * cov_ypyp)\n",
      "/cdthome/xiz325/.local/lib/python3.7/site-packages/sklearn/metrics/_classification.py:870: RuntimeWarning: invalid value encountered in double_scalars\n",
      "  mcc = cov_ytyp / np.sqrt(cov_ytyt * cov_ypyp)\n",
      "/cdthome/xiz325/.local/lib/python3.7/site-packages/sklearn/metrics/_classification.py:870: RuntimeWarning: invalid value encountered in double_scalars\n",
      "  mcc = cov_ytyp / np.sqrt(cov_ytyt * cov_ypyp)\n",
      "/cdthome/xiz325/.local/lib/python3.7/site-packages/sklearn/metrics/_classification.py:870: RuntimeWarning: invalid value encountered in double_scalars\n",
      "  mcc = cov_ytyp / np.sqrt(cov_ytyt * cov_ypyp)\n",
      "/cdthome/xiz325/.local/lib/python3.7/site-packages/sklearn/metrics/_classification.py:870: RuntimeWarning: invalid value encountered in double_scalars\n",
      "  mcc = cov_ytyp / np.sqrt(cov_ytyt * cov_ypyp)\n",
      "/cdthome/xiz325/.local/lib/python3.7/site-packages/sklearn/metrics/_classification.py:870: RuntimeWarning: invalid value encountered in double_scalars\n",
      "  mcc = cov_ytyp / np.sqrt(cov_ytyt * cov_ypyp)\n",
      "/cdthome/xiz325/.local/lib/python3.7/site-packages/sklearn/metrics/_classification.py:870: RuntimeWarning: invalid value encountered in double_scalars\n",
      "  mcc = cov_ytyp / np.sqrt(cov_ytyt * cov_ypyp)\n",
      "/cdthome/xiz325/.local/lib/python3.7/site-packages/sklearn/metrics/_classification.py:870: RuntimeWarning: invalid value encountered in double_scalars\n",
      "  mcc = cov_ytyp / np.sqrt(cov_ytyt * cov_ypyp)\n",
      "/cdthome/xiz325/.local/lib/python3.7/site-packages/sklearn/metrics/_classification.py:870: RuntimeWarning: invalid value encountered in double_scalars\n",
      "  mcc = cov_ytyp / np.sqrt(cov_ytyt * cov_ypyp)\n",
      "/cdthome/xiz325/.local/lib/python3.7/site-packages/sklearn/metrics/_classification.py:870: RuntimeWarning: invalid value encountered in double_scalars\n",
      "  mcc = cov_ytyp / np.sqrt(cov_ytyt * cov_ypyp)\n",
      "/cdthome/xiz325/.local/lib/python3.7/site-packages/sklearn/metrics/_classification.py:870: RuntimeWarning: invalid value encountered in double_scalars\n",
      "  mcc = cov_ytyp / np.sqrt(cov_ytyt * cov_ypyp)\n",
      "/cdthome/xiz325/.local/lib/python3.7/site-packages/sklearn/metrics/_classification.py:870: RuntimeWarning: invalid value encountered in double_scalars\n",
      "  mcc = cov_ytyp / np.sqrt(cov_ytyt * cov_ypyp)\n",
      "/cdthome/xiz325/.local/lib/python3.7/site-packages/sklearn/metrics/_classification.py:870: RuntimeWarning: invalid value encountered in double_scalars\n",
      "  mcc = cov_ytyp / np.sqrt(cov_ytyt * cov_ypyp)\n",
      "/cdthome/xiz325/.local/lib/python3.7/site-packages/sklearn/metrics/_classification.py:870: RuntimeWarning: invalid value encountered in double_scalars\n",
      "  mcc = cov_ytyp / np.sqrt(cov_ytyt * cov_ypyp)\n",
      "/cdthome/xiz325/.local/lib/python3.7/site-packages/sklearn/metrics/_classification.py:870: RuntimeWarning: invalid value encountered in double_scalars\n",
      "  mcc = cov_ytyp / np.sqrt(cov_ytyt * cov_ypyp)\n",
      "/cdthome/xiz325/.local/lib/python3.7/site-packages/sklearn/metrics/_classification.py:870: RuntimeWarning: invalid value encountered in double_scalars\n",
      "  mcc = cov_ytyp / np.sqrt(cov_ytyt * cov_ypyp)\n",
      "/cdthome/xiz325/.local/lib/python3.7/site-packages/sklearn/metrics/_classification.py:870: RuntimeWarning: invalid value encountered in double_scalars\n",
      "  mcc = cov_ytyp / np.sqrt(cov_ytyt * cov_ypyp)\n",
      "/cdthome/xiz325/.local/lib/python3.7/site-packages/sklearn/metrics/_classification.py:870: RuntimeWarning: invalid value encountered in double_scalars\n",
      "  mcc = cov_ytyp / np.sqrt(cov_ytyt * cov_ypyp)\n",
      "/cdthome/xiz325/.local/lib/python3.7/site-packages/sklearn/metrics/_classification.py:870: RuntimeWarning: invalid value encountered in double_scalars\n",
      "  mcc = cov_ytyp / np.sqrt(cov_ytyt * cov_ypyp)\n",
      "/cdthome/xiz325/.local/lib/python3.7/site-packages/sklearn/metrics/_classification.py:870: RuntimeWarning: invalid value encountered in double_scalars\n",
      "  mcc = cov_ytyp / np.sqrt(cov_ytyt * cov_ypyp)\n",
      "/cdthome/xiz325/.local/lib/python3.7/site-packages/sklearn/metrics/_classification.py:870: RuntimeWarning: invalid value encountered in double_scalars\n",
      "  mcc = cov_ytyp / np.sqrt(cov_ytyt * cov_ypyp)\n",
      "/cdthome/xiz325/.local/lib/python3.7/site-packages/sklearn/metrics/_classification.py:870: RuntimeWarning: invalid value encountered in double_scalars\n",
      "  mcc = cov_ytyp / np.sqrt(cov_ytyt * cov_ypyp)\n",
      "/cdthome/xiz325/.local/lib/python3.7/site-packages/sklearn/metrics/_classification.py:870: RuntimeWarning: invalid value encountered in double_scalars\n",
      "  mcc = cov_ytyp / np.sqrt(cov_ytyt * cov_ypyp)\n",
      "/cdthome/xiz325/.local/lib/python3.7/site-packages/sklearn/metrics/_classification.py:870: RuntimeWarning: invalid value encountered in double_scalars\n",
      "  mcc = cov_ytyp / np.sqrt(cov_ytyt * cov_ypyp)\n",
      "/cdthome/xiz325/.local/lib/python3.7/site-packages/sklearn/metrics/_classification.py:870: RuntimeWarning: invalid value encountered in double_scalars\n",
      "  mcc = cov_ytyp / np.sqrt(cov_ytyt * cov_ypyp)\n",
      "/cdthome/xiz325/.local/lib/python3.7/site-packages/sklearn/metrics/_classification.py:870: RuntimeWarning: invalid value encountered in double_scalars\n",
      "  mcc = cov_ytyp / np.sqrt(cov_ytyt * cov_ypyp)\n",
      "/cdthome/xiz325/.local/lib/python3.7/site-packages/sklearn/metrics/_classification.py:870: RuntimeWarning: invalid value encountered in double_scalars\n",
      "  mcc = cov_ytyp / np.sqrt(cov_ytyt * cov_ypyp)\n",
      "/cdthome/xiz325/.local/lib/python3.7/site-packages/sklearn/metrics/_classification.py:870: RuntimeWarning: invalid value encountered in double_scalars\n",
      "  mcc = cov_ytyp / np.sqrt(cov_ytyt * cov_ypyp)\n",
      "/cdthome/xiz325/.local/lib/python3.7/site-packages/sklearn/metrics/_classification.py:870: RuntimeWarning: invalid value encountered in double_scalars\n",
      "  mcc = cov_ytyp / np.sqrt(cov_ytyt * cov_ypyp)\n",
      "/cdthome/xiz325/.local/lib/python3.7/site-packages/sklearn/metrics/_classification.py:870: RuntimeWarning: invalid value encountered in double_scalars\n",
      "  mcc = cov_ytyp / np.sqrt(cov_ytyt * cov_ypyp)\n",
      "/cdthome/xiz325/.local/lib/python3.7/site-packages/sklearn/metrics/_classification.py:870: RuntimeWarning: invalid value encountered in double_scalars\n",
      "  mcc = cov_ytyp / np.sqrt(cov_ytyt * cov_ypyp)\n",
      "/cdthome/xiz325/.local/lib/python3.7/site-packages/sklearn/metrics/_classification.py:870: RuntimeWarning: invalid value encountered in double_scalars\n",
      "  mcc = cov_ytyp / np.sqrt(cov_ytyt * cov_ypyp)\n",
      "/cdthome/xiz325/.local/lib/python3.7/site-packages/sklearn/metrics/_classification.py:870: RuntimeWarning: invalid value encountered in double_scalars\n",
      "  mcc = cov_ytyp / np.sqrt(cov_ytyt * cov_ypyp)\n",
      "/cdthome/xiz325/.local/lib/python3.7/site-packages/sklearn/metrics/_classification.py:870: RuntimeWarning: invalid value encountered in double_scalars\n",
      "  mcc = cov_ytyp / np.sqrt(cov_ytyt * cov_ypyp)\n",
      "/cdthome/xiz325/.local/lib/python3.7/site-packages/sklearn/metrics/_classification.py:870: RuntimeWarning: invalid value encountered in double_scalars\n",
      "  mcc = cov_ytyp / np.sqrt(cov_ytyt * cov_ypyp)\n",
      "/cdthome/xiz325/.local/lib/python3.7/site-packages/sklearn/metrics/_classification.py:870: RuntimeWarning: invalid value encountered in double_scalars\n",
      "  mcc = cov_ytyp / np.sqrt(cov_ytyt * cov_ypyp)\n",
      "/cdthome/xiz325/.local/lib/python3.7/site-packages/sklearn/metrics/_classification.py:870: RuntimeWarning: invalid value encountered in double_scalars\n",
      "  mcc = cov_ytyp / np.sqrt(cov_ytyt * cov_ypyp)\n",
      "/cdthome/xiz325/.local/lib/python3.7/site-packages/sklearn/metrics/_classification.py:870: RuntimeWarning: invalid value encountered in double_scalars\n",
      "  mcc = cov_ytyp / np.sqrt(cov_ytyt * cov_ypyp)\n",
      "/cdthome/xiz325/.local/lib/python3.7/site-packages/sklearn/metrics/_classification.py:870: RuntimeWarning: invalid value encountered in double_scalars\n",
      "  mcc = cov_ytyp / np.sqrt(cov_ytyt * cov_ypyp)\n",
      "/cdthome/xiz325/.local/lib/python3.7/site-packages/sklearn/metrics/_classification.py:870: RuntimeWarning: invalid value encountered in double_scalars\n",
      "  mcc = cov_ytyp / np.sqrt(cov_ytyt * cov_ypyp)\n"
     ]
    }
   ],
   "source": [
    "from sklearn.metrics import matthews_corrcoef\n",
    "\n",
    "matthews_set = []\n",
    "\n",
    "# Evaluate each test batch using Matthew's correlation coefficient\n",
    "print('Calculating Matthews Corr. Coef. for each batch...')\n",
    "\n",
    "# For each input batch...\n",
    "for i in range(len(true_labels)):\n",
    "  \n",
    "  # The predictions for this batch are a 2-column ndarray (one column for \"0\" \n",
    "  # and one column for \"1\"). Pick the label with the highest value and turn this\n",
    "  # in to a list of 0s and 1s.\n",
    "  pred_labels_i = np.argmax(logits_history[i], axis=1).flatten()\n",
    "  \n",
    "  # Calculate and store the coef for this batch.  \n",
    "  matthews = matthews_corrcoef(true_labels[i], pred_labels_i)                \n",
    "  matthews_set.append(matthews)"
   ]
  },
  {
   "cell_type": "markdown",
   "metadata": {
    "id": "IUM0UA1qJaVB"
   },
   "source": [
    "The final score will be based on the entire test set, but let's take a look at the scores on the individual batches to get a sense of the variability in the metric between batches. \n",
    "\n",
    "Each batch has 32 sentences in it, except the last batch which has only (516 % 32) = 4 test sentences in it.\n"
   ]
  },
  {
   "cell_type": "code",
   "execution_count": 78,
   "metadata": {
    "colab": {
     "base_uri": "https://localhost:8080/",
     "height": 427
    },
    "id": "pyfY1tqxU0t9",
    "outputId": "5e477de2-e6a9-466a-9b36-f3651f2996df"
   },
   "outputs": [
    {
     "data": {
      "image/png": "[encoded data removed]",
      "text/plain": [
       "<Figure size 864x432 with 1 Axes>"
      ]
     },
     "metadata": {},
     "output_type": "display_data"
    }
   ],
   "source": [
    "# Create a barplot showing the MCC score for each batch of test samples.\n",
    "ax = sns.barplot(x=list(range(len(matthews_set))), y=matthews_set, ci=None)\n",
    "\n",
    "plt.title('MCC Score per Batch')\n",
    "plt.ylabel('MCC Score (-1 to +1)')\n",
    "plt.xlabel('Batch #')\n",
    "\n",
    "plt.show()"
   ]
  },
  {
   "cell_type": "code",
   "execution_count": 111,
   "metadata": {},
   "outputs": [
    {
     "data": {
      "text/plain": [
       "(384, 2)"
      ]
     },
     "execution_count": 111,
     "metadata": {},
     "output_type": "execute_result"
    }
   ],
   "source": [
    "np.concatenate(logits_history, axis=0)[:,1]"
   ]
  },
  {
   "cell_type": "code",
   "execution_count": 107,
   "metadata": {},
   "outputs": [
    {
     "data": {
      "text/plain": [
       "0      7.57\n",
       "1      4.13\n",
       "2      6.93\n",
       "3      6.51\n",
       "4      5.52\n",
       "       ... \n",
       "379   -6.82\n",
       "380   -7.46\n",
       "381   -6.78\n",
       "382   -3.13\n",
       "383   -7.75\n",
       "Name: 1, Length: 384, dtype: float32"
      ]
     },
     "execution_count": 107,
     "metadata": {},
     "output_type": "execute_result"
    }
   ],
   "source": [
    "pd.DataFrame(np.concatenate(logits_history, axis=0))[1]"
   ]
  },
  {
   "cell_type": "code",
   "execution_count": 112,
   "metadata": {},
   "outputs": [
    {
     "data": {
      "text/plain": [
       "(384,)"
      ]
     },
     "execution_count": 112,
     "metadata": {},
     "output_type": "execute_result"
    }
   ],
   "source": [
    "np.concatenate(pred_labels, axis=0).shape"
   ]
  },
  {
   "cell_type": "code",
   "execution_count": 89,
   "metadata": {},
   "outputs": [
    {
     "data": {
      "text/plain": [
       "(3456,)"
      ]
     },
     "execution_count": 89,
     "metadata": {},
     "output_type": "execute_result"
    }
   ],
   "source": [
    "np.concatenate(true_labels, axis=0).shape"
   ]
  },
  {
   "cell_type": "markdown",
   "metadata": {
    "id": "1YrjAPX2V-l4"
   },
   "source": [
    "Now we'll combine the results for all of the batches and calculate our final MCC score."
   ]
  },
  {
   "cell_type": "code",
   "execution_count": 80,
   "metadata": {
    "colab": {
     "base_uri": "https://localhost:8080/"
    },
    "id": "oCYZa1lQ8Jn8",
    "outputId": "b4650298-0e35-4ed8-be13-83f074a617ed"
   },
   "outputs": [
    {
     "name": "stdout",
     "output_type": "stream",
     "text": [
      "Total MCC: 0.218\n"
     ]
    }
   ],
   "source": [
    "# Combine the results across all batches. \n",
    "flat_predictions = np.concatenate(logits_history, axis=0)\n",
    "\n",
    "# For each sample, pick the label (0 or 1) with the higher score.\n",
    "flat_predictions = np.argmax(flat_predictions, axis=1).flatten()\n",
    "\n",
    "# Combine the correct labels for each batch into a single list.\n",
    "flat_true_labels = np.concatenate(true_labels, axis=0)\n",
    "\n",
    "# Calculate the MCC\n",
    "mcc = matthews_corrcoef(flat_true_labels, flat_predictions)\n",
    "\n",
    "print('Total MCC: %.3f' % mcc)"
   ]
  },
  {
   "cell_type": "code",
   "execution_count": 81,
   "metadata": {},
   "outputs": [
    {
     "data": {
      "text/plain": [
       "(3456,)"
      ]
     },
     "execution_count": 81,
     "metadata": {},
     "output_type": "execute_result"
    }
   ],
   "source": [
    "print(flat_predictions.shape)\n"
   ]
  },
  {
   "cell_type": "code",
   "execution_count": null,
   "metadata": {},
   "outputs": [],
   "source": [
    "# calculate roc etc\n",
    "\n"
   ]
  },
  {
   "cell_type": "markdown",
   "metadata": {
    "id": "jXx0jPc4HUfZ"
   },
   "source": [
    "Cool! In about half an hour and without doing any hyperparameter tuning (adjusting the learning rate, epochs, batch size, ADAM properties, etc.) we are able to get a good score. \n",
    "\n",
    "> *Note: To maximize the score, we should remove the \"validation set\" (which we used to help determine how many epochs to train for) and train on the entire training set.*\n",
    "\n",
    "The library documents the expected accuracy for this benchmark [here](https://huggingface.co/transformers/examples.html#glue) as `49.23`.\n",
    "\n",
    "You can also look at the official leaderboard [here](https://gluebenchmark.com/leaderboard/submission/zlssuBTm5XRs0aSKbFYGVIVdvbj1/-LhijX9VVmvJcvzKymxy). \n",
    "\n",
    "Note that (due to the small dataset size?) the accuracy can vary significantly between runs.\n"
   ]
  },
  {
   "cell_type": "markdown",
   "metadata": {
    "id": "GfjYoa6WmkN6"
   },
   "source": [
    "# Conclusion"
   ]
  },
  {
   "cell_type": "markdown",
   "metadata": {
    "id": "xlQG7qgkmf4n"
   },
   "source": [
    "This post demonstrates that with a pre-trained BERT model you can quickly and effectively create a high quality model with minimal effort and training time using the pytorch interface, regardless of the specific NLP task you are interested in."
   ]
  },
  {
   "cell_type": "markdown",
   "metadata": {
    "id": "YUmsUOIv8EUO"
   },
   "source": [
    "# Appendix\n"
   ]
  },
  {
   "cell_type": "markdown",
   "metadata": {
    "id": "q2079Qyn8Mt8"
   },
   "source": [
    "## A1. Saving & Loading Fine-Tuned Model\n",
    "\n",
    "This first cell (taken from `run_glue.py` [here](https://github.com/huggingface/transformers/blob/35ff345fc9df9e777b27903f11fa213e4052595b/examples/run_glue.py#L495)) writes the model and tokenizer out to disk."
   ]
  },
  {
   "cell_type": "code",
   "execution_count": 115,
   "metadata": {
    "colab": {
     "base_uri": "https://localhost:8080/"
    },
    "id": "6ulTWaOr8QNY",
    "outputId": "1b73b37b-2598-4992-d6d7-0649f410b5c0"
   },
   "outputs": [
    {
     "name": "stdout",
     "output_type": "stream",
     "text": [
      "Saving model to ./results_updated_BioClinicalBERT_3day_190421/\n"
     ]
    },
    {
     "data": {
      "text/plain": [
       "('./results_updated_BioClinicalBERT_3day_190421/tokenizer_config.json',\n",
       " './results_updated_BioClinicalBERT_3day_190421/special_tokens_map.json',\n",
       " './results_updated_BioClinicalBERT_3day_190421/vocab.txt',\n",
       " './results_updated_BioClinicalBERT_3day_190421/added_tokens.json')"
      ]
     },
     "execution_count": 115,
     "metadata": {},
     "output_type": "execute_result"
    }
   ],
   "source": [
    "\n",
    "\n",
    "print(\"Saving model to %s\" % output_dir)\n",
    "\n",
    "# Save a trained model, configuration and tokenizer using `save_pretrained()`.\n",
    "# They can then be reloaded using `from_pretrained()`\n",
    "model_to_save = model.module if hasattr(model, 'module') else model  # Take care of distributed/parallel training\n",
    "model_to_save.save_pretrained(output_dir)\n",
    "tokenizer.save_pretrained(output_dir)\n",
    "\n",
    "# Good practice: save your training arguments together with the trained model\n",
    "# torch.save(args, os.path.join(output_dir, 'training_args.bin'))\n",
    "\n",
    "# torch.save(model.state_dict(), output_dir + \"pytorch_model.pt\")"
   ]
  },
  {
   "cell_type": "markdown",
   "metadata": {
    "id": "Z-tjHkR7lc1I"
   },
   "source": [
    "Let's check out the file sizes, out of curiosity."
   ]
  },
  {
   "cell_type": "code",
   "execution_count": null,
   "metadata": {
    "colab": {
     "base_uri": "https://localhost:8080/"
    },
    "id": "mqMzI3VTCZo5",
    "outputId": "96104fe5-67d0-4310-d778-58da5194c2e1"
   },
   "outputs": [
    {
     "name": "stdout",
     "output_type": "stream",
     "text": [
      "total 428000K\n",
      "-rw-r--r-- 1 root root      1K Feb  2 17:10 config.json\n",
      "-rw-r--r-- 1 root root 427757K Feb  2 17:10 pytorch_model.bin\n",
      "-rw-r--r-- 1 root root      1K Feb  2 17:10 special_tokens_map.json\n",
      "-rw-r--r-- 1 root root      1K Feb  2 17:10 tokenizer_config.json\n",
      "-rw-r--r-- 1 root root    227K Feb  2 17:10 vocab.txt\n"
     ]
    }
   ],
   "source": [
    "!ls -l --block-size=K ./model_save/"
   ]
  },
  {
   "cell_type": "markdown",
   "metadata": {
    "id": "fr_bt2rFlgDn"
   },
   "source": [
    "The largest file is the model weights, at around 418 megabytes."
   ]
  },
  {
   "cell_type": "code",
   "execution_count": null,
   "metadata": {
    "colab": {
     "base_uri": "https://localhost:8080/"
    },
    "id": "-WUFUIQ8Cu8D",
    "outputId": "b0c9b6c6-5fb8-4d61-d28a-be4324be5a5b"
   },
   "outputs": [
    {
     "name": "stdout",
     "output_type": "stream",
     "text": [
      "-rw-r--r-- 1 root root 418M Feb  2 17:10 ./model_save/pytorch_model.bin\n"
     ]
    }
   ],
   "source": [
    "!ls -l --block-size=M ./model_save/pytorch_model.bin"
   ]
  },
  {
   "cell_type": "markdown",
   "metadata": {
    "id": "dzGKvOFAll_e"
   },
   "source": [
    "To save your model across Colab Notebook sessions, download it to your local machine, or ideally copy it to your Google Drive."
   ]
  },
  {
   "cell_type": "code",
   "execution_count": null,
   "metadata": {
    "id": "Trr-A-POC18_"
   },
   "outputs": [],
   "source": [
    "# Mount Google Drive to this Notebook instance.\n",
    "from google.colab import drive\n",
    "    drive.mount('/content/drive')"
   ]
  },
  {
   "cell_type": "code",
   "execution_count": null,
   "metadata": {
    "id": "NxlZsafTC-V5"
   },
   "outputs": [],
   "source": [
    "# Copy the model files to a directory in your Google Drive.\n",
    "!cp -r ./model_save/ \"./drive/Shared drives/ChrisMcCormick.AI/Blog Posts/BERT Fine-Tuning/\""
   ]
  },
  {
   "cell_type": "markdown",
   "metadata": {
    "id": "W0vstijw85SZ"
   },
   "source": [
    "The following functions will load the model back from disk."
   ]
  },
  {
   "cell_type": "code",
   "execution_count": null,
   "metadata": {
    "id": "nskPzUM084zL"
   },
   "outputs": [],
   "source": [
    "# Load a trained model and vocabulary that you have fine-tuned\n",
    "model = model_class.from_pretrained(output_dir)\n",
    "tokenizer = tokenizer_class.from_pretrained(output_dir)\n",
    "\n",
    "# Copy the model to the GPU.\n",
    "model.to(device)"
   ]
  },
  {
   "cell_type": "markdown",
   "metadata": {
    "id": "NIWouvDrGVAi"
   },
   "source": [
    "## A.2. Weight Decay\n",
    "\n"
   ]
  },
  {
   "cell_type": "markdown",
   "metadata": {
    "id": "f123ZAlF1OyW"
   },
   "source": [
    "The huggingface example includes the following code block for enabling weight decay, but the default decay rate is \"0.0\", so I moved this to the appendix.\n",
    "\n",
    "This block essentially tells the optimizer to not apply weight decay to the bias terms (e.g., $ b $ in the equation $ y = Wx + b $ ). Weight decay is a form of regularization--after calculating the gradients, we multiply them by, e.g., 0.99."
   ]
  },
  {
   "cell_type": "code",
   "execution_count": null,
   "metadata": {
    "id": "QxSMw0FrptiL"
   },
   "outputs": [],
   "source": [
    "# This code is taken from:\n",
    "# https://github.com/huggingface/transformers/blob/5bfcd0485ece086ebcbed2d008813037968a9e58/examples/run_glue.py#L102\n",
    "\n",
    "# Don't apply weight decay to any parameters whose names include these tokens.\n",
    "# (Here, the BERT doesn't have `gamma` or `beta` parameters, only `bias` terms)\n",
    "no_decay = ['bias', 'LayerNorm.weight']\n",
    "\n",
    "# Separate the `weight` parameters from the `bias` parameters. \n",
    "# - For the `weight` parameters, this specifies a 'weight_decay_rate' of 0.01. \n",
    "# - For the `bias` parameters, the 'weight_decay_rate' is 0.0. \n",
    "optimizer_grouped_parameters = [\n",
    "    # Filter for all parameters which *don't* include 'bias', 'gamma', 'beta'.\n",
    "    {'params': [p for n, p in param_optimizer if not any(nd in n for nd in no_decay)],\n",
    "     'weight_decay_rate': 0.1},\n",
    "    \n",
    "    # Filter for parameters which *do* include those.\n",
    "    {'params': [p for n, p in param_optimizer if any(nd in n for nd in no_decay)],\n",
    "     'weight_decay_rate': 0.0}\n",
    "]\n",
    "\n",
    "# Note - `optimizer_grouped_parameters` only includes the parameter values, not \n",
    "# the names."
   ]
  }
 ],
 "metadata": {
  "accelerator": "GPU",
  "colab": {
   "collapsed_sections": [],
   "name": "BERT Fine-Tuning Sentence Classification v4.ipynb",
   "provenance": []
  },
  "kernelspec": {
   "display_name": "Python 3",
   "language": "python",
   "name": "python3"
  },
  "language_info": {
   "codemirror_mode": {
    "name": "ipython",
    "version": 3
   },
   "file_extension": ".py",
   "mimetype": "text/x-python",
   "name": "python",
   "nbconvert_exporter": "python",
   "pygments_lexer": "ipython3",
   "version": "3.7.10"
  },
  "widgets": {
   "application/vnd.jupyter.widget-state+json": {
    "0fe5b1d0540240a8a8426352c24b2887": {
     "model_module": "@jupyter-widgets/base",
     "model_name": "LayoutModel",
     "state": {
      "_model_module": "@jupyter-widgets/base",
      "_model_module_version": "1.2.0",
      "_model_name": "LayoutModel",
      "_view_count": null,
      "_view_module": "@jupyter-widgets/base",
      "_view_module_version": "1.2.0",
      "_view_name": "LayoutView",
      "align_content": null,
      "align_items": null,
      "align_self": null,
      "border": null,
      "bottom": null,
      "display": null,
      "flex": null,
      "flex_flow": null,
      "grid_area": null,
      "grid_auto_columns": null,
      "grid_auto_flow": null,
      "grid_auto_rows": null,
      "grid_column": null,
      "grid_gap": null,
      "grid_row": null,
      "grid_template_areas": null,
      "grid_template_columns": null,
      "grid_template_rows": null,
      "height": null,
      "justify_content": null,
      "justify_items": null,
      "left": null,
      "margin": null,
      "max_height": null,
      "max_width": null,
      "min_height": null,
      "min_width": null,
      "object_fit": null,
      "object_position": null,
      "order": null,
      "overflow": null,
      "overflow_x": null,
      "overflow_y": null,
      "padding": null,
      "right": null,
      "top": null,
      "visibility": null,
      "width": null
     }
    },
    "1058e0b5baa248faa60c1ad146d10bf7": {
     "model_module": "@jupyter-widgets/base",
     "model_name": "LayoutModel",
     "state": {
      "_model_module": "@jupyter-widgets/base",
      "_model_module_version": "1.2.0",
      "_model_name": "LayoutModel",
      "_view_count": null,
      "_view_module": "@jupyter-widgets/base",
      "_view_module_version": "1.2.0",
      "_view_name": "LayoutView",
      "align_content": null,
      "align_items": null,
      "align_self": null,
      "border": null,
      "bottom": null,
      "display": null,
      "flex": null,
      "flex_flow": null,
      "grid_area": null,
      "grid_auto_columns": null,
      "grid_auto_flow": null,
      "grid_auto_rows": null,
      "grid_column": null,
      "grid_gap": null,
      "grid_row": null,
      "grid_template_areas": null,
      "grid_template_columns": null,
      "grid_template_rows": null,
      "height": null,
      "justify_content": null,
      "justify_items": null,
      "left": null,
      "margin": null,
      "max_height": null,
      "max_width": null,
      "min_height": null,
      "min_width": null,
      "object_fit": null,
      "object_position": null,
      "order": null,
      "overflow": null,
      "overflow_x": null,
      "overflow_y": null,
      "padding": null,
      "right": null,
      "top": null,
      "visibility": null,
      "width": null
     }
    },
    "1296a3d754b344a482a03e5af84e805e": {
     "model_module": "@jupyter-widgets/controls",
     "model_name": "FloatProgressModel",
     "state": {
      "_dom_classes": [],
      "_model_module": "@jupyter-widgets/controls",
      "_model_module_version": "1.5.0",
      "_model_name": "FloatProgressModel",
      "_view_count": null,
      "_view_module": "@jupyter-widgets/controls",
      "_view_module_version": "1.5.0",
      "_view_name": "ProgressView",
      "bar_style": "success",
      "description": "Downloading: 100%",
      "description_tooltip": null,
      "layout": "IPY_MODEL_f8874fec8a404ae89a38fd2ecbb357cf",
      "max": 433,
      "min": 0,
      "orientation": "horizontal",
      "style": "IPY_MODEL_2755b9838bae408ca8cf667ad9d501fc",
      "value": 433
     }
    },
    "1c2b0ede959142fc89bf07a9c88df638": {
     "model_module": "@jupyter-widgets/base",
     "model_name": "LayoutModel",
     "state": {
      "_model_module": "@jupyter-widgets/base",
      "_model_module_version": "1.2.0",
      "_model_name": "LayoutModel",
      "_view_count": null,
      "_view_module": "@jupyter-widgets/base",
      "_view_module_version": "1.2.0",
      "_view_name": "LayoutView",
      "align_content": null,
      "align_items": null,
      "align_self": null,
      "border": null,
      "bottom": null,
      "display": null,
      "flex": null,
      "flex_flow": null,
      "grid_area": null,
      "grid_auto_columns": null,
      "grid_auto_flow": null,
      "grid_auto_rows": null,
      "grid_column": null,
      "grid_gap": null,
      "grid_row": null,
      "grid_template_areas": null,
      "grid_template_columns": null,
      "grid_template_rows": null,
      "height": null,
      "justify_content": null,
      "justify_items": null,
      "left": null,
      "margin": null,
      "max_height": null,
      "max_width": null,
      "min_height": null,
      "min_width": null,
      "object_fit": null,
      "object_position": null,
      "order": null,
      "overflow": null,
      "overflow_x": null,
      "overflow_y": null,
      "padding": null,
      "right": null,
      "top": null,
      "visibility": null,
      "width": null
     }
    },
    "23ca9359e6c44232a1346e6f2ab7e48c": {
     "model_module": "@jupyter-widgets/controls",
     "model_name": "FloatProgressModel",
     "state": {
      "_dom_classes": [],
      "_model_module": "@jupyter-widgets/controls",
      "_model_module_version": "1.5.0",
      "_model_name": "FloatProgressModel",
      "_view_count": null,
      "_view_module": "@jupyter-widgets/controls",
      "_view_module_version": "1.5.0",
      "_view_name": "ProgressView",
      "bar_style": "success",
      "description": "Downloading: 100%",
      "description_tooltip": null,
      "layout": "IPY_MODEL_0fe5b1d0540240a8a8426352c24b2887",
      "max": 440473133,
      "min": 0,
      "orientation": "horizontal",
      "style": "IPY_MODEL_6c7dec7b1e804c2195f6e60fb3c1d18e",
      "value": 440473133
     }
    },
    "2755b9838bae408ca8cf667ad9d501fc": {
     "model_module": "@jupyter-widgets/controls",
     "model_name": "ProgressStyleModel",
     "state": {
      "_model_module": "@jupyter-widgets/controls",
      "_model_module_version": "1.5.0",
      "_model_name": "ProgressStyleModel",
      "_view_count": null,
      "_view_module": "@jupyter-widgets/base",
      "_view_module_version": "1.2.0",
      "_view_name": "StyleView",
      "bar_color": null,
      "description_width": "initial"
     }
    },
    "375cc635389c4ddb9bf2aa443df58bae": {
     "model_module": "@jupyter-widgets/controls",
     "model_name": "DescriptionStyleModel",
     "state": {
      "_model_module": "@jupyter-widgets/controls",
      "_model_module_version": "1.5.0",
      "_model_name": "DescriptionStyleModel",
      "_view_count": null,
      "_view_module": "@jupyter-widgets/base",
      "_view_module_version": "1.2.0",
      "_view_name": "StyleView",
      "description_width": ""
     }
    },
    "440da34c72344cb08e4a1ee5de7049ee": {
     "model_module": "@jupyter-widgets/base",
     "model_name": "LayoutModel",
     "state": {
      "_model_module": "@jupyter-widgets/base",
      "_model_module_version": "1.2.0",
      "_model_name": "LayoutModel",
      "_view_count": null,
      "_view_module": "@jupyter-widgets/base",
      "_view_module_version": "1.2.0",
      "_view_name": "LayoutView",
      "align_content": null,
      "align_items": null,
      "align_self": null,
      "border": null,
      "bottom": null,
      "display": null,
      "flex": null,
      "flex_flow": null,
      "grid_area": null,
      "grid_auto_columns": null,
      "grid_auto_flow": null,
      "grid_auto_rows": null,
      "grid_column": null,
      "grid_gap": null,
      "grid_row": null,
      "grid_template_areas": null,
      "grid_template_columns": null,
      "grid_template_rows": null,
      "height": null,
      "justify_content": null,
      "justify_items": null,
      "left": null,
      "margin": null,
      "max_height": null,
      "max_width": null,
      "min_height": null,
      "min_width": null,
      "object_fit": null,
      "object_position": null,
      "order": null,
      "overflow": null,
      "overflow_x": null,
      "overflow_y": null,
      "padding": null,
      "right": null,
      "top": null,
      "visibility": null,
      "width": null
     }
    },
    "472198d5b6a748b3a81f9364fd1fa711": {
     "model_module": "@jupyter-widgets/base",
     "model_name": "LayoutModel",
     "state": {
      "_model_module": "@jupyter-widgets/base",
      "_model_module_version": "1.2.0",
      "_model_name": "LayoutModel",
      "_view_count": null,
      "_view_module": "@jupyter-widgets/base",
      "_view_module_version": "1.2.0",
      "_view_name": "LayoutView",
      "align_content": null,
      "align_items": null,
      "align_self": null,
      "border": null,
      "bottom": null,
      "display": null,
      "flex": null,
      "flex_flow": null,
      "grid_area": null,
      "grid_auto_columns": null,
      "grid_auto_flow": null,
      "grid_auto_rows": null,
      "grid_column": null,
      "grid_gap": null,
      "grid_row": null,
      "grid_template_areas": null,
      "grid_template_columns": null,
      "grid_template_rows": null,
      "height": null,
      "justify_content": null,
      "justify_items": null,
      "left": null,
      "margin": null,
      "max_height": null,
      "max_width": null,
      "min_height": null,
      "min_width": null,
      "object_fit": null,
      "object_position": null,
      "order": null,
      "overflow": null,
      "overflow_x": null,
      "overflow_y": null,
      "padding": null,
      "right": null,
      "top": null,
      "visibility": null,
      "width": null
     }
    },
    "4b1e27aff6f04fec8268d951e46b1e63": {
     "model_module": "@jupyter-widgets/controls",
     "model_name": "DescriptionStyleModel",
     "state": {
      "_model_module": "@jupyter-widgets/controls",
      "_model_module_version": "1.5.0",
      "_model_name": "DescriptionStyleModel",
      "_view_count": null,
      "_view_module": "@jupyter-widgets/base",
      "_view_module_version": "1.2.0",
      "_view_name": "StyleView",
      "description_width": ""
     }
    },
    "6c7dec7b1e804c2195f6e60fb3c1d18e": {
     "model_module": "@jupyter-widgets/controls",
     "model_name": "ProgressStyleModel",
     "state": {
      "_model_module": "@jupyter-widgets/controls",
      "_model_module_version": "1.5.0",
      "_model_name": "ProgressStyleModel",
      "_view_count": null,
      "_view_module": "@jupyter-widgets/base",
      "_view_module_version": "1.2.0",
      "_view_name": "StyleView",
      "bar_color": null,
      "description_width": "initial"
     }
    },
    "6f132d7bb83d41b6847df0d0ec0a1b92": {
     "model_module": "@jupyter-widgets/controls",
     "model_name": "HTMLModel",
     "state": {
      "_dom_classes": [],
      "_model_module": "@jupyter-widgets/controls",
      "_model_module_version": "1.5.0",
      "_model_name": "HTMLModel",
      "_view_count": null,
      "_view_module": "@jupyter-widgets/controls",
      "_view_module_version": "1.5.0",
      "_view_name": "HTMLView",
      "description": "",
      "description_tooltip": null,
      "layout": "IPY_MODEL_978c24b18b594eaf8ca47730a88eefb9",
      "placeholder": "​",
      "style": "IPY_MODEL_a7bdbedc75de4f77b45f1389c2ea0abc",
      "value": " 433/433 [00:00&lt;00:00, 2.02kB/s]"
     }
    },
    "82ddfcea0e4c4e5a86cf6eca8585be8d": {
     "model_module": "@jupyter-widgets/controls",
     "model_name": "HBoxModel",
     "state": {
      "_dom_classes": [],
      "_model_module": "@jupyter-widgets/controls",
      "_model_module_version": "1.5.0",
      "_model_name": "HBoxModel",
      "_view_count": null,
      "_view_module": "@jupyter-widgets/controls",
      "_view_module_version": "1.5.0",
      "_view_name": "HBoxView",
      "box_style": "",
      "children": [
       "IPY_MODEL_8c76faadf2f4415393c6f0a805f0d72b",
       "IPY_MODEL_e0bb735fda99434a90380e7fc664212d"
      ],
      "layout": "IPY_MODEL_8a256ba4a19e4ec98fe3c3c99fba4daa"
     }
    },
    "8a256ba4a19e4ec98fe3c3c99fba4daa": {
     "model_module": "@jupyter-widgets/base",
     "model_name": "LayoutModel",
     "state": {
      "_model_module": "@jupyter-widgets/base",
      "_model_module_version": "1.2.0",
      "_model_name": "LayoutModel",
      "_view_count": null,
      "_view_module": "@jupyter-widgets/base",
      "_view_module_version": "1.2.0",
      "_view_name": "LayoutView",
      "align_content": null,
      "align_items": null,
      "align_self": null,
      "border": null,
      "bottom": null,
      "display": null,
      "flex": null,
      "flex_flow": null,
      "grid_area": null,
      "grid_auto_columns": null,
      "grid_auto_flow": null,
      "grid_auto_rows": null,
      "grid_column": null,
      "grid_gap": null,
      "grid_row": null,
      "grid_template_areas": null,
      "grid_template_columns": null,
      "grid_template_rows": null,
      "height": null,
      "justify_content": null,
      "justify_items": null,
      "left": null,
      "margin": null,
      "max_height": null,
      "max_width": null,
      "min_height": null,
      "min_width": null,
      "object_fit": null,
      "object_position": null,
      "order": null,
      "overflow": null,
      "overflow_x": null,
      "overflow_y": null,
      "padding": null,
      "right": null,
      "top": null,
      "visibility": null,
      "width": null
     }
    },
    "8c76faadf2f4415393c6f0a805f0d72b": {
     "model_module": "@jupyter-widgets/controls",
     "model_name": "FloatProgressModel",
     "state": {
      "_dom_classes": [],
      "_model_module": "@jupyter-widgets/controls",
      "_model_module_version": "1.5.0",
      "_model_name": "FloatProgressModel",
      "_view_count": null,
      "_view_module": "@jupyter-widgets/controls",
      "_view_module_version": "1.5.0",
      "_view_name": "ProgressView",
      "bar_style": "success",
      "description": "Downloading: 100%",
      "description_tooltip": null,
      "layout": "IPY_MODEL_1058e0b5baa248faa60c1ad146d10bf7",
      "max": 231508,
      "min": 0,
      "orientation": "horizontal",
      "style": "IPY_MODEL_cdb78e75309f4bc09366533331e72431",
      "value": 231508
     }
    },
    "978c24b18b594eaf8ca47730a88eefb9": {
     "model_module": "@jupyter-widgets/base",
     "model_name": "LayoutModel",
     "state": {
      "_model_module": "@jupyter-widgets/base",
      "_model_module_version": "1.2.0",
      "_model_name": "LayoutModel",
      "_view_count": null,
      "_view_module": "@jupyter-widgets/base",
      "_view_module_version": "1.2.0",
      "_view_name": "LayoutView",
      "align_content": null,
      "align_items": null,
      "align_self": null,
      "border": null,
      "bottom": null,
      "display": null,
      "flex": null,
      "flex_flow": null,
      "grid_area": null,
      "grid_auto_columns": null,
      "grid_auto_flow": null,
      "grid_auto_rows": null,
      "grid_column": null,
      "grid_gap": null,
      "grid_row": null,
      "grid_template_areas": null,
      "grid_template_columns": null,
      "grid_template_rows": null,
      "height": null,
      "justify_content": null,
      "justify_items": null,
      "left": null,
      "margin": null,
      "max_height": null,
      "max_width": null,
      "min_height": null,
      "min_width": null,
      "object_fit": null,
      "object_position": null,
      "order": null,
      "overflow": null,
      "overflow_x": null,
      "overflow_y": null,
      "padding": null,
      "right": null,
      "top": null,
      "visibility": null,
      "width": null
     }
    },
    "a7bdbedc75de4f77b45f1389c2ea0abc": {
     "model_module": "@jupyter-widgets/controls",
     "model_name": "DescriptionStyleModel",
     "state": {
      "_model_module": "@jupyter-widgets/controls",
      "_model_module_version": "1.5.0",
      "_model_name": "DescriptionStyleModel",
      "_view_count": null,
      "_view_module": "@jupyter-widgets/base",
      "_view_module_version": "1.2.0",
      "_view_name": "StyleView",
      "description_width": ""
     }
    },
    "bf9dfa1ff3e642fbb74c5146d21044c2": {
     "model_module": "@jupyter-widgets/controls",
     "model_name": "HBoxModel",
     "state": {
      "_dom_classes": [],
      "_model_module": "@jupyter-widgets/controls",
      "_model_module_version": "1.5.0",
      "_model_name": "HBoxModel",
      "_view_count": null,
      "_view_module": "@jupyter-widgets/controls",
      "_view_module_version": "1.5.0",
      "_view_name": "HBoxView",
      "box_style": "",
      "children": [
       "IPY_MODEL_1296a3d754b344a482a03e5af84e805e",
       "IPY_MODEL_6f132d7bb83d41b6847df0d0ec0a1b92"
      ],
      "layout": "IPY_MODEL_1c2b0ede959142fc89bf07a9c88df638"
     }
    },
    "cdb78e75309f4bc09366533331e72431": {
     "model_module": "@jupyter-widgets/controls",
     "model_name": "ProgressStyleModel",
     "state": {
      "_model_module": "@jupyter-widgets/controls",
      "_model_module_version": "1.5.0",
      "_model_name": "ProgressStyleModel",
      "_view_count": null,
      "_view_module": "@jupyter-widgets/base",
      "_view_module_version": "1.2.0",
      "_view_name": "StyleView",
      "bar_color": null,
      "description_width": "initial"
     }
    },
    "cea84f9c3db641acb98314028b305514": {
     "model_module": "@jupyter-widgets/base",
     "model_name": "LayoutModel",
     "state": {
      "_model_module": "@jupyter-widgets/base",
      "_model_module_version": "1.2.0",
      "_model_name": "LayoutModel",
      "_view_count": null,
      "_view_module": "@jupyter-widgets/base",
      "_view_module_version": "1.2.0",
      "_view_name": "LayoutView",
      "align_content": null,
      "align_items": null,
      "align_self": null,
      "border": null,
      "bottom": null,
      "display": null,
      "flex": null,
      "flex_flow": null,
      "grid_area": null,
      "grid_auto_columns": null,
      "grid_auto_flow": null,
      "grid_auto_rows": null,
      "grid_column": null,
      "grid_gap": null,
      "grid_row": null,
      "grid_template_areas": null,
      "grid_template_columns": null,
      "grid_template_rows": null,
      "height": null,
      "justify_content": null,
      "justify_items": null,
      "left": null,
      "margin": null,
      "max_height": null,
      "max_width": null,
      "min_height": null,
      "min_width": null,
      "object_fit": null,
      "object_position": null,
      "order": null,
      "overflow": null,
      "overflow_x": null,
      "overflow_y": null,
      "padding": null,
      "right": null,
      "top": null,
      "visibility": null,
      "width": null
     }
    },
    "d689bc8d488a4dc09c393b4fc9747bcb": {
     "model_module": "@jupyter-widgets/controls",
     "model_name": "HTMLModel",
     "state": {
      "_dom_classes": [],
      "_model_module": "@jupyter-widgets/controls",
      "_model_module_version": "1.5.0",
      "_model_name": "HTMLModel",
      "_view_count": null,
      "_view_module": "@jupyter-widgets/controls",
      "_view_module_version": "1.5.0",
      "_view_name": "HTMLView",
      "description": "",
      "description_tooltip": null,
      "layout": "IPY_MODEL_440da34c72344cb08e4a1ee5de7049ee",
      "placeholder": "​",
      "style": "IPY_MODEL_4b1e27aff6f04fec8268d951e46b1e63",
      "value": " 440M/440M [00:07&lt;00:00, 55.5MB/s]"
     }
    },
    "e0bb735fda99434a90380e7fc664212d": {
     "model_module": "@jupyter-widgets/controls",
     "model_name": "HTMLModel",
     "state": {
      "_dom_classes": [],
      "_model_module": "@jupyter-widgets/controls",
      "_model_module_version": "1.5.0",
      "_model_name": "HTMLModel",
      "_view_count": null,
      "_view_module": "@jupyter-widgets/controls",
      "_view_module_version": "1.5.0",
      "_view_name": "HTMLView",
      "description": "",
      "description_tooltip": null,
      "layout": "IPY_MODEL_472198d5b6a748b3a81f9364fd1fa711",
      "placeholder": "​",
      "style": "IPY_MODEL_375cc635389c4ddb9bf2aa443df58bae",
      "value": " 232k/232k [00:00&lt;00:00, 616kB/s]"
     }
    },
    "f8874fec8a404ae89a38fd2ecbb357cf": {
     "model_module": "@jupyter-widgets/base",
     "model_name": "LayoutModel",
     "state": {
      "_model_module": "@jupyter-widgets/base",
      "_model_module_version": "1.2.0",
      "_model_name": "LayoutModel",
      "_view_count": null,
      "_view_module": "@jupyter-widgets/base",
      "_view_module_version": "1.2.0",
      "_view_name": "LayoutView",
      "align_content": null,
      "align_items": null,
      "align_self": null,
      "border": null,
      "bottom": null,
      "display": null,
      "flex": null,
      "flex_flow": null,
      "grid_area": null,
      "grid_auto_columns": null,
      "grid_auto_flow": null,
      "grid_auto_rows": null,
      "grid_column": null,
      "grid_gap": null,
      "grid_row": null,
      "grid_template_areas": null,
      "grid_template_columns": null,
      "grid_template_rows": null,
      "height": null,
      "justify_content": null,
      "justify_items": null,
      "left": null,
      "margin": null,
      "max_height": null,
      "max_width": null,
      "min_height": null,
      "min_width": null,
      "object_fit": null,
      "object_position": null,
      "order": null,
      "overflow": null,
      "overflow_x": null,
      "overflow_y": null,
      "padding": null,
      "right": null,
      "top": null,
      "visibility": null,
      "width": null
     }
    },
    "fe254c3bcc08402eb506f0e98f5673a7": {
     "model_module": "@jupyter-widgets/controls",
     "model_name": "HBoxModel",
     "state": {
      "_dom_classes": [],
      "_model_module": "@jupyter-widgets/controls",
      "_model_module_version": "1.5.0",
      "_model_name": "HBoxModel",
      "_view_count": null,
      "_view_module": "@jupyter-widgets/controls",
      "_view_module_version": "1.5.0",
      "_view_name": "HBoxView",
      "box_style": "",
      "children": [
       "IPY_MODEL_23ca9359e6c44232a1346e6f2ab7e48c",
       "IPY_MODEL_d689bc8d488a4dc09c393b4fc9747bcb"
      ],
      "layout": "IPY_MODEL_cea84f9c3db641acb98314028b305514"
     }
    }
   }
  }
 },
 "nbformat": 4,
 "nbformat_minor": 1
}
