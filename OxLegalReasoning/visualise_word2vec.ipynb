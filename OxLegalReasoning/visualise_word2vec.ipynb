{
 "cells": [
  {
   "cell_type": "code",
   "execution_count": 8,
   "id": "b4ceda6b",
   "metadata": {},
   "outputs": [],
   "source": [
    "\n",
    "\n",
    "import torch\n",
    "from torch import nn\n",
    "import gensim\n",
    "import fasttext\n",
    "from gensim.models import FastText\n",
    "import random\n",
    "import operator\n",
    "from nltk.tokenize import word_tokenize\n",
    "import pandas as pd\n",
    "import numpy as np\n",
    "from tqdm import tqdm\n",
    "from sklearn.manifold import TSNE\n",
    "import re\n",
    "import matplotlib.pyplot as plt"
   ]
  },
  {
   "cell_type": "code",
   "execution_count": 2,
   "id": "a3ca2ace",
   "metadata": {},
   "outputs": [],
   "source": [
    "filename = \"../clinicalBERT/word2vec+fastText/word2vec+fastText/word2vec.model\""
   ]
  },
  {
   "cell_type": "code",
   "execution_count": 3,
   "id": "c73f70a8",
   "metadata": {},
   "outputs": [
    {
     "name": "stdout",
     "output_type": "stream",
     "text": [
      "weights vector shape:  torch.Size([44082, 100])\n",
      "embedding tensor shape:  Embedding(44082, 100)\n",
      "length of indices to words:  44082\n"
     ]
    }
   ],
   "source": [
    "model = gensim.models.KeyedVectors.load(f'{filename}')\n",
    "\n",
    "      \n",
    "\n",
    "\n",
    "# load in gensim format\n",
    "weights = model.wv\n",
    "\n",
    "# convert to tensor for pytorch\n",
    "weights = torch.FloatTensor(model.wv.vectors)\n",
    "print(\"weights vector shape: \", weights.shape)\n",
    "\n",
    "# convert to embedding layer\n",
    "embedding = nn.Embedding.from_pretrained(weights)\n",
    "\n",
    "print(\"embedding tensor shape: \", embedding)\n",
    "\n",
    "words = model.wv.index_to_key\n",
    "# get the word2vec dictionary {'word':vector}\n",
    "word2vec = {word: model.wv[word] for word in words}\n",
    "\n",
    "# get the vec2index array - essentially the vector arrays are in the index position corresponding to the word in word2vec\n",
    "index2vec = model.wv[model.wv.index_to_key]\n",
    "\n",
    "# index to words - just a list of words in correct index position\n",
    "\n",
    "index2word = words\n",
    "print(\"length of indices to words: \", len(index2word))\n",
    "\n",
    "\n",
    "\n",
    "key2index = model.wv.key_to_index"
   ]
  },
  {
   "cell_type": "code",
   "execution_count": 4,
   "id": "74f54221",
   "metadata": {},
   "outputs": [],
   "source": [
    "# lets begin by getting the vocab by index and the associated vectors X\n",
    "vocab = list(model.wv.key_to_index)\n",
    "X = model.wv[vocab]"
   ]
  },
  {
   "cell_type": "code",
   "execution_count": 9,
   "id": "79bc944b",
   "metadata": {},
   "outputs": [],
   "source": [
    "# run tsne clustering \n",
    "\n",
    "tsne = TSNE(n_components=2)\n",
    "X_tsne = tsne.fit_transform(X)"
   ]
  },
  {
   "cell_type": "code",
   "execution_count": 13,
   "id": "c89255bc",
   "metadata": {},
   "outputs": [
    {
     "name": "stdout",
     "output_type": "stream",
     "text": [
      "(44082, 2)\n"
     ]
    },
    {
     "data": {
      "text/html": [
       "<div>\n",
       "<style scoped>\n",
       "    .dataframe tbody tr th:only-of-type {\n",
       "        vertical-align: middle;\n",
       "    }\n",
       "\n",
       "    .dataframe tbody tr th {\n",
       "        vertical-align: top;\n",
       "    }\n",
       "\n",
       "    .dataframe thead th {\n",
       "        text-align: right;\n",
       "    }\n",
       "</style>\n",
       "<table border=\"1\" class=\"dataframe\">\n",
       "  <thead>\n",
       "    <tr style=\"text-align: right;\">\n",
       "      <th></th>\n",
       "      <th>x</th>\n",
       "      <th>y</th>\n",
       "    </tr>\n",
       "  </thead>\n",
       "  <tbody>\n",
       "    <tr>\n",
       "      <th>service</th>\n",
       "      <td>21.880339</td>\n",
       "      <td>35.379948</td>\n",
       "    </tr>\n",
       "    <tr>\n",
       "      <th>addendum</th>\n",
       "      <td>20.163639</td>\n",
       "      <td>28.839067</td>\n",
       "    </tr>\n",
       "    <tr>\n",
       "      <th>radiologic</th>\n",
       "      <td>6.948525</td>\n",
       "      <td>-38.753906</td>\n",
       "    </tr>\n",
       "    <tr>\n",
       "      <th>studies</th>\n",
       "      <td>5.716381</td>\n",
       "      <td>-36.339138</td>\n",
       "    </tr>\n",
       "    <tr>\n",
       "      <th>also</th>\n",
       "      <td>9.948288</td>\n",
       "      <td>-24.761162</td>\n",
       "    </tr>\n",
       "  </tbody>\n",
       "</table>\n",
       "</div>"
      ],
      "text/plain": [
       "                    x          y\n",
       "service     21.880339  35.379948\n",
       "addendum    20.163639  28.839067\n",
       "radiologic   6.948525 -38.753906\n",
       "studies      5.716381 -36.339138\n",
       "also         9.948288 -24.761162"
      ]
     },
     "execution_count": 13,
     "metadata": {},
     "output_type": "execute_result"
    }
   ],
   "source": [
    "# put into dataframe\n",
    "\n",
    "df = pd.DataFrame(X_tsne, index=vocab, columns=['x', 'y'])\n",
    "print(df.shape)\n",
    "df.head()"
   ]
  },
  {
   "cell_type": "code",
   "execution_count": 29,
   "id": "aab4ed94",
   "metadata": {},
   "outputs": [
    {
     "data": {
      "text/plain": [
       "['hemithorax',\n",
       " 'uaw',\n",
       " 'lobe',\n",
       " 'lll',\n",
       " 'breat',\n",
       " 'brth',\n",
       " 'midlung',\n",
       " 'crackley',\n",
       " 'beath',\n",
       " 'thyroid',\n",
       " 'breast',\n",
       " 'rml',\n",
       " 'deminished',\n",
       " 'hilar',\n",
       " 'airspace',\n",
       " 'infrahilar',\n",
       " 'rul',\n",
       " 'thryoid',\n",
       " 'paramediastinal',\n",
       " 'lingular']"
      ]
     },
     "execution_count": 29,
     "metadata": {},
     "output_type": "execute_result"
    }
   ],
   "source": [
    "#lets get a subset of words similar to lung\n",
    "words_lung = []\n",
    "for item in model.wv.most_similar('lung', topn=20):\n",
    "    words_lung.append(item[0])\n",
    "    \n",
    "words_lung"
   ]
  },
  {
   "cell_type": "code",
   "execution_count": 30,
   "id": "9629a56d",
   "metadata": {},
   "outputs": [
    {
     "data": {
      "text/plain": [
       "['arm',\n",
       " 'hand',\n",
       " 'foot',\n",
       " 'ankle',\n",
       " 'shoulder',\n",
       " 'elbow',\n",
       " 'thigh',\n",
       " 'forearm',\n",
       " 'lle',\n",
       " 'wrist',\n",
       " 'extremity',\n",
       " 'knee',\n",
       " 'calf',\n",
       " 'le',\n",
       " 'thumb',\n",
       " 'legs',\n",
       " 'rle',\n",
       " 'hip',\n",
       " 'heel',\n",
       " 'hallux']"
      ]
     },
     "execution_count": 30,
     "metadata": {},
     "output_type": "execute_result"
    }
   ],
   "source": [
    "# thhen get words related to leg\n",
    "words_leg = []\n",
    "for item in model.wv.most_similar('leg', topn=20):\n",
    "    words_leg.append(item[0])\n",
    "    \n",
    "words_leg"
   ]
  },
  {
   "cell_type": "code",
   "execution_count": 31,
   "id": "007af97c",
   "metadata": {},
   "outputs": [],
   "source": [
    "word_subset = words_lung + words_leg"
   ]
  },
  {
   "cell_type": "code",
   "execution_count": 35,
   "id": "131a2155",
   "metadata": {},
   "outputs": [
    {
     "data": {
      "text/plain": [
       "['hemithorax',\n",
       " 'uaw',\n",
       " 'lobe',\n",
       " 'lll',\n",
       " 'breat',\n",
       " 'brth',\n",
       " 'midlung',\n",
       " 'crackley',\n",
       " 'beath',\n",
       " 'thyroid',\n",
       " 'breast',\n",
       " 'rml',\n",
       " 'deminished',\n",
       " 'hilar',\n",
       " 'airspace',\n",
       " 'infrahilar',\n",
       " 'rul',\n",
       " 'thryoid',\n",
       " 'paramediastinal',\n",
       " 'lingular',\n",
       " 'arm',\n",
       " 'hand',\n",
       " 'foot',\n",
       " 'ankle',\n",
       " 'shoulder',\n",
       " 'elbow',\n",
       " 'thigh',\n",
       " 'forearm',\n",
       " 'lle',\n",
       " 'wrist',\n",
       " 'extremity',\n",
       " 'knee',\n",
       " 'calf',\n",
       " 'le',\n",
       " 'thumb',\n",
       " 'legs',\n",
       " 'rle',\n",
       " 'hip',\n",
       " 'heel',\n",
       " 'hallux']"
      ]
     },
     "execution_count": 35,
     "metadata": {},
     "output_type": "execute_result"
    }
   ],
   "source": [
    "word_subset"
   ]
  },
  {
   "cell_type": "code",
   "execution_count": 38,
   "id": "bef2384e",
   "metadata": {},
   "outputs": [
    {
     "data": {
      "text/plain": [
       "(40, 2)"
      ]
     },
     "execution_count": 38,
     "metadata": {},
     "output_type": "execute_result"
    }
   ],
   "source": [
    "#subset these 40 words\n",
    "subset_df = df.loc[word_subset]\n",
    "subset_df.shape"
   ]
  },
  {
   "cell_type": "code",
   "execution_count": 40,
   "id": "7492f6b8",
   "metadata": {},
   "outputs": [
    {
     "data": {
      "image/png": "[encoded data removed]",
      "text/plain": [
       "<Figure size 1080x720 with 1 Axes>"
      ]
     },
     "metadata": {
      "needs_background": "light"
     },
     "output_type": "display_data"
    }
   ],
   "source": [
    "#  build scatter\n",
    "\n",
    "fig = plt.figure(figsize=(15,10))\n",
    "ax = fig.add_subplot(1, 1, 1)\n",
    "\n",
    "ax.scatter(subset_df['x'], subset_df['y'])\n",
    "for word, pos in subset_df.iterrows():\n",
    "    ax.annotate(word, pos)\n",
    "    \n",
    "plt.show()"
   ]
  }
 ],
 "metadata": {
  "kernelspec": {
   "display_name": "Python 3",
   "language": "python",
   "name": "python3"
  },
  "language_info": {
   "codemirror_mode": {
    "name": "ipython",
    "version": 3
   },
   "file_extension": ".py",
   "mimetype": "text/x-python",
   "name": "python",
   "nbconvert_exporter": "python",
   "pygments_lexer": "ipython3",
   "version": "3.7.10"
  }
 },
 "nbformat": 4,
 "nbformat_minor": 5
}
