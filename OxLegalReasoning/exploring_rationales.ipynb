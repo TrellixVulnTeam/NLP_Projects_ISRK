{
 "cells": [
  {
   "cell_type": "code",
   "execution_count": 138,
   "id": "bed2471e",
   "metadata": {},
   "outputs": [],
   "source": [
    "import numpy as np\n",
    "import pandas as pd\n",
    "import matplotlib.pyplot as plt\n",
    "import seaborn as sns\n",
    "import string\n",
    "import nltk\n",
    "import ast\n",
    "# from curtsies.fmtfuncs import red, bold, green, on_blue, yellow"
   ]
  },
  {
   "cell_type": "code",
   "execution_count": 69,
   "id": "ed36dac9",
   "metadata": {},
   "outputs": [
    {
     "data": {
      "text/html": [
       "<div>\n",
       "<style scoped>\n",
       "    .dataframe tbody tr th:only-of-type {\n",
       "        vertical-align: middle;\n",
       "    }\n",
       "\n",
       "    .dataframe tbody tr th {\n",
       "        vertical-align: top;\n",
       "    }\n",
       "\n",
       "    .dataframe thead th {\n",
       "        text-align: right;\n",
       "    }\n",
       "</style>\n",
       "<table border=\"1\" class=\"dataframe\">\n",
       "  <thead>\n",
       "    <tr style=\"text-align: right;\">\n",
       "      <th></th>\n",
       "      <th>raw_sentence</th>\n",
       "      <th>chosen_words</th>\n",
       "      <th>words_not_chosen</th>\n",
       "      <th>predicted_label</th>\n",
       "      <th>true_label</th>\n",
       "      <th>enq_seq_chosen</th>\n",
       "      <th>enq_seq_not_chosen</th>\n",
       "    </tr>\n",
       "  </thead>\n",
       "  <tbody>\n",
       "    <tr>\n",
       "      <th>0</th>\n",
       "      <td>['date', 'of', 'birth', 'sex', 'f', 'service',...</td>\n",
       "      <td>['UNK', 'haldol', 'bp', 'UNK', 'UNK', 'UNK', '...</td>\n",
       "      <td>['date', 'of', 'birth', 'sex', 'service', 'med...</td>\n",
       "      <td>0</td>\n",
       "      <td>1</td>\n",
       "      <td>[3, 1658, 94, 3, 3, 3, 3, 3, 3, 3, 8, 3, 3, 3,...</td>\n",
       "      <td>[115, 8, 438, 487, 211, 670, 146, 475, 278, 26...</td>\n",
       "    </tr>\n",
       "    <tr>\n",
       "      <th>0</th>\n",
       "      <td>['pneumonia', 'echo', 'the', 'left', 'atrium',...</td>\n",
       "      <td>['at', 'UNK', 'UNK', 'UNK', 'UNK', 'UNK', 'glu...</td>\n",
       "      <td>['pneumonia', 'echo', 'the', 'left', 'atrium',...</td>\n",
       "      <td>0</td>\n",
       "      <td>1</td>\n",
       "      <td>[19, 3, 3, 3, 3, 3, 149, 3, 238, 3, 526, 3, 58...</td>\n",
       "      <td>[335, 329, 5, 18, 126, 14, 21, 12, 82, 18, 44,...</td>\n",
       "    </tr>\n",
       "    <tr>\n",
       "      <th>0</th>\n",
       "      <td>['may', 'recommend', 'lisinopril', 'low', 'dos...</td>\n",
       "      <td>['may', 'recommend', 'lisinopril', 'dose', 'as...</td>\n",
       "      <td>['low', 'an', 'outpatient', 'follow', 'up', 'i...</td>\n",
       "      <td>0</td>\n",
       "      <td>1</td>\n",
       "      <td>[219, 1667, 696, 151, 22, 7, 3848, 3, 24, 442,...</td>\n",
       "      <td>[161, 70, 499, 121, 93, 12, 3, 1045, 9, 1050, ...</td>\n",
       "    </tr>\n",
       "    <tr>\n",
       "      <th>0</th>\n",
       "      <td>['should', 'develop', 'any', 'chest', 'pain', ...</td>\n",
       "      <td>['UNK']</td>\n",
       "      <td>['should', 'develop', 'any', 'chest', 'pain', ...</td>\n",
       "      <td>0</td>\n",
       "      <td>1</td>\n",
       "      <td>[3]</td>\n",
       "      <td>[342, 2306, 185, 81, 43, 557, 8, 275, 444, 613...</td>\n",
       "    </tr>\n",
       "    <tr>\n",
       "      <th>0</th>\n",
       "      <td>['date', 'of', 'birth', 'sex', 'f', 'service',...</td>\n",
       "      <td>['UNK', 'penicillins', 'with', 'solu', 'UNK', ...</td>\n",
       "      <td>['date', 'of', 'birth', 'sex', 'service', 'med...</td>\n",
       "      <td>1</td>\n",
       "      <td>1</td>\n",
       "      <td>[3, 1475, 9, 5506, 3, 3, 7, 2325, 3, 3, 3, 94,...</td>\n",
       "      <td>[115, 8, 438, 487, 211, 670, 146, 1460, 475, 2...</td>\n",
       "    </tr>\n",
       "  </tbody>\n",
       "</table>\n",
       "</div>"
      ],
      "text/plain": [
       "                                        raw_sentence  \\\n",
       "0  ['date', 'of', 'birth', 'sex', 'f', 'service',...   \n",
       "0  ['pneumonia', 'echo', 'the', 'left', 'atrium',...   \n",
       "0  ['may', 'recommend', 'lisinopril', 'low', 'dos...   \n",
       "0  ['should', 'develop', 'any', 'chest', 'pain', ...   \n",
       "0  ['date', 'of', 'birth', 'sex', 'f', 'service',...   \n",
       "\n",
       "                                        chosen_words  \\\n",
       "0  ['UNK', 'haldol', 'bp', 'UNK', 'UNK', 'UNK', '...   \n",
       "0  ['at', 'UNK', 'UNK', 'UNK', 'UNK', 'UNK', 'glu...   \n",
       "0  ['may', 'recommend', 'lisinopril', 'dose', 'as...   \n",
       "0                                            ['UNK']   \n",
       "0  ['UNK', 'penicillins', 'with', 'solu', 'UNK', ...   \n",
       "\n",
       "                                    words_not_chosen  predicted_label  \\\n",
       "0  ['date', 'of', 'birth', 'sex', 'service', 'med...                0   \n",
       "0  ['pneumonia', 'echo', 'the', 'left', 'atrium',...                0   \n",
       "0  ['low', 'an', 'outpatient', 'follow', 'up', 'i...                0   \n",
       "0  ['should', 'develop', 'any', 'chest', 'pain', ...                0   \n",
       "0  ['date', 'of', 'birth', 'sex', 'service', 'med...                1   \n",
       "\n",
       "   true_label                                     enq_seq_chosen  \\\n",
       "0           1  [3, 1658, 94, 3, 3, 3, 3, 3, 3, 3, 8, 3, 3, 3,...   \n",
       "0           1  [19, 3, 3, 3, 3, 3, 149, 3, 238, 3, 526, 3, 58...   \n",
       "0           1  [219, 1667, 696, 151, 22, 7, 3848, 3, 24, 442,...   \n",
       "0           1                                                [3]   \n",
       "0           1  [3, 1475, 9, 5506, 3, 3, 7, 2325, 3, 3, 3, 94,...   \n",
       "\n",
       "                                  enq_seq_not_chosen  \n",
       "0  [115, 8, 438, 487, 211, 670, 146, 475, 278, 26...  \n",
       "0  [335, 329, 5, 18, 126, 14, 21, 12, 82, 18, 44,...  \n",
       "0  [161, 70, 499, 121, 93, 12, 3, 1045, 9, 1050, ...  \n",
       "0  [342, 2306, 185, 81, 43, 557, 8, 275, 444, 613...  \n",
       "0  [115, 8, 438, 487, 211, 670, 146, 1460, 475, 2...  "
      ]
     },
     "execution_count": 69,
     "metadata": {},
     "output_type": "execute_result"
    }
   ],
   "source": [
    "# read in rationales dataframe\n",
    "rationales_df = pd.read_csv(\"./artifacts/RCNN_IB_GAN_be_mimic3_org_embs2021-05-12/batch_all_chosen_words.csv\", index_col=0)\n",
    "rationales_df.head()"
   ]
  },
  {
   "cell_type": "code",
   "execution_count": 73,
   "id": "322272e3",
   "metadata": {},
   "outputs": [],
   "source": [
    "# convert these weird strings of lists to lists\n",
    "rationales_df['raw_sentence'] = rationales_df['raw_sentence'].apply(ast.literal_eval)\n",
    "rationales_df['chosen_words'] = rationales_df['chosen_words'].apply(ast.literal_eval)\n",
    "rationales_df['words_not_chosen'] = rationales_df['words_not_chosen'].apply(ast.literal_eval)\n",
    "rationales_df['enq_seq_chosen'] = rationales_df['enq_seq_chosen'].apply(ast.literal_eval)\n",
    "rationales_df['enq_seq_not_chosen'] = rationales_df['enq_seq_not_chosen'].apply(ast.literal_eval)"
   ]
  },
  {
   "cell_type": "code",
   "execution_count": null,
   "id": "d83a98ac",
   "metadata": {},
   "outputs": [],
   "source": [
    "def detokenize(tokens):\n",
    "    \"\"\"Slightly cleaner version of joining with spaces.\n",
    "    Args:\n",
    "        tokens (list<string>): the sentence to print\n",
    "    Return:\n",
    "        str: the sentence\n",
    "    \"\"\"\n",
    "    return ''.join([\n",
    "        ' ' + t if not t.startswith('\\'') and\n",
    "                   t not in string.punctuation\n",
    "        else t\n",
    "        for t in tokens]).strip().capitalize()"
   ]
  },
  {
   "cell_type": "code",
   "execution_count": 134,
   "id": "8cc731c4",
   "metadata": {},
   "outputs": [],
   "source": [
    "def print_formatted_words(raw_sentence,chosen_words):\n",
    "    \n",
    "    \n",
    "    '''\n",
    "    Function to combine original raw sentences with the rationales/chosen words from model\n",
    "    \n",
    "    args: raw_sentence - tokenized list\n",
    "          chosen_words - tokenized list\n",
    "          \n",
    "    returns:\n",
    "            a detokenized string with colour formatting added to rationale/chosen words, embedded into raw text\n",
    "    '''\n",
    "    \n",
    "    #get the set of chosen words - do not want repeats\n",
    "    st = set(chosen_words)\n",
    "    \n",
    "\n",
    "#     t = rationales_df.iloc[2]['raw_sentence']\n",
    "    \n",
    "    #iterate over raw sentence and get index of words that appear in chosen words\n",
    "    indices = [i for i, e in enumerate(raw_sentence) if e in st]\n",
    "    # print(len(indices))\n",
    "    # print(indices)\n",
    "\n",
    "    #run back over raw sentence and colourise any chosen words, then reorganise into order of original sentence\n",
    "    formatted_words = []\n",
    "    for i,word in enumerate(raw_sentence):\n",
    "        if i in indices:\n",
    "    #         print('\\033[34m' + word + '\\033[0m')\n",
    "            formatted_words.append('\\033[34m' + word + '\\033[0m')\n",
    "\n",
    "        else:\n",
    "    #         print(word)\n",
    "            formatted_words.append(word)\n",
    "    \n",
    "    formatted_sentence = detokenize(formatted_words)\n",
    "\n",
    "    \n",
    "    print(f\"original sentence:\\n{detokenize(raw_sentence)}\")\n",
    "    print(\"\\n =====================================================================================================\\n\")          \n",
    "    print(formatted_sentence)\n",
    "    \n",
    "#     return formatted_sentence\n",
    "\n",
    "\n",
    "\n"
   ]
  },
  {
   "cell_type": "code",
   "execution_count": 170,
   "id": "3f906efe",
   "metadata": {},
   "outputs": [],
   "source": [
    "# print_formatted_words(rationales_df.iloc[2]['raw_sentence'], rationales_df.iloc[2]['chosen_words'])"
   ]
  },
  {
   "cell_type": "markdown",
   "id": "cffbaf29",
   "metadata": {},
   "source": [
    "## False Positive formatted example - Gets a random sample from dataframe"
   ]
  },
  {
   "cell_type": "code",
   "execution_count": 165,
   "id": "bd428657",
   "metadata": {},
   "outputs": [
    {
     "name": "stdout",
     "output_type": "stream",
     "text": [
      "original sentence:\n",
      "Duration of his stay medications on admission flexeril neurontin insulin discharge medications lactulose 10 gram 15 ml syrup sig forty five 45 ml po tid 3 times a day rifaximin 200 mg tablet sig two 2 tablet po tid 3 times a day thiamine hcl 100 mg tablet sig one 1 tablet po daily daily folic acid 1 mg tablet sig one 1 tablet po daily daily multivitamin tablet sig one 1 tablet po daily daily insulin lispro 100 unit ml solution sig according to sliding scale subcutaneous asdir as directed spironolactone 25 mg tablet sig two 2 tablet po daily daily furosemide 40 mg tablet sig one 1 tablet po daily daily pantoprazole 40 mg recon soln sig one 1 recon soln intravenous q12h every 12 hours discharge disposition extended care discharge diagnosis primary esophageal variceal bleed hepatic encephalopathy alcoholic hcv cirrhosis secondary alcoholism diabetes mellitus discharge condition mental status confused sometimes has not been able to state date correctly but oriented to person place level of consciousness alert and interactive activity status ambulatory pt consult has recommended walking with supervision until discharged home to prevent falls discharge instructions you were transferred to the medical intensive care unit at after efforts to stop massive bleeding from esophageal varices were unsuccessful at hospital you underwent a procedure called tips placement which allowed the bleeding to stop you received transfusion of two units of red blood cells while you were here and your blood levels stabilized your breathing tube was removed the following day after one week you were transferred out of the icu to the liver service initially you were very sleepy and confused but you steadily became more clear headed at your request we have arranged for you to be transferred back to please note that it is extremely important that you stop drinking alcohol even a small amount will be very dangerous\n",
      "\n",
      " =====================================================================================================\n",
      "\n",
      "Duration of his stay \u001b[34mmedications\u001b[0m \u001b[34mon\u001b[0m admission \u001b[34mflexeril\u001b[0m \u001b[34mneurontin\u001b[0m \u001b[34minsulin\u001b[0m \u001b[34mdischarge\u001b[0m \u001b[34mmedications\u001b[0m \u001b[34mlactulose\u001b[0m 10 \u001b[34mgram\u001b[0m 15 \u001b[34mml\u001b[0m \u001b[34msyrup\u001b[0m \u001b[34msig\u001b[0m \u001b[34mforty\u001b[0m \u001b[34mfive\u001b[0m 45 \u001b[34mml\u001b[0m \u001b[34mpo\u001b[0m \u001b[34mtid\u001b[0m 3 \u001b[34mtimes\u001b[0m a day \u001b[34mrifaximin\u001b[0m 200 \u001b[34mmg\u001b[0m \u001b[34mtablet\u001b[0m \u001b[34msig\u001b[0m \u001b[34mtwo\u001b[0m 2 \u001b[34mtablet\u001b[0m \u001b[34mpo\u001b[0m \u001b[34mtid\u001b[0m 3 \u001b[34mtimes\u001b[0m a day \u001b[34mthiamine\u001b[0m \u001b[34mhcl\u001b[0m 100 \u001b[34mmg\u001b[0m \u001b[34mtablet\u001b[0m \u001b[34msig\u001b[0m \u001b[34mone\u001b[0m 1 \u001b[34mtablet\u001b[0m \u001b[34mpo\u001b[0m \u001b[34mdaily\u001b[0m \u001b[34mdaily\u001b[0m \u001b[34mfolic\u001b[0m \u001b[34macid\u001b[0m 1 \u001b[34mmg\u001b[0m \u001b[34mtablet\u001b[0m \u001b[34msig\u001b[0m \u001b[34mone\u001b[0m 1 \u001b[34mtablet\u001b[0m \u001b[34mpo\u001b[0m \u001b[34mdaily\u001b[0m \u001b[34mdaily\u001b[0m \u001b[34mmultivitamin\u001b[0m \u001b[34mtablet\u001b[0m \u001b[34msig\u001b[0m \u001b[34mone\u001b[0m 1 \u001b[34mtablet\u001b[0m \u001b[34mpo\u001b[0m \u001b[34mdaily\u001b[0m \u001b[34mdaily\u001b[0m \u001b[34minsulin\u001b[0m \u001b[34mlispro\u001b[0m 100 \u001b[34munit\u001b[0m \u001b[34mml\u001b[0m \u001b[34msolution\u001b[0m \u001b[34msig\u001b[0m \u001b[34maccording\u001b[0m \u001b[34mto\u001b[0m \u001b[34msliding\u001b[0m scale \u001b[34msubcutaneous\u001b[0m \u001b[34masdir\u001b[0m \u001b[34mas\u001b[0m \u001b[34mdirected\u001b[0m \u001b[34mspironolactone\u001b[0m 25 \u001b[34mmg\u001b[0m \u001b[34mtablet\u001b[0m \u001b[34msig\u001b[0m \u001b[34mtwo\u001b[0m 2 \u001b[34mtablet\u001b[0m \u001b[34mpo\u001b[0m \u001b[34mdaily\u001b[0m \u001b[34mdaily\u001b[0m \u001b[34mfurosemide\u001b[0m 40 \u001b[34mmg\u001b[0m \u001b[34mtablet\u001b[0m \u001b[34msig\u001b[0m \u001b[34mone\u001b[0m 1 \u001b[34mtablet\u001b[0m \u001b[34mpo\u001b[0m \u001b[34mdaily\u001b[0m \u001b[34mdaily\u001b[0m \u001b[34mpantoprazole\u001b[0m 40 \u001b[34mmg\u001b[0m \u001b[34mrecon\u001b[0m \u001b[34msoln\u001b[0m \u001b[34msig\u001b[0m \u001b[34mone\u001b[0m 1 \u001b[34mrecon\u001b[0m \u001b[34msoln\u001b[0m \u001b[34mintravenous\u001b[0m q12h \u001b[34mevery\u001b[0m 12 hours \u001b[34mdischarge\u001b[0m disposition extended care \u001b[34mdischarge\u001b[0m diagnosis primary esophageal variceal bleed hepatic encephalopathy alcoholic hcv cirrhosis secondary alcoholism diabetes mellitus \u001b[34mdischarge\u001b[0m condition mental status confused sometimes has not been able \u001b[34mto\u001b[0m state date correctly but oriented \u001b[34mto\u001b[0m person place level of consciousness alert and interactive activity status ambulatory pt consult has recommended walking with supervision until discharged home \u001b[34mto\u001b[0m prevent falls \u001b[34mdischarge\u001b[0m instructions you were transferred \u001b[34mto\u001b[0m the medical intensive care \u001b[34munit\u001b[0m at after efforts \u001b[34mto\u001b[0m stop massive bleeding from esophageal varices were unsuccessful at hospital you underwent a procedure called tips placement which allowed the bleeding \u001b[34mto\u001b[0m stop you received transfusion of \u001b[34mtwo\u001b[0m units of red blood cells while you were here and your blood levels stabilized your breathing tube was removed the following day after \u001b[34mone\u001b[0m week you were transferred out of the icu \u001b[34mto\u001b[0m the liver service initially you were very sleepy and confused but you steadily became more clear headed at your request we have arranged for you \u001b[34mto\u001b[0m be transferred back \u001b[34mto\u001b[0m please note that it is extremely important that you stop drinking alcohol even a small amount \u001b[34mwill\u001b[0m be very dangerous\n"
     ]
    }
   ],
   "source": [
    "# false positive - pred 1 true 0 - get random sample\n",
    "fp_df = rationales_df[(rationales_df[\"true_label\"]==0) & rationales_df[\"predicted_label\"]==1].sample().squeeze(axis = 0)\n",
    "\n",
    "\n",
    "print_formatted_words(fp_df['raw_sentence'], fp_df['chosen_words'])"
   ]
  },
  {
   "cell_type": "markdown",
   "id": "9fa601dd",
   "metadata": {},
   "source": [
    "## False Negative formatted example - Gets a random sample from dataframe"
   ]
  },
  {
   "cell_type": "code",
   "execution_count": 167,
   "id": "8a9e4d00",
   "metadata": {},
   "outputs": [
    {
     "name": "stdout",
     "output_type": "stream",
     "text": [
      "original sentence:\n",
      "Much improved prior to discharge please call your doctor or go to the emergency department if you experience new chest pain pressure squeezing or tightness you develop new or worsening cough shortness of breath or wheezing you are vomiting and cannot keep down fluids or your medications if you are getting dehydrated due to continued vomiting diarrhea or other reasons signs of dehydration include dry mouth rapid heartbeat or feeling dizzy or faint when standing you see blood or dark black material when you vomit or have a bowel movement you experience burning when you urinate have blood in your urine or experience an unusual discharge your pain is not improving within 12 hours or is not under control within 24 hours your pain worsens or changes location you have shaking chills or fever greater than 5 degrees fahrenheit or 38 degrees celsius you develop any other concerning symptoms changes in your medication reconciliation upon admission we added start multivitamin 1 tab by mouth daily start folic acid 1 mg by mouth daily start thiamine 100 mg by mouth daily start acetaminophen 500 mg by mouth every 6 hours as needed for pain or fever maximum of 2 grams daily start pantoprazole 40 mg ec by mouth daily start lasix increased from 10 mg to 20 mg by mouth daily start increased ferrous sulfate from 300 mg by mouth once a day to twice daily start lipase protease amylase 5000 ec by mouth with meals three times a day start spironolactone 25 mg by mouth daily start cefepime 2 grams iv every 12 hours for 10 days total end date start vancomycin 1 gram iv every 12 hours for 10 days total end date start warfarin 5 mg by mouth daily titrate to inr goal of the following medications were discontinued on admission and you\n",
      "\n",
      " =====================================================================================================\n",
      "\n",
      "Much improved prior \u001b[34mto\u001b[0m discharge \u001b[34mplease\u001b[0m call your doctor or go \u001b[34mto\u001b[0m the emergency department if you experience new chest pain pressure squeezing or tightness you develop new or worsening cough shortness \u001b[34mof\u001b[0m breath or wheezing you are vomiting and cannot keep down fluids or your medications if you are getting dehydrated due \u001b[34mto\u001b[0m continued vomiting diarrhea or other reasons signs \u001b[34mof\u001b[0m dehydration include dry \u001b[34mmouth\u001b[0m rapid heartbeat or feeling dizzy or faint when standing you see blood or dark black material when you vomit or have a bowel movement you experience burning when you urinate have blood in your urine or experience an unusual discharge your pain is not improving within 12 hours or is not under control within 24 hours your pain worsens or changes location you have shaking chills or fever greater than 5 degrees fahrenheit or 38 degrees celsius you develop any other concerning symptoms changes in your medication reconciliation upon admission \u001b[34mwe\u001b[0m \u001b[34madded\u001b[0m \u001b[34mstart\u001b[0m \u001b[34mmultivitamin\u001b[0m 1 \u001b[34mtab\u001b[0m \u001b[34mby\u001b[0m \u001b[34mmouth\u001b[0m \u001b[34mdaily\u001b[0m \u001b[34mstart\u001b[0m \u001b[34mfolic\u001b[0m \u001b[34macid\u001b[0m 1 \u001b[34mmg\u001b[0m \u001b[34mby\u001b[0m \u001b[34mmouth\u001b[0m \u001b[34mdaily\u001b[0m \u001b[34mstart\u001b[0m \u001b[34mthiamine\u001b[0m 100 \u001b[34mmg\u001b[0m \u001b[34mby\u001b[0m \u001b[34mmouth\u001b[0m \u001b[34mdaily\u001b[0m \u001b[34mstart\u001b[0m \u001b[34macetaminophen\u001b[0m 500 \u001b[34mmg\u001b[0m \u001b[34mby\u001b[0m \u001b[34mmouth\u001b[0m \u001b[34mevery\u001b[0m 6 hours as needed \u001b[34mfor\u001b[0m pain or fever maximum \u001b[34mof\u001b[0m 2 \u001b[34mgrams\u001b[0m \u001b[34mdaily\u001b[0m \u001b[34mstart\u001b[0m \u001b[34mpantoprazole\u001b[0m 40 \u001b[34mmg\u001b[0m \u001b[34mec\u001b[0m \u001b[34mby\u001b[0m \u001b[34mmouth\u001b[0m \u001b[34mdaily\u001b[0m \u001b[34mstart\u001b[0m \u001b[34mlasix\u001b[0m \u001b[34mincreased\u001b[0m \u001b[34mfrom\u001b[0m 10 \u001b[34mmg\u001b[0m \u001b[34mto\u001b[0m 20 \u001b[34mmg\u001b[0m \u001b[34mby\u001b[0m \u001b[34mmouth\u001b[0m \u001b[34mdaily\u001b[0m \u001b[34mstart\u001b[0m \u001b[34mincreased\u001b[0m \u001b[34mferrous\u001b[0m \u001b[34msulfate\u001b[0m \u001b[34mfrom\u001b[0m 300 \u001b[34mmg\u001b[0m \u001b[34mby\u001b[0m \u001b[34mmouth\u001b[0m \u001b[34monce\u001b[0m a day \u001b[34mto\u001b[0m \u001b[34mtwice\u001b[0m \u001b[34mdaily\u001b[0m \u001b[34mstart\u001b[0m lipase protease \u001b[34mamylase\u001b[0m 5000 \u001b[34mec\u001b[0m \u001b[34mby\u001b[0m \u001b[34mmouth\u001b[0m \u001b[34mwith\u001b[0m \u001b[34mmeals\u001b[0m \u001b[34mthree\u001b[0m times a day \u001b[34mstart\u001b[0m \u001b[34mspironolactone\u001b[0m 25 \u001b[34mmg\u001b[0m \u001b[34mby\u001b[0m \u001b[34mmouth\u001b[0m \u001b[34mdaily\u001b[0m \u001b[34mstart\u001b[0m \u001b[34mcefepime\u001b[0m 2 \u001b[34mgrams\u001b[0m \u001b[34miv\u001b[0m \u001b[34mevery\u001b[0m 12 hours \u001b[34mfor\u001b[0m 10 days total end \u001b[34mdate\u001b[0m \u001b[34mstart\u001b[0m \u001b[34mvancomycin\u001b[0m 1 \u001b[34mgram\u001b[0m \u001b[34miv\u001b[0m \u001b[34mevery\u001b[0m 12 hours \u001b[34mfor\u001b[0m 10 days total end \u001b[34mdate\u001b[0m \u001b[34mstart\u001b[0m \u001b[34mwarfarin\u001b[0m 5 \u001b[34mmg\u001b[0m \u001b[34mby\u001b[0m \u001b[34mmouth\u001b[0m \u001b[34mdaily\u001b[0m titrate \u001b[34mto\u001b[0m inr goal \u001b[34mof\u001b[0m the following medications were discontinued on admission and you\n"
     ]
    }
   ],
   "source": [
    "# false negative - pred 0 true 1\n",
    "\n",
    "fn_df = rationales_df[(rationales_df[\"true_label\"]==1) & rationales_df[\"predicted_label\"]==0].sample().squeeze(axis = 0)\n",
    "\n",
    "\n",
    "print_formatted_words(fn_df['raw_sentence'], fn_df['chosen_words'])"
   ]
  },
  {
   "cell_type": "markdown",
   "id": "18ca0253",
   "metadata": {},
   "source": [
    "## True positive -  gets random sample from dataframe"
   ]
  },
  {
   "cell_type": "code",
   "execution_count": 168,
   "id": "4f3114d2",
   "metadata": {},
   "outputs": [
    {
     "name": "stdout",
     "output_type": "stream",
     "text": [
      "original sentence:\n",
      "For pt s thrombocytopenia included mds hit less likely drug related on lasix pt s anticoagulants plavix aspirin were held no evidence of dic hit antibody is pending renal failure pt was admitted in acute renal failure thought to be secondary to uric acid nephropathy less likely etiology is rhabdomyalysis peak of 1500 resolved with iv hydration and allopurinol cv no active issues pt was ruled out for mi aspirin was held in setting of low plt and increased inr pt was continued on lopressor lipitor isordil amlodipine and lisinopril leg pain initial concern for nerve compression or blastoma however pain resolved without intervention or need for imaging elevated ck unclear etiology ck peaked at ck normalized with iv hydration medications on admission cephalexin 250 mg qid asa 81 mg po qam plavix 75 mg po qd pentoxifylline 800 mg po qam imdur 120 mg po qam lasix 40 mg po bid lipitor 20 mg po qd norvasc 10 mg po qpm atenolol 100 mg po qam lisinopril 10 mg po qam combivent 2 puffs q4h foradil aeorlizer 12 mcg freq albuterol nebulizers prn omeprazole 20 mg po qd trazodone 25 mg po qhs colace garlic discharge medications pantoprazole sodium 40 mg tablet delayed release e c sig one 1 tablet delayed release e c po q24h every 24 hours trazodone 50 mg tablet sig 5 tablet po hs at bedtime as needed ipratropium bromide 02 solution sig one 1 inhalation q6h every 6 hours docusate sodium 100 mg capsule sig one 1 capsule po bid 2 times a day isosorbide mononitrate 60 mg tablet sustained release 24hr sig two 2 tablet sustained release 24hr po daily daily fluticasone propionate 110 mcg actuation aerosol sig two 2 puff inhalation 2 times a day insulin regular human 100 unit ml solution sig one 1 injection asdir as directed albuterol sulfate 083 solution sig one 1 inhalation q2h every\n",
      "\n",
      " =====================================================================================================\n",
      "\n",
      "\u001b[34mfor\u001b[0m pt s thrombocytopenia included mds hit less likely drug related \u001b[34mon\u001b[0m \u001b[34mlasix\u001b[0m pt s anticoagulants \u001b[34mplavix\u001b[0m aspirin were held no evidence of dic hit antibody is pending renal failure pt was admitted in acute renal failure thought \u001b[34mto\u001b[0m be secondary \u001b[34mto\u001b[0m uric acid nephropathy less likely etiology is rhabdomyalysis peak of 1500 resolved \u001b[34mwith\u001b[0m \u001b[34miv\u001b[0m hydration \u001b[34mand\u001b[0m allopurinol cv no active issues pt was ruled out \u001b[34mfor\u001b[0m mi aspirin was held in setting of low plt \u001b[34mand\u001b[0m increased inr pt was continued \u001b[34mon\u001b[0m \u001b[34mlopressor\u001b[0m \u001b[34mlipitor\u001b[0m \u001b[34misordil\u001b[0m \u001b[34mamlodipine\u001b[0m \u001b[34mand\u001b[0m \u001b[34mlisinopril\u001b[0m leg pain initial concern \u001b[34mfor\u001b[0m nerve compression or blastoma however pain resolved without intervention or need \u001b[34mfor\u001b[0m imaging elevated ck unclear etiology ck peaked \u001b[34mat\u001b[0m ck normalized \u001b[34mwith\u001b[0m \u001b[34miv\u001b[0m hydration \u001b[34mmedications\u001b[0m \u001b[34mon\u001b[0m \u001b[34madmission\u001b[0m \u001b[34mcephalexin\u001b[0m 250 \u001b[34mmg\u001b[0m \u001b[34mqid\u001b[0m \u001b[34masa\u001b[0m 81 \u001b[34mmg\u001b[0m \u001b[34mpo\u001b[0m \u001b[34mqam\u001b[0m \u001b[34mplavix\u001b[0m 75 \u001b[34mmg\u001b[0m \u001b[34mpo\u001b[0m \u001b[34mqd\u001b[0m \u001b[34mpentoxifylline\u001b[0m 800 \u001b[34mmg\u001b[0m \u001b[34mpo\u001b[0m \u001b[34mqam\u001b[0m \u001b[34mimdur\u001b[0m 120 \u001b[34mmg\u001b[0m \u001b[34mpo\u001b[0m \u001b[34mqam\u001b[0m \u001b[34mlasix\u001b[0m 40 \u001b[34mmg\u001b[0m \u001b[34mpo\u001b[0m \u001b[34mbid\u001b[0m \u001b[34mlipitor\u001b[0m 20 \u001b[34mmg\u001b[0m \u001b[34mpo\u001b[0m \u001b[34mqd\u001b[0m \u001b[34mnorvasc\u001b[0m 10 \u001b[34mmg\u001b[0m \u001b[34mpo\u001b[0m \u001b[34mqpm\u001b[0m \u001b[34matenolol\u001b[0m 100 \u001b[34mmg\u001b[0m \u001b[34mpo\u001b[0m \u001b[34mqam\u001b[0m \u001b[34mlisinopril\u001b[0m 10 \u001b[34mmg\u001b[0m \u001b[34mpo\u001b[0m \u001b[34mqam\u001b[0m \u001b[34mcombivent\u001b[0m 2 \u001b[34mpuffs\u001b[0m q4h \u001b[34mforadil\u001b[0m aeorlizer 12 \u001b[34mmcg\u001b[0m \u001b[34mfreq\u001b[0m \u001b[34malbuterol\u001b[0m \u001b[34mnebulizers\u001b[0m \u001b[34mprn\u001b[0m \u001b[34momeprazole\u001b[0m 20 \u001b[34mmg\u001b[0m \u001b[34mpo\u001b[0m \u001b[34mqd\u001b[0m \u001b[34mtrazodone\u001b[0m 25 \u001b[34mmg\u001b[0m \u001b[34mpo\u001b[0m \u001b[34mqhs\u001b[0m \u001b[34mcolace\u001b[0m \u001b[34mgarlic\u001b[0m \u001b[34mdischarge\u001b[0m \u001b[34mmedications\u001b[0m \u001b[34mpantoprazole\u001b[0m \u001b[34msodium\u001b[0m 40 \u001b[34mmg\u001b[0m \u001b[34mtablet\u001b[0m \u001b[34mdelayed\u001b[0m \u001b[34mrelease\u001b[0m e c \u001b[34msig\u001b[0m \u001b[34mone\u001b[0m 1 \u001b[34mtablet\u001b[0m \u001b[34mdelayed\u001b[0m \u001b[34mrelease\u001b[0m e c \u001b[34mpo\u001b[0m q24h \u001b[34mevery\u001b[0m 24 hours \u001b[34mtrazodone\u001b[0m 50 \u001b[34mmg\u001b[0m \u001b[34mtablet\u001b[0m \u001b[34msig\u001b[0m 5 \u001b[34mtablet\u001b[0m \u001b[34mpo\u001b[0m \u001b[34mhs\u001b[0m \u001b[34mat\u001b[0m bedtime \u001b[34mas\u001b[0m \u001b[34mneeded\u001b[0m \u001b[34mipratropium\u001b[0m \u001b[34mbromide\u001b[0m 02 \u001b[34msolution\u001b[0m \u001b[34msig\u001b[0m \u001b[34mone\u001b[0m 1 \u001b[34minhalation\u001b[0m q6h \u001b[34mevery\u001b[0m 6 hours \u001b[34mdocusate\u001b[0m \u001b[34msodium\u001b[0m 100 \u001b[34mmg\u001b[0m \u001b[34mcapsule\u001b[0m \u001b[34msig\u001b[0m \u001b[34mone\u001b[0m 1 \u001b[34mcapsule\u001b[0m \u001b[34mpo\u001b[0m \u001b[34mbid\u001b[0m 2 \u001b[34mtimes\u001b[0m a day \u001b[34misosorbide\u001b[0m \u001b[34mmononitrate\u001b[0m 60 \u001b[34mmg\u001b[0m \u001b[34mtablet\u001b[0m \u001b[34msustained\u001b[0m \u001b[34mrelease\u001b[0m 24hr \u001b[34msig\u001b[0m \u001b[34mtwo\u001b[0m 2 \u001b[34mtablet\u001b[0m \u001b[34msustained\u001b[0m \u001b[34mrelease\u001b[0m 24hr \u001b[34mpo\u001b[0m \u001b[34mdaily\u001b[0m \u001b[34mdaily\u001b[0m \u001b[34mfluticasone\u001b[0m \u001b[34mpropionate\u001b[0m 110 \u001b[34mmcg\u001b[0m \u001b[34mactuation\u001b[0m \u001b[34maerosol\u001b[0m \u001b[34msig\u001b[0m \u001b[34mtwo\u001b[0m 2 \u001b[34mpuff\u001b[0m \u001b[34minhalation\u001b[0m 2 \u001b[34mtimes\u001b[0m a day \u001b[34minsulin\u001b[0m \u001b[34mregular\u001b[0m \u001b[34mhuman\u001b[0m 100 \u001b[34munit\u001b[0m \u001b[34mml\u001b[0m \u001b[34msolution\u001b[0m \u001b[34msig\u001b[0m \u001b[34mone\u001b[0m 1 \u001b[34minjection\u001b[0m \u001b[34masdir\u001b[0m \u001b[34mas\u001b[0m \u001b[34mdirected\u001b[0m \u001b[34malbuterol\u001b[0m \u001b[34msulfate\u001b[0m 083 \u001b[34msolution\u001b[0m \u001b[34msig\u001b[0m \u001b[34mone\u001b[0m 1 \u001b[34minhalation\u001b[0m q2h \u001b[34mevery\u001b[0m\n"
     ]
    }
   ],
   "source": [
    "# true positive - pred 1 true 1\n",
    "tp_df = rationales_df[(rationales_df[\"true_label\"]==1) & rationales_df[\"predicted_label\"]==1].sample().squeeze(axis = 0)\n",
    "\n",
    "\n",
    "print_formatted_words(tp_df['raw_sentence'], tp_df['chosen_words'])"
   ]
  },
  {
   "cell_type": "markdown",
   "id": "095ec250",
   "metadata": {},
   "source": [
    "## True negative - gets random sample from dataframe"
   ]
  },
  {
   "cell_type": "code",
   "execution_count": 169,
   "id": "730006dc",
   "metadata": {},
   "outputs": [
    {
     "name": "stdout",
     "output_type": "stream",
     "text": [
      "original sentence:\n",
      "Date of birth sex m service medicine allergies patient recorded as having no known allergies to drugs attending chief complaint direct admit from osh for transplant work up major surgical or invasive procedure paracentesis placement of tunnel line for hemodialysis history of present illness pt is 54 yo male with alcoholic cirrhosis h o esophageal varices who has had multiple recent admissions to southern medical center for ascites and hepatic encephalopathy pt presented recently to the osh with encephalopathy and developed oliguric arf severe hyponatremia and severe hyperkalemia he also had a transaminitis on admission to osh which improved during his hospital stay he had diarrhea and was found to be positive for c dif presumably recent abx treatment for sbp and was placed on flagyl he was treated with octreotide midodrine and albumin for likely hrs he was initially treated with levofloxacin but this was d c d after a negative urine cx pt also reportedly underwent therapetuic paracentesis 12 l removed 1 week ago pt was evaluated for tips procedure however this was deferred until pt could be transferred to for further evaluation pt currently complains only of feeling bloated he denies abdominal pain fevers chills nausea vomiting chest pain sob past medical history cirrhosis etoh h o hepatic encephalopathy h o sbp h o esophageal varices egd c diff positive currently on flagyl likely hrs diabetes social history h o etoh abuse reports being sober x 6 months smoker 1ppd divorced has 2 children lives with female friend who helps take care of him family history alcoholism physical exam vitals t 8 bp 100 64 hr 60 rr 18 o2 98 ra gen nad pleasant heent peerl sclera icteric neck supple r ij in place without erythema cardio rrr nl s1s2 no m r g resp ctab anteriorly abd distended fluid wave bs mild sensitivity but no focal tenderness ext 2 pitting edema bl le neuro a 0x has tremor but no asterixis pertinent\n",
      "\n",
      " =====================================================================================================\n",
      "\n",
      "Date of birth sex m service medicine allergies patient recorded as having no known allergies to drugs attending chief complaint direct admit from osh for transplant work up major surgical or invasive procedure paracentesis placement of tunnel line for hemodialysis history of present illness pt is 54 yo male \u001b[34mwith\u001b[0m alcoholic cirrhosis h o \u001b[34mesophageal\u001b[0m \u001b[34mvarices\u001b[0m who has had multiple recent admissions to southern medical center for ascites and \u001b[34mhepatic\u001b[0m \u001b[34mencephalopathy\u001b[0m pt presented recently to the osh \u001b[34mwith\u001b[0m \u001b[34mencephalopathy\u001b[0m and developed oliguric arf severe hyponatremia and severe hyperkalemia he also had a transaminitis on admission to osh which improved during his hospital stay he had diarrhea and was found to be positive for c dif presumably recent abx treatment for \u001b[34msbp\u001b[0m and was placed on flagyl he was treated \u001b[34mwith\u001b[0m \u001b[34moctreotide\u001b[0m \u001b[34mmidodrine\u001b[0m and albumin for likely hrs he was initially treated \u001b[34mwith\u001b[0m levofloxacin but this was d c d after a negative urine cx pt also reportedly underwent therapetuic paracentesis 12 l removed 1 week ago pt was evaluated for tips procedure however this was deferred until pt could be transferred to for further evaluation pt currently complains only of feeling bloated he denies abdominal pain fevers chills nausea vomiting chest pain sob past medical history cirrhosis etoh h o \u001b[34mhepatic\u001b[0m \u001b[34mencephalopathy\u001b[0m h o \u001b[34msbp\u001b[0m h o \u001b[34mesophageal\u001b[0m \u001b[34mvarices\u001b[0m egd c diff positive currently on flagyl likely hrs diabetes social history h o etoh abuse reports being sober x 6 months smoker 1ppd divorced has 2 children lives \u001b[34mwith\u001b[0m female friend who helps take care of him family history alcoholism physical exam vitals t 8 \u001b[34mbp\u001b[0m 100 64 hr 60 rr 18 o2 98 ra gen nad pleasant heent peerl sclera icteric neck supple r ij in place without erythema cardio rrr nl s1s2 no m r g resp ctab anteriorly abd distended fluid wave bs mild sensitivity but no focal tenderness ext 2 pitting edema bl le neuro a 0x has tremor but no asterixis pertinent\n"
     ]
    }
   ],
   "source": [
    "# true negative - pred 0 true 0\n",
    "tn_df = rationales_df[(rationales_df[\"true_label\"]==0) & rationales_df[\"predicted_label\"]==0].sample().squeeze(axis = 0)\n",
    "\n",
    "\n",
    "print_formatted_words(tn_df['raw_sentence'], tn_df['chosen_words'])"
   ]
  }
 ],
 "metadata": {
  "kernelspec": {
   "display_name": "Python 3",
   "language": "python",
   "name": "python3"
  },
  "language_info": {
   "codemirror_mode": {
    "name": "ipython",
    "version": 3
   },
   "file_extension": ".py",
   "mimetype": "text/x-python",
   "name": "python",
   "nbconvert_exporter": "python",
   "pygments_lexer": "ipython3",
   "version": "3.7.10"
  }
 },
 "nbformat": 4,
 "nbformat_minor": 5
}
